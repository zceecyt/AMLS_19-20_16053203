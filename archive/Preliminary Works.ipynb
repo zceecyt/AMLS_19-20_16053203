{
 "cells": [
  {
   "cell_type": "markdown",
   "metadata": {},
   "source": [
    "# Data Preprocessing"
   ]
  },
  {
   "cell_type": "code",
   "execution_count": 1,
   "metadata": {},
   "outputs": [],
   "source": [
    "import os\n",
    "import numpy as np\n",
    "import pandas as pd\n",
    "import matplotlib.pyplot as plt\n",
    "import csv\n",
    "import cv2\n",
    "import dlib\n",
    "from tabulate import tabulate"
   ]
  },
  {
   "cell_type": "code",
   "execution_count": null,
   "metadata": {},
   "outputs": [],
   "source": [
    "# print(reader)\n",
    "\n",
    "# for row in reader:    \n",
    "#     data = str(row).replace('t', '').replace('[','').replace(']','').replace('\\'','')\n",
    "\n",
    "#     new = data.split(\"\\\\\")\n",
    "    \n",
    "    \n",
    "# #     print (data)\n",
    "# #     print (new)\n",
    "# #     print(tabulate(new))\n",
    "    \n",
    "#     for column in new:\n",
    "#         print(column, end = ' ')\n",
    "    \n",
    "#     print()\n",
    "#     table = pd.DataFrame (new)\n",
    "#     print (table)\n",
    "\n",
    "#     index = new[0]\n",
    "#     filename = new[1]\n",
    "#     gender = new[2]\n",
    "    \n",
    "#    print (array)\n",
    "#    print (filename)\n",
    "    \n",
    "#     print(array)\n",
    "#     break\n",
    "    \n",
    "    \n",
    "#     print(row)\n",
    "#     print(index, filename, array)\n",
    "    \n",
    "#     continue\n",
    "    \n",
    "#     try:\n",
    "#         gender = int(gender)\n",
    "        \n",
    "#         if gender == -1:\n",
    "#             print('female')\n",
    "#         else:\n",
    "#             print('male')\n",
    "#     except ValueError:\n",
    "#         continue"
   ]
  }
 ],
 "metadata": {
  "kernelspec": {
   "display_name": "Python 3",
   "language": "python",
   "name": "python3"
  },
  "language_info": {
   "codemirror_mode": {
    "name": "ipython",
    "version": 3
   },
   "file_extension": ".py",
   "mimetype": "text/x-python",
   "name": "python",
   "nbconvert_exporter": "python",
   "pygments_lexer": "ipython3",
   "version": "3.7.5"
  }
 },
 "nbformat": 4,
 "nbformat_minor": 2
}
