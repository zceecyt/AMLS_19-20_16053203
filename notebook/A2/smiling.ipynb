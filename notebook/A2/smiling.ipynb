{
 "cells": [
  {
   "cell_type": "code",
   "execution_count": 1,
   "metadata": {},
   "outputs": [
    {
     "name": "stderr",
     "output_type": "stream",
     "text": [
      "Using TensorFlow backend.\n"
     ]
    }
   ],
   "source": [
    "import time\n",
    "start_time = time.time()\n",
    "import progressbar\n",
    "import os\n",
    "import numpy as np\n",
    "from keras.preprocessing import image\n",
    "import cv2\n",
    "import dlib\n",
    "import pandas as pd\n",
    "import matplotlib.pyplot as plt\n",
    "import sys"
   ]
  },
  {
   "cell_type": "code",
   "execution_count": 2,
   "metadata": {},
   "outputs": [],
   "source": [
    "from keras.preprocessing import image\n",
    "from sklearn import svm, datasets\n",
    "from sklearn.dummy import DummyClassifier\n",
    "from sklearn.svm import SVC\n",
    "from sklearn.utils import shuffle\n",
    "from sklearn.model_selection import train_test_split, GridSearchCV, learning_curve, ShuffleSplit\n",
    "from sklearn.metrics import classification_report, accuracy_score, confusion_matrix, recall_score, precision_score, f1_score\n",
    "import matplotlib.pyplot as plt"
   ]
  },
  {
   "cell_type": "code",
   "execution_count": 3,
   "metadata": {},
   "outputs": [],
   "source": [
    "cwd = 'C:\\\\Users\\\\User\\\\Desktop\\\\4th_year_AMLS\\\\zceecyt-AMLSassignment19_20-16053203\\\\notebook\\\\A2'\n",
    "\n",
    "os.chdir(cwd)"
   ]
  },
  {
   "cell_type": "code",
   "execution_count": 4,
   "metadata": {},
   "outputs": [],
   "source": [
    "import landmarks_v2 as l2"
   ]
  },
  {
   "cell_type": "code",
   "execution_count": 5,
   "metadata": {},
   "outputs": [],
   "source": [
    "def get_data():\n",
    "    return l2.extract_features_labels()\n",
    "    \n",
    "def split_data(X, Y):\n",
    "\n",
    "    X, Y = shuffle(X,Y)\n",
    "    tr_X, te_X, tr_Y, te_Y = train_test_split(X, Y, train_size=0.7)\n",
    "    \n",
    "    return tr_X, tr_Y, te_X, te_Y"
   ]
  },
  {
   "cell_type": "code",
   "execution_count": 6,
   "metadata": {},
   "outputs": [
    {
     "name": "stdout",
     "output_type": "stream",
     "text": [
      "(4798, 68, 2)\n",
      "(4798,)\n"
     ]
    }
   ],
   "source": [
    "X,y = get_data()\n",
    "\n",
    "print(X.shape)\n",
    "print(y.shape)"
   ]
  },
  {
   "cell_type": "code",
   "execution_count": 7,
   "metadata": {},
   "outputs": [
    {
     "name": "stdout",
     "output_type": "stream",
     "text": [
      "C:\\Users\\User\\Desktop\\4th_year_AMLS\\zceecyt-AMLSassignment19_20-16053203\\notebook\\A2\n"
     ]
    }
   ],
   "source": [
    "print (os.path.abspath(os.curdir))\n",
    "# sklearn functions implementation\n",
    "def img_SVM(training_images, training_labels, test_images, test_labels):\n",
    "    #classifier = ...\n",
    "    classifier = SVC(kernel = 'rbf')\n",
    "    classifier.fit(training_images, training_labels)\n",
    "    pred = classifier.predict(test_images)\n",
    "    print(\"Accuracy:\", accuracy_score(test_labels, pred))\n",
    "\n",
    "    print(pred)\n",
    "    return pred"
   ]
  },
  {
   "cell_type": "code",
   "execution_count": 8,
   "metadata": {},
   "outputs": [],
   "source": [
    "Y = np.array([y, -(y - 1)]).T\n",
    "\n",
    "tr_X, tr_Y, te_X, te_Y = split_data(X, Y)"
   ]
  },
  {
   "cell_type": "code",
   "execution_count": 9,
   "metadata": {},
   "outputs": [
    {
     "name": "stdout",
     "output_type": "stream",
     "text": [
      "[[[ 44 113]\n",
      "  [ 44 124]\n",
      "  [ 44 135]\n",
      "  ...\n",
      "  [ 92 161]\n",
      "  [ 86 162]\n",
      "  [ 80 161]]\n",
      "\n",
      " [[ 50 117]\n",
      "  [ 50 128]\n",
      "  [ 51 138]\n",
      "  ...\n",
      "  [ 92 156]\n",
      "  [ 88 156]\n",
      "  [ 84 156]]\n",
      "\n",
      " [[ 47 114]\n",
      "  [ 48 124]\n",
      "  [ 50 135]\n",
      "  ...\n",
      "  [ 91 153]\n",
      "  [ 88 153]\n",
      "  [ 84 153]]\n",
      "\n",
      " ...\n",
      "\n",
      " [[ 43 110]\n",
      "  [ 43 123]\n",
      "  [ 43 136]\n",
      "  ...\n",
      "  [ 95 162]\n",
      "  [ 88 162]\n",
      "  [ 82 161]]\n",
      "\n",
      " [[ 41 107]\n",
      "  [ 41 120]\n",
      "  [ 42 133]\n",
      "  ...\n",
      "  [ 94 154]\n",
      "  [ 90 155]\n",
      "  [ 85 155]]\n",
      "\n",
      " [[ 46 107]\n",
      "  [ 47 118]\n",
      "  [ 49 129]\n",
      "  ...\n",
      "  [ 93 152]\n",
      "  [ 89 152]\n",
      "  [ 86 152]]]\n",
      "(3358, 68, 2)\n",
      "[[ 1. -0.]\n",
      " [ 0.  1.]\n",
      " [ 0.  1.]\n",
      " ...\n",
      " [ 1. -0.]\n",
      " [ 1. -0.]\n",
      " [ 0.  1.]]\n",
      "(3358, 2)\n"
     ]
    }
   ],
   "source": [
    "print(tr_X)\n",
    "print(tr_X.shape)\n",
    "print(tr_Y)\n",
    "print(tr_Y.shape)"
   ]
  },
  {
   "cell_type": "code",
   "execution_count": 10,
   "metadata": {},
   "outputs": [],
   "source": [
    "def reshapeX(X):\n",
    "    return X.reshape((X.shape[0], X.shape[1] * X.shape[2]))\n",
    "\n",
    "def reshapeY(y):\n",
    "    return list(zip(*y))[0]\n",
    "\n",
    "tr_X = reshapeX(tr_X)\n",
    "te_X = reshapeX(te_X)\n",
    "tr_Y = reshapeY(tr_Y)\n",
    "te_Y = reshapeY(te_Y)"
   ]
  },
  {
   "cell_type": "code",
   "execution_count": 11,
   "metadata": {},
   "outputs": [
    {
     "name": "stdout",
     "output_type": "stream",
     "text": [
      "(3358, 136)\n"
     ]
    }
   ],
   "source": [
    "print(tr_X.shape)"
   ]
  },
  {
   "cell_type": "code",
   "execution_count": 12,
   "metadata": {},
   "outputs": [],
   "source": [
    "from sklearn.model_selection import GridSearchCV, RandomizedSearchCV\n",
    "from sklearn import preprocessing\n",
    "from sklearn.calibration import CalibratedClassifierCV\n",
    "from sklearn.ensemble import RandomForestClassifier\n",
    "from sklearn.svm import SVC as svc\n",
    "from sklearn.metrics import make_scorer, roc_auc_score\n",
    "from scipy import stats"
   ]
  },
  {
   "cell_type": "code",
   "execution_count": 13,
   "metadata": {},
   "outputs": [],
   "source": [
    "# svc_list = []\n",
    "\n",
    "# lin_svc = svm.SVC(kernel='linear', C=C).fit(tr_X, tr_Y)\n",
    "# # print(C, \"Linear:\", lin_svc.score(te_X, te_Y))\n",
    "\n",
    "# rbf_svc = svm.SVC(kernel='rbf', gamma=gamma, C=C).fit(tr_X, tr_Y)\n",
    "# # print( C, gamma, \"Rbf:\", rbf_svc.score(te_X, te_Y))\n",
    "\n",
    "# poly_svc = svm.SVC(kernel='poly', degree=degree, C=C).fit(tr_X, tr_Y)\n",
    "# # print( C, degree, \"Poly\", poly_svc.score(te_X, te_Y))\n",
    "\n",
    "# svc_list.append({\n",
    "#     'lin_svc': lin_svc,\n",
    "#     'rbf_svc': rbf_svc,\n",
    "#     'poly_svc': poly_svc,\n",
    "#     'C': C,\n",
    "#     'gamma': gamma,\n",
    "#     'degree': degree\n",
    "# })\n",
    "\n",
    "# #define model and performance measure\n",
    "# svc_list=svc(probability=True, random_state=1)\n",
    "# auc=make_scorer(roc_auc_score)\n",
    "\n",
    "# #random search for 20 combinations of parameters\n",
    "# rand_list = {\"C\":stats.uniform(2,10),\n",
    "#             \"gamma\":stats.uniform(0.1,1),\n",
    "#             \"degree\":stats.uniform(1,3)}\n",
    "\n",
    "# rand_search = RandomizedSearchCV(svc_list, param_distributions = rand_list, n_iter=20, n_jobs=4, cv=3, random_state=2017, scoring=auc)\n",
    "# rand_search.fit(te_X,te_Y)\n",
    "# rand_search.cv_results_\n",
    "\n",
    "# print(rand_search.best_params_)"
   ]
  },
  {
   "cell_type": "code",
   "execution_count": 15,
   "metadata": {},
   "outputs": [
    {
     "name": "stdout",
     "output_type": "stream",
     "text": [
      "Fitting 5 folds for each of 10 candidates, totalling 50 fits\n"
     ]
    },
    {
     "name": "stderr",
     "output_type": "stream",
     "text": [
      "[Parallel(n_jobs=-1)]: Using backend LokyBackend with 8 concurrent workers.\n",
      "[Parallel(n_jobs=-1)]: Done  16 tasks      | elapsed:   11.0s\n",
      "[Parallel(n_jobs=-1)]: Done  50 out of  50 | elapsed:   22.1s finished\n"
     ]
    },
    {
     "name": "stdout",
     "output_type": "stream",
     "text": [
      "Fitting 5 folds for each of 10 candidates, totalling 50 fits\n"
     ]
    },
    {
     "name": "stderr",
     "output_type": "stream",
     "text": [
      "[Parallel(n_jobs=-1)]: Using backend LokyBackend with 8 concurrent workers.\n",
      "[Parallel(n_jobs=-1)]: Done  16 tasks      | elapsed:   15.0s\n",
      "[Parallel(n_jobs=-1)]: Done  50 out of  50 | elapsed:   40.3s finished\n"
     ]
    },
    {
     "name": "stdout",
     "output_type": "stream",
     "text": [
      "Optimum hyperparameters for polynomial kernel: \n",
      "{'C': 0.12523867644866873, 'degree': 4.2026035240280315, 'kernel': 'poly'}\n",
      "Optimum hyperparameters for rbf kernel: \n",
      "{'C': 0.940698458194182, 'gamma': 0.0026199794477444194, 'kernel': 'rbf'}\n"
     ]
    }
   ],
   "source": [
    "from scipy import stats\n",
    "from sklearn.model_selection import RandomizedSearchCV\n",
    "from sklearn.metrics import make_scorer, roc_auc_score\n",
    "\n",
    "rand_RBF = {'C': stats.uniform(0.1, 1),\n",
    "             'gamma': stats.uniform(0.001, 0.01),\n",
    "             'kernel': ['rbf']}\n",
    "rand_poly = {'C': stats.uniform(0.1, 1),\n",
    "#              'gamma': stats.uniform(0.001, 0.01),\n",
    "             'degree': stats.uniform(1, 4),\n",
    "             'kernel': ['poly']}\n",
    "\n",
    "def SVC_randomSearch(X, y, param_kernel):\n",
    "    param_dist = param_kernel\n",
    "    # number of jobs = -1 mean using all processors\n",
    "    rand_search = RandomizedSearchCV(SVC(), param_dist, n_iter=10, n_jobs=-1, refit=True, verbose=3)\n",
    "    rand_search.fit(X, y)\n",
    "    \n",
    "    return rand_search.best_params_, rand_search.best_estimator_\n",
    "\n",
    "# Obtaining optimum hyperparameters and classifier for different kernel\n",
    "polySVC_param, clf_polySVC = SVC_randomSearch(tr_X, tr_Y, rand_poly)\n",
    "rbfSVC_param, clf_rbfSVC = SVC_randomSearch(tr_X, tr_Y, rand_RBF)\n",
    "#print(datetime.now() - start)\n",
    "\n",
    "# Display optimum hyparameters for SVC kernel\n",
    "print('Optimum hyperparameters for polynomial kernel: ')\n",
    "print(polySVC_param)\n",
    "print('Optimum hyperparameters for rbf kernel: ')\n",
    "print(rbfSVC_param)"
   ]
  },
  {
   "cell_type": "code",
   "execution_count": 16,
   "metadata": {},
   "outputs": [
    {
     "name": "stdout",
     "output_type": "stream",
     "text": [
      "0.8965277777777778\n",
      "0.8798611111111111\n"
     ]
    }
   ],
   "source": [
    "print(clf_polySVC.score(te_X, te_Y))\n",
    "print(clf_rbfSVC.score(te_X, te_Y))"
   ]
  },
  {
   "cell_type": "code",
   "execution_count": 17,
   "metadata": {},
   "outputs": [
    {
     "name": "stdout",
     "output_type": "stream",
     "text": [
      "0.1 Linear: 0.8833333333333333\n",
      "0.1 0.01 Rbf: 0.4979166666666667\n",
      "0.1 1 Poly 0.8111111111111111\n",
      "0.1 Linear: 0.8833333333333333\n",
      "0.1 0.01 Rbf: 0.4979166666666667\n",
      "0.1 2 Poly 0.8756944444444444\n",
      "0.1 Linear: 0.8833333333333333\n",
      "0.1 0.01 Rbf: 0.4979166666666667\n",
      "0.1 3 Poly 0.8930555555555556\n",
      "0.1 Linear: 0.8833333333333333\n",
      "0.1 0.01 Rbf: 0.4979166666666667\n",
      "0.1 4 Poly 0.8958333333333334\n",
      "0.1 Linear: 0.8833333333333333\n",
      "0.1 10 Rbf: 0.49722222222222223\n",
      "0.1 1 Poly 0.8111111111111111\n",
      "0.1 Linear: 0.8833333333333333\n",
      "0.1 10 Rbf: 0.49722222222222223\n",
      "0.1 2 Poly 0.8756944444444444\n",
      "0.1 Linear: 0.8833333333333333\n",
      "0.1 10 Rbf: 0.49722222222222223\n",
      "0.1 3 Poly 0.8930555555555556\n",
      "0.1 Linear: 0.8833333333333333\n",
      "0.1 10 Rbf: 0.49722222222222223\n",
      "0.1 4 Poly 0.8958333333333334\n",
      "0.1 Linear: 0.8833333333333333\n",
      "0.1 100 Rbf: 0.49722222222222223\n",
      "0.1 1 Poly 0.8111111111111111\n",
      "0.1 Linear: 0.8833333333333333\n",
      "0.1 100 Rbf: 0.49722222222222223\n",
      "0.1 2 Poly 0.8756944444444444\n",
      "0.1 Linear: 0.8833333333333333\n",
      "0.1 100 Rbf: 0.49722222222222223\n",
      "0.1 3 Poly 0.8930555555555556\n",
      "0.1 Linear: 0.8833333333333333\n",
      "0.1 100 Rbf: 0.49722222222222223\n",
      "0.1 4 Poly 0.8958333333333334\n",
      "1 Linear: 0.8770833333333333\n",
      "1 0.01 Rbf: 0.7979166666666667\n",
      "1 1 Poly 0.8743055555555556\n",
      "1 Linear: 0.8770833333333333\n",
      "1 0.01 Rbf: 0.7979166666666667\n",
      "1 2 Poly 0.8909722222222223\n",
      "1 Linear: 0.8770833333333333\n",
      "1 0.01 Rbf: 0.7979166666666667\n",
      "1 3 Poly 0.89375\n",
      "1 Linear: 0.8770833333333333\n",
      "1 0.01 Rbf: 0.7979166666666667\n",
      "1 4 Poly 0.8909722222222223\n",
      "1 Linear: 0.8770833333333333\n",
      "1 10 Rbf: 0.49722222222222223\n",
      "1 1 Poly 0.8743055555555556\n",
      "1 Linear: 0.8770833333333333\n",
      "1 10 Rbf: 0.49722222222222223\n",
      "1 2 Poly 0.8909722222222223\n",
      "1 Linear: 0.8770833333333333\n",
      "1 10 Rbf: 0.49722222222222223\n",
      "1 3 Poly 0.89375\n",
      "1 Linear: 0.8770833333333333\n",
      "1 10 Rbf: 0.49722222222222223\n",
      "1 4 Poly 0.8909722222222223\n",
      "1 Linear: 0.8770833333333333\n",
      "1 100 Rbf: 0.49722222222222223\n",
      "1 1 Poly 0.8743055555555556\n",
      "1 Linear: 0.8770833333333333\n",
      "1 100 Rbf: 0.49722222222222223\n",
      "1 2 Poly 0.8909722222222223\n",
      "1 Linear: 0.8770833333333333\n",
      "1 100 Rbf: 0.49722222222222223\n",
      "1 3 Poly 0.89375\n",
      "1 Linear: 0.8770833333333333\n",
      "1 100 Rbf: 0.49722222222222223\n",
      "1 4 Poly 0.8909722222222223\n"
     ]
    }
   ],
   "source": [
    "for C in [0.1,1]:\n",
    "    for gamma in [0.01, 10, 100]:\n",
    "        for degree in [1, 2, 3, 4]:\n",
    "            \n",
    "            lin_svc = svm.SVC(kernel='linear', C=C).fit(tr_X, tr_Y)\n",
    "            print(C, \"Linear:\", lin_svc.score(te_X, te_Y))\n",
    "\n",
    "            rbf_svc = svm.SVC(kernel='rbf', gamma=gamma, C=C).fit(tr_X, tr_Y)\n",
    "            print( C, gamma, \"Rbf:\", rbf_svc.score(te_X, te_Y))\n",
    "\n",
    "            poly_svc = svm.SVC(kernel='poly', degree=degree, C=C).fit(tr_X, tr_Y)\n",
    "            print( C, degree, \"Poly\", poly_svc.score(te_X, te_Y))\n",
    "            "
   ]
  },
  {
   "cell_type": "code",
   "execution_count": null,
   "metadata": {},
   "outputs": [],
   "source": [
    "from itertools import cycle\n",
    "from sklearn.metrics import roc_curve, auc\n",
    "from sklearn.metrics import roc_auc_score\n",
    "from sklearn.preprocessing import label_binarize\n",
    "from sklearn.multiclass import OneVsRestClassifier\n",
    "from scipy import interp"
   ]
  },
  {
   "cell_type": "code",
   "execution_count": null,
   "metadata": {},
   "outputs": [],
   "source": [
    "# #Binarize the output\n",
    "# te_y=label_binarize(y, classes=[0,1,2])\n",
    "# n_classes=y.shape[1]\n",
    "poly_svc = svm.SVC(kernel='poly', degree=degree, C=C).fit(tr_X, tr_Y)\n",
    "y_score=plo\n",
    "\n",
    "#compute ROC curve and ROC area for each class\n",
    "fpr=dict()\n",
    "tpr=dict()\n",
    "roc_auc=dict()\n",
    "for i in range(n_classes):\n",
    "    fpr[i],tpr[i],_=roc_curve(te_y[:,i],y_score[:,i])\n",
    "    roc_auc[i] = auc(fpr[i],tpr[i])\n",
    "\n",
    "#compute micro-average ROC curve and ROC area\n",
    "fpr[\"micro\"],tpr[\"micro\"],_=roc_curve(te_y.ravel(),y_score.ravel())\n",
    "roc_auc[\"micro\"]=auc(fpr[\"micro\"],tpr[\"micro\"])"
   ]
  },
  {
   "cell_type": "code",
   "execution_count": null,
   "metadata": {},
   "outputs": [],
   "source": [
    "folder = 'celeba'\n",
    "f = 'female'\n",
    "m = 'male'\n",
    "\n",
    "os.makedirs(folder +'/train' + f)\n",
    "os.makedirs(folder +'/train' + m)\n",
    "os.makedirs(folder +'/val' + f)\n",
    "os.makedirs(folder +'/val' + m)\n",
    "os.makedirs(folder +'/test' + f)\n",
    "os.makedirs(folder +'/test' + m)\n",
    "\n",
    "# Creating partitions of the data after shuffeling\n",
    "currentCls = posCls\n",
    "src = \"Data2\"+currentCls # Folder to copy images from\n",
    "\n",
    "allFileNames = os.listdir(src)\n",
    "np.random.shuffle(allFileNames)\n",
    "train_FileNames, val_FileNames, test_FileNames = np.split(np.array(allFileNames),\n",
    "                                                          [int(len(allFileNames)*0.7), int(len(allFileNames)*0.85)])\n",
    "\n",
    "\n",
    "train_FileNames = [src+'/'+ name for name in train_FileNames.tolist()]\n",
    "val_FileNames = [src+'/' + name for name in val_FileNames.tolist()]\n",
    "test_FileNames = [src+'/' + name for name in test_FileNames.tolist()]\n",
    "\n",
    "print('Total images: ', len(allFileNames))\n",
    "print('Training: ', len(train_FileNames))\n",
    "print('Validation: ', len(val_FileNames))\n",
    "print('Testing: ', len(test_FileNames))\n",
    "\n",
    "# Copy-pasting images\n",
    "for name in train_FileNames:\n",
    "    shutil.copy(name, \"Data2/train\"+currentCls)\n",
    "\n",
    "for name in val_FileNames:\n",
    "    shutil.copy(name, \"Data2/val\"+currentCls)"
   ]
  },
  {
   "cell_type": "code",
   "execution_count": null,
   "metadata": {},
   "outputs": [],
   "source": [
    "plt.figure(figsize=(6, 3))\n",
    "lw = 2\n",
    "plt.plot(fpr[2], tpr[2], color='darkorange',\n",
    "        lw=lw, label='ROC curve(area = %0.2f)' %roc_auc[2])\n",
    "plt.plot([0,1],[0.1], color='navy',\n",
    "        lw=lw, linestyle='--')\n",
    "plt.ylim([0.0,1.0])\n",
    "plt.xlim([0.0,1.05])\n",
    "plt.ylabel('True Positive Rate')\n",
    "plt.xlabel('False Positive Rate')\n",
    "plt.title('Receiver operating characteristic example')\n",
    "plt.legend(loc='lower right')"
   ]
  },
  {
   "cell_type": "code",
   "execution_count": null,
   "metadata": {},
   "outputs": [],
   "source": [
    "print(\"--- %s seconds ---\" % (time.time() - start_time))"
   ]
  },
  {
   "cell_type": "code",
   "execution_count": null,
   "metadata": {},
   "outputs": [],
   "source": []
  }
 ],
 "metadata": {
  "kernelspec": {
   "display_name": "Python 3",
   "language": "python",
   "name": "python3"
  },
  "language_info": {
   "codemirror_mode": {
    "name": "ipython",
    "version": 3
   },
   "file_extension": ".py",
   "mimetype": "text/x-python",
   "name": "python",
   "nbconvert_exporter": "python",
   "pygments_lexer": "ipython3",
   "version": "3.7.5"
  }
 },
 "nbformat": 4,
 "nbformat_minor": 2
}
