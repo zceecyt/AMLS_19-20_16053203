{
 "cells": [
  {
   "cell_type": "code",
   "execution_count": 1,
   "metadata": {},
   "outputs": [
    {
     "name": "stderr",
     "output_type": "stream",
     "text": [
      "Using TensorFlow backend.\n"
     ]
    }
   ],
   "source": [
    "import time\n",
    "start_time = time.time()\n",
    "import progressbar\n",
    "import os\n",
    "import numpy as np\n",
    "from keras.preprocessing import image\n",
    "import cv2\n",
    "import dlib\n",
    "import pandas as pd\n",
    "import matplotlib.pyplot as plt\n",
    "import sys"
   ]
  },
  {
   "cell_type": "code",
   "execution_count": 2,
   "metadata": {},
   "outputs": [],
   "source": [
    "from keras.preprocessing import image\n",
    "from sklearn import svm, datasets\n",
    "from sklearn.dummy import DummyClassifier\n",
    "from sklearn.svm import SVC\n",
    "from sklearn.utils import shuffle\n",
    "from sklearn.model_selection import train_test_split, GridSearchCV, learning_curve, ShuffleSplit\n",
    "from sklearn.metrics import classification_report, accuracy_score, confusion_matrix, recall_score, precision_score, f1_score\n",
    "import matplotlib.pyplot as plt"
   ]
  },
  {
   "cell_type": "code",
   "execution_count": 3,
   "metadata": {},
   "outputs": [],
   "source": [
    "cwd = 'C:\\\\Users\\\\User\\\\Desktop\\\\4th_year_AMLS\\\\zceecyt-AMLSassignment19_20-16053203\\\\notebook\\\\A2'\n",
    "\n",
    "os.chdir(cwd)"
   ]
  },
  {
   "cell_type": "code",
   "execution_count": 4,
   "metadata": {},
   "outputs": [],
   "source": [
    "import landmarks_v2 as l2"
   ]
  },
  {
   "cell_type": "code",
   "execution_count": 5,
   "metadata": {},
   "outputs": [],
   "source": [
    "def get_data():\n",
    "    return l2.extract_features_labels()\n",
    "    \n",
    "def split_data(X, Y):\n",
    "\n",
    "    X, Y = shuffle(X,Y)\n",
    "    tr_X, te_X, tr_Y, te_Y = train_test_split(X, Y, train_size=0.7)\n",
    "    \n",
    "    return tr_X, tr_Y, te_X, te_Y"
   ]
  },
  {
   "cell_type": "code",
   "execution_count": 6,
   "metadata": {},
   "outputs": [
    {
     "name": "stdout",
     "output_type": "stream",
     "text": [
      "(4798, 68, 2)\n",
      "(4798,)\n"
     ]
    }
   ],
   "source": [
    "X,y = get_data()\n",
    "\n",
    "print(X.shape)\n",
    "print(y.shape)"
   ]
  },
  {
   "cell_type": "code",
   "execution_count": 7,
   "metadata": {},
   "outputs": [
    {
     "name": "stdout",
     "output_type": "stream",
     "text": [
      "C:\\Users\\User\\Desktop\\4th_year_AMLS\\zceecyt-AMLSassignment19_20-16053203\\notebook\\A2\n"
     ]
    }
   ],
   "source": [
    "print (os.path.abspath(os.curdir))\n",
    "# sklearn functions implementation\n",
    "def img_SVM(training_images, training_labels, test_images, test_labels):\n",
    "    #classifier = ...\n",
    "    classifier = SVC(kernel = 'rbf')\n",
    "    classifier.fit(training_images, training_labels)\n",
    "    pred = classifier.predict(test_images)\n",
    "    print(\"Accuracy:\", accuracy_score(test_labels, pred))\n",
    "\n",
    "    print(pred)\n",
    "    return pred"
   ]
  },
  {
   "cell_type": "code",
   "execution_count": 8,
   "metadata": {},
   "outputs": [],
   "source": [
    "Y = np.array([y, -(y - 1)]).T\n",
    "\n",
    "tr_X, tr_Y, te_X, te_Y = split_data(X, Y)"
   ]
  },
  {
   "cell_type": "code",
   "execution_count": 9,
   "metadata": {},
   "outputs": [
    {
     "name": "stdout",
     "output_type": "stream",
     "text": [
      "[[[ 47 112]\n",
      "  [ 47 123]\n",
      "  [ 47 135]\n",
      "  ...\n",
      "  [ 93 160]\n",
      "  [ 89 160]\n",
      "  [ 84 159]]\n",
      "\n",
      " [[ 39 114]\n",
      "  [ 40 127]\n",
      "  [ 42 140]\n",
      "  ...\n",
      "  [ 95 163]\n",
      "  [ 88 164]\n",
      "  [ 81 163]]\n",
      "\n",
      " [[ 48 115]\n",
      "  [ 49 126]\n",
      "  [ 50 136]\n",
      "  ...\n",
      "  [ 93 154]\n",
      "  [ 88 155]\n",
      "  [ 84 154]]\n",
      "\n",
      " ...\n",
      "\n",
      " [[ 47 110]\n",
      "  [ 46 121]\n",
      "  [ 47 133]\n",
      "  ...\n",
      "  [ 91 153]\n",
      "  [ 86 154]\n",
      "  [ 82 153]]\n",
      "\n",
      " [[ 58 113]\n",
      "  [ 58 123]\n",
      "  [ 61 134]\n",
      "  ...\n",
      "  [ 84 162]\n",
      "  [ 81 162]\n",
      "  [ 78 161]]\n",
      "\n",
      " [[ 14 120]\n",
      "  [ 16 135]\n",
      "  [ 19 151]\n",
      "  ...\n",
      "  [107 158]\n",
      "  [103 159]\n",
      "  [ 99 159]]]\n",
      "(3358, 68, 2)\n",
      "[[ 1. -0.]\n",
      " [ 1. -0.]\n",
      " [ 0.  1.]\n",
      " ...\n",
      " [ 0.  1.]\n",
      " [ 0.  1.]\n",
      " [ 0.  1.]]\n",
      "(3358, 2)\n"
     ]
    }
   ],
   "source": [
    "print(tr_X)\n",
    "print(tr_X.shape)\n",
    "print(tr_Y)\n",
    "print(tr_Y.shape)"
   ]
  },
  {
   "cell_type": "code",
   "execution_count": 10,
   "metadata": {},
   "outputs": [],
   "source": [
    "def reshapeX(X):\n",
    "    return X.reshape((X.shape[0], X.shape[1] * X.shape[2]))\n",
    "\n",
    "def reshapeY(y):\n",
    "    return list(zip(*y))[0]\n",
    "\n",
    "tr_X = reshapeX(tr_X)\n",
    "te_X = reshapeX(te_X)\n",
    "tr_Y = reshapeY(tr_Y)\n",
    "te_Y = reshapeY(te_Y)"
   ]
  },
  {
   "cell_type": "code",
   "execution_count": 11,
   "metadata": {},
   "outputs": [
    {
     "name": "stdout",
     "output_type": "stream",
     "text": [
      "(3358, 136)\n"
     ]
    }
   ],
   "source": [
    "print(tr_X.shape)"
   ]
  },
  {
   "cell_type": "code",
   "execution_count": 12,
   "metadata": {},
   "outputs": [
    {
     "name": "stdout",
     "output_type": "stream",
     "text": [
      "0.1 Linear: 0.8888888888888888\n",
      "0.1 0.01 Rbf: 0.5180555555555556\n",
      "0.1 1 Poly 0.85625\n",
      "0.1 Linear: 0.8888888888888888\n",
      "0.1 0.01 Rbf: 0.5180555555555556\n",
      "0.1 2 Poly 0.8875\n",
      "0.1 Linear: 0.8888888888888888\n",
      "0.1 0.01 Rbf: 0.5180555555555556\n",
      "0.1 3 Poly 0.8986111111111111\n",
      "0.1 Linear: 0.8888888888888888\n",
      "0.1 0.01 Rbf: 0.5180555555555556\n",
      "0.1 4 Poly 0.9013888888888889\n",
      "0.1 Linear: 0.8888888888888888\n",
      "0.1 10 Rbf: 0.5180555555555556\n",
      "0.1 1 Poly 0.85625\n",
      "0.1 Linear: 0.8888888888888888\n",
      "0.1 10 Rbf: 0.5180555555555556\n",
      "0.1 2 Poly 0.8875\n",
      "0.1 Linear: 0.8888888888888888\n",
      "0.1 10 Rbf: 0.5180555555555556\n",
      "0.1 3 Poly 0.8986111111111111\n",
      "0.1 Linear: 0.8888888888888888\n",
      "0.1 10 Rbf: 0.5180555555555556\n",
      "0.1 4 Poly 0.9013888888888889\n",
      "0.1 Linear: 0.8888888888888888\n",
      "0.1 100 Rbf: 0.5180555555555556\n",
      "0.1 1 Poly 0.85625\n",
      "0.1 Linear: 0.8888888888888888\n",
      "0.1 100 Rbf: 0.5180555555555556\n",
      "0.1 2 Poly 0.8875\n",
      "0.1 Linear: 0.8888888888888888\n",
      "0.1 100 Rbf: 0.5180555555555556\n",
      "0.1 3 Poly 0.8986111111111111\n",
      "0.1 Linear: 0.8888888888888888\n",
      "0.1 100 Rbf: 0.5180555555555556\n",
      "0.1 4 Poly 0.9013888888888889\n",
      "1 Linear: 0.8875\n",
      "1 0.01 Rbf: 0.8513888888888889\n",
      "1 1 Poly 0.8763888888888889\n",
      "1 Linear: 0.8875\n",
      "1 0.01 Rbf: 0.8513888888888889\n",
      "1 2 Poly 0.8951388888888889\n",
      "1 Linear: 0.8875\n",
      "1 0.01 Rbf: 0.8513888888888889\n",
      "1 3 Poly 0.9013888888888889\n",
      "1 Linear: 0.8875\n",
      "1 0.01 Rbf: 0.8513888888888889\n",
      "1 4 Poly 0.8861111111111111\n",
      "1 Linear: 0.8875\n",
      "1 10 Rbf: 0.5180555555555556\n",
      "1 1 Poly 0.8763888888888889\n",
      "1 Linear: 0.8875\n",
      "1 10 Rbf: 0.5180555555555556\n",
      "1 2 Poly 0.8951388888888889\n",
      "1 Linear: 0.8875\n",
      "1 10 Rbf: 0.5180555555555556\n",
      "1 3 Poly 0.9013888888888889\n",
      "1 Linear: 0.8875\n",
      "1 10 Rbf: 0.5180555555555556\n",
      "1 4 Poly 0.8861111111111111\n",
      "1 Linear: 0.8875\n",
      "1 100 Rbf: 0.5180555555555556\n",
      "1 1 Poly 0.8763888888888889\n",
      "1 Linear: 0.8875\n",
      "1 100 Rbf: 0.5180555555555556\n",
      "1 2 Poly 0.8951388888888889\n",
      "1 Linear: 0.8875\n",
      "1 100 Rbf: 0.5180555555555556\n",
      "1 3 Poly 0.9013888888888889\n",
      "1 Linear: 0.8875\n",
      "1 100 Rbf: 0.5180555555555556\n",
      "1 4 Poly 0.8861111111111111\n"
     ]
    }
   ],
   "source": [
    "for C in [0.1,1]:\n",
    "    for gamma in [0.01, 10, 100]:\n",
    "        for degree in [1, 2, 3, 4]:\n",
    "            \n",
    "            lin_svc = svm.SVC(kernel='linear', C=C).fit(tr_X, tr_Y)\n",
    "            print(C, \"Linear:\", lin_svc.score(te_X, te_Y))\n",
    "\n",
    "            rbf_svc = svm.SVC(kernel='rbf', gamma=gamma, C=C).fit(tr_X, tr_Y)\n",
    "            print( C, gamma, \"Rbf:\", rbf_svc.score(te_X, te_Y))\n",
    "\n",
    "            poly_svc = svm.SVC(kernel='poly', degree=degree, C=C).fit(tr_X, tr_Y)\n",
    "            print( C, degree, \"Poly\", poly_svc.score(te_X, te_Y))\n",
    "            "
   ]
  },
  {
   "cell_type": "code",
   "execution_count": 15,
   "metadata": {},
   "outputs": [
    {
     "name": "stdout",
     "output_type": "stream",
     "text": [
      "--- 1661.6386749744415 seconds ---\n"
     ]
    }
   ],
   "source": [
    "print(\"--- %s seconds ---\" % (time.time() - start_time))"
   ]
  },
  {
   "cell_type": "code",
   "execution_count": null,
   "metadata": {},
   "outputs": [],
   "source": []
  }
 ],
 "metadata": {
  "kernelspec": {
   "display_name": "Python 3",
   "language": "python",
   "name": "python3"
  },
  "language_info": {
   "codemirror_mode": {
    "name": "ipython",
    "version": 3
   },
   "file_extension": ".py",
   "mimetype": "text/x-python",
   "name": "python",
   "nbconvert_exporter": "python",
   "pygments_lexer": "ipython3",
   "version": "3.7.5"
  }
 },
 "nbformat": 4,
 "nbformat_minor": 2
}
