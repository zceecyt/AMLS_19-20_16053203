{
 "cells": [
  {
   "cell_type": "code",
   "execution_count": null,
   "metadata": {},
   "outputs": [],
   "source": [
    "import os\n",
    "import numpy as np\n",
    "import pandas as pd\n",
    "import matplotlib.pyplot as plt\n",
    "import csv\n",
    "import cv2\n",
    "import dlib"
   ]
  },
  {
   "cell_type": "code",
   "execution_count": 2,
   "metadata": {},
   "outputs": [],
   "source": [
    "os.chdir(r'C:\\Users\\User\\Desktop\\4th_year_AMLS\\zceecyt-AMLSassignment19_20-16053203\\dataset\\celeba')\n",
    "cwd = os.getcwd()\n",
    "# print(\"Current working directory is:\", cwd)\n",
    "# df = pd.read_csv('labels.csv')\n",
    "df = open('labels.csv')\n",
    "reader = csv.reader(df)\n",
    "\n",
    "for row in reader:    \n",
    "    data = str(row).replace('t', '').replace('[','').replace(']','').replace('\\'','')\n",
    "\n",
    "    new = data.split(\"\\\\\")\n",
    "    \n",
    "    \n",
    "#     print (data)\n",
    "#     print (new)\n",
    "    \n",
    "#     table = pd.DataFrame (new)\n",
    "#     print (table)\n",
    "\n",
    "    index = new[0]\n",
    "    filename = new[1]\n",
    "    gender = new[2]\n",
    "    \n",
    "#    print (array)\n",
    "#    print (filename)\n",
    "    \n",
    "#     print(array)\n",
    "#     break\n",
    "    \n",
    "    \n",
    "#     print(row)\n",
    "#     print(index, filename, array)\n",
    "    \n",
    "#     continue\n",
    "    \n",
    "#     try:\n",
    "#         gender = int(gender)\n",
    "        \n",
    "#         if gender == -1:\n",
    "#             print('female')\n",
    "#         else:\n",
    "#             print('male')\n",
    "#     except ValueError:\n",
    "#         continue"
   ]
  },
  {
   "cell_type": "code",
   "execution_count": null,
   "metadata": {},
   "outputs": [],
   "source": [
    "def train_validate_test_split(new, train_percent=0.6, validate_percent=0.2, seed=None)\n"
   ]
  }
 ],
 "metadata": {
  "kernelspec": {
   "display_name": "Python 3",
   "language": "python",
   "name": "python3"
  }
 },
 "nbformat": 4,
 "nbformat_minor": 2
}
