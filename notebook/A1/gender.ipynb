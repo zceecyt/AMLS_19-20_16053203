{
 "cells": [
  {
   "cell_type": "markdown",
   "metadata": {},
   "source": [
    "# Gender Detection"
   ]
  },
  {
   "cell_type": "code",
   "execution_count": 1,
   "metadata": {},
   "outputs": [
    {
     "name": "stderr",
     "output_type": "stream",
     "text": [
      "Using TensorFlow backend.\n"
     ]
    }
   ],
   "source": [
    "import os\n",
    "import numpy as np\n",
    "from keras.preprocessing import image\n",
    "import cv2\n",
    "import dlib\n",
    "import pandas as pd\n",
    "import matplotlib.pyplot as plt\n",
    "import sys"
   ]
  },
  {
   "cell_type": "code",
   "execution_count": 2,
   "metadata": {},
   "outputs": [],
   "source": [
    "from keras.preprocessing import image\n",
    "from sklearn import svm, datasets\n",
    "from sklearn.dummy import DummyClassifier\n",
    "from sklearn.svm import SVC\n",
    "from sklearn.utils import shuffle\n",
    "from sklearn.model_selection import train_test_split, GridSearchCV, learning_curve, ShuffleSplit\n",
    "from sklearn.metrics import classification_report, accuracy_score, confusion_matrix, recall_score, precision_score, f1_score\n",
    "import matplotlib.pyplot as plt\n",
    "from sklearn.datasets import load_iris"
   ]
  },
  {
   "cell_type": "markdown",
   "metadata": {},
   "source": [
    "# Data Preprocessing"
   ]
  },
  {
   "cell_type": "code",
   "execution_count": 3,
   "metadata": {},
   "outputs": [],
   "source": [
    "# Loading the data file\n",
    "data = load_iris()\n",
    "df=pd.DataFrame(data.data,columns=data.feature_names)\n",
    "#print(df.head())\n",
    "\n",
    "# Drop rest of the features and extract the target values\n",
    "Y = data.target\n",
    "X = data.data[:, :2]\n",
    "\n",
    "# Shuffle and split the data into training and test set\n",
    "X, Y = shuffle(X,Y)\n",
    "x_train, x_test, y_train, y_test = train_test_split(X, Y, train_size=0.7)"
   ]
  },
  {
   "cell_type": "code",
   "execution_count": 4,
   "metadata": {},
   "outputs": [
    {
     "name": "stdout",
     "output_type": "stream",
     "text": [
      "0.8\n"
     ]
    }
   ],
   "source": [
    "def SVM(x_train,y_train, x_test):\n",
    "    #model = ...\n",
    "    model = SVC(kernel = 'linear')\n",
    "    model.fit(x_train,y_train)\n",
    "    #model.  #fit using x_train and y_train\n",
    "    y_pred = model.predict(x_test)\n",
    "    return y_pred\n",
    "# Scikit learn library results\n",
    "y_pred=SVM(x_train,y_train, x_test)\n",
    "print(accuracy_score(y_test,y_pred))\n"
   ]
  },
  {
   "cell_type": "code",
   "execution_count": 5,
   "metadata": {},
   "outputs": [],
   "source": [
    "import landmarks as l2"
   ]
  },
  {
   "cell_type": "code",
   "execution_count": 6,
   "metadata": {},
   "outputs": [],
   "source": [
    "def get_data():\n",
    "\n",
    "    X, y = l2.extract_features_labels()\n",
    "    print(X, y)\n",
    "    Y = np.array([y, -(y - 1)]).T\n",
    "    tr_X = X[:100]\n",
    "    tr_Y = Y[:100]\n",
    "    te_X = X[100:]\n",
    "    te_Y = Y[100:]\n",
    "\n",
    "    return tr_X, tr_Y, te_X, te_Y"
   ]
  },
  {
   "cell_type": "code",
   "execution_count": 7,
   "metadata": {
    "scrolled": false
   },
   "outputs": [
    {
     "name": "stdout",
     "output_type": "stream",
     "text": [
      "[0. 0. 0. ... 1. 1. 1.]\n",
      "[[[ 59 113]\n",
      "  [ 57 123]\n",
      "  [ 57 133]\n",
      "  ...\n",
      "  [ 88 163]\n",
      "  [ 83 163]\n",
      "  [ 78 161]]\n",
      "\n",
      " [[ 55 110]\n",
      "  [ 54 120]\n",
      "  [ 54 131]\n",
      "  ...\n",
      "  [ 89 163]\n",
      "  [ 83 163]\n",
      "  [ 78 161]]\n",
      "\n",
      " [[ 42 124]\n",
      "  [ 43 134]\n",
      "  [ 46 144]\n",
      "  ...\n",
      "  [ 92 148]\n",
      "  [ 87 148]\n",
      "  [ 83 148]]\n",
      "\n",
      " ...\n",
      "\n",
      " [[ 50 112]\n",
      "  [ 50 123]\n",
      "  [ 50 134]\n",
      "  ...\n",
      "  [ 92 158]\n",
      "  [ 87 158]\n",
      "  [ 82 157]]\n",
      "\n",
      " [[ 39 116]\n",
      "  [ 39 128]\n",
      "  [ 39 141]\n",
      "  ...\n",
      "  [ 96 154]\n",
      "  [ 91 154]\n",
      "  [ 86 154]]\n",
      "\n",
      " [[ 59 106]\n",
      "  [ 58 116]\n",
      "  [ 59 127]\n",
      "  ...\n",
      "  [ 89 161]\n",
      "  [ 83 160]\n",
      "  [ 79 158]]] [0. 0. 0. ... 1. 1. 1.]\n"
     ]
    },
    {
     "ename": "ValueError",
     "evalue": "cannot reshape array of size 638928 into shape (36,136)",
     "output_type": "error",
     "traceback": [
      "\u001b[1;31m---------------------------------------------------------------------------\u001b[0m",
      "\u001b[1;31mValueError\u001b[0m                                Traceback (most recent call last)",
      "\u001b[1;32m<ipython-input-7-80c5f65805c6>\u001b[0m in \u001b[0;36m<module>\u001b[1;34m\u001b[0m\n\u001b[0;32m     11\u001b[0m \u001b[1;33m\u001b[0m\u001b[0m\n\u001b[0;32m     12\u001b[0m \u001b[0mtr_X\u001b[0m\u001b[1;33m,\u001b[0m \u001b[0mtr_Y\u001b[0m\u001b[1;33m,\u001b[0m \u001b[0mte_X\u001b[0m\u001b[1;33m,\u001b[0m \u001b[0mte_Y\u001b[0m\u001b[1;33m=\u001b[0m \u001b[0mget_data\u001b[0m\u001b[1;33m(\u001b[0m\u001b[1;33m)\u001b[0m\u001b[1;33m\u001b[0m\u001b[1;33m\u001b[0m\u001b[0m\n\u001b[1;32m---> 13\u001b[1;33m \u001b[0mpred\u001b[0m\u001b[1;33m=\u001b[0m\u001b[0mimg_SVM\u001b[0m\u001b[1;33m(\u001b[0m\u001b[0mtr_X\u001b[0m\u001b[1;33m.\u001b[0m\u001b[0mreshape\u001b[0m\u001b[1;33m(\u001b[0m\u001b[1;33m(\u001b[0m\u001b[1;36m100\u001b[0m\u001b[1;33m,\u001b[0m \u001b[1;36m68\u001b[0m\u001b[1;33m*\u001b[0m\u001b[1;36m2\u001b[0m\u001b[1;33m)\u001b[0m\u001b[1;33m)\u001b[0m\u001b[1;33m,\u001b[0m \u001b[0mlist\u001b[0m\u001b[1;33m(\u001b[0m\u001b[0mzip\u001b[0m\u001b[1;33m(\u001b[0m\u001b[1;33m*\u001b[0m\u001b[0mtr_Y\u001b[0m\u001b[1;33m)\u001b[0m\u001b[1;33m)\u001b[0m\u001b[1;33m[\u001b[0m\u001b[1;36m0\u001b[0m\u001b[1;33m]\u001b[0m\u001b[1;33m,\u001b[0m \u001b[0mte_X\u001b[0m\u001b[1;33m.\u001b[0m\u001b[0mreshape\u001b[0m\u001b[1;33m(\u001b[0m\u001b[1;33m(\u001b[0m\u001b[1;36m36\u001b[0m\u001b[1;33m,\u001b[0m \u001b[1;36m68\u001b[0m\u001b[1;33m*\u001b[0m\u001b[1;36m2\u001b[0m\u001b[1;33m)\u001b[0m\u001b[1;33m)\u001b[0m\u001b[1;33m,\u001b[0m \u001b[0mlist\u001b[0m\u001b[1;33m(\u001b[0m\u001b[0mzip\u001b[0m\u001b[1;33m(\u001b[0m\u001b[1;33m*\u001b[0m\u001b[0mte_Y\u001b[0m\u001b[1;33m)\u001b[0m\u001b[1;33m)\u001b[0m\u001b[1;33m[\u001b[0m\u001b[1;36m0\u001b[0m\u001b[1;33m]\u001b[0m\u001b[1;33m)\u001b[0m\u001b[1;33m\u001b[0m\u001b[1;33m\u001b[0m\u001b[0m\n\u001b[0m",
      "\u001b[1;31mValueError\u001b[0m: cannot reshape array of size 638928 into shape (36,136)"
     ]
    }
   ],
   "source": [
    "# sklearn functions implementation\n",
    "def img_SVM(training_images, training_labels, test_images, test_labels):\n",
    "    #classifier = ...\n",
    "    classifier = SVC(kernel = 'rbf')\n",
    "    classifier.fit(training_images, training_labels)\n",
    "    pred = classifier.predict(test_images)\n",
    "    print(\"Accuracy:\", accuracy_score(test_labels, pred))\n",
    "\n",
    "    print(pred)\n",
    "    return pred\n",
    "\n",
    "tr_X, tr_Y, te_X, te_Y= get_data()\n",
    "pred=img_SVM(tr_X.reshape((100, 68*2)), list(zip(*tr_Y))[0], te_X.reshape((36, 68*2)), list(zip(*te_Y))[0])"
   ]
  },
  {
   "cell_type": "code",
   "execution_count": null,
   "metadata": {},
   "outputs": [],
   "source": []
  }
 ],
 "metadata": {
  "kernelspec": {
   "display_name": "Python 3",
   "language": "python",
   "name": "python3"
  },
  "language_info": {
   "codemirror_mode": {
    "name": "ipython",
    "version": 3
   },
   "file_extension": ".py",
   "mimetype": "text/x-python",
   "name": "python",
   "nbconvert_exporter": "python",
   "pygments_lexer": "ipython3",
   "version": "3.7.5"
  }
 },
 "nbformat": 4,
 "nbformat_minor": 2
}
