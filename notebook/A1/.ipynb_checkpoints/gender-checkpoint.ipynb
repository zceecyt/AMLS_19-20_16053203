{
 "cells": [
  {
   "cell_type": "markdown",
   "metadata": {},
   "source": [
    "# Gender Detection"
   ]
  },
  {
   "cell_type": "code",
   "execution_count": 1,
   "metadata": {},
   "outputs": [
    {
     "name": "stderr",
     "output_type": "stream",
     "text": [
      "Using TensorFlow backend.\n"
     ]
    }
   ],
   "source": [
    "import time\n",
    "start_time = time.time()\n",
    "import progressbar\n",
    "import os\n",
    "import numpy as np\n",
    "from keras.preprocessing import image\n",
    "import cv2\n",
    "import dlib\n",
    "import pandas as pd\n",
    "import matplotlib.pyplot as plt\n",
    "import sys"
   ]
  },
  {
   "cell_type": "code",
   "execution_count": 2,
   "metadata": {},
   "outputs": [],
   "source": [
    "from keras.preprocessing import image\n",
    "from sklearn import svm, datasets\n",
    "from sklearn.dummy import DummyClassifier\n",
    "from sklearn.svm import SVC\n",
    "from sklearn.utils import shuffle\n",
    "from sklearn.model_selection import train_test_split, GridSearchCV, learning_curve, ShuffleSplit\n",
    "from sklearn.metrics import classification_report, accuracy_score, confusion_matrix, recall_score, precision_score, f1_score\n",
    "import matplotlib.pyplot as plt"
   ]
  },
  {
   "cell_type": "markdown",
   "metadata": {},
   "source": [
    "# Data Preprocessing"
   ]
  },
  {
   "cell_type": "code",
   "execution_count": 3,
   "metadata": {},
   "outputs": [],
   "source": [
    "# Loading the data file\n",
    "# data = load_iris()\n",
    "# df=pd.DataFrame(data.data,columns=data.feature_names)\n",
    "# print(df.head())\n",
    "\n",
    "# Drop rest of the features and extract the target values\n",
    "# Y = data.target\n",
    "# X = data.data[:, :2]\n",
    "\n",
    "# Shuffle and split the data into training and test set\n",
    "# X, Y = shuffle(X,Y)\n",
    "# x_train, x_test, y_train, y_test = train_test_split(X, Y, train_size=0.7)"
   ]
  },
  {
   "cell_type": "code",
   "execution_count": 4,
   "metadata": {},
   "outputs": [],
   "source": [
    "# def SVM(x_train,y_train, x_test):\n",
    "#     #model = ...\n",
    "#     model = SVC(kernel = 'linear')\n",
    "#     model.fit(x_train,y_train)\n",
    "#     #model.  #fit using x_train and y_train\n",
    "#     y_pred = model.predict(x_test)\n",
    "#     return y_pred\n",
    "# # Scikit learn library results\n",
    "# y_pred=SVM(x_train,y_train, x_test)\n",
    "# print(accuracy_score(y_test,y_pred))\n"
   ]
  },
  {
   "cell_type": "code",
   "execution_count": 5,
   "metadata": {},
   "outputs": [],
   "source": [
    "cwd = 'C:\\\\Users\\\\User\\\\Desktop\\\\4th_year_AMLS\\\\zceecyt-AMLSassignment19_20-16053203\\\\notebook\\\\A1'\n",
    "\n",
    "os.chdir(cwd)"
   ]
  },
  {
   "cell_type": "code",
   "execution_count": 17,
   "metadata": {},
   "outputs": [],
   "source": [
    "import landmarks as l2"
   ]
  },
  {
   "cell_type": "code",
   "execution_count": 7,
   "metadata": {},
   "outputs": [],
   "source": [
    "def get_data():\n",
    "    return l2.extract_features_labels()\n",
    "    \n",
    "def split_data(X, Y):\n",
    "#     split = 4000\n",
    "        \n",
    "#     tr_X = X[:split]\n",
    "#     tr_Y = Y[:split]\n",
    "#     te_X = X[split:]\n",
    "#     te_Y = Y[split:]\n",
    "\n",
    "    X, Y = shuffle(X,Y)\n",
    "    tr_X, te_X, tr_Y, te_Y = train_test_split(X, Y, train_size=0.7)\n",
    "    \n",
    "    return tr_X, tr_Y, te_X, te_Y\n",
    "    \n",
    "    \n",
    "#     for i in [tr_X, tr_Y, te_X, te_Y]:\n",
    "#         print(i.shape)\n",
    "    \n",
    "#     return tr_X, tr_Y, te_X, te_Y\n",
    "    \n",
    "# get_data()\n",
    "\n",
    "\n",
    "# def train_validate_test_split(l2, train_set=0.6, validate_set=0.1, seed=None):\n",
    "#     np.random.seed(seed)\n",
    "#     np.random.seed(0)\n",
    "#     pmt = np.random.permutation(l2.extract_features_labels())\n",
    "#     k = len(l2.extract_features_labels())\n",
    "#     training = int(train_set * k)\n",
    "#     validating = int(validate_set * k) + training\n",
    "#     train = l2.iloc[pmt[:training]]\n",
    "#     validate = l2.iloc[pmt[training:validating]]\n",
    "#     test = l2.iloc[pmt[validating:]]\n",
    "#     return train, validate, test"
   ]
  },
  {
   "cell_type": "code",
   "execution_count": 8,
   "metadata": {},
   "outputs": [
    {
     "name": "stdout",
     "output_type": "stream",
     "text": [
      "(4798, 68, 2)\n",
      "(4798,)\n"
     ]
    }
   ],
   "source": [
    "X,y = get_data()\n",
    "\n",
    "print(X.shape)\n",
    "print(y.shape)"
   ]
  },
  {
   "cell_type": "code",
   "execution_count": 9,
   "metadata": {
    "scrolled": false
   },
   "outputs": [
    {
     "name": "stdout",
     "output_type": "stream",
     "text": [
      "C:\\Users\\User\\Desktop\\4th_year_AMLS\\zceecyt-AMLSassignment19_20-16053203\\notebook\\A1\n"
     ]
    }
   ],
   "source": [
    "print (os.path.abspath(os.curdir))\n",
    "# sklearn functions implementation\n",
    "def img_SVM(training_images, training_labels, test_images, test_labels):\n",
    "    #classifier = ...\n",
    "    classifier = SVC(kernel = 'rbf')\n",
    "    classifier.fit(training_images, training_labels)\n",
    "    pred = classifier.predict(test_images)\n",
    "    print(\"Accuracy:\", accuracy_score(test_labels, pred))\n",
    "\n",
    "    print(pred)\n",
    "    return pred\n",
    "\n"
   ]
  },
  {
   "cell_type": "code",
   "execution_count": 10,
   "metadata": {},
   "outputs": [],
   "source": [
    "Y = np.array([y, -(y - 1)]).T\n",
    "\n",
    "tr_X, tr_Y, te_X, te_Y = split_data(X, Y)"
   ]
  },
  {
   "cell_type": "code",
   "execution_count": 11,
   "metadata": {},
   "outputs": [
    {
     "name": "stdout",
     "output_type": "stream",
     "text": [
      "[[[ 48 118]\n",
      "  [ 47 128]\n",
      "  [ 47 138]\n",
      "  ...\n",
      "  [ 92 152]\n",
      "  [ 87 153]\n",
      "  [ 82 152]]\n",
      "\n",
      " [[ 42 108]\n",
      "  [ 42 120]\n",
      "  [ 42 132]\n",
      "  ...\n",
      "  [ 96 154]\n",
      "  [ 92 155]\n",
      "  [ 88 155]]\n",
      "\n",
      " [[ 41 117]\n",
      "  [ 42 129]\n",
      "  [ 44 141]\n",
      "  ...\n",
      "  [ 94 157]\n",
      "  [ 90 157]\n",
      "  [ 86 157]]\n",
      "\n",
      " ...\n",
      "\n",
      " [[ 44 108]\n",
      "  [ 45 120]\n",
      "  [ 47 133]\n",
      "  ...\n",
      "  [ 93 157]\n",
      "  [ 88 158]\n",
      "  [ 83 157]]\n",
      "\n",
      " [[ 26 120]\n",
      "  [ 28 134]\n",
      "  [ 30 146]\n",
      "  ...\n",
      "  [ 97 156]\n",
      "  [ 91 157]\n",
      "  [ 84 157]]\n",
      "\n",
      " [[ 44 105]\n",
      "  [ 45 118]\n",
      "  [ 47 131]\n",
      "  ...\n",
      "  [ 95 158]\n",
      "  [ 90 160]\n",
      "  [ 85 159]]]\n",
      "(3358, 68, 2)\n",
      "[[ 1. -0.]\n",
      " [ 0.  1.]\n",
      " [ 0.  1.]\n",
      " ...\n",
      " [ 0.  1.]\n",
      " [ 0.  1.]\n",
      " [ 1. -0.]]\n",
      "(3358, 2)\n"
     ]
    }
   ],
   "source": [
    "print(tr_X)\n",
    "print(tr_X.shape)\n",
    "print(tr_Y)\n",
    "print(tr_Y.shape)"
   ]
  },
  {
   "cell_type": "code",
   "execution_count": 12,
   "metadata": {},
   "outputs": [],
   "source": [
    "# def totuple(a):\n",
    "#     return list(zip(*tr_Y))[0]\n",
    "\n",
    "# # pred=img_SVM(tr_X.reshape((3500, 2500*2)), list(zip(*tr_Y))[0], te_X.reshape((3500, 2500*2)), list(zip(*te_Y))[0])\n",
    "# # pred=img_SVM(tr_X.reshape((len(tr_X), 68*2)), totuple(tr_Y), te_X.reshape((len(te_X), 68*2)), totuple(te_Y))\n",
    "# # pred\n",
    "# pred=img_SVM(\n",
    "#     tr_X.reshape(tr_X.shape[0], tr_X.shape[1]*tr_X.shape[2]),\n",
    "#     totuple(tr_Y), \n",
    "#     te_X.reshape((te_X.shape[0], te_X.shape[1]*te_X.shape[2])), \n",
    "#     totuple(te_Y)\n",
    "# )\n",
    "# # tr_X.shape\n",
    "\n",
    "def reshapeX(X):\n",
    "    return X.reshape((X.shape[0], X.shape[1] * X.shape[2]))\n",
    "\n",
    "def reshapeY(y):\n",
    "    return list(zip(*y))[0]\n",
    "\n",
    "tr_X = reshapeX(tr_X)\n",
    "te_X = reshapeX(te_X)\n",
    "tr_Y = reshapeY(tr_Y)\n",
    "te_Y = reshapeY(te_Y)"
   ]
  },
  {
   "cell_type": "code",
   "execution_count": 13,
   "metadata": {},
   "outputs": [
    {
     "name": "stdout",
     "output_type": "stream",
     "text": [
      "(3358, 136)\n"
     ]
    }
   ],
   "source": [
    "print(tr_X.shape)"
   ]
  },
  {
   "cell_type": "code",
   "execution_count": 14,
   "metadata": {},
   "outputs": [
    {
     "name": "stdout",
     "output_type": "stream",
     "text": [
      "0.1 Linear: 0.9111111111111111\n",
      "0.1 0.01 Rbf: 0.5027777777777778\n",
      "0.1 1 Poly 0.5027777777777778\n",
      "0.1 Linear: 0.9111111111111111\n",
      "0.1 0.01 Rbf: 0.5027777777777778\n",
      "0.1 2 Poly 0.8548611111111111\n",
      "0.1 Linear: 0.9111111111111111\n",
      "0.1 0.01 Rbf: 0.5027777777777778\n",
      "0.1 3 Poly 0.90625\n",
      "0.1 Linear: 0.9111111111111111\n",
      "0.1 0.01 Rbf: 0.5027777777777778\n",
      "0.1 4 Poly 0.9173611111111111\n",
      "0.1 Linear: 0.9111111111111111\n",
      "0.1 10 Rbf: 0.5027777777777778\n",
      "0.1 1 Poly 0.5027777777777778\n",
      "0.1 Linear: 0.9111111111111111\n",
      "0.1 10 Rbf: 0.5027777777777778\n",
      "0.1 2 Poly 0.8548611111111111\n",
      "0.1 Linear: 0.9111111111111111\n",
      "0.1 10 Rbf: 0.5027777777777778\n",
      "0.1 3 Poly 0.90625\n",
      "0.1 Linear: 0.9111111111111111\n",
      "0.1 10 Rbf: 0.5027777777777778\n",
      "0.1 4 Poly 0.9173611111111111\n",
      "0.1 Linear: 0.9111111111111111\n",
      "0.1 100 Rbf: 0.5027777777777778\n",
      "0.1 1 Poly 0.5027777777777778\n",
      "0.1 Linear: 0.9111111111111111\n",
      "0.1 100 Rbf: 0.5027777777777778\n",
      "0.1 2 Poly 0.8548611111111111\n",
      "0.1 Linear: 0.9111111111111111\n",
      "0.1 100 Rbf: 0.5027777777777778\n",
      "0.1 3 Poly 0.90625\n",
      "0.1 Linear: 0.9111111111111111\n",
      "0.1 100 Rbf: 0.5027777777777778\n",
      "0.1 4 Poly 0.9173611111111111\n",
      "1 Linear: 0.9069444444444444\n",
      "1 0.01 Rbf: 0.7895833333333333\n",
      "1 1 Poly 0.8159722222222222\n",
      "1 Linear: 0.9069444444444444\n",
      "1 0.01 Rbf: 0.7895833333333333\n",
      "1 2 Poly 0.8965277777777778\n",
      "1 Linear: 0.9069444444444444\n",
      "1 0.01 Rbf: 0.7895833333333333\n",
      "1 3 Poly 0.9173611111111111\n",
      "1 Linear: 0.9069444444444444\n",
      "1 0.01 Rbf: 0.7895833333333333\n",
      "1 4 Poly 0.9180555555555555\n",
      "1 Linear: 0.9069444444444444\n",
      "1 10 Rbf: 0.5027777777777778\n",
      "1 1 Poly 0.8159722222222222\n",
      "1 Linear: 0.9069444444444444\n",
      "1 10 Rbf: 0.5027777777777778\n",
      "1 2 Poly 0.8965277777777778\n",
      "1 Linear: 0.9069444444444444\n",
      "1 10 Rbf: 0.5027777777777778\n",
      "1 3 Poly 0.9173611111111111\n",
      "1 Linear: 0.9069444444444444\n",
      "1 10 Rbf: 0.5027777777777778\n",
      "1 4 Poly 0.9180555555555555\n",
      "1 Linear: 0.9069444444444444\n",
      "1 100 Rbf: 0.5027777777777778\n",
      "1 1 Poly 0.8159722222222222\n",
      "1 Linear: 0.9069444444444444\n",
      "1 100 Rbf: 0.5027777777777778\n",
      "1 2 Poly 0.8965277777777778\n",
      "1 Linear: 0.9069444444444444\n",
      "1 100 Rbf: 0.5027777777777778\n",
      "1 3 Poly 0.9173611111111111\n",
      "1 Linear: 0.9069444444444444\n",
      "1 100 Rbf: 0.5027777777777778\n",
      "1 4 Poly 0.9180555555555555\n"
     ]
    }
   ],
   "source": [
    "# we create an instance of SVM and fit out data. We do not scale our\n",
    "# data since we want to plot the support vectors\n",
    "#rbf is for gaussian\n",
    "# SVM regularization parameter\n",
    "\n",
    "# C is the element, i.e. 0.1 and 1\n",
    "for C in [0.1,1]:\n",
    "    for gamma in [0.01, 10, 100]:\n",
    "        for degree in [1, 2, 3, 4]:\n",
    "# for i in range(0.1,1,0.1)\n",
    "\n",
    "# for i in range(len(C_loop)): # C is the index, i.e. 0 and 1\n",
    "#     print(i, C_loop[i])\n",
    "            lin_svc = svm.SVC(kernel='linear', C=C).fit(tr_X, tr_Y)\n",
    "            print(C, \"Linear:\", lin_svc.score(te_X, te_Y))\n",
    "\n",
    "            rbf_svc = svm.SVC(kernel='rbf', gamma=gamma, C=C).fit(tr_X, tr_Y)\n",
    "            print( C, gamma, \"Rbf:\", rbf_svc.score(te_X, te_Y))\n",
    "\n",
    "            poly_svc = svm.SVC(kernel='poly', degree=degree, C=C).fit(tr_X, tr_Y)\n",
    "            print( C, degree, \"Poly\", poly_svc.score(te_X, te_Y))\n",
    "            \n",
    "# lin_svc = svm.SVC(kernel='linear', C=C).fit(tr_X, tr_Y)\n",
    "# print(C, \"Linear:\", lin_svc.score(te_X, te_Y))"
   ]
  },
  {
   "cell_type": "code",
   "execution_count": 20,
   "metadata": {},
   "outputs": [
    {
     "name": "stdout",
     "output_type": "stream",
     "text": [
      "Automatically created module for IPython interactive environment\n"
     ]
    },
    {
     "ename": "IndexError",
     "evalue": "too many indices for array",
     "output_type": "error",
     "traceback": [
      "\u001b[1;31m---------------------------------------------------------------------------\u001b[0m",
      "\u001b[1;31mIndexError\u001b[0m                                Traceback (most recent call last)",
      "\u001b[1;32m<ipython-input-20-18be60bbb6cb>\u001b[0m in \u001b[0;36m<module>\u001b[1;34m\u001b[0m\n\u001b[0;32m    133\u001b[0m \u001b[0mcv\u001b[0m \u001b[1;33m=\u001b[0m \u001b[0mShuffleSplit\u001b[0m\u001b[1;33m(\u001b[0m\u001b[0mn_splits\u001b[0m\u001b[1;33m=\u001b[0m\u001b[1;36m10\u001b[0m\u001b[1;33m,\u001b[0m \u001b[0mtest_size\u001b[0m\u001b[1;33m=\u001b[0m\u001b[1;36m0.2\u001b[0m\u001b[1;33m,\u001b[0m \u001b[0mrandom_state\u001b[0m\u001b[1;33m=\u001b[0m\u001b[1;36m0\u001b[0m\u001b[1;33m)\u001b[0m\u001b[1;33m\u001b[0m\u001b[1;33m\u001b[0m\u001b[0m\n\u001b[0;32m    134\u001b[0m \u001b[0mestimator\u001b[0m \u001b[1;33m=\u001b[0m \u001b[0mSVC\u001b[0m\u001b[1;33m(\u001b[0m\u001b[0mgamma\u001b[0m\u001b[1;33m=\u001b[0m\u001b[1;36m0.001\u001b[0m\u001b[1;33m)\u001b[0m\u001b[1;33m\u001b[0m\u001b[1;33m\u001b[0m\u001b[0m\n\u001b[1;32m--> 135\u001b[1;33m plot_learning_curve(estimator, title, X, y, axes=axes[:, 0], ylim=(0.7, 1.01),\n\u001b[0m\u001b[0;32m    136\u001b[0m                     cv=cv, n_jobs=4)\n\u001b[0;32m    137\u001b[0m \u001b[1;33m\u001b[0m\u001b[0m\n",
      "\u001b[1;31mIndexError\u001b[0m: too many indices for array"
     ]
    },
    {
     "data": {
      "image/png": "[encoded data removed]",
      "text/plain": [
       "<Figure size 720x1080 with 3 Axes>"
      ]
     },
     "metadata": {
      "needs_background": "light"
     },
     "output_type": "display_data"
    }
   ],
   "source": [
    "print(__doc__)\n",
    "\n",
    "from sklearn.datasets import load_digits\n",
    "from sklearn.model_selection import learning_curve\n",
    "from sklearn.model_selection import ShuffleSplit\n",
    "\n",
    "\n",
    "def plot_learning_curve(estimator, title, X, y, axes=None, ylim=None, cv=None,\n",
    "                        n_jobs=None, train_sizes=np.linspace(.1, 1.0, 5)):\n",
    "    \"\"\"\n",
    "    Generate 3 plots: the test and training learning curve, the training\n",
    "    samples vs fit times curve, the fit times vs score curve.\n",
    "\n",
    "    Parameters\n",
    "    ----------\n",
    "    estimator : object type that implements the \"fit\" and \"predict\" methods\n",
    "        An object of that type which is cloned for each validation.\n",
    "\n",
    "    title : string\n",
    "        Title for the chart.\n",
    "\n",
    "    X : array-like, shape (n_samples, n_features)\n",
    "        Training vector, where n_samples is the number of samples and\n",
    "        n_features is the number of features.\n",
    "\n",
    "    y : array-like, shape (n_samples) or (n_samples, n_features), optional\n",
    "        Target relative to X for classification or regression;\n",
    "        None for unsupervised learning.\n",
    "\n",
    "    axes : array of 3 axes, optional (default=None)\n",
    "        Axes to use for plotting the curves.\n",
    "\n",
    "    ylim : tuple, shape (ymin, ymax), optional\n",
    "        Defines minimum and maximum yvalues plotted.\n",
    "\n",
    "    cv : int, cross-validation generator or an iterable, optional\n",
    "        Determines the cross-validation splitting strategy.\n",
    "        Possible inputs for cv are:\n",
    "          - None, to use the default 5-fold cross-validation,\n",
    "          - integer, to specify the number of folds.\n",
    "          - :term:`CV splitter`,\n",
    "          - An iterable yielding (train, test) splits as arrays of indices.\n",
    "\n",
    "        For integer/None inputs, if ``y`` is binary or multiclass,\n",
    "        :class:`StratifiedKFold` used. If the estimator is not a classifier\n",
    "        or if ``y`` is neither binary nor multiclass, :class:`KFold` is used.\n",
    "\n",
    "        Refer :ref:`User Guide <cross_validation>` for the various\n",
    "        cross-validators that can be used here.\n",
    "\n",
    "    n_jobs : int or None, optional (default=None)\n",
    "        Number of jobs to run in parallel.\n",
    "        ``None`` means 1 unless in a :obj:`joblib.parallel_backend` context.\n",
    "        ``-1`` means using all processors. See :term:`Glossary <n_jobs>`\n",
    "        for more details.\n",
    "\n",
    "    train_sizes : array-like, shape (n_ticks,), dtype float or int\n",
    "        Relative or absolute numbers of training examples that will be used to\n",
    "        generate the learning curve. If the dtype is float, it is regarded as a\n",
    "        fraction of the maximum size of the training set (that is determined\n",
    "        by the selected validation method), i.e. it has to be within (0, 1].\n",
    "        Otherwise it is interpreted as absolute sizes of the training sets.\n",
    "        Note that for classification the number of samples usually have to\n",
    "        be big enough to contain at least one sample from each class.\n",
    "        (default: np.linspace(0.1, 1.0, 5))\n",
    "    \"\"\"\n",
    "    if axes is None:\n",
    "        _, axes = plt.subplots(1, 3, figsize=(20, 5))\n",
    "\n",
    "    axes[0].set_title(title)\n",
    "    if ylim is not None:\n",
    "        axes[0].set_ylim(*ylim)\n",
    "    axes[0].set_xlabel(\"Training examples\")\n",
    "    axes[0].set_ylabel(\"Score\")\n",
    "\n",
    "    train_sizes, train_scores, test_scores, fit_times, _ = \\\n",
    "        learning_curve(estimator, X, y, cv=cv, n_jobs=n_jobs,\n",
    "                       train_sizes=train_sizes,\n",
    "                       return_times=True)\n",
    "    train_scores_mean = np.mean(train_scores, axis=1)\n",
    "    train_scores_std = np.std(train_scores, axis=1)\n",
    "    test_scores_mean = np.mean(test_scores, axis=1)\n",
    "    test_scores_std = np.std(test_scores, axis=1)\n",
    "    fit_times_mean = np.mean(fit_times, axis=1)\n",
    "    fit_times_std = np.std(fit_times, axis=1)\n",
    "\n",
    "    # Plot learning curve\n",
    "    axes[0].grid()\n",
    "    axes[0].fill_between(train_sizes, train_scores_mean - train_scores_std,\n",
    "                         train_scores_mean + train_scores_std, alpha=0.1,\n",
    "                         color=\"r\")\n",
    "    axes[0].fill_between(train_sizes, test_scores_mean - test_scores_std,\n",
    "                         test_scores_mean + test_scores_std, alpha=0.1,\n",
    "                         color=\"g\")\n",
    "    axes[0].plot(train_sizes, train_scores_mean, 'o-', color=\"r\",\n",
    "                 label=\"Training score\")\n",
    "    axes[0].plot(train_sizes, test_scores_mean, 'o-', color=\"g\",\n",
    "                 label=\"Cross-validation score\")\n",
    "    axes[0].legend(loc=\"best\")\n",
    "\n",
    "    # Plot n_samples vs fit_times\n",
    "    axes[1].grid()\n",
    "    axes[1].plot(train_sizes, fit_times_mean, 'o-')\n",
    "    axes[1].fill_between(train_sizes, fit_times_mean - fit_times_std,\n",
    "                         fit_times_mean + fit_times_std, alpha=0.1)\n",
    "    axes[1].set_xlabel(\"Training examples\")\n",
    "    axes[1].set_ylabel(\"fit_times\")\n",
    "    axes[1].set_title(\"Scalability of the model\")\n",
    "\n",
    "    # Plot fit_time vs score\n",
    "    axes[2].grid()\n",
    "    axes[2].plot(fit_times_mean, test_scores_mean, 'o-')\n",
    "    axes[2].fill_between(fit_times_mean, test_scores_mean - test_scores_std,\n",
    "                         test_scores_mean + test_scores_std, alpha=0.1)\n",
    "    axes[2].set_xlabel(\"fit_times\")\n",
    "    axes[2].set_ylabel(\"Score\")\n",
    "    axes[2].set_title(\"Performance of the model\")\n",
    "\n",
    "    return plt\n",
    "\n",
    "\n",
    "fig, axes = plt.subplots(3, 1, figsize=(10, 15))\n",
    "\n",
    "X, y = load_digits(return_X_y=True)\n",
    "\n",
    "\n",
    "# Cross validation with 100 iterations to get smoother mean test and train\n",
    "# score curves, each time with 20% data randomly selected as a validation set.\n",
    "\n",
    "\n",
    "title = r\"Learning Curves (SVM, RBF kernel, $\\gamma=0.001$)\"\n",
    "# SVC is more expensive so we do a lower number of CV iterations:\n",
    "cv = ShuffleSplit(n_splits=10, test_size=0.2, random_state=0)\n",
    "estimator = SVC(gamma=0.001)\n",
    "plot_learning_curve(estimator, title, X, y, axes=axes[:, 0], ylim=(0.7, 1.01),\n",
    "                    cv=cv, n_jobs=4)\n",
    "\n",
    "plt.show()"
   ]
  },
  {
   "cell_type": "code",
   "execution_count": null,
   "metadata": {},
   "outputs": [],
   "source": []
  },
  {
   "cell_type": "code",
   "execution_count": 16,
   "metadata": {},
   "outputs": [
    {
     "name": "stdout",
     "output_type": "stream",
     "text": [
      "--- 1130.0568232536316 seconds ---\n"
     ]
    }
   ],
   "source": [
    "print(\"--- %s seconds ---\" % (time.time() - start_time))"
   ]
  },
  {
   "cell_type": "code",
   "execution_count": null,
   "metadata": {},
   "outputs": [],
   "source": []
  },
  {
   "cell_type": "code",
   "execution_count": null,
   "metadata": {},
   "outputs": [],
   "source": []
  },
  {
   "cell_type": "code",
   "execution_count": null,
   "metadata": {},
   "outputs": [],
   "source": []
  }
 ],
 "metadata": {
  "kernelspec": {
   "display_name": "Python 3",
   "language": "python",
   "name": "python3"
  },
  "language_info": {
   "codemirror_mode": {
    "name": "ipython",
    "version": 3
   },
   "file_extension": ".py",
   "mimetype": "text/x-python",
   "name": "python",
   "nbconvert_exporter": "python",
   "pygments_lexer": "ipython3",
   "version": "3.7.5"
  }
 },
 "nbformat": 4,
 "nbformat_minor": 2
}
