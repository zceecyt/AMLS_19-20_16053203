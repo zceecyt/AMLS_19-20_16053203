{
 "cells": [
  {
   "cell_type": "code",
   "execution_count": 4,
   "metadata": {},
   "outputs": [
    {
     "name": "stderr",
     "output_type": "stream",
     "text": [
      "Using TensorFlow backend.\n"
     ]
    }
   ],
   "source": [
    "import time\n",
    "start_time = time.time()\n",
    "import os\n",
    "import numpy as np\n",
    "from keras import optimizers\n",
    "from keras.preprocessing import image\n",
    "from keras.layers import Dense, Conv2D, MaxPooling2D, BatchNormalization, GlobalAveragePooling2D\n",
    "from keras.layers import Activation, Dropout, Flatten, Dense\n",
    "from keras.models import Sequential\n",
    "from keras import backend as K\n",
    "from keras.optimizers import adam\n",
    "from keras import models\n",
    "import cv2\n",
    "import dlib\n",
    "import pandas as pd\n",
    "import matplotlib.pyplot as plt\n",
    "import sys\n",
    "import time \n",
    "import progressbar\n",
    "from tqdm.notebook import tqdm_notebook"
   ]
  },
  {
   "cell_type": "code",
   "execution_count": 5,
   "metadata": {},
   "outputs": [],
   "source": [
    "from sklearn import svm, datasets\n",
    "from sklearn.dummy import DummyClassifier\n",
    "from sklearn.svm import SVC\n",
    "from sklearn.utils import shuffle\n",
    "from sklearn.model_selection import train_test_split, GridSearchCV, learning_curve, ShuffleSplit\n",
    "from sklearn.metrics import classification_report, accuracy_score, confusion_matrix, recall_score, precision_score, f1_score"
   ]
  },
  {
   "cell_type": "code",
   "execution_count": 6,
   "metadata": {},
   "outputs": [],
   "source": [
    "from tensorflow.python.keras.applications.vgg16 import preprocess_input\n",
    "from tensorflow.python.keras.preprocessing.image import ImageDataGenerator\n",
    "from tensorflow.python.keras.callbacks import EarlyStopping, ModelCheckpoint"
   ]
  },
  {
   "cell_type": "code",
   "execution_count": 7,
   "metadata": {},
   "outputs": [
    {
     "data": {
      "text/html": [
       "<div>\n",
       "<style scoped>\n",
       "    .dataframe tbody tr th:only-of-type {\n",
       "        vertical-align: middle;\n",
       "    }\n",
       "\n",
       "    .dataframe tbody tr th {\n",
       "        vertical-align: top;\n",
       "    }\n",
       "\n",
       "    .dataframe thead th {\n",
       "        text-align: right;\n",
       "    }\n",
       "</style>\n",
       "<table border=\"1\" class=\"dataframe\">\n",
       "  <thead>\n",
       "    <tr style=\"text-align: right;\">\n",
       "      <th></th>\n",
       "      <th>face_shape</th>\n",
       "      <th>file_name</th>\n",
       "    </tr>\n",
       "  </thead>\n",
       "  <tbody>\n",
       "    <tr>\n",
       "      <th>0</th>\n",
       "      <td>4</td>\n",
       "      <td>0.png</td>\n",
       "    </tr>\n",
       "    <tr>\n",
       "      <th>1</th>\n",
       "      <td>4</td>\n",
       "      <td>1.png</td>\n",
       "    </tr>\n",
       "    <tr>\n",
       "      <th>2</th>\n",
       "      <td>3</td>\n",
       "      <td>2.png</td>\n",
       "    </tr>\n",
       "    <tr>\n",
       "      <th>3</th>\n",
       "      <td>0</td>\n",
       "      <td>3.png</td>\n",
       "    </tr>\n",
       "    <tr>\n",
       "      <th>4</th>\n",
       "      <td>2</td>\n",
       "      <td>4.png</td>\n",
       "    </tr>\n",
       "    <tr>\n",
       "      <th>...</th>\n",
       "      <td>...</td>\n",
       "      <td>...</td>\n",
       "    </tr>\n",
       "    <tr>\n",
       "      <th>9995</th>\n",
       "      <td>2</td>\n",
       "      <td>9995.png</td>\n",
       "    </tr>\n",
       "    <tr>\n",
       "      <th>9996</th>\n",
       "      <td>3</td>\n",
       "      <td>9996.png</td>\n",
       "    </tr>\n",
       "    <tr>\n",
       "      <th>9997</th>\n",
       "      <td>2</td>\n",
       "      <td>9997.png</td>\n",
       "    </tr>\n",
       "    <tr>\n",
       "      <th>9998</th>\n",
       "      <td>2</td>\n",
       "      <td>9998.png</td>\n",
       "    </tr>\n",
       "    <tr>\n",
       "      <th>9999</th>\n",
       "      <td>2</td>\n",
       "      <td>9999.png</td>\n",
       "    </tr>\n",
       "  </tbody>\n",
       "</table>\n",
       "<p>10000 rows × 2 columns</p>\n",
       "</div>"
      ],
      "text/plain": [
       "     face_shape file_name\n",
       "0             4     0.png\n",
       "1             4     1.png\n",
       "2             3     2.png\n",
       "3             0     3.png\n",
       "4             2     4.png\n",
       "...         ...       ...\n",
       "9995          2  9995.png\n",
       "9996          3  9996.png\n",
       "9997          2  9997.png\n",
       "9998          2  9998.png\n",
       "9999          2  9999.png\n",
       "\n",
       "[10000 rows x 2 columns]"
      ]
     },
     "execution_count": 7,
     "metadata": {},
     "output_type": "execute_result"
    }
   ],
   "source": [
    "df = pd.read_csv('../../Dataset_original_AMLS_19-20/cartoon_set/labels.csv', sep = '\\t')\n",
    "df = df.drop(columns = [df.columns[0]]).drop(columns = [df.columns[1]])\n",
    "df['face_shape'] = df['face_shape'].apply(str)\n",
    "df"
   ]
  },
  {
   "cell_type": "code",
   "execution_count": 8,
   "metadata": {},
   "outputs": [
    {
     "name": "stdout",
     "output_type": "stream",
     "text": [
      "     face_shape file_name\n",
      "4244          1  4244.png\n",
      "8067          3  8067.png\n",
      "6566          1  6566.png\n",
      "3010          3  3010.png\n",
      "3811          1  3811.png\n",
      "...         ...       ...\n",
      "5138          1  5138.png\n",
      "7894          0  7894.png\n",
      "459           4   459.png\n",
      "3883          1  3883.png\n",
      "3761          4  3761.png\n",
      "\n",
      "[6000 rows x 2 columns]      face_shape file_name\n",
      "1691          4  1691.png\n",
      "1616          4  1616.png\n",
      "7680          0  7680.png\n",
      "2316          3  2316.png\n",
      "1718          4  1718.png\n",
      "...         ...       ...\n",
      "9787          2  9787.png\n",
      "4808          0  4808.png\n",
      "293           4   293.png\n",
      "1357          0  1357.png\n",
      "2539          4  2539.png\n",
      "\n",
      "[2000 rows x 2 columns]      face_shape file_name\n",
      "4575          3  4575.png\n",
      "7343          4  7343.png\n",
      "9932          2  9932.png\n",
      "4305          3  4305.png\n",
      "1444          3  1444.png\n",
      "...         ...       ...\n",
      "8071          2  8071.png\n",
      "531           1   531.png\n",
      "8813          1  8813.png\n",
      "8496          3  8496.png\n",
      "7043          4  7043.png\n",
      "\n",
      "[2000 rows x 2 columns]\n"
     ]
    }
   ],
   "source": [
    "img = ('../../Dataset_original_AMLS_19-20/cartoon_set/img')\n",
    "# training, testing = train_test_split(df, random_state=0)\n",
    "training, validating, testing = np.split(df.sample(frac=1), [int(.6*len(df)), int(.8*len(df))]) #splitting at n-array\n",
    "print(training, validating, testing)"
   ]
  },
  {
   "cell_type": "code",
   "execution_count": 9,
   "metadata": {},
   "outputs": [
    {
     "name": "stdout",
     "output_type": "stream",
     "text": [
      "Training Dataset Preparation: \n",
      "Found 6000 validated image filenames belonging to 5 classes.\n",
      "\n",
      "Validation Dataset Preparation: \n",
      "Found 2000 validated image filenames belonging to 5 classes.\n"
     ]
    }
   ],
   "source": [
    "# set up data generator\n",
    "data_generator = ImageDataGenerator(\n",
    "    rescale = 1./255.,\n",
    "#     validation_split = 0.25,\n",
    "    horizontal_flip=True,\n",
    "    vertical_flip=True   \n",
    ")\n",
    "\n",
    "# # get batches of training images from the df\n",
    "# train_generator = data_generator.flow_from_dataframe(\n",
    "#         dataframe=train_set,\n",
    "#         x_col=\"file_name\",\n",
    "#         y_col=\"face_shape\",\n",
    "#         target_size=(178, 218),\n",
    "#         batch_size=12,\n",
    "#         class_mode='categorical')\n",
    "\n",
    "# validate_generator = data_generator.flow_from_dataframe(\n",
    "#         dataframe=train_set,\n",
    "#         x_col=\"file_name\",\n",
    "#         y_col=\"face_shape\",\n",
    "#         target_size=(178, 218),\n",
    "#         batch_size=12,\n",
    "#         class_mode='categorical')\n",
    "\n",
    "# Get batches of training dataset from the dataframe\n",
    "print(\"Training Dataset Preparation: \")\n",
    "train_generator = data_generator.flow_from_dataframe(\n",
    "        dataframe = training, directory = img ,\n",
    "        x_col = \"file_name\", y_col = \"face_shape\",\n",
    "        class_mode = 'categorical', target_size = (30,30),\n",
    "        batch_size = 32, subset = 'training') \n",
    "   \n",
    "# Get batches of validation dataset from the dataframe\n",
    "print(\"\\nValidation Dataset Preparation: \")\n",
    "validation_generator = data_generator.flow_from_dataframe(\n",
    "        dataframe = validating, directory = img ,\n",
    "        x_col = \"file_name\", y_col = \"face_shape\",\n",
    "        class_mode = 'categorical', target_size = (30,30),\n",
    "        batch_size = 32, subset = 'training')"
   ]
  },
  {
   "cell_type": "code",
   "execution_count": 10,
   "metadata": {},
   "outputs": [
    {
     "name": "stdout",
     "output_type": "stream",
     "text": [
      "Model: \"sequential_1\"\n",
      "_________________________________________________________________\n",
      "Layer (type)                 Output Shape              Param #   \n",
      "=================================================================\n",
      "conv2d_1 (Conv2D)            (None, 30, 30, 16)        448       \n",
      "_________________________________________________________________\n",
      "max_pooling2d_1 (MaxPooling2 (None, 15, 15, 16)        0         \n",
      "_________________________________________________________________\n",
      "conv2d_2 (Conv2D)            (None, 15, 15, 32)        4640      \n",
      "_________________________________________________________________\n",
      "max_pooling2d_2 (MaxPooling2 (None, 8, 8, 32)          0         \n",
      "_________________________________________________________________\n",
      "conv2d_3 (Conv2D)            (None, 8, 8, 64)          18496     \n",
      "_________________________________________________________________\n",
      "max_pooling2d_3 (MaxPooling2 (None, 4, 4, 64)          0         \n",
      "_________________________________________________________________\n",
      "conv2d_4 (Conv2D)            (None, 4, 4, 128)         73856     \n",
      "_________________________________________________________________\n",
      "max_pooling2d_4 (MaxPooling2 (None, 2, 2, 128)         0         \n",
      "_________________________________________________________________\n",
      "flatten_1 (Flatten)          (None, 512)               0         \n",
      "_________________________________________________________________\n",
      "dense_1 (Dense)              (None, 5)                 2565      \n",
      "=================================================================\n",
      "Total params: 100,005\n",
      "Trainable params: 100,005\n",
      "Non-trainable params: 0\n",
      "_________________________________________________________________\n"
     ]
    }
   ],
   "source": [
    "# starting point \n",
    "my_model= models.Sequential()\n",
    "\n",
    "# Add first convolutional block\n",
    "my_model.add(Conv2D(16, (3, 3), activation='relu', padding='same', \n",
    "                    input_shape=(30,30,3))) #height, width, depth\n",
    "my_model.add(MaxPooling2D((2, 2), padding='same'))\n",
    "# second block\n",
    "my_model.add(Conv2D(32, (3, 3), activation='relu', padding='same')) #Convolution: filters, kernel_size that specifies the height and width of the 2D convolution window, p padding layers so dimensions of input = output\n",
    "my_model.add(MaxPooling2D((2, 2), padding='same'))\n",
    "# third block\n",
    "my_model.add(Conv2D(64, (3, 3), activation='relu', padding='same'))\n",
    "my_model.add(MaxPooling2D((2, 2), padding='same'))\n",
    "# fourth block\n",
    "my_model.add(Conv2D(128, (3, 3), activation='relu', padding='same'))\n",
    "my_model.add(MaxPooling2D((2, 2), padding='same'))\n",
    "# global average pooling\n",
    "#my_model.add(GlobalAveragePooling2D())\n",
    "# fully connected layer\n",
    "#my_model.add(Dense(64, activation='relu'))\n",
    "#my_model.add(BatchNormalization())\n",
    "# make predictions\n",
    "my_model.add(Flatten())\n",
    "my_model.add(Dense(5, activation='softmax'))\n",
    "# Show a summary of the model. Check the number of trainable parameters\n",
    "my_model.summary()"
   ]
  },
  {
   "cell_type": "code",
   "execution_count": 11,
   "metadata": {},
   "outputs": [],
   "source": [
    "# # use early stopping to optimally terminate training through callbacks\n",
    "\n",
    "# es=EarlyStopping(monitor='val_loss', mode='min', verbose=1, patience=5)\n",
    "\n",
    "# # save best model automatically\n",
    "# mc= ModelCheckpoint('/../../dataset/cartoon_set', monitor='val_loss', \n",
    "#                     mode='min', verbose=1, save_best_only=True)\n",
    "# cb_list=[es,mc]\n",
    "\n",
    "\n",
    "# compile model \n",
    "my_model.compile(optimizer='adam', loss='categorical_crossentropy', \n",
    "                 metrics=['accuracy'])\n"
   ]
  },
  {
   "cell_type": "code",
   "execution_count": 12,
   "metadata": {},
   "outputs": [
    {
     "name": "stdout",
     "output_type": "stream",
     "text": [
      "Epoch 1/25\n",
      "187/187 [==============================] - 197s 1s/step - loss: 1.4974 - accuracy: 0.2818 - val_loss: 1.3021 - val_accuracy: 0.4037\n",
      "Epoch 2/25\n",
      "187/187 [==============================] - 98s 524ms/step - loss: 1.1380 - accuracy: 0.4430 - val_loss: 1.2559 - val_accuracy: 0.4400\n",
      "Epoch 3/25\n",
      "187/187 [==============================] - 128s 682ms/step - loss: 0.9661 - accuracy: 0.5558 - val_loss: 0.8504 - val_accuracy: 0.5346\n",
      "Epoch 4/25\n",
      "187/187 [==============================] - 127s 677ms/step - loss: 0.7679 - accuracy: 0.6674 - val_loss: 0.5051 - val_accuracy: 0.6956\n",
      "Epoch 5/25\n",
      "187/187 [==============================] - 127s 679ms/step - loss: 0.5784 - accuracy: 0.7612 - val_loss: 0.5582 - val_accuracy: 0.7713\n",
      "Epoch 6/25\n",
      "187/187 [==============================] - 128s 685ms/step - loss: 0.4346 - accuracy: 0.8301 - val_loss: 0.3916 - val_accuracy: 0.8359\n",
      "Epoch 7/25\n",
      "187/187 [==============================] - 126s 675ms/step - loss: 0.3687 - accuracy: 0.8532 - val_loss: 0.7919 - val_accuracy: 0.8521\n",
      "Epoch 8/25\n",
      "187/187 [==============================] - 92s 494ms/step - loss: 0.3288 - accuracy: 0.8732 - val_loss: 0.2629 - val_accuracy: 0.8831\n",
      "Epoch 9/25\n",
      "187/187 [==============================] - 76s 406ms/step - loss: 0.2861 - accuracy: 0.8882 - val_loss: 0.4534 - val_accuracy: 0.8887\n",
      "Epoch 10/25\n",
      "187/187 [==============================] - 99s 529ms/step - loss: 0.2592 - accuracy: 0.8966 - val_loss: 0.3364 - val_accuracy: 0.8872\n",
      "Epoch 11/25\n",
      "187/187 [==============================] - 93s 496ms/step - loss: 0.2402 - accuracy: 0.9069 - val_loss: 0.1667 - val_accuracy: 0.9075\n",
      "Epoch 12/25\n",
      "187/187 [==============================] - 73s 389ms/step - loss: 0.2183 - accuracy: 0.9178 - val_loss: 0.2873 - val_accuracy: 0.9075\n",
      "Epoch 13/25\n",
      "187/187 [==============================] - 74s 396ms/step - loss: 0.1956 - accuracy: 0.9244 - val_loss: 0.1331 - val_accuracy: 0.8892\n",
      "Epoch 14/25\n",
      "187/187 [==============================] - 72s 385ms/step - loss: 0.1912 - accuracy: 0.9268 - val_loss: 0.2160 - val_accuracy: 0.9075\n",
      "Epoch 15/25\n",
      "187/187 [==============================] - 71s 380ms/step - loss: 0.1770 - accuracy: 0.9333 - val_loss: 0.1247 - val_accuracy: 0.9299\n",
      "Epoch 16/25\n",
      "187/187 [==============================] - 72s 384ms/step - loss: 0.1591 - accuracy: 0.9390 - val_loss: 0.0821 - val_accuracy: 0.9268\n",
      "Epoch 17/25\n",
      "187/187 [==============================] - 70s 376ms/step - loss: 0.1678 - accuracy: 0.9373 - val_loss: 0.1143 - val_accuracy: 0.9243\n",
      "Epoch 18/25\n",
      "187/187 [==============================] - 70s 375ms/step - loss: 0.1552 - accuracy: 0.9414 - val_loss: 0.0450 - val_accuracy: 0.9334\n",
      "Epoch 19/25\n",
      "187/187 [==============================] - 70s 373ms/step - loss: 0.1576 - accuracy: 0.9407 - val_loss: 0.2657 - val_accuracy: 0.9339\n",
      "Epoch 20/25\n",
      "187/187 [==============================] - 74s 398ms/step - loss: 0.1414 - accuracy: 0.9472 - val_loss: 0.0288 - val_accuracy: 0.9345\n",
      "Epoch 21/25\n",
      "187/187 [==============================] - 71s 381ms/step - loss: 0.1394 - accuracy: 0.9452 - val_loss: 0.1651 - val_accuracy: 0.9294\n",
      "Epoch 22/25\n",
      "187/187 [==============================] - 72s 385ms/step - loss: 0.1209 - accuracy: 0.9552 - val_loss: 0.3038 - val_accuracy: 0.9339\n",
      "Epoch 23/25\n",
      "187/187 [==============================] - 72s 383ms/step - loss: 0.1138 - accuracy: 0.9570 - val_loss: 0.1606 - val_accuracy: 0.9319\n",
      "Epoch 24/25\n",
      "187/187 [==============================] - 70s 375ms/step - loss: 0.1101 - accuracy: 0.9591 - val_loss: 0.0736 - val_accuracy: 0.9350\n",
      "Epoch 25/25\n",
      "187/187 [==============================] - 72s 383ms/step - loss: 0.1097 - accuracy: 0.9600 - val_loss: 0.2045 - val_accuracy: 0.9355\n"
     ]
    }
   ],
   "source": [
    "batch_size = 32\n",
    "history = my_model.fit_generator(\n",
    "                                train_generator,\n",
    "                                epochs=25,\n",
    "                                steps_per_epoch=train_generator.samples // batch_size,\n",
    "                                validation_data=validation_generator,\n",
    "                                validation_steps=validation_generator.samples // batch_size\n",
    "                                )"
   ]
  },
  {
   "cell_type": "code",
   "execution_count": 13,
   "metadata": {},
   "outputs": [
    {
     "data": {
      "image/png": "[encoded data removed]",
      "text/plain": [
       "<Figure size 1296x216 with 2 Axes>"
      ]
     },
     "metadata": {
      "needs_background": "light"
     },
     "output_type": "display_data"
    }
   ],
   "source": [
    "plt.figure(figsize=(18, 3))\n",
    "\n",
    "plt.subplot(131)\n",
    "plt.plot(history.history['accuracy'])\n",
    "plt.plot(history.history['val_accuracy'])\n",
    "plt.ylim([.5,1.1])\n",
    "plt.ylabel('Accuracy')\n",
    "plt.xlabel('Epoch')\n",
    "plt.legend(['Train', 'Validation'], loc='upper left')\n",
    "\n",
    "plt.subplot(132)\n",
    "plt.plot(history.history['val_loss'])\n",
    "plt.ylim([0,1.5])\n",
    "plt.ylabel('Loss')\n",
    "plt.xlabel('Epoch')\n",
    "\n",
    "plt.savefig(\"Custom_Keras_ODSC.png\", dpi=300)"
   ]
  },
  {
   "cell_type": "code",
   "execution_count": 14,
   "metadata": {},
   "outputs": [],
   "source": [
    "from keras.models import load_model\n",
    "\n",
    "modelFile = 'my_CNN.h5'\n",
    "\n",
    "# model_path = os.path.abspath(os.curdir)\n",
    "# file_path = os.path.join(model_path, modelFile)\n",
    "my_model.save(modelFile)"
   ]
  },
  {
   "cell_type": "code",
   "execution_count": 15,
   "metadata": {},
   "outputs": [
    {
     "data": {
      "text/plain": [
       "'C:\\\\Users\\\\User\\\\Desktop\\\\4th_year_AMLS\\\\zceecyt-AMLSassignment19_20-16053203\\\\notebook\\\\B1'"
      ]
     },
     "execution_count": 15,
     "metadata": {},
     "output_type": "execute_result"
    }
   ],
   "source": [
    "os.getcwd()"
   ]
  },
  {
   "cell_type": "code",
   "execution_count": null,
   "metadata": {},
   "outputs": [],
   "source": [
    "df2 = pd.read_csv('../../Dataset_test_AMLS_19-20/cartoon_set_test/labels.csv', sep = '\\t')\n",
    "df2 = df.drop(columns = [df.columns[0]]).drop(columns = [df.columns[2]])\n",
    "df2['eye_color'] = df2['eye_color'].apply(str)\n",
    "df2"
   ]
  },
  {
   "cell_type": "code",
   "execution_count": null,
   "metadata": {},
   "outputs": [],
   "source": [
    "img = ('../../Dataset_test_AMLS_19-20/cartoon_set_test/img')"
   ]
  },
  {
   "cell_type": "code",
   "execution_count": 16,
   "metadata": {},
   "outputs": [
    {
     "name": "stdout",
     "output_type": "stream",
     "text": [
      "Found 2000 validated image filenames belonging to 5 classes.\n",
      "2000\n"
     ]
    }
   ],
   "source": [
    "# saved_model = load_model(modelFile)\n",
    "# test_generator = data_generator.flow_from_dataframe(\n",
    "#         dataframe = testing, directory = img,\n",
    "#         x_col = \"file_name\", y_col = \"face_shape\",\n",
    "#         batch_size=1,\n",
    "#         class_mode='categorical', target_size=(30, 30),\n",
    "#         shuffle=False)\n",
    "# test_steps = test_generator.samples\n",
    "# print(test_steps)\n",
    "\n",
    "saved_model = load_model(modelFile)\n",
    "test_generator = data_generator.flow_from_dataframe(\n",
    "        dataframe = df2, directory = img,\n",
    "        x_col = \"file_name\", y_col = \"eye_color\",\n",
    "        batch_size=1,\n",
    "        class_mode='categorical', target_size=(30, 30),\n",
    "        shuffle=False)\n",
    "test_steps = test_generator.samples\n",
    "print(test_steps)"
   ]
  },
  {
   "cell_type": "code",
   "execution_count": 17,
   "metadata": {},
   "outputs": [
    {
     "name": "stdout",
     "output_type": "stream",
     "text": [
      "2000/2000 [==============================] - 23s 12ms/step\n"
     ]
    }
   ],
   "source": [
    "test_generator.reset()\n",
    "pred=saved_model.predict_generator(test_generator, verbose=1, steps=test_steps)\n",
    "# determine the maximum activation value for each sample\n",
    "predicted_class_indices=np.argmax(pred,axis=1)\n",
    "# print(predicted_class_indices)\n",
    "# label each predicted value to correct gender\n",
    "labels = (test_generator.class_indices)\n",
    "labels = dict((v,k) for k,v in labels.items())\n",
    "predictions = [labels[k] for k in predicted_class_indices]\n",
    "\n",
    "# # format file names to simply male or female\n",
    "# filenames=test_generator.filenames\n",
    "# filenz=[0]\n",
    "# for i in range(0,len(filenames)):\n",
    "#     filenz.append(filenames[i].split('\\\\')[0])\n",
    "# filenz=filenz[1:]\n",
    "\n",
    "# # determine the test set accuracy\n",
    "# match=[]\n",
    "# for i in range(0,len(filenames)):\n",
    "#     match.append(filenz[i]==predictions[i])\n",
    "# match.count(True)/1000\n",
    "\n"
   ]
  },
  {
   "cell_type": "code",
   "execution_count": 18,
   "metadata": {},
   "outputs": [],
   "source": [
    "import sklearn.metrics as metrics"
   ]
  },
  {
   "cell_type": "code",
   "execution_count": 19,
   "metadata": {},
   "outputs": [
    {
     "name": "stdout",
     "output_type": "stream",
     "text": [
      "Classification report\n",
      "[[330  54   3   6   5]\n",
      " [  8 399   4  12   5]\n",
      " [  0   0 380   1   0]\n",
      " [  0  13   2 376   6]\n",
      " [  1   5   3   7 380]]\n",
      "Confusion Matrix\n"
     ]
    },
    {
     "data": {
      "image/png": "[encoded data removed]",
      "text/plain": [
       "<Figure size 288x288 with 2 Axes>"
      ]
     },
     "metadata": {
      "needs_background": "light"
     },
     "output_type": "display_data"
    }
   ],
   "source": [
    "#confusion matrix and classification report\n",
    "\n",
    "#Y_pred = my_model.predict_generator(test_generator, test_generator.samples // batch_size+1)\n",
    "#y_pred = np.argmax(Y_pred, axis=1)\n",
    "\n",
    "\n",
    "#target_names = ['0','1','2','3','4']\n",
    "#print(classification_report(test_generator.classes, y_pred, target_names=target_names))\n",
    "\n",
    "cm = confusion_matrix(test_generator.classes,predicted_class_indices)\n",
    "\n",
    "print(cm)\n",
    "plt.matshow(cm)\n",
    "plt.colorbar()\n",
    "plt.ylabel('True label')\n",
    "plt.xlabel('Predicted label')\n",
    "print('Confusion Matrix')\n",
    "plt.show()\n",
    "print('Classification report')"
   ]
  },
  {
   "cell_type": "code",
   "execution_count": 20,
   "metadata": {},
   "outputs": [
    {
     "name": "stdout",
     "output_type": "stream",
     "text": [
      "--- 2344.4470040798187 seconds ---\n"
     ]
    }
   ],
   "source": [
    "print(\"--- %s seconds ---\" % (time.time() - start_time))"
   ]
  },
  {
   "cell_type": "code",
   "execution_count": null,
   "metadata": {},
   "outputs": [],
   "source": []
  }
 ],
 "metadata": {
  "kernelspec": {
   "display_name": "Python 3",
   "language": "python",
   "name": "python3"
  },
  "language_info": {
   "codemirror_mode": {
    "name": "ipython",
    "version": 3
   },
   "file_extension": ".py",
   "mimetype": "text/x-python",
   "name": "python",
   "nbconvert_exporter": "python",
   "pygments_lexer": "ipython3",
   "version": "3.7.5"
  }
 },
 "nbformat": 4,
 "nbformat_minor": 2
}
