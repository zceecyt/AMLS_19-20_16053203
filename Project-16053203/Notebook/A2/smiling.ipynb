{
 "cells": [
  {
   "cell_type": "code",
   "execution_count": 2,
   "metadata": {},
   "outputs": [
    {
     "name": "stderr",
     "output_type": "stream",
     "text": [
      "Using TensorFlow backend.\n"
     ]
    }
   ],
   "source": [
    "import time\n",
    "start_time = time.time()\n",
    "import progressbar\n",
    "import os\n",
    "import numpy as np\n",
    "from keras.preprocessing import image\n",
    "import cv2\n",
    "import dlib\n",
    "import pandas as pd\n",
    "import matplotlib.pyplot as plt\n",
    "import sys"
   ]
  },
  {
   "cell_type": "code",
   "execution_count": 3,
   "metadata": {},
   "outputs": [],
   "source": [
    "from keras.preprocessing import image\n",
    "from sklearn import svm, datasets\n",
    "from sklearn.dummy import DummyClassifier\n",
    "from sklearn.svm import SVC\n",
    "from sklearn.utils import shuffle\n",
    "from sklearn.model_selection import train_test_split, GridSearchCV, learning_curve, ShuffleSplit\n",
    "from sklearn.metrics import classification_report, accuracy_score, confusion_matrix, recall_score, precision_score, f1_score\n",
    "import matplotlib.pyplot as plt"
   ]
  },
  {
   "cell_type": "code",
   "execution_count": 4,
   "metadata": {},
   "outputs": [
    {
     "name": "stdout",
     "output_type": "stream",
     "text": [
      "C:\\Users\\User\\Desktop\\4th_year_AMLS\\zceecyt-AMLSassignment19_20-16053203\\Project-16053203\\Notebook\\A2\n"
     ]
    }
   ],
   "source": [
    "cwd = os.getcwd()\n",
    "\n",
    "print(cwd)"
   ]
  },
  {
   "cell_type": "code",
   "execution_count": 4,
   "metadata": {},
   "outputs": [],
   "source": [
    "import landmarks_v2 as l2"
   ]
  },
  {
   "cell_type": "code",
   "execution_count": 5,
   "metadata": {},
   "outputs": [],
   "source": [
    "def get_data():\n",
    "    return l2.extract_features_labels()\n",
    "    \n",
    "def split_data(X, Y):\n",
    "\n",
    "    X, Y = shuffle(X,Y)\n",
    "    tr_X, te_X, tr_Y, te_Y = train_test_split(X, Y, train_size=0.7)\n",
    "    \n",
    "    return tr_X, tr_Y, te_X, te_Y"
   ]
  },
  {
   "cell_type": "code",
   "execution_count": 6,
   "metadata": {},
   "outputs": [
    {
     "name": "stdout",
     "output_type": "stream",
     "text": [
      "(4798, 68, 2)\n",
      "(4798,)\n"
     ]
    }
   ],
   "source": [
    "X,y = get_data()\n",
    "\n",
    "print(X.shape)\n",
    "print(y.shape)"
   ]
  },
  {
   "cell_type": "code",
   "execution_count": 7,
   "metadata": {},
   "outputs": [
    {
     "name": "stdout",
     "output_type": "stream",
     "text": [
      "C:\\Users\\User\\Desktop\\4th_year_AMLS\\zceecyt-AMLSassignment19_20-16053203\\notebook\\A2\n"
     ]
    }
   ],
   "source": [
    "print (os.path.abspath(os.curdir))\n",
    "# sklearn functions implementation\n",
    "def img_SVM(training_images, training_labels, test_images, test_labels):\n",
    "    #classifier = ...\n",
    "    classifier = SVC(kernel = 'rbf')\n",
    "    classifier.fit(training_images, training_labels)\n",
    "    pred = classifier.predict(test_images)\n",
    "    print(\"Accuracy:\", accuracy_score(test_labels, pred))\n",
    "\n",
    "    print(pred)\n",
    "    return pred"
   ]
  },
  {
   "cell_type": "code",
   "execution_count": 8,
   "metadata": {},
   "outputs": [],
   "source": [
    "Y = np.array([y, -(y - 1)]).T\n",
    "\n",
    "tr_X, tr_Y, te_X, te_Y = split_data(X, Y)"
   ]
  },
  {
   "cell_type": "code",
   "execution_count": 9,
   "metadata": {},
   "outputs": [
    {
     "name": "stdout",
     "output_type": "stream",
     "text": [
      "[[[ 33 108]\n",
      "  [ 33 121]\n",
      "  [ 34 135]\n",
      "  ...\n",
      "  [ 99 155]\n",
      "  [ 95 156]\n",
      "  [ 90 156]]\n",
      "\n",
      " [[ 49 113]\n",
      "  [ 50 124]\n",
      "  [ 52 135]\n",
      "  ...\n",
      "  [ 92 156]\n",
      "  [ 88 156]\n",
      "  [ 84 155]]\n",
      "\n",
      " [[ 44 122]\n",
      "  [ 45 133]\n",
      "  [ 46 143]\n",
      "  ...\n",
      "  [ 93 157]\n",
      "  [ 88 158]\n",
      "  [ 82 157]]\n",
      "\n",
      " ...\n",
      "\n",
      " [[ 48 109]\n",
      "  [ 48 121]\n",
      "  [ 49 133]\n",
      "  ...\n",
      "  [ 91 163]\n",
      "  [ 85 163]\n",
      "  [ 79 162]]\n",
      "\n",
      " [[ 66 126]\n",
      "  [ 64 134]\n",
      "  [ 64 143]\n",
      "  ...\n",
      "  [ 82 151]\n",
      "  [ 79 152]\n",
      "  [ 76 153]]\n",
      "\n",
      " [[ 46 106]\n",
      "  [ 47 117]\n",
      "  [ 49 129]\n",
      "  ...\n",
      "  [ 94 160]\n",
      "  [ 90 161]\n",
      "  [ 86 160]]]\n",
      "(3358, 68, 2)\n",
      "[[ 1. -0.]\n",
      " [ 0.  1.]\n",
      " [ 1. -0.]\n",
      " ...\n",
      " [ 1. -0.]\n",
      " [ 0.  1.]\n",
      " [ 0.  1.]]\n",
      "(3358, 2)\n"
     ]
    }
   ],
   "source": [
    "print(tr_X)\n",
    "print(tr_X.shape)\n",
    "print(tr_Y)\n",
    "print(tr_Y.shape)"
   ]
  },
  {
   "cell_type": "code",
   "execution_count": 10,
   "metadata": {},
   "outputs": [],
   "source": [
    "def reshapeX(X):\n",
    "    return X.reshape((X.shape[0], X.shape[1] * X.shape[2]))\n",
    "\n",
    "def reshapeY(y):\n",
    "    return list(zip(*y))[0]\n",
    "\n",
    "tr_X = reshapeX(tr_X)\n",
    "te_X = reshapeX(te_X)\n",
    "tr_Y = reshapeY(tr_Y)\n",
    "te_Y = reshapeY(te_Y)"
   ]
  },
  {
   "cell_type": "code",
   "execution_count": 11,
   "metadata": {},
   "outputs": [
    {
     "name": "stdout",
     "output_type": "stream",
     "text": [
      "(3358, 136)\n"
     ]
    }
   ],
   "source": [
    "print(tr_X.shape)"
   ]
  },
  {
   "cell_type": "code",
   "execution_count": 12,
   "metadata": {},
   "outputs": [
    {
     "name": "stdout",
     "output_type": "stream",
     "text": [
      "0.1 Linear: 0.8972222222222223\n",
      "0.1 scale Rbf: 0.8673611111111111\n",
      "0.1 1 Poly 0.8402777777777778\n",
      "0.1 Linear: 0.8972222222222223\n",
      "0.1 scale Rbf: 0.8673611111111111\n",
      "0.1 2 Poly 0.8895833333333333\n",
      "0.1 Linear: 0.8972222222222223\n",
      "0.1 scale Rbf: 0.8673611111111111\n",
      "0.1 3 Poly 0.9020833333333333\n",
      "0.1 Linear: 0.8972222222222223\n",
      "0.1 scale Rbf: 0.8673611111111111\n",
      "0.1 4 Poly 0.9125\n",
      "1 Linear: 0.9020833333333333\n",
      "1 scale Rbf: 0.8895833333333333\n",
      "1 1 Poly 0.8833333333333333\n",
      "1 Linear: 0.9020833333333333\n",
      "1 scale Rbf: 0.8895833333333333\n",
      "1 2 Poly 0.9027777777777778\n",
      "1 Linear: 0.9020833333333333\n",
      "1 scale Rbf: 0.8895833333333333\n",
      "1 3 Poly 0.9083333333333333\n",
      "1 Linear: 0.9020833333333333\n",
      "1 scale Rbf: 0.8895833333333333\n",
      "1 4 Poly 0.9069444444444444\n"
     ]
    }
   ],
   "source": [
    "gamma='scale'\n",
    "\n",
    "for C in [0.1,1]:\n",
    "    for degree in [1, 2, 3, 4]:\n",
    "                \n",
    "        lin_svc = svm.SVC(kernel='linear', C=C).fit(tr_X, tr_Y)\n",
    "        print(C, \"Linear:\", lin_svc.score(te_X, te_Y))\n",
    "\n",
    "        rbf_svc = svm.SVC(kernel='rbf', gamma=gamma, C=C).fit(tr_X, tr_Y)\n",
    "        print( C, gamma, \"Rbf:\", rbf_svc.score(te_X, te_Y))\n",
    "\n",
    "        poly_svc = svm.SVC(kernel='poly', degree=degree, C=C).fit(tr_X, tr_Y)\n",
    "        print( C, degree, \"Poly\", poly_svc.score(te_X, te_Y))"
   ]
  },
  {
   "cell_type": "code",
   "execution_count": 13,
   "metadata": {},
   "outputs": [],
   "source": [
    "from sklearn.model_selection import GridSearchCV, RandomizedSearchCV\n",
    "from sklearn import preprocessing\n",
    "from sklearn.calibration import CalibratedClassifierCV\n",
    "from sklearn.ensemble import RandomForestClassifier\n",
    "from sklearn.svm import SVC as svc\n",
    "from sklearn.metrics import make_scorer, roc_auc_score\n",
    "from scipy import stats"
   ]
  },
  {
   "cell_type": "code",
   "execution_count": 14,
   "metadata": {},
   "outputs": [],
   "source": [
    "# svc_list = []\n",
    "\n",
    "# lin_svc = svm.SVC(kernel='linear', C=C).fit(tr_X, tr_Y)\n",
    "# # print(C, \"Linear:\", lin_svc.score(te_X, te_Y))\n",
    "\n",
    "# rbf_svc = svm.SVC(kernel='rbf', gamma=gamma, C=C).fit(tr_X, tr_Y)\n",
    "# # print( C, gamma, \"Rbf:\", rbf_svc.score(te_X, te_Y))\n",
    "\n",
    "# poly_svc = svm.SVC(kernel='poly', degree=degree, C=C).fit(tr_X, tr_Y)\n",
    "# # print( C, degree, \"Poly\", poly_svc.score(te_X, te_Y))\n",
    "\n",
    "# svc_list.append({\n",
    "#     'lin_svc': lin_svc,\n",
    "#     'rbf_svc': rbf_svc,\n",
    "#     'poly_svc': poly_svc,\n",
    "#     'C': C,\n",
    "#     'gamma': gamma,\n",
    "#     'degree': degree\n",
    "# })\n",
    "\n",
    "# #define model and performance measure\n",
    "# svc_list=svc(probability=True, random_state=1)\n",
    "# auc=make_scorer(roc_auc_score)\n",
    "\n",
    "# #random search for 20 combinations of parameters\n",
    "# rand_list = {\"C\":stats.uniform(2,10),\n",
    "#             \"gamma\":stats.uniform(0.1,1),\n",
    "#             \"degree\":stats.uniform(1,3)}\n",
    "\n",
    "# rand_search = RandomizedSearchCV(svc_list, param_distributions = rand_list, n_iter=20, n_jobs=4, cv=3, random_state=2017, scoring=auc)\n",
    "# rand_search.fit(tr_X, tr_Y)\n",
    "# rand_search.cv_results_\n",
    "\n",
    "# print(rand_search.best_params_)"
   ]
  },
  {
   "cell_type": "code",
   "execution_count": 15,
   "metadata": {},
   "outputs": [
    {
     "name": "stdout",
     "output_type": "stream",
     "text": [
      "Fitting 5 folds for each of 10 candidates, totalling 50 fits\n"
     ]
    },
    {
     "name": "stderr",
     "output_type": "stream",
     "text": [
      "[Parallel(n_jobs=-1)]: Using backend LokyBackend with 8 concurrent workers.\n",
      "[Parallel(n_jobs=-1)]: Done  16 tasks      | elapsed: 17.3min\n",
      "[Parallel(n_jobs=-1)]: Done  50 out of  50 | elapsed: 46.9min finished\n"
     ]
    },
    {
     "name": "stdout",
     "output_type": "stream",
     "text": [
      "{'mean_fit_time': array([ 42.91926489, 737.97912703, 685.93947287, 262.22873516,\n",
      "       203.42207403,  37.35268455, 625.33821993, 541.87052813,\n",
      "       312.89266891, 625.63087006]), 'std_fit_time': array([ 11.40856464, 277.7666276 , 164.18586207,  77.30958087,\n",
      "        68.55545748,   6.60879914, 112.46830846,  94.94964013,\n",
      "        88.65721334,  97.50270852]), 'mean_score_time': array([0.20187254, 0.19832482, 0.14431911, 0.16386805, 0.27487073,\n",
      "       0.29990501, 0.10651526, 0.25223007, 0.19359078, 0.12238135]), 'std_score_time': array([0.09616742, 0.11358911, 0.07896465, 0.10699953, 0.09091716,\n",
      "       0.00317621, 0.00239343, 0.12367388, 0.09752175, 0.03161022]), 'param_C': masked_array(data=[0.9958755471160129, 9.914217998766032, 9.0376901796375,\n",
      "                   3.8436559515995596, 2.3614704258722887,\n",
      "                   0.372080926590984, 7.044253896999564,\n",
      "                   7.765480183592043, 3.971130516145276,\n",
      "                   8.786473750031512],\n",
      "             mask=[False, False, False, False, False, False, False, False,\n",
      "                   False, False],\n",
      "       fill_value='?',\n",
      "            dtype=object), 'param_kernel': masked_array(data=['linear', 'linear', 'linear', 'linear', 'linear',\n",
      "                   'linear', 'linear', 'linear', 'linear', 'linear'],\n",
      "             mask=[False, False, False, False, False, False, False, False,\n",
      "                   False, False],\n",
      "       fill_value='?',\n",
      "            dtype=object), 'params': [{'C': 0.9958755471160129, 'kernel': 'linear'}, {'C': 9.914217998766032, 'kernel': 'linear'}, {'C': 9.0376901796375, 'kernel': 'linear'}, {'C': 3.8436559515995596, 'kernel': 'linear'}, {'C': 2.3614704258722887, 'kernel': 'linear'}, {'C': 0.372080926590984, 'kernel': 'linear'}, {'C': 7.044253896999564, 'kernel': 'linear'}, {'C': 7.765480183592043, 'kernel': 'linear'}, {'C': 3.971130516145276, 'kernel': 'linear'}, {'C': 8.786473750031512, 'kernel': 'linear'}], 'split0_test_score': array([0.88244048, 0.88392857, 0.88392857, 0.88392857, 0.88392857,\n",
      "       0.8764881 , 0.88392857, 0.88392857, 0.88392857, 0.88392857]), 'split1_test_score': array([0.86011905, 0.86011905, 0.86160714, 0.86011905, 0.86011905,\n",
      "       0.86160714, 0.86011905, 0.86011905, 0.86160714, 0.85863095]), 'split2_test_score': array([0.88541667, 0.88392857, 0.88392857, 0.88392857, 0.88541667,\n",
      "       0.88392857, 0.88392857, 0.88392857, 0.88392857, 0.88392857]), 'split3_test_score': array([0.88077496, 0.88375559, 0.88375559, 0.88375559, 0.88375559,\n",
      "       0.88226528, 0.88375559, 0.88375559, 0.88375559, 0.88375559]), 'split4_test_score': array([0.8852459 , 0.88375559, 0.8852459 , 0.8852459 , 0.8852459 ,\n",
      "       0.8852459 , 0.88375559, 0.88375559, 0.8852459 , 0.8852459 ]), 'mean_test_score': array([0.87879941, 0.87909747, 0.87969316, 0.87939554, 0.87969316,\n",
      "       0.877907  , 0.87909747, 0.87909747, 0.87969316, 0.87909792]), 'std_test_score': array([0.00950223, 0.00948953, 0.00905889, 0.00965315, 0.00980999,\n",
      "       0.00868115, 0.00948953, 0.00948953, 0.00905889, 0.01024752]), 'rank_test_score': array([ 9,  6,  1,  4,  1, 10,  6,  6,  1,  5])}\n",
      "Fitting 5 folds for each of 10 candidates, totalling 50 fits\n"
     ]
    },
    {
     "name": "stderr",
     "output_type": "stream",
     "text": [
      "[Parallel(n_jobs=-1)]: Using backend LokyBackend with 8 concurrent workers.\n",
      "[Parallel(n_jobs=-1)]: Done  16 tasks      | elapsed:   13.8s\n",
      "[Parallel(n_jobs=-1)]: Done  50 out of  50 | elapsed:   32.9s finished\n"
     ]
    },
    {
     "name": "stdout",
     "output_type": "stream",
     "text": [
      "{'mean_fit_time': array([4.75270343, 2.42247787, 5.19056125, 4.92962174, 2.82521381,\n",
      "       5.10977397, 5.19851923, 1.6783627 , 5.13378477, 4.10705628]), 'std_fit_time': array([0.44611151, 0.10077426, 0.25775394, 0.05748311, 0.05814028,\n",
      "       0.11784931, 0.12435331, 0.03955335, 0.10265244, 0.98273667]), 'mean_score_time': array([0.86588964, 0.3467896 , 0.78939996, 0.66736984, 0.36016121,\n",
      "       0.8992805 , 0.91028118, 0.14481058, 0.84959741, 0.44695845]), 'std_score_time': array([0.11226649, 0.15110743, 0.02156679, 0.0188481 , 0.01932299,\n",
      "       0.02388372, 0.01752418, 0.01670488, 0.04197222, 0.18491343]), 'param_C': masked_array(data=[5.345617696996783, 1.8092832675306747,\n",
      "                   1.075338359149286, 2.234173364734581,\n",
      "                   6.686551409895902, 6.64669576726262, 8.56290028889556,\n",
      "                   4.357762650523244, 2.2438052846303127,\n",
      "                   4.921213041114374],\n",
      "             mask=[False, False, False, False, False, False, False, False,\n",
      "                   False, False],\n",
      "       fill_value='?',\n",
      "            dtype=object), 'param_gamma': masked_array(data=[0.00578680856252589, 0.0016348609214538311,\n",
      "                   0.005534035135673677, 0.004145213264377575,\n",
      "                   0.001957435207766952, 0.007902912914311467,\n",
      "                   0.009619795579015464, 0.00034445749612624913,\n",
      "                   0.007550656434673432, 0.010008379417911177],\n",
      "             mask=[False, False, False, False, False, False, False, False,\n",
      "                   False, False],\n",
      "       fill_value='?',\n",
      "            dtype=object), 'param_kernel': masked_array(data=['rbf', 'rbf', 'rbf', 'rbf', 'rbf', 'rbf', 'rbf', 'rbf',\n",
      "                   'rbf', 'rbf'],\n",
      "             mask=[False, False, False, False, False, False, False, False,\n",
      "                   False, False],\n",
      "       fill_value='?',\n",
      "            dtype=object), 'params': [{'C': 5.345617696996783, 'gamma': 0.00578680856252589, 'kernel': 'rbf'}, {'C': 1.8092832675306747, 'gamma': 0.0016348609214538311, 'kernel': 'rbf'}, {'C': 1.075338359149286, 'gamma': 0.005534035135673677, 'kernel': 'rbf'}, {'C': 2.234173364734581, 'gamma': 0.004145213264377575, 'kernel': 'rbf'}, {'C': 6.686551409895902, 'gamma': 0.001957435207766952, 'kernel': 'rbf'}, {'C': 6.64669576726262, 'gamma': 0.007902912914311467, 'kernel': 'rbf'}, {'C': 8.56290028889556, 'gamma': 0.009619795579015464, 'kernel': 'rbf'}, {'C': 4.357762650523244, 'gamma': 0.00034445749612624913, 'kernel': 'rbf'}, {'C': 2.2438052846303127, 'gamma': 0.007550656434673432, 'kernel': 'rbf'}, {'C': 4.921213041114374, 'gamma': 0.010008379417911177, 'kernel': 'rbf'}], 'split0_test_score': array([0.8452381 , 0.87202381, 0.84821429, 0.85565476, 0.85863095,\n",
      "       0.85565476, 0.8110119 , 0.88690476, 0.84672619, 0.79910714]), 'split1_test_score': array([0.83630952, 0.88392857, 0.84077381, 0.84970238, 0.86904762,\n",
      "       0.83928571, 0.8125    , 0.88988095, 0.83630952, 0.79910714]), 'split2_test_score': array([0.84672619, 0.875     , 0.85714286, 0.86011905, 0.85863095,\n",
      "       0.85267857, 0.82291667, 0.88392857, 0.84970238, 0.80654762]), 'split3_test_score': array([0.85991058, 0.89120715, 0.86736215, 0.87481371, 0.88375559,\n",
      "       0.85692996, 0.82414307, 0.88971684, 0.85394933, 0.80923994]), 'split4_test_score': array([0.83606557, 0.87779434, 0.8509687 , 0.84798808, 0.87481371,\n",
      "       0.84500745, 0.81669151, 0.90909091, 0.84202683, 0.80178838]), 'mean_test_score': array([0.84484999, 0.87999077, 0.85289236, 0.8576556 , 0.86897576,\n",
      "       0.84991129, 0.81745263, 0.89190441, 0.84574285, 0.80315804]), 'std_test_score': array([0.00872465, 0.00684862, 0.00894299, 0.00960403, 0.00965982,\n",
      "       0.00673584, 0.00531429, 0.00886415, 0.00611208, 0.00407858]), 'rank_test_score': array([ 8,  2,  5,  4,  3,  6,  9,  1,  7, 10])}\n",
      "Fitting 5 folds for each of 10 candidates, totalling 50 fits\n"
     ]
    },
    {
     "name": "stderr",
     "output_type": "stream",
     "text": [
      "[Parallel(n_jobs=-1)]: Using backend LokyBackend with 8 concurrent workers.\n",
      "[Parallel(n_jobs=-1)]: Done  16 tasks      | elapsed:   14.8s\n",
      "[Parallel(n_jobs=-1)]: Done  50 out of  50 | elapsed:   25.2s finished\n"
     ]
    },
    {
     "name": "stdout",
     "output_type": "stream",
     "text": [
      "{'mean_fit_time': array([ 1.63393679,  1.95334921,  2.85323224, 11.88351812,  9.77775564,\n",
      "        2.03310275,  1.44752998,  1.38667388,  1.74322705,  1.90697732]), 'std_fit_time': array([0.10595167, 0.05718781, 0.17509013, 1.31379524, 2.20990326,\n",
      "       0.20851671, 0.07704749, 0.05274913, 0.17073837, 0.36107492]), 'mean_score_time': array([0.13086648, 0.13622155, 0.32930908, 0.11240497, 0.12008996,\n",
      "       0.26840224, 0.1560966 , 0.15149808, 0.19878707, 0.09395595]), 'std_score_time': array([0.01446515, 0.0208615 , 0.04634823, 0.00810375, 0.00467236,\n",
      "       0.01524968, 0.01548837, 0.00569391, 0.02901616, 0.01549347]), 'param_C': masked_array(data=[1.7198673855516111, 3.895461810144812,\n",
      "                   2.87697350226675, 8.557189222188875, 7.958495398381214,\n",
      "                   2.716272461263961, 1.9311737200203738,\n",
      "                   1.140063233033951, 0.8442957398871408,\n",
      "                   7.9453772035682375],\n",
      "             mask=[False, False, False, False, False, False, False, False,\n",
      "                   False, False],\n",
      "       fill_value='?',\n",
      "            dtype=object), 'param_degree': masked_array(data=[3.730122149018057, 3.877109398775748,\n",
      "                   1.230589049133349, 4.786679349236273,\n",
      "                   4.027102189921043, 1.9387241326026112,\n",
      "                   2.1477901455369874, 2.731027749316673,\n",
      "                   2.7844395794308205, 3.0160075162401103],\n",
      "             mask=[False, False, False, False, False, False, False, False,\n",
      "                   False, False],\n",
      "       fill_value='?',\n",
      "            dtype=object), 'param_kernel': masked_array(data=['poly', 'poly', 'poly', 'poly', 'poly', 'poly', 'poly',\n",
      "                   'poly', 'poly', 'poly'],\n",
      "             mask=[False, False, False, False, False, False, False, False,\n",
      "                   False, False],\n",
      "       fill_value='?',\n",
      "            dtype=object), 'params': [{'C': 1.7198673855516111, 'degree': 3.730122149018057, 'kernel': 'poly'}, {'C': 3.895461810144812, 'degree': 3.877109398775748, 'kernel': 'poly'}, {'C': 2.87697350226675, 'degree': 1.230589049133349, 'kernel': 'poly'}, {'C': 8.557189222188875, 'degree': 4.786679349236273, 'kernel': 'poly'}, {'C': 7.958495398381214, 'degree': 4.027102189921043, 'kernel': 'poly'}, {'C': 2.716272461263961, 'degree': 1.9387241326026112, 'kernel': 'poly'}, {'C': 1.9311737200203738, 'degree': 2.1477901455369874, 'kernel': 'poly'}, {'C': 1.140063233033951, 'degree': 2.731027749316673, 'kernel': 'poly'}, {'C': 0.8442957398871408, 'degree': 2.7844395794308205, 'kernel': 'poly'}, {'C': 7.9453772035682375, 'degree': 3.0160075162401103, 'kernel': 'poly'}], 'split0_test_score': array([0.88095238, 0.88095238, 0.86755952, 0.88541667, 0.88988095,\n",
      "       0.86607143, 0.88095238, 0.87946429, 0.88095238, 0.88244048]), 'split1_test_score': array([0.8764881 , 0.87202381, 0.87053571, 0.8764881 , 0.875     ,\n",
      "       0.86904762, 0.88988095, 0.88839286, 0.88839286, 0.87797619]), 'split2_test_score': array([0.88988095, 0.88839286, 0.8735119 , 0.88839286, 0.88392857,\n",
      "       0.87202381, 0.87797619, 0.8764881 , 0.8735119 , 0.89136905]), 'split3_test_score': array([0.90014903, 0.89418778, 0.87779434, 0.87779434, 0.87928465,\n",
      "       0.87779434, 0.89418778, 0.89269747, 0.89120715, 0.89120715]), 'split4_test_score': array([0.89716841, 0.89865872, 0.88822653, 0.89418778, 0.89716841,\n",
      "       0.88822653, 0.90014903, 0.90014903, 0.89716841, 0.89716841]), 'mean_test_score': array([0.88892777, 0.88684311, 0.8755256 , 0.88445595, 0.88505252,\n",
      "       0.87463274, 0.88862927, 0.88743835, 0.88624654, 0.88803225]), 'std_test_score': array([0.0090894 , 0.00948965, 0.00719546, 0.00661807, 0.00781912,\n",
      "       0.0078241 , 0.00821695, 0.00864436, 0.00823044, 0.00688587]), 'rank_test_score': array([ 1,  5,  9,  8,  7, 10,  2,  4,  6,  3])}\n",
      "Optimum hyperparameters for linear kernel: \n",
      "{'C': 9.0376901796375, 'kernel': 'linear'}\n",
      "Optimum hyperparameters for rbf kernel: \n",
      "{'C': 4.357762650523244, 'gamma': 0.00034445749612624913, 'kernel': 'rbf'}\n",
      "Optimum hyperparameters for polynomial kernel: \n",
      "{'C': 1.7198673855516111, 'degree': 3.730122149018057, 'kernel': 'poly'}\n"
     ]
    },
    {
     "ename": "NameError",
     "evalue": "name 'cv_results_' is not defined",
     "output_type": "error",
     "traceback": [
      "\u001b[1;31m---------------------------------------------------------------------------\u001b[0m",
      "\u001b[1;31mNameError\u001b[0m                                 Traceback (most recent call last)",
      "\u001b[1;32m<ipython-input-15-2e6424554d33>\u001b[0m in \u001b[0;36m<module>\u001b[1;34m\u001b[0m\n\u001b[0;32m     36\u001b[0m \u001b[0mprint\u001b[0m\u001b[1;33m(\u001b[0m\u001b[1;34m'Optimum hyperparameters for polynomial kernel: '\u001b[0m\u001b[1;33m)\u001b[0m\u001b[1;33m\u001b[0m\u001b[1;33m\u001b[0m\u001b[0m\n\u001b[0;32m     37\u001b[0m \u001b[0mprint\u001b[0m\u001b[1;33m(\u001b[0m\u001b[0mpolySVC_param\u001b[0m\u001b[1;33m)\u001b[0m\u001b[1;33m\u001b[0m\u001b[1;33m\u001b[0m\u001b[0m\n\u001b[1;32m---> 38\u001b[1;33m \u001b[0mprint\u001b[0m\u001b[1;33m(\u001b[0m\u001b[0mcv_results_\u001b[0m\u001b[1;33m)\u001b[0m\u001b[1;33m\u001b[0m\u001b[1;33m\u001b[0m\u001b[0m\n\u001b[0m",
      "\u001b[1;31mNameError\u001b[0m: name 'cv_results_' is not defined"
     ]
    }
   ],
   "source": [
    "from scipy import stats\n",
    "from sklearn.model_selection import RandomizedSearchCV\n",
    "from sklearn.metrics import make_scorer, roc_auc_score\n",
    "\n",
    "lin = {'C': stats.uniform(0.1, 10), 'kernel': ['linear']}\n",
    "\n",
    "rbf = {'C': stats.uniform(0.1, 10), 'gamma': stats.uniform(0.0001, 0.01), 'kernel': ['rbf']}\n",
    "\n",
    "poly = {'C': stats.uniform(0.1, 10), 'degree': stats.uniform(1, 4), 'kernel': ['poly']}\n",
    "\n",
    "def randomSearch(X, y, param_kernel):\n",
    "    param_distributions = param_kernel #a dictionary with parameters names (string) as keys of parameters to try\n",
    "    #number of jobs = -1 is using all processors \n",
    "    #n_iter trades off runtime with quality of solution\n",
    "    #cv is at default value for 5-fold cross validation\n",
    "    #verbose gives out messages; refit is to refit an estimator to find the best parameters\n",
    "    #random_state is a pseudo random number generator used for random uniform sampling from list of possible values instead of using scipy.stats distributions\n",
    "    searchrand = RandomizedSearchCV(SVC(), param_distributions, n_iter=10, n_jobs=-1, refit=True, verbose=3)\n",
    "    searchrand.fit(X, y)\n",
    "    searchrand.cv_results_\n",
    "    \n",
    "    print(searchrand.cv_results_)\n",
    "    return searchrand.best_params_, searchrand.best_estimator_  \n",
    "\n",
    "# Obtaining optimum hyperparameters and classifier for different kernel\n",
    "linSVC_param, lin_SVC = randomSearch(tr_X, tr_Y, lin)\n",
    "rbfSVC_param, rbf_SVC = randomSearch(tr_X, tr_Y, rbf)\n",
    "polySVC_param, poly_SVC = randomSearch(tr_X, tr_Y, poly)\n",
    "#print(datetime.now() - start)\n",
    "\n",
    "# Display optimum hyperparameters for SVC kernel\n",
    "print('Optimum hyperparameters for linear kernel: ')\n",
    "print(linSVC_param)\n",
    "print('Optimum hyperparameters for rbf kernel: ')\n",
    "print(rbfSVC_param)\n",
    "print('Optimum hyperparameters for polynomial kernel: ')\n",
    "print(polySVC_param)"
   ]
  },
  {
   "cell_type": "code",
   "execution_count": 16,
   "metadata": {},
   "outputs": [
    {
     "name": "stdout",
     "output_type": "stream",
     "text": [
      "0.8993055555555556\n",
      "0.9020833333333333\n",
      "0.9125\n"
     ]
    }
   ],
   "source": [
    "print(lin_SVC.score(te_X, te_Y))\n",
    "print(rbf_SVC.score(te_X, te_Y))\n",
    "print(poly_SVC.score(te_X, te_Y))"
   ]
  },
  {
   "cell_type": "code",
   "execution_count": 17,
   "metadata": {},
   "outputs": [],
   "source": [
    "import landmarks_v2_test as l1 "
   ]
  },
  {
   "cell_type": "code",
   "execution_count": 18,
   "metadata": {},
   "outputs": [],
   "source": [
    "def get_data():\n",
    "    return l1.extract_features_labels()"
   ]
  },
  {
   "cell_type": "code",
   "execution_count": 19,
   "metadata": {},
   "outputs": [
    {
     "name": "stdout",
     "output_type": "stream",
     "text": [
      "(970, 68, 2)\n",
      "(970,)\n"
     ]
    }
   ],
   "source": [
    "A,b = get_data()\n",
    "\n",
    "print(A.shape)\n",
    "print(b.shape)"
   ]
  },
  {
   "cell_type": "code",
   "execution_count": 20,
   "metadata": {},
   "outputs": [],
   "source": [
    "B = np.array([b, -(b - 1)]).T\n",
    "def reshapeX(A):\n",
    "    return A.reshape((A.shape[0], A.shape[1] * A.shape[2]))\n",
    "\n",
    "def reshapeY(b):\n",
    "    return list(zip(*b))[0]\n",
    "\n",
    "te_A = reshapeX(A)\n",
    "te_B = reshapeY(B)"
   ]
  },
  {
   "cell_type": "code",
   "execution_count": 88,
   "metadata": {},
   "outputs": [
    {
     "name": "stdout",
     "output_type": "stream",
     "text": [
      "[[419  54]\n",
      " [ 55 442]]\n",
      "\n",
      "Confusion Matrix\n"
     ]
    },
    {
     "data": {
      "image/png": "[encoded data removed]",
      "text/plain": [
       "<Figure size 288x288 with 2 Axes>"
      ]
     },
     "metadata": {
      "needs_background": "light"
     },
     "output_type": "display_data"
    },
    {
     "name": "stdout",
     "output_type": "stream",
     "text": [
      "[[0.43195876 0.0556701 ]\n",
      " [0.05670103 0.4556701 ]]\n",
      "\n",
      "Confusion Matrix(normalised)\n"
     ]
    },
    {
     "data": {
      "image/png": "[encoded data removed]",
      "text/plain": [
       "<Figure size 288x288 with 2 Axes>"
      ]
     },
     "metadata": {
      "needs_background": "light"
     },
     "output_type": "display_data"
    },
    {
     "name": "stdout",
     "output_type": "stream",
     "text": [
      "              precision    recall  f1-score   support\n",
      "\n",
      "         0.0       0.88      0.89      0.88       473\n",
      "         1.0       0.89      0.89      0.89       497\n",
      "\n",
      "    accuracy                           0.89       970\n",
      "   macro avg       0.89      0.89      0.89       970\n",
      "weighted avg       0.89      0.89      0.89       970\n",
      "\n",
      "Accuracy achieved: 0.8876288659793814 ♡♡♡\n"
     ]
    }
   ],
   "source": [
    "# op_lin_results = optimised_lin.predict(te_X)\n",
    "op_lin_results = lin_SVC.predict(te_A)\n",
    "\n",
    "# cm = confusion_matrix(te_Y, op_lin_results)\n",
    "cm = confusion_matrix(te_B, op_lin_results)\n",
    "print(cm)\n",
    "plt.matshow(cm)\n",
    "plt.colorbar()\n",
    "plt.ylabel('True label')\n",
    "plt.xlabel('Predicted label')\n",
    "print('\\nConfusion Matrix')\n",
    "plt.show()\n",
    "\n",
    "# cm2 = confusion_matrix(te_Y, op_lin_results, normalize='all')\n",
    "cm2 = confusion_matrix(te_B, op_lin_results, normalize='all')\n",
    "print(cm2)\n",
    "plt.matshow(cm2)\n",
    "plt.colorbar()\n",
    "plt.ylabel('True label')\n",
    "plt.xlabel('Predicted label')\n",
    "print('\\nConfusion Matrix(normalised)')\n",
    "plt.show()\n",
    "\n",
    "print(classification_report(te_B, op_lin_results))\n",
    "print('Accuracy achieved:', accuracy_score(te_B, op_lin_results), '\\u2661''\\u2661''\\u2661')"
   ]
  },
  {
   "cell_type": "code",
   "execution_count": 87,
   "metadata": {},
   "outputs": [
    {
     "name": "stdout",
     "output_type": "stream",
     "text": [
      "[[422  51]\n",
      " [ 54 443]]\n",
      "\n",
      "Confusion Matrix\n"
     ]
    },
    {
     "data": {
      "image/png": "[encoded data removed]",
      "text/plain": [
       "<Figure size 288x288 with 2 Axes>"
      ]
     },
     "metadata": {
      "needs_background": "light"
     },
     "output_type": "display_data"
    },
    {
     "name": "stdout",
     "output_type": "stream",
     "text": [
      "[[0.43505155 0.05257732]\n",
      " [0.0556701  0.45670103]]\n",
      "\n",
      "Confusion Matrix(normalised)\n"
     ]
    },
    {
     "data": {
      "image/png": "[encoded data removed]",
      "text/plain": [
       "<Figure size 288x288 with 2 Axes>"
      ]
     },
     "metadata": {
      "needs_background": "light"
     },
     "output_type": "display_data"
    },
    {
     "name": "stdout",
     "output_type": "stream",
     "text": [
      "              precision    recall  f1-score   support\n",
      "\n",
      "         0.0       0.89      0.89      0.89       473\n",
      "         1.0       0.90      0.89      0.89       497\n",
      "\n",
      "    accuracy                           0.89       970\n",
      "   macro avg       0.89      0.89      0.89       970\n",
      "weighted avg       0.89      0.89      0.89       970\n",
      "\n",
      "Accuracy achieved: 0.8917525773195877 ♡♡♡\n"
     ]
    }
   ],
   "source": [
    "# optimised_rbf = svm.SVC(kernel = 'rbf', gamma = rbfSVC_param['gamma'], C = rbfSVC_param['C'])\n",
    "# optimised_rbf.fit(tr_X, tr_Y)\n",
    "# op_rbf_results = optimised_rbf.predict(te_X)\n",
    "op_rbf_results = rbf_SVC.predict(te_A)\n",
    "\n",
    "# cm = confusion_matrix(te_Y, op_rbf_results)\n",
    "cm = confusion_matrix(te_B, op_rbf_results)\n",
    "print(cm)\n",
    "plt.matshow(cm)\n",
    "plt.colorbar()\n",
    "plt.ylabel('True label')\n",
    "plt.xlabel('Predicted label')\n",
    "print('\\nConfusion Matrix')\n",
    "plt.show()\n",
    "\n",
    "# cm2 = confusion_matrix(te_Y, op_rbf_results, normalize='all')\n",
    "cm2 = confusion_matrix(te_B, op_rbf_results, normalize='all')\n",
    "print(cm2)\n",
    "plt.matshow(cm2)\n",
    "plt.colorbar()\n",
    "plt.ylabel('True label')\n",
    "plt.xlabel('Predicted label')\n",
    "print('\\nConfusion Matrix(normalised)')\n",
    "plt.show()\n",
    "\n",
    "print(classification_report(te_B, op_rbf_results))\n",
    "print('Accuracy achieved:', accuracy_score(te_B, op_rbf_results), '\\u2661''\\u2661''\\u2661')"
   ]
  },
  {
   "cell_type": "code",
   "execution_count": 86,
   "metadata": {},
   "outputs": [
    {
     "name": "stdout",
     "output_type": "stream",
     "text": [
      "[[425  48]\n",
      " [ 44 453]]\n",
      "\n",
      "Confusion Matrix\n"
     ]
    },
    {
     "data": {
      "image/png": "[encoded data removed]",
      "text/plain": [
       "<Figure size 288x288 with 2 Axes>"
      ]
     },
     "metadata": {
      "needs_background": "light"
     },
     "output_type": "display_data"
    },
    {
     "name": "stdout",
     "output_type": "stream",
     "text": [
      "[[0.43814433 0.04948454]\n",
      " [0.04536082 0.46701031]]\n",
      "\n",
      "Confusion Matrix(normalised)\n"
     ]
    },
    {
     "data": {
      "image/png": "[encoded data removed]",
      "text/plain": [
       "<Figure size 288x288 with 2 Axes>"
      ]
     },
     "metadata": {
      "needs_background": "light"
     },
     "output_type": "display_data"
    },
    {
     "name": "stdout",
     "output_type": "stream",
     "text": [
      "              precision    recall  f1-score   support\n",
      "\n",
      "         0.0       0.91      0.90      0.90       473\n",
      "         1.0       0.90      0.91      0.91       497\n",
      "\n",
      "    accuracy                           0.91       970\n",
      "   macro avg       0.91      0.90      0.91       970\n",
      "weighted avg       0.91      0.91      0.91       970\n",
      "\n",
      "Accuracy achieved: 0.9051546391752577 ♡♡♡\n"
     ]
    }
   ],
   "source": [
    "# optimised_poly = svm.SVC(kernel = 'poly', degree = polySVC_param['degree'], C = polySVC_param['C'])\n",
    "# optimised_poly.fit(tr_X, tr_Y)\n",
    "# op_p_results = optimised_poly.predict(te_X)\n",
    "op_p_results = poly_SVC.predict(te_A)\n",
    "\n",
    "# cm = confusion_matrix(te_Y, op_p_results)\n",
    "cm = confusion_matrix(te_B, op_p_results)\n",
    "print(cm)\n",
    "plt.matshow(cm)\n",
    "plt.colorbar()\n",
    "plt.ylabel('True label')\n",
    "plt.xlabel('Predicted label')\n",
    "print('\\nConfusion Matrix')\n",
    "plt.show()\n",
    "\n",
    "# cm2 = confusion_matrix(te_Y, op_p_results, normalize='all')\n",
    "cm2 = confusion_matrix(te_B, op_p_results, normalize='all')\n",
    "print(cm2)\n",
    "plt.matshow(cm2)\n",
    "plt.colorbar()\n",
    "plt.ylabel('True label')\n",
    "plt.xlabel('Predicted label')\n",
    "print('\\nConfusion Matrix(normalised)')\n",
    "plt.show()\n",
    "\n",
    "print(classification_report(te_B, op_p_results))\n",
    "print('Accuracy achieved:', accuracy_score(te_B, op_p_results), '\\u2661''\\u2661''\\u2661')"
   ]
  },
  {
   "cell_type": "code",
   "execution_count": 41,
   "metadata": {},
   "outputs": [
    {
     "data": {
      "image/png": "[encoded data removed]",
      "text/plain": [
       "<Figure size 432x288 with 1 Axes>"
      ]
     },
     "metadata": {
      "needs_background": "light"
     },
     "output_type": "display_data"
    }
   ],
   "source": [
    "plt.scatter(te_B, op_p_results)\n",
    "plt.xlabel('True Values')\n",
    "plt.ylabel('Predictions')\n",
    "plt.grid()\n",
    "plt.show()"
   ]
  },
  {
   "cell_type": "code",
   "execution_count": 105,
   "metadata": {},
   "outputs": [
    {
     "name": "stdout",
     "output_type": "stream",
     "text": [
      "Automatically created module for IPython interactive environment\n"
     ]
    },
    {
     "data": {
      "image/png": "[encoded data removed]",
      "text/plain": [
       "<Figure size 648x1296 with 3 Axes>"
      ]
     },
     "metadata": {
      "needs_background": "light"
     },
     "output_type": "display_data"
    }
   ],
   "source": [
    "print(__doc__)\n",
    "\n",
    "from sklearn.model_selection import learning_curve\n",
    "from sklearn.model_selection import ShuffleSplit\n",
    "\n",
    "\n",
    "def plot_learning_curve(estimator, title, X, y, axes=None, ylim=None, cv=None,\n",
    "                        n_jobs=None, train_sizes=np.linspace(.1, 1.0, 5)):\n",
    "\n",
    "    axes.set_title(title)\n",
    "    if ylim is not None:\n",
    "        axes.set_ylim(*ylim)\n",
    "        axes.set_xlabel(\"Training examples\")\n",
    "        axes.set_ylabel(\"Score\")\n",
    "\n",
    "        train_sizes, train_scores, test_scores, fit_times, _ = \\\n",
    "            learning_curve(estimator, X, y, cv=cv, n_jobs=n_jobs,\n",
    "                           train_sizes=train_sizes,\n",
    "                           return_times=True)\n",
    "        train_scores_mean = np.mean(train_scores, axis=1)\n",
    "        train_scores_std = np.std(train_scores, axis=1)\n",
    "        test_scores_mean = np.mean(test_scores, axis=1)\n",
    "        test_scores_std = np.std(test_scores, axis=1)\n",
    "        fit_times_mean = np.mean(fit_times, axis=1)\n",
    "        fit_times_std = np.std(fit_times, axis=1)\n",
    "\n",
    "    # Plot learning curve\n",
    "        axes.grid()\n",
    "        axes.fill_between(train_sizes, train_scores_mean - train_scores_std,\n",
    "                             train_scores_mean + train_scores_std, alpha=0.1,\n",
    "                             color=\"r\")\n",
    "        axes.fill_between(train_sizes, test_scores_mean - test_scores_std,\n",
    "                             test_scores_mean + test_scores_std, alpha=0.1,\n",
    "                             color=\"g\")\n",
    "        axes.plot(train_sizes, train_scores_mean, 'o-', color=\"r\",\n",
    "                     label=\"Training score\")\n",
    "        axes.plot(train_sizes, test_scores_mean, 'o-', color=\"g\",\n",
    "                     label=\"Cross-validation score\")\n",
    "        axes.legend(loc=\"best\")\n",
    "\n",
    "    return plt\n",
    "\n",
    "plt.figure(figsize=(9,18))\n",
    "\n",
    "cv = ShuffleSplit(n_splits=20, test_size=0.2, random_state=0)\n",
    "\n",
    "\n",
    "# estimator = poly_SVC \n",
    "# plot_learning_curve(estimator, title, te_X, te_Y, axes=axes, ylim=(0.8, 1.01), cv=cv, n_jobs=-1)\n",
    "axes = plt.subplot(311)\n",
    "plot_learning_curve(lin_SVC, title, te_A, te_B, axes=axes, ylim=(0.8, 1.01), cv=cv, n_jobs=-1)\n",
    "title = r\"Learning Curves (linear)\"\n",
    "axes = plt.subplot(312)\n",
    "plot_learning_curve(rbf_SVC, title, te_A, te_B, axes=axes, ylim=(0.8, 1.01), cv=cv, n_jobs=-1)\n",
    "title = r\"Learning Curves (rbf)\"\n",
    "axes = plt.subplot(313)\n",
    "plot_learning_curve(poly_SVC, title, te_A, te_B, axes=axes, ylim=(0.8, 1.01), cv=cv, n_jobs=-1)\n",
    "title = r\"Learning Curves (poly)\"\n",
    "\n",
    "plt.show()"
   ]
  },
  {
   "cell_type": "code",
   "execution_count": 106,
   "metadata": {},
   "outputs": [
    {
     "name": "stdout",
     "output_type": "stream",
     "text": [
      "--- 55409.35808944702 seconds ---\n"
     ]
    }
   ],
   "source": [
    "print(\"--- %s seconds ---\" % (time.time() - start_time))"
   ]
  },
  {
   "cell_type": "code",
   "execution_count": null,
   "metadata": {},
   "outputs": [],
   "source": []
  }
 ],
 "metadata": {
  "kernelspec": {
   "display_name": "Python 3",
   "language": "python",
   "name": "python3"
  },
  "language_info": {
   "codemirror_mode": {
    "name": "ipython",
    "version": 3
   },
   "file_extension": ".py",
   "mimetype": "text/x-python",
   "name": "python",
   "nbconvert_exporter": "python",
   "pygments_lexer": "ipython3",
   "version": "3.7.5"
  }
 },
 "nbformat": 4,
 "nbformat_minor": 2
}
