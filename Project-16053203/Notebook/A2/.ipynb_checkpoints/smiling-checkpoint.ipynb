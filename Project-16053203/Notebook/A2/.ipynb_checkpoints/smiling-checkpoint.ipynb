{
 "cells": [
  {
   "cell_type": "code",
   "execution_count": 1,
   "metadata": {},
   "outputs": [
    {
     "name": "stderr",
     "output_type": "stream",
     "text": [
      "Using TensorFlow backend.\n"
     ]
    }
   ],
   "source": [
    "import time\n",
    "start_time = time.time()\n",
    "import progressbar\n",
    "import os\n",
    "import numpy as np\n",
    "from keras.preprocessing import image\n",
    "import cv2\n",
    "import dlib\n",
    "import pandas as pd\n",
    "import matplotlib.pyplot as plt\n",
    "import sys"
   ]
  },
  {
   "cell_type": "code",
   "execution_count": 2,
   "metadata": {},
   "outputs": [],
   "source": [
    "from keras.preprocessing import image\n",
    "from sklearn import svm, datasets\n",
    "from sklearn.dummy import DummyClassifier\n",
    "from sklearn.svm import SVC\n",
    "from sklearn.utils import shuffle\n",
    "from sklearn.model_selection import train_test_split, GridSearchCV, learning_curve, ShuffleSplit\n",
    "from sklearn.metrics import classification_report, accuracy_score, confusion_matrix, recall_score, precision_score, f1_score\n",
    "import matplotlib.pyplot as plt"
   ]
  },
  {
   "cell_type": "code",
   "execution_count": 3,
   "metadata": {},
   "outputs": [
    {
     "name": "stdout",
     "output_type": "stream",
     "text": [
      "C:\\Users\\User\\Desktop\\4th_year_AMLS\\zceecyt-AMLSassignment19_20-16053203\\Project-16053203\\Notebook\\A2\n"
     ]
    }
   ],
   "source": [
    "cwd = os.getcwd()\n",
    "\n",
    "print(cwd)"
   ]
  },
  {
   "cell_type": "code",
   "execution_count": 4,
   "metadata": {},
   "outputs": [],
   "source": [
    "import landmarks_v2 as l2"
   ]
  },
  {
   "cell_type": "code",
   "execution_count": 5,
   "metadata": {},
   "outputs": [],
   "source": [
    "def get_data():\n",
    "    return l2.extract_features_labels()\n",
    "    \n",
    "def split_data(X, Y):\n",
    "\n",
    "    X, Y = shuffle(X,Y)\n",
    "    tr_X, te_X, tr_Y, te_Y = train_test_split(X, Y, train_size=0.7)\n",
    "    \n",
    "    return tr_X, tr_Y, te_X, te_Y"
   ]
  },
  {
   "cell_type": "code",
   "execution_count": 6,
   "metadata": {},
   "outputs": [
    {
     "name": "stdout",
     "output_type": "stream",
     "text": [
      "(4798, 68, 2)\n",
      "(4798,)\n"
     ]
    }
   ],
   "source": [
    "X,y = get_data()\n",
    "\n",
    "print(X.shape)\n",
    "print(y.shape)"
   ]
  },
  {
   "cell_type": "code",
   "execution_count": 7,
   "metadata": {},
   "outputs": [
    {
     "name": "stdout",
     "output_type": "stream",
     "text": [
      "C:\\Users\\User\\Desktop\\4th_year_AMLS\\zceecyt-AMLSassignment19_20-16053203\\Project-16053203\\Notebook\\A2\n"
     ]
    }
   ],
   "source": [
    "print (os.path.abspath(os.curdir))\n",
    "# sklearn functions implementation\n",
    "def img_SVM(training_images, training_labels, test_images, test_labels):\n",
    "    #classifier = ...\n",
    "    classifier = SVC(kernel = 'rbf')\n",
    "    classifier.fit(training_images, training_labels)\n",
    "    pred = classifier.predict(test_images)\n",
    "    print(\"Accuracy:\", accuracy_score(test_labels, pred))\n",
    "\n",
    "    print(pred)\n",
    "    return pred"
   ]
  },
  {
   "cell_type": "code",
   "execution_count": 8,
   "metadata": {},
   "outputs": [],
   "source": [
    "Y = np.array([y, -(y - 1)]).T\n",
    "\n",
    "tr_X, tr_Y, te_X, te_Y = split_data(X, Y)"
   ]
  },
  {
   "cell_type": "code",
   "execution_count": 9,
   "metadata": {},
   "outputs": [
    {
     "name": "stdout",
     "output_type": "stream",
     "text": [
      "[[[ 53 102]\n",
      "  [ 53 114]\n",
      "  [ 54 127]\n",
      "  ...\n",
      "  [ 93 153]\n",
      "  [ 89 153]\n",
      "  [ 86 153]]\n",
      "\n",
      " [[ 54 111]\n",
      "  [ 53 122]\n",
      "  [ 53 132]\n",
      "  ...\n",
      "  [ 89 162]\n",
      "  [ 83 162]\n",
      "  [ 78 159]]\n",
      "\n",
      " [[ 38 109]\n",
      "  [ 39 121]\n",
      "  [ 39 134]\n",
      "  ...\n",
      "  [ 95 154]\n",
      "  [ 90 155]\n",
      "  [ 85 154]]\n",
      "\n",
      " ...\n",
      "\n",
      " [[ 50 112]\n",
      "  [ 50 124]\n",
      "  [ 53 136]\n",
      "  ...\n",
      "  [ 90 155]\n",
      "  [ 86 156]\n",
      "  [ 82 156]]\n",
      "\n",
      " [[ 42 109]\n",
      "  [ 42 121]\n",
      "  [ 43 133]\n",
      "  ...\n",
      "  [ 93 152]\n",
      "  [ 89 152]\n",
      "  [ 84 151]]\n",
      "\n",
      " [[ 36 112]\n",
      "  [ 37 125]\n",
      "  [ 39 138]\n",
      "  ...\n",
      "  [ 97 164]\n",
      "  [ 90 166]\n",
      "  [ 83 165]]]\n",
      "(3358, 68, 2)\n",
      "[[ 0.  1.]\n",
      " [ 1. -0.]\n",
      " [ 0.  1.]\n",
      " ...\n",
      " [ 0.  1.]\n",
      " [ 0.  1.]\n",
      " [ 1. -0.]]\n",
      "(3358, 2)\n"
     ]
    }
   ],
   "source": [
    "print(tr_X)\n",
    "print(tr_X.shape)\n",
    "print(tr_Y)\n",
    "print(tr_Y.shape)"
   ]
  },
  {
   "cell_type": "code",
   "execution_count": 10,
   "metadata": {},
   "outputs": [],
   "source": [
    "def reshapeX(X):\n",
    "    return X.reshape((X.shape[0], X.shape[1] * X.shape[2]))\n",
    "\n",
    "def reshapeY(y):\n",
    "    return list(zip(*y))[0]\n",
    "\n",
    "tr_X = reshapeX(tr_X)\n",
    "te_X = reshapeX(te_X)\n",
    "tr_Y = reshapeY(tr_Y)\n",
    "te_Y = reshapeY(te_Y)"
   ]
  },
  {
   "cell_type": "code",
   "execution_count": 11,
   "metadata": {},
   "outputs": [
    {
     "name": "stdout",
     "output_type": "stream",
     "text": [
      "(3358, 136)\n"
     ]
    }
   ],
   "source": [
    "print(tr_X.shape)"
   ]
  },
  {
   "cell_type": "code",
   "execution_count": 12,
   "metadata": {},
   "outputs": [
    {
     "name": "stdout",
     "output_type": "stream",
     "text": [
      "0.1 Linear: 0.8833333333333333\n",
      "0.1 scale Rbf: 0.8638888888888889\n",
      "0.1 1 Poly 0.8381944444444445\n",
      "0.1 Linear: 0.8833333333333333\n",
      "0.1 scale Rbf: 0.8638888888888889\n",
      "0.1 2 Poly 0.8819444444444444\n",
      "0.1 Linear: 0.8833333333333333\n",
      "0.1 scale Rbf: 0.8638888888888889\n",
      "0.1 3 Poly 0.8923611111111112\n",
      "0.1 Linear: 0.8833333333333333\n",
      "0.1 scale Rbf: 0.8638888888888889\n",
      "0.1 4 Poly 0.8895833333333333\n",
      "1 Linear: 0.88125\n",
      "1 scale Rbf: 0.8819444444444444\n",
      "1 1 Poly 0.8805555555555555\n",
      "1 Linear: 0.88125\n",
      "1 scale Rbf: 0.8819444444444444\n",
      "1 2 Poly 0.8909722222222223\n",
      "1 Linear: 0.88125\n",
      "1 scale Rbf: 0.8819444444444444\n",
      "1 3 Poly 0.8909722222222223\n",
      "1 Linear: 0.88125\n",
      "1 scale Rbf: 0.8819444444444444\n",
      "1 4 Poly 0.8805555555555555\n"
     ]
    }
   ],
   "source": [
    "gamma='scale'\n",
    "\n",
    "for C in [0.1,1]:\n",
    "    for degree in [1, 2, 3, 4]:\n",
    "                \n",
    "        lin_svc = svm.SVC(kernel='linear', C=C).fit(tr_X, tr_Y)\n",
    "        print(C, \"Linear:\", lin_svc.score(te_X, te_Y))\n",
    "\n",
    "        rbf_svc = svm.SVC(kernel='rbf', gamma=gamma, C=C).fit(tr_X, tr_Y)\n",
    "        print( C, gamma, \"Rbf:\", rbf_svc.score(te_X, te_Y))\n",
    "\n",
    "        poly_svc = svm.SVC(kernel='poly', degree=degree, C=C).fit(tr_X, tr_Y)\n",
    "        print( C, degree, \"Poly\", poly_svc.score(te_X, te_Y))"
   ]
  },
  {
   "cell_type": "code",
   "execution_count": 13,
   "metadata": {},
   "outputs": [],
   "source": [
    "from sklearn.model_selection import GridSearchCV, RandomizedSearchCV\n",
    "from sklearn import preprocessing\n",
    "from sklearn.calibration import CalibratedClassifierCV\n",
    "from sklearn.ensemble import RandomForestClassifier\n",
    "from sklearn.svm import SVC as svc\n",
    "from sklearn.metrics import make_scorer, roc_auc_score\n",
    "from scipy import stats"
   ]
  },
  {
   "cell_type": "code",
   "execution_count": 14,
   "metadata": {},
   "outputs": [],
   "source": [
    "# svc_list = []\n",
    "\n",
    "# lin_svc = svm.SVC(kernel='linear', C=C).fit(tr_X, tr_Y)\n",
    "# # print(C, \"Linear:\", lin_svc.score(te_X, te_Y))\n",
    "\n",
    "# rbf_svc = svm.SVC(kernel='rbf', gamma=gamma, C=C).fit(tr_X, tr_Y)\n",
    "# # print( C, gamma, \"Rbf:\", rbf_svc.score(te_X, te_Y))\n",
    "\n",
    "# poly_svc = svm.SVC(kernel='poly', degree=degree, C=C).fit(tr_X, tr_Y)\n",
    "# # print( C, degree, \"Poly\", poly_svc.score(te_X, te_Y))\n",
    "\n",
    "# svc_list.append({\n",
    "#     'lin_svc': lin_svc,\n",
    "#     'rbf_svc': rbf_svc,\n",
    "#     'poly_svc': poly_svc,\n",
    "#     'C': C,\n",
    "#     'gamma': gamma,\n",
    "#     'degree': degree\n",
    "# })\n",
    "\n",
    "# #define model and performance measure\n",
    "# svc_list=svc(probability=True, random_state=1)\n",
    "# auc=make_scorer(roc_auc_score)\n",
    "\n",
    "# #random search for 20 combinations of parameters\n",
    "# rand_list = {\"C\":stats.uniform(2,10),\n",
    "#             \"gamma\":stats.uniform(0.1,1),\n",
    "#             \"degree\":stats.uniform(1,3)}\n",
    "\n",
    "# rand_search = RandomizedSearchCV(svc_list, param_distributions = rand_list, n_iter=20, n_jobs=4, cv=3, random_state=2017, scoring=auc)\n",
    "# rand_search.fit(tr_X, tr_Y)\n",
    "# rand_search.cv_results_\n",
    "\n",
    "# print(rand_search.best_params_)"
   ]
  },
  {
   "cell_type": "code",
   "execution_count": 15,
   "metadata": {},
   "outputs": [
    {
     "name": "stdout",
     "output_type": "stream",
     "text": [
      "Fitting 5 folds for each of 10 candidates, totalling 50 fits\n"
     ]
    },
    {
     "name": "stderr",
     "output_type": "stream",
     "text": [
      "[Parallel(n_jobs=-1)]: Using backend LokyBackend with 8 concurrent workers.\n",
      "[Parallel(n_jobs=-1)]: Done  16 tasks      | elapsed:  7.9min\n",
      "[Parallel(n_jobs=-1)]: Done  50 out of  50 | elapsed: 28.5min finished\n"
     ]
    },
    {
     "name": "stdout",
     "output_type": "stream",
     "text": [
      "{'mean_fit_time': array([400.80139494, 538.49239306,  17.65369396,   7.81171327,\n",
      "        41.64108553, 192.01543632, 322.46819577, 329.44228659,\n",
      "       424.1146215 , 126.04632816]), 'std_fit_time': array([70.98557415, 81.71060174,  4.91992829,  1.44484651, 10.39114032,\n",
      "       31.36696971, 58.43911756, 44.54945308, 64.80757117, 13.97002939]), 'mean_score_time': array([0.15863762, 0.12085757, 0.14118257, 0.15977316, 0.17186217,\n",
      "       0.14660802, 0.19892607, 0.14094357, 0.13927064, 0.19012823]), 'std_score_time': array([0.0524834 , 0.02620326, 0.04722609, 0.02749045, 0.05047574,\n",
      "       0.03987824, 0.06951642, 0.04299676, 0.04881716, 0.09788289]), 'param_C': masked_array(data=[8.289201197335963, 9.526844180770912,\n",
      "                   0.40975237342552584, 0.17748177516883393,\n",
      "                   1.0213665830480967, 3.877342532131062,\n",
      "                   6.705315405330591, 5.671501017217367,\n",
      "                   6.710647365165169, 2.843400583324572],\n",
      "             mask=[False, False, False, False, False, False, False, False,\n",
      "                   False, False],\n",
      "       fill_value='?',\n",
      "            dtype=object), 'param_kernel': masked_array(data=['linear', 'linear', 'linear', 'linear', 'linear',\n",
      "                   'linear', 'linear', 'linear', 'linear', 'linear'],\n",
      "             mask=[False, False, False, False, False, False, False, False,\n",
      "                   False, False],\n",
      "       fill_value='?',\n",
      "            dtype=object), 'params': [{'C': 8.289201197335963, 'kernel': 'linear'}, {'C': 9.526844180770912, 'kernel': 'linear'}, {'C': 0.40975237342552584, 'kernel': 'linear'}, {'C': 0.17748177516883393, 'kernel': 'linear'}, {'C': 1.0213665830480967, 'kernel': 'linear'}, {'C': 3.877342532131062, 'kernel': 'linear'}, {'C': 6.705315405330591, 'kernel': 'linear'}, {'C': 5.671501017217367, 'kernel': 'linear'}, {'C': 6.710647365165169, 'kernel': 'linear'}, {'C': 2.843400583324572, 'kernel': 'linear'}], 'split0_test_score': array([0.88839286, 0.88839286, 0.88988095, 0.88839286, 0.88839286,\n",
      "       0.88839286, 0.88839286, 0.88839286, 0.88839286, 0.88839286]), 'split1_test_score': array([0.8735119 , 0.875     , 0.88392857, 0.88541667, 0.87797619,\n",
      "       0.8764881 , 0.8764881 , 0.8764881 , 0.8764881 , 0.875     ]), 'split2_test_score': array([0.89880952, 0.89732143, 0.89732143, 0.90029762, 0.89732143,\n",
      "       0.89732143, 0.89880952, 0.89732143, 0.89732143, 0.89732143]), 'split3_test_score': array([0.87481371, 0.87630402, 0.87630402, 0.87183308, 0.87630402,\n",
      "       0.87630402, 0.87630402, 0.87630402, 0.87481371, 0.87630402]), 'split4_test_score': array([0.89418778, 0.89418778, 0.89716841, 0.89716841, 0.89716841,\n",
      "       0.89418778, 0.89418778, 0.89567809, 0.89418778, 0.89418778]), 'mean_test_score': array([0.88594316, 0.88624122, 0.88892068, 0.88862173, 0.88743258,\n",
      "       0.88653884, 0.88683646, 0.8868369 , 0.88624077, 0.88624122]), 'std_test_score': array([0.01017761, 0.00911769, 0.00804513, 0.01001554, 0.0090196 ,\n",
      "       0.0087633 , 0.00914155, 0.00903938, 0.00912425, 0.00911769]), 'rank_test_score': array([10,  7,  1,  2,  3,  6,  5,  4,  9,  7])}\n",
      "Fitting 5 folds for each of 10 candidates, totalling 50 fits\n"
     ]
    },
    {
     "name": "stderr",
     "output_type": "stream",
     "text": [
      "[Parallel(n_jobs=-1)]: Using backend LokyBackend with 8 concurrent workers.\n",
      "[Parallel(n_jobs=-1)]: Done  16 tasks      | elapsed:   23.4s\n",
      "[Parallel(n_jobs=-1)]: Done  50 out of  50 | elapsed:  1.0min finished\n"
     ]
    },
    {
     "name": "stdout",
     "output_type": "stream",
     "text": [
      "{'mean_fit_time': array([ 8.68377085,  5.98329096,  7.59525213,  5.87685466,  7.25729589,\n",
      "       10.95472288,  6.25171213,  4.8093122 , 10.37855711,  6.67294598]), 'std_fit_time': array([2.4025252 , 0.51670927, 2.11827536, 1.78783724, 1.30544977,\n",
      "       0.87320179, 2.44635122, 1.3454972 , 1.04944177, 1.76363093]), 'mean_score_time': array([1.36754317, 0.99394765, 1.07340884, 0.61830721, 0.7442533 ,\n",
      "       1.55478454, 0.40756412, 0.50524964, 1.27479763, 0.98456712]), 'std_score_time': array([0.66497406, 0.34608563, 0.6382039 , 0.38274394, 0.37101972,\n",
      "       0.43070884, 0.15360504, 0.26471879, 0.4316135 , 0.35425333]), 'param_C': masked_array(data=[3.855846633886476, 0.25211141589487773,\n",
      "                   0.8583359525193023, 3.848571868734744,\n",
      "                   4.772494070037802, 2.45613450344774, 6.395926987933676,\n",
      "                   6.737918761934683, 7.197570214226971,\n",
      "                   0.5696948523720967],\n",
      "             mask=[False, False, False, False, False, False, False, False,\n",
      "                   False, False],\n",
      "       fill_value='?',\n",
      "            dtype=object), 'param_gamma': masked_array(data=[0.00929680208588551, 0.0025394816954092602,\n",
      "                   0.008862088645430085, 0.0023192131472972097,\n",
      "                   0.002194593615170763, 0.004664538489634392,\n",
      "                   0.0023614882239268117, 0.0015433496545929782,\n",
      "                   0.005521146100825908, 0.00453429516041828],\n",
      "             mask=[False, False, False, False, False, False, False, False,\n",
      "                   False, False],\n",
      "       fill_value='?',\n",
      "            dtype=object), 'param_kernel': masked_array(data=['rbf', 'rbf', 'rbf', 'rbf', 'rbf', 'rbf', 'rbf', 'rbf',\n",
      "                   'rbf', 'rbf'],\n",
      "             mask=[False, False, False, False, False, False, False, False,\n",
      "                   False, False],\n",
      "       fill_value='?',\n",
      "            dtype=object), 'params': [{'C': 3.855846633886476, 'gamma': 0.00929680208588551, 'kernel': 'rbf'}, {'C': 0.25211141589487773, 'gamma': 0.0025394816954092602, 'kernel': 'rbf'}, {'C': 0.8583359525193023, 'gamma': 0.008862088645430085, 'kernel': 'rbf'}, {'C': 3.848571868734744, 'gamma': 0.0023192131472972097, 'kernel': 'rbf'}, {'C': 4.772494070037802, 'gamma': 0.002194593615170763, 'kernel': 'rbf'}, {'C': 2.45613450344774, 'gamma': 0.004664538489634392, 'kernel': 'rbf'}, {'C': 6.395926987933676, 'gamma': 0.0023614882239268117, 'kernel': 'rbf'}, {'C': 6.737918761934683, 'gamma': 0.0015433496545929782, 'kernel': 'rbf'}, {'C': 7.197570214226971, 'gamma': 0.005521146100825908, 'kernel': 'rbf'}, {'C': 0.5696948523720967, 'gamma': 0.00453429516041828, 'kernel': 'rbf'}], 'split0_test_score': array([0.81547619, 0.86011905, 0.7827381 , 0.8764881 , 0.87797619,\n",
      "       0.85714286, 0.87053571, 0.88095238, 0.84821429, 0.85416667]), 'split1_test_score': array([0.86458333, 0.8764881 , 0.8764881 , 0.86755952, 0.87202381,\n",
      "       0.85714286, 0.86904762, 0.8735119 , 0.86160714, 0.85863095]), 'split2_test_score': array([0.8139881 , 0.88988095, 0.78571429, 0.88095238, 0.87797619,\n",
      "       0.86458333, 0.87797619, 0.87202381, 0.86458333, 0.88839286]), 'split3_test_score': array([0.84053651, 0.86736215, 0.83159463, 0.89120715, 0.89567809,\n",
      "       0.86289121, 0.88822653, 0.89865872, 0.85842027, 0.85394933]), 'split4_test_score': array([0.82563338, 0.86885246, 0.80625931, 0.8733234 , 0.87630402,\n",
      "       0.87034277, 0.87183308, 0.87779434, 0.86885246, 0.85245902]), 'mean_test_score': array([0.8320435 , 0.87254054, 0.81655889, 0.87790611, 0.87999166,\n",
      "       0.86242061, 0.87552383, 0.88058823, 0.8603355 , 0.86151976]), 'std_test_score': array([0.01882836, 0.01010925, 0.03469553, 0.00795313, 0.0081397 ,\n",
      "       0.00496727, 0.00704013, 0.00956979, 0.00696838, 0.01359401]), 'rank_test_score': array([ 9,  5, 10,  3,  2,  6,  4,  1,  8,  7])}\n",
      "Fitting 5 folds for each of 10 candidates, totalling 50 fits\n"
     ]
    },
    {
     "name": "stderr",
     "output_type": "stream",
     "text": [
      "[Parallel(n_jobs=-1)]: Using backend LokyBackend with 8 concurrent workers.\n",
      "[Parallel(n_jobs=-1)]: Done  16 tasks      | elapsed:   19.0s\n",
      "[Parallel(n_jobs=-1)]: Done  50 out of  50 | elapsed:   55.7s finished\n"
     ]
    },
    {
     "name": "stdout",
     "output_type": "stream",
     "text": [
      "{'mean_fit_time': array([ 3.84333124,  2.60282216,  6.91416435, 24.58545017,  4.19138379,\n",
      "        3.44308996, 13.73647084, 11.3574183 ,  2.39140563,  2.71302729]), 'std_fit_time': array([1.02169828, 0.72575571, 0.1280471 , 8.51385683, 0.16106818,\n",
      "       0.16054509, 2.78192752, 3.47185185, 0.16421536, 0.26462323]), 'mean_score_time': array([0.43573446, 0.26933236, 1.29274349, 0.19428091, 0.3520587 ,\n",
      "       0.69992867, 0.31755099, 0.22579627, 0.44540915, 0.39087639]), 'std_score_time': array([0.24086435, 0.13440785, 0.0772725 , 0.11436624, 0.02197747,\n",
      "       0.0555336 , 0.10958269, 0.10351472, 0.07433598, 0.11499369]), 'param_C': masked_array(data=[2.4622400818492984, 9.036736547077092,\n",
      "                   0.33309539074202965, 10.042722361320083,\n",
      "                   7.26980567917283, 4.905651639897962, 4.202466022460782,\n",
      "                   3.5607386168299238, 3.1371086345011467,\n",
      "                   8.372495353403359],\n",
      "             mask=[False, False, False, False, False, False, False, False,\n",
      "                   False, False],\n",
      "       fill_value='?',\n",
      "            dtype=object), 'param_degree': masked_array(data=[1.059299152710032, 2.7569012344833923,\n",
      "                   1.6902544190344582, 4.4950916815208135,\n",
      "                   3.3461934474166646, 1.9096754235686224,\n",
      "                   4.366446603209492, 4.321568717649013,\n",
      "                   2.391204526631271, 2.6920111070685233],\n",
      "             mask=[False, False, False, False, False, False, False, False,\n",
      "                   False, False],\n",
      "       fill_value='?',\n",
      "            dtype=object), 'param_kernel': masked_array(data=['poly', 'poly', 'poly', 'poly', 'poly', 'poly', 'poly',\n",
      "                   'poly', 'poly', 'poly'],\n",
      "             mask=[False, False, False, False, False, False, False, False,\n",
      "                   False, False],\n",
      "       fill_value='?',\n",
      "            dtype=object), 'params': [{'C': 2.4622400818492984, 'degree': 1.059299152710032, 'kernel': 'poly'}, {'C': 9.036736547077092, 'degree': 2.7569012344833923, 'kernel': 'poly'}, {'C': 0.33309539074202965, 'degree': 1.6902544190344582, 'kernel': 'poly'}, {'C': 10.042722361320083, 'degree': 4.4950916815208135, 'kernel': 'poly'}, {'C': 7.26980567917283, 'degree': 3.3461934474166646, 'kernel': 'poly'}, {'C': 4.905651639897962, 'degree': 1.9096754235686224, 'kernel': 'poly'}, {'C': 4.202466022460782, 'degree': 4.366446603209492, 'kernel': 'poly'}, {'C': 3.5607386168299238, 'degree': 4.321568717649013, 'kernel': 'poly'}, {'C': 3.1371086345011467, 'degree': 2.391204526631271, 'kernel': 'poly'}, {'C': 8.372495353403359, 'degree': 2.6920111070685233, 'kernel': 'poly'}], 'split0_test_score': array([0.88690476, 0.88839286, 0.85565476, 0.88690476, 0.89136905,\n",
      "       0.88541667, 0.88541667, 0.88839286, 0.88690476, 0.88690476]), 'split1_test_score': array([0.88392857, 0.90178571, 0.85267857, 0.88392857, 0.89285714,\n",
      "       0.89583333, 0.89136905, 0.89285714, 0.9077381 , 0.90178571]), 'split2_test_score': array([0.89732143, 0.90327381, 0.87946429, 0.88988095, 0.90922619,\n",
      "       0.89880952, 0.89285714, 0.89583333, 0.90029762, 0.90327381]), 'split3_test_score': array([0.85692996, 0.8852459 , 0.8509687 , 0.8733234 , 0.87928465,\n",
      "       0.86587183, 0.87630402, 0.87928465, 0.88077496, 0.88673621]), 'split4_test_score': array([0.87630402, 0.89865872, 0.86289121, 0.89716841, 0.90611028,\n",
      "       0.8852459 , 0.90312966, 0.90163934, 0.89269747, 0.89865872]), 'mean_test_score': array([0.88027775, 0.8954714 , 0.86033151, 0.88624122, 0.89576946,\n",
      "       0.88623545, 0.88981531, 0.89160147, 0.89368258, 0.89547184]), 'std_test_score': array([0.01348067, 0.00728799, 0.0103992 , 0.00781422, 0.01084076,\n",
      "       0.01154602, 0.00884129, 0.00751324, 0.00953763, 0.00721939]), 'rank_test_score': array([ 9,  3, 10,  7,  1,  8,  6,  5,  4,  2])}\n",
      "Optimum hyperparameters for linear kernel: \n",
      "{'C': 0.40975237342552584, 'kernel': 'linear'}\n",
      "Optimum hyperparameters for rbf kernel: \n",
      "{'C': 6.737918761934683, 'gamma': 0.0015433496545929782, 'kernel': 'rbf'}\n",
      "Optimum hyperparameters for polynomial kernel: \n",
      "{'C': 7.26980567917283, 'degree': 3.3461934474166646, 'kernel': 'poly'}\n"
     ]
    }
   ],
   "source": [
    "from scipy import stats\n",
    "from sklearn.model_selection import RandomizedSearchCV\n",
    "from sklearn.metrics import make_scorer, roc_auc_score\n",
    "\n",
    "lin = {'C': stats.uniform(0.1, 10), 'kernel': ['linear']}\n",
    "\n",
    "rbf = {'C': stats.uniform(0.1, 10), 'gamma': stats.uniform(0.0001, 0.01), 'kernel': ['rbf']}\n",
    "\n",
    "poly = {'C': stats.uniform(0.1, 10), 'degree': stats.uniform(1, 4), 'kernel': ['poly']}\n",
    "\n",
    "def randomSearch(X, y, param_kernel):\n",
    "    param_distributions = param_kernel #a dictionary with parameters names (string) as keys of parameters to try\n",
    "    #number of jobs = -1 is using all processors \n",
    "    #n_iter trades off runtime with quality of solution\n",
    "    #cv is at default value for 5-fold cross validation\n",
    "    #verbose gives out messages; refit is to refit an estimator to find the best parameters\n",
    "    #random_state is a pseudo random number generator used for random uniform sampling from list of possible values instead of using scipy.stats distributions\n",
    "    searchrand = RandomizedSearchCV(SVC(), param_distributions, n_iter=10, n_jobs=-1, refit=True, verbose=3)\n",
    "    searchrand.fit(X, y)\n",
    "    searchrand.cv_results_\n",
    "    \n",
    "    print(searchrand.cv_results_)\n",
    "    return searchrand.best_params_, searchrand.best_estimator_  \n",
    "\n",
    "# Obtaining optimum hyperparameters and classifier for different kernel\n",
    "linSVC_param, lin_SVC = randomSearch(tr_X, tr_Y, lin)\n",
    "rbfSVC_param, rbf_SVC = randomSearch(tr_X, tr_Y, rbf)\n",
    "polySVC_param, poly_SVC = randomSearch(tr_X, tr_Y, poly)\n",
    "#print(datetime.now() - start)\n",
    "\n",
    "# Display optimum hyperparameters for SVC kernel\n",
    "print('Optimum hyperparameters for linear kernel: ')\n",
    "print(linSVC_param)\n",
    "print('Optimum hyperparameters for rbf kernel: ')\n",
    "print(rbfSVC_param)\n",
    "print('Optimum hyperparameters for polynomial kernel: ')\n",
    "print(polySVC_param)"
   ]
  },
  {
   "cell_type": "code",
   "execution_count": 16,
   "metadata": {},
   "outputs": [
    {
     "name": "stdout",
     "output_type": "stream",
     "text": [
      "0.8833333333333333\n",
      "0.86875\n",
      "0.8847222222222222\n"
     ]
    }
   ],
   "source": [
    "print(lin_SVC.score(te_X, te_Y))\n",
    "print(rbf_SVC.score(te_X, te_Y))\n",
    "print(poly_SVC.score(te_X, te_Y))"
   ]
  },
  {
   "cell_type": "code",
   "execution_count": 17,
   "metadata": {},
   "outputs": [],
   "source": [
    "import landmarks_v2_test as l1 "
   ]
  },
  {
   "cell_type": "code",
   "execution_count": 18,
   "metadata": {},
   "outputs": [],
   "source": [
    "def get_data():\n",
    "    return l1.extract_features_labels()"
   ]
  },
  {
   "cell_type": "code",
   "execution_count": 19,
   "metadata": {},
   "outputs": [
    {
     "name": "stdout",
     "output_type": "stream",
     "text": [
      "(970, 68, 2)\n",
      "(970,)\n"
     ]
    }
   ],
   "source": [
    "A,b = get_data()\n",
    "\n",
    "print(A.shape)\n",
    "print(b.shape)"
   ]
  },
  {
   "cell_type": "code",
   "execution_count": 20,
   "metadata": {},
   "outputs": [],
   "source": [
    "B = np.array([b, -(b - 1)]).T\n",
    "def reshapeX(A):\n",
    "    return A.reshape((A.shape[0], A.shape[1] * A.shape[2]))\n",
    "\n",
    "def reshapeY(b):\n",
    "    return list(zip(*b))[0]\n",
    "\n",
    "te_A = reshapeX(A)\n",
    "te_B = reshapeY(B)"
   ]
  },
  {
   "cell_type": "code",
   "execution_count": 21,
   "metadata": {},
   "outputs": [
    {
     "name": "stdout",
     "output_type": "stream",
     "text": [
      "[[420  53]\n",
      " [ 49 448]]\n",
      "\n",
      "Confusion Matrix\n"
     ]
    },
    {
     "data": {
      "image/png": "[encoded data removed]",
      "text/plain": [
       "<Figure size 288x288 with 2 Axes>"
      ]
     },
     "metadata": {
      "needs_background": "light"
     },
     "output_type": "display_data"
    },
    {
     "name": "stdout",
     "output_type": "stream",
     "text": [
      "[[0.43298969 0.05463918]\n",
      " [0.05051546 0.46185567]]\n",
      "\n",
      "Confusion Matrix(normalised)\n"
     ]
    },
    {
     "data": {
      "image/png": "[encoded data removed]",
      "text/plain": [
       "<Figure size 288x288 with 2 Axes>"
      ]
     },
     "metadata": {
      "needs_background": "light"
     },
     "output_type": "display_data"
    },
    {
     "name": "stdout",
     "output_type": "stream",
     "text": [
      "              precision    recall  f1-score   support\n",
      "\n",
      "         0.0       0.90      0.89      0.89       473\n",
      "         1.0       0.89      0.90      0.90       497\n",
      "\n",
      "    accuracy                           0.89       970\n",
      "   macro avg       0.89      0.89      0.89       970\n",
      "weighted avg       0.89      0.89      0.89       970\n",
      "\n",
      "Accuracy achieved: 0.8948453608247423 ♡♡♡\n"
     ]
    }
   ],
   "source": [
    "# op_lin_results = optimised_lin.predict(te_X)\n",
    "op_lin_results = lin_SVC.predict(te_A)\n",
    "\n",
    "# cm = confusion_matrix(te_Y, op_lin_results)\n",
    "cm = confusion_matrix(te_B, op_lin_results)\n",
    "print(cm)\n",
    "plt.matshow(cm)\n",
    "plt.colorbar()\n",
    "plt.ylabel('True label')\n",
    "plt.xlabel('Predicted label')\n",
    "print('\\nConfusion Matrix')\n",
    "plt.show()\n",
    "\n",
    "# cm2 = confusion_matrix(te_Y, op_lin_results, normalize='all')\n",
    "cm2 = confusion_matrix(te_B, op_lin_results, normalize='all')\n",
    "print(cm2)\n",
    "plt.matshow(cm2)\n",
    "plt.colorbar()\n",
    "plt.ylabel('True label')\n",
    "plt.xlabel('Predicted label')\n",
    "print('\\nConfusion Matrix(normalised)')\n",
    "plt.show()\n",
    "\n",
    "print(classification_report(te_B, op_lin_results))\n",
    "print('Accuracy achieved:', accuracy_score(te_B, op_lin_results), '\\u2661''\\u2661''\\u2661')"
   ]
  },
  {
   "cell_type": "code",
   "execution_count": 22,
   "metadata": {},
   "outputs": [
    {
     "name": "stdout",
     "output_type": "stream",
     "text": [
      "[[413  60]\n",
      " [ 67 430]]\n",
      "\n",
      "Confusion Matrix\n"
     ]
    },
    {
     "data": {
      "image/png": "[encoded data removed]",
      "text/plain": [
       "<Figure size 288x288 with 2 Axes>"
      ]
     },
     "metadata": {
      "needs_background": "light"
     },
     "output_type": "display_data"
    },
    {
     "name": "stdout",
     "output_type": "stream",
     "text": [
      "[[0.4257732  0.06185567]\n",
      " [0.06907216 0.44329897]]\n",
      "\n",
      "Confusion Matrix(normalised)\n"
     ]
    },
    {
     "data": {
      "image/png": "[encoded data removed]",
      "text/plain": [
       "<Figure size 288x288 with 2 Axes>"
      ]
     },
     "metadata": {
      "needs_background": "light"
     },
     "output_type": "display_data"
    },
    {
     "name": "stdout",
     "output_type": "stream",
     "text": [
      "              precision    recall  f1-score   support\n",
      "\n",
      "         0.0       0.86      0.87      0.87       473\n",
      "         1.0       0.88      0.87      0.87       497\n",
      "\n",
      "    accuracy                           0.87       970\n",
      "   macro avg       0.87      0.87      0.87       970\n",
      "weighted avg       0.87      0.87      0.87       970\n",
      "\n",
      "Accuracy achieved: 0.8690721649484536 ♡♡♡\n"
     ]
    }
   ],
   "source": [
    "# optimised_rbf = svm.SVC(kernel = 'rbf', gamma = rbfSVC_param['gamma'], C = rbfSVC_param['C'])\n",
    "# optimised_rbf.fit(tr_X, tr_Y)\n",
    "# op_rbf_results = optimised_rbf.predict(te_X)\n",
    "op_rbf_results = rbf_SVC.predict(te_A)\n",
    "\n",
    "# cm = confusion_matrix(te_Y, op_rbf_results)\n",
    "cm = confusion_matrix(te_B, op_rbf_results)\n",
    "print(cm)\n",
    "plt.matshow(cm)\n",
    "plt.colorbar()\n",
    "plt.ylabel('True label')\n",
    "plt.xlabel('Predicted label')\n",
    "print('\\nConfusion Matrix')\n",
    "plt.show()\n",
    "\n",
    "# cm2 = confusion_matrix(te_Y, op_rbf_results, normalize='all')\n",
    "cm2 = confusion_matrix(te_B, op_rbf_results, normalize='all')\n",
    "print(cm2)\n",
    "plt.matshow(cm2)\n",
    "plt.colorbar()\n",
    "plt.ylabel('True label')\n",
    "plt.xlabel('Predicted label')\n",
    "print('\\nConfusion Matrix(normalised)')\n",
    "plt.show()\n",
    "\n",
    "print(classification_report(te_B, op_rbf_results))\n",
    "print('Accuracy achieved:', accuracy_score(te_B, op_rbf_results), '\\u2661''\\u2661''\\u2661')"
   ]
  },
  {
   "cell_type": "code",
   "execution_count": 23,
   "metadata": {},
   "outputs": [
    {
     "name": "stdout",
     "output_type": "stream",
     "text": [
      "[[428  45]\n",
      " [ 46 451]]\n",
      "\n",
      "Confusion Matrix\n"
     ]
    },
    {
     "data": {
      "image/png": "[encoded data removed]",
      "text/plain": [
       "<Figure size 288x288 with 2 Axes>"
      ]
     },
     "metadata": {
      "needs_background": "light"
     },
     "output_type": "display_data"
    },
    {
     "name": "stdout",
     "output_type": "stream",
     "text": [
      "[[0.44123711 0.04639175]\n",
      " [0.04742268 0.46494845]]\n",
      "\n",
      "Confusion Matrix(normalised)\n"
     ]
    },
    {
     "data": {
      "image/png": "[encoded data removed]",
      "text/plain": [
       "<Figure size 288x288 with 2 Axes>"
      ]
     },
     "metadata": {
      "needs_background": "light"
     },
     "output_type": "display_data"
    },
    {
     "name": "stdout",
     "output_type": "stream",
     "text": [
      "              precision    recall  f1-score   support\n",
      "\n",
      "         0.0       0.90      0.90      0.90       473\n",
      "         1.0       0.91      0.91      0.91       497\n",
      "\n",
      "    accuracy                           0.91       970\n",
      "   macro avg       0.91      0.91      0.91       970\n",
      "weighted avg       0.91      0.91      0.91       970\n",
      "\n",
      "Accuracy achieved: 0.9061855670103093 ♡♡♡\n"
     ]
    }
   ],
   "source": [
    "# optimised_poly = svm.SVC(kernel = 'poly', degree = polySVC_param['degree'], C = polySVC_param['C'])\n",
    "# optimised_poly.fit(tr_X, tr_Y)\n",
    "# op_p_results = optimised_poly.predict(te_X)\n",
    "op_p_results = poly_SVC.predict(te_A)\n",
    "\n",
    "# cm = confusion_matrix(te_Y, op_p_results)\n",
    "cm = confusion_matrix(te_B, op_p_results)\n",
    "print(cm)\n",
    "plt.matshow(cm)\n",
    "plt.colorbar()\n",
    "plt.ylabel('True label')\n",
    "plt.xlabel('Predicted label')\n",
    "print('\\nConfusion Matrix')\n",
    "plt.show()\n",
    "\n",
    "# cm2 = confusion_matrix(te_Y, op_p_results, normalize='all')\n",
    "cm2 = confusion_matrix(te_B, op_p_results, normalize='all')\n",
    "print(cm2)\n",
    "plt.matshow(cm2)\n",
    "plt.colorbar()\n",
    "plt.ylabel('True label')\n",
    "plt.xlabel('Predicted label')\n",
    "print('\\nConfusion Matrix(normalised)')\n",
    "plt.show()\n",
    "\n",
    "print(classification_report(te_B, op_p_results))\n",
    "print('Accuracy achieved:', accuracy_score(te_B, op_p_results), '\\u2661''\\u2661''\\u2661')"
   ]
  },
  {
   "cell_type": "code",
   "execution_count": 24,
   "metadata": {},
   "outputs": [
    {
     "data": {
      "image/png": "[encoded data removed]",
      "text/plain": [
       "<Figure size 432x288 with 1 Axes>"
      ]
     },
     "metadata": {
      "needs_background": "light"
     },
     "output_type": "display_data"
    }
   ],
   "source": [
    "plt.scatter(te_B, op_p_results)\n",
    "plt.xlabel('True Values')\n",
    "plt.ylabel('Predictions')\n",
    "plt.grid()\n",
    "plt.show()"
   ]
  },
  {
   "cell_type": "code",
   "execution_count": 26,
   "metadata": {},
   "outputs": [
    {
     "name": "stdout",
     "output_type": "stream",
     "text": [
      "Automatically created module for IPython interactive environment\n"
     ]
    },
    {
     "data": {
      "image/png": "[encoded data removed]",
      "text/plain": [
       "<Figure size 648x1296 with 3 Axes>"
      ]
     },
     "metadata": {
      "needs_background": "light"
     },
     "output_type": "display_data"
    }
   ],
   "source": [
    "print(__doc__)\n",
    "\n",
    "from sklearn.model_selection import learning_curve\n",
    "from sklearn.model_selection import ShuffleSplit\n",
    "\n",
    "\n",
    "def plot_learning_curve(estimator, title, X, y, axes=None, ylim=None, cv=None,\n",
    "                        n_jobs=None, train_sizes=np.linspace(.1, 1.0, 5)):\n",
    "\n",
    "    axes.set_title(title)\n",
    "    if ylim is not None:\n",
    "        axes.set_ylim(*ylim)\n",
    "        axes.set_xlabel(\"Training examples\")\n",
    "        axes.set_ylabel(\"Score\")\n",
    "\n",
    "        train_sizes, train_scores, test_scores, fit_times, _ = \\\n",
    "            learning_curve(estimator, X, y, cv=cv, n_jobs=n_jobs,\n",
    "                           train_sizes=train_sizes,\n",
    "                           return_times=True)\n",
    "        train_scores_mean = np.mean(train_scores, axis=1)\n",
    "        train_scores_std = np.std(train_scores, axis=1)\n",
    "        test_scores_mean = np.mean(test_scores, axis=1)\n",
    "        test_scores_std = np.std(test_scores, axis=1)\n",
    "        fit_times_mean = np.mean(fit_times, axis=1)\n",
    "        fit_times_std = np.std(fit_times, axis=1)\n",
    "\n",
    "    # Plot learning curve\n",
    "        axes.grid()\n",
    "        axes.fill_between(train_sizes, train_scores_mean - train_scores_std,\n",
    "                             train_scores_mean + train_scores_std, alpha=0.1,\n",
    "                             color=\"r\")\n",
    "        axes.fill_between(train_sizes, test_scores_mean - test_scores_std,\n",
    "                             test_scores_mean + test_scores_std, alpha=0.1,\n",
    "                             color=\"g\")\n",
    "        axes.plot(train_sizes, train_scores_mean, 'o-', color=\"r\",\n",
    "                     label=\"Training score\")\n",
    "        axes.plot(train_sizes, test_scores_mean, 'o-', color=\"g\",\n",
    "                     label=\"Cross-validation score\")\n",
    "        axes.legend(loc=\"best\")\n",
    "\n",
    "    return plt\n",
    "\n",
    "plt.figure(figsize=(9,18))\n",
    "\n",
    "cv = ShuffleSplit(n_splits=20, test_size=0.2, random_state=0)\n",
    "\n",
    "\n",
    "# estimator = poly_SVC \n",
    "# plot_learning_curve(estimator, title, te_X, te_Y, axes=axes, ylim=(0.8, 1.01), cv=cv, n_jobs=-1)\n",
    "axes = plt.subplot(311)\n",
    "title = r\"Learning Curves (linear)\"\n",
    "plot_learning_curve(lin_SVC, title, te_A, te_B, axes=axes, ylim=(0.8, 1.01), cv=cv, n_jobs=-1)\n",
    "\n",
    "axes = plt.subplot(312)\n",
    "title = r\"Learning Curves (rbf)\"\n",
    "plot_learning_curve(rbf_SVC, title, te_A, te_B, axes=axes, ylim=(0.8, 1.01), cv=cv, n_jobs=-1)\n",
    "\n",
    "axes = plt.subplot(313)\n",
    "title = r\"Learning Curves (poly)\"\n",
    "plot_learning_curve(poly_SVC, title, te_A, te_B, axes=axes, ylim=(0.8, 1.01), cv=cv, n_jobs=-1)\n",
    "\n",
    "\n",
    "plt.show()"
   ]
  },
  {
   "cell_type": "code",
   "execution_count": null,
   "metadata": {},
   "outputs": [],
   "source": [
    "print(\"--- %s seconds ---\" % (time.time() - start_time))"
   ]
  },
  {
   "cell_type": "code",
   "execution_count": null,
   "metadata": {},
   "outputs": [],
   "source": []
  }
 ],
 "metadata": {
  "kernelspec": {
   "display_name": "Python 3",
   "language": "python",
   "name": "python3"
  },
  "language_info": {
   "codemirror_mode": {
    "name": "ipython",
    "version": 3
   },
   "file_extension": ".py",
   "mimetype": "text/x-python",
   "name": "python",
   "nbconvert_exporter": "python",
   "pygments_lexer": "ipython3",
   "version": "3.7.5"
  }
 },
 "nbformat": 4,
 "nbformat_minor": 2
}
