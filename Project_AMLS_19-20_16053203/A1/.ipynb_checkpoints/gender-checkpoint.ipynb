{
 "cells": [
  {
   "cell_type": "markdown",
   "metadata": {},
   "source": [
    "# Gender Detection"
   ]
  },
  {
   "cell_type": "code",
   "execution_count": 1,
   "metadata": {},
   "outputs": [
    {
     "name": "stderr",
     "output_type": "stream",
     "text": [
      "Using TensorFlow backend.\n"
     ]
    }
   ],
   "source": [
    "import time\n",
    "start_time = time.time()\n",
    "import progressbar\n",
    "import os\n",
    "import numpy as np\n",
    "from keras.preprocessing import image\n",
    "import cv2\n",
    "import dlib\n",
    "import pandas as pd\n",
    "import matplotlib.pyplot as plt\n",
    "import sys"
   ]
  },
  {
   "cell_type": "code",
   "execution_count": 2,
   "metadata": {},
   "outputs": [],
   "source": [
    "from keras.preprocessing import image\n",
    "from sklearn import svm, datasets\n",
    "from sklearn.dummy import DummyClassifier\n",
    "from sklearn.svm import SVC\n",
    "from sklearn.preprocessing import StandardScaler\n",
    "from sklearn.utils import shuffle\n",
    "from sklearn.model_selection import train_test_split, GridSearchCV, learning_curve, ShuffleSplit\n",
    "from sklearn.metrics import classification_report, accuracy_score, confusion_matrix, recall_score, precision_score, f1_score\n",
    "import matplotlib.pyplot as plt"
   ]
  },
  {
   "cell_type": "markdown",
   "metadata": {},
   "source": [
    "# Data Preprocessing"
   ]
  },
  {
   "cell_type": "code",
   "execution_count": 3,
   "metadata": {},
   "outputs": [
    {
     "name": "stdout",
     "output_type": "stream",
     "text": [
      "sklearn: 0.22.1\n"
     ]
    }
   ],
   "source": [
    "import sklearn\n",
    "print('sklearn: %s' %sklearn.__version__)"
   ]
  },
  {
   "cell_type": "code",
   "execution_count": 4,
   "metadata": {},
   "outputs": [],
   "source": [
    "# Loading the data file\n",
    "# data = load_iris()\n",
    "# df=pd.DataFrame(data.data,columns=data.feature_names)\n",
    "# print(df.head())\n",
    "\n",
    "# Drop rest of the features and extract the target values\n",
    "# Y = data.target\n",
    "# X = data.data[:, :2]\n",
    "\n",
    "# Shuffle and split the data into training and test set\n",
    "# X, Y = shuffle(X,Y)\n",
    "# x_train, x_test, y_train, y_test = train_test_split(X, Y, train_size=0.7)"
   ]
  },
  {
   "cell_type": "code",
   "execution_count": 5,
   "metadata": {},
   "outputs": [],
   "source": [
    "# def SVM(x_train,y_train, x_test):\n",
    "#     #model = ...\n",
    "#     model = SVC(kernel = 'linear')\n",
    "#     model.fit(x_train,y_train)\n",
    "#     #model.  #fit using x_train and y_train\n",
    "#     y_pred = model.predict(x_test)\n",
    "#     return y_pred\n",
    "# # Scikit learn library results\n",
    "# y_pred=SVM(x_train,y_train, x_test)\n",
    "# print(accuracy_score(y_test,y_pred))\n"
   ]
  },
  {
   "cell_type": "code",
   "execution_count": 6,
   "metadata": {},
   "outputs": [],
   "source": [
    "import landmarks as l2"
   ]
  },
  {
   "cell_type": "code",
   "execution_count": 7,
   "metadata": {},
   "outputs": [],
   "source": [
    "def get_data():\n",
    "    return l2.extract_features_labels()\n",
    "    \n",
    "def split_data(X, Y):\n",
    "#     split = 4000\n",
    "        \n",
    "#     tr_X = X[:split]\n",
    "#     tr_Y = Y[:split]\n",
    "#     te_X = X[split:]\n",
    "#     te_Y = Y[split:]\n",
    "\n",
    "    X, Y = shuffle(X,Y)\n",
    "    tr_X, te_X, tr_Y, te_Y = train_test_split(X, Y, train_size=0.7)\n",
    "    \n",
    "    return tr_X, tr_Y, te_X, te_Y\n",
    "        \n",
    "#     for i in [tr_X, tr_Y, te_X, te_Y]:\n",
    "#         print(i.shape)\n",
    "    \n",
    "#     return tr_X, tr_Y, te_X, te_Y\n",
    "    \n",
    "# get_data()\n",
    "\n",
    "\n",
    "# def train_validate_test_split(l2, train_set=0.6, validate_set=0.1, seed=None):\n",
    "#     np.random.seed(seed)\n",
    "#     np.random.seed(0)\n",
    "#     pmt = np.random.permutation(l2.extract_features_labels())\n",
    "#     k = len(l2.extract_features_labels())\n",
    "#     training = int(train_set * k)\n",
    "#     validating = int(validate_set * k) + training\n",
    "#     train = l2.iloc[pmt[:training]]\n",
    "#     validate = l2.iloc[pmt[training:validating]]\n",
    "#     test = l2.iloc[pmt[validating:]]\n",
    "#     return train, validate, test"
   ]
  },
  {
   "cell_type": "code",
   "execution_count": 8,
   "metadata": {},
   "outputs": [
    {
     "name": "stdout",
     "output_type": "stream",
     "text": [
      "(4798, 68, 2)\n",
      "(4798,)\n"
     ]
    }
   ],
   "source": [
    "X,y = get_data()\n",
    "\n",
    "print(X.shape)\n",
    "print(y.shape)"
   ]
  },
  {
   "cell_type": "code",
   "execution_count": 9,
   "metadata": {
    "scrolled": false
   },
   "outputs": [],
   "source": [
    "# print (os.path.abspath(os.curdir))\n",
    "# # sklearn functions implementation\n",
    "# def img_SVM(training_images, training_labels, test_images, test_labels):\n",
    "#     #classifier = ...\n",
    "#     classifier = SVC(kernel = 'rbf')\n",
    "#     classifier.fit(training_images, training_labels)\n",
    "#     pred = classifier.predict(test_images)\n",
    "#     print(\"Accuracy:\", accuracy_score(test_labels, pred))\n",
    "\n",
    "#     print(pred)\n",
    "#     return pred\n",
    "\n"
   ]
  },
  {
   "cell_type": "code",
   "execution_count": 10,
   "metadata": {},
   "outputs": [],
   "source": [
    "Y = np.array([y, -(y - 1)]).T\n",
    "\n",
    "tr_X, tr_Y, te_X, te_Y = split_data(X, Y)"
   ]
  },
  {
   "cell_type": "code",
   "execution_count": 11,
   "metadata": {},
   "outputs": [],
   "source": [
    "# print(tr_X)\n",
    "# print(tr_X.shape)\n",
    "# print(tr_Y)\n",
    "# print(tr_Y.shape)"
   ]
  },
  {
   "cell_type": "code",
   "execution_count": 12,
   "metadata": {},
   "outputs": [],
   "source": [
    "# def totuple(a):\n",
    "#     return list(zip(*tr_Y))[0]\n",
    "\n",
    "# # pred=img_SVM(tr_X.reshape((3500, 2500*2)), list(zip(*tr_Y))[0], te_X.reshape((3500, 2500*2)), list(zip(*te_Y))[0])\n",
    "# # pred=img_SVM(tr_X.reshape((len(tr_X), 68*2)), totuple(tr_Y), te_X.reshape((len(te_X), 68*2)), totuple(te_Y))\n",
    "# # pred\n",
    "# pred=img_SVM(\n",
    "#     tr_X.reshape(tr_X.shape[0], tr_X.shape[1]*tr_X.shape[2]),\n",
    "#     totuple(tr_Y), \n",
    "#     te_X.reshape((te_X.shape[0], te_X.shape[1]*te_X.shape[2])), \n",
    "#     totuple(te_Y)\n",
    "# )\n",
    "# # tr_X.shape\n",
    "\n",
    "def reshapeX(X):\n",
    "    return X.reshape((X.shape[0], X.shape[1] * X.shape[2]))\n",
    "\n",
    "def reshapeY(y):\n",
    "    return list(zip(*y))[0]\n",
    "\n",
    "tr_X = reshapeX(tr_X)\n",
    "te_X = reshapeX(te_X)\n",
    "tr_Y = reshapeY(tr_Y)\n",
    "te_Y = reshapeY(te_Y)"
   ]
  },
  {
   "cell_type": "code",
   "execution_count": 13,
   "metadata": {},
   "outputs": [
    {
     "name": "stdout",
     "output_type": "stream",
     "text": [
      "(3358, 136)\n"
     ]
    }
   ],
   "source": [
    "print(tr_X.shape)\n",
    "# print(Y)"
   ]
  },
  {
   "cell_type": "code",
   "execution_count": 14,
   "metadata": {},
   "outputs": [],
   "source": [
    "# from sklearn.model_selection import GridSearchCV"
   ]
  },
  {
   "cell_type": "code",
   "execution_count": 15,
   "metadata": {},
   "outputs": [
    {
     "name": "stdout",
     "output_type": "stream",
     "text": [
      "0.1 Linear: 0.9152777777777777\n",
      "0.1 scale Rbf: 0.5180555555555556\n",
      "0.1 1 Poly 0.5125\n",
      "0.1 Linear: 0.9152777777777777\n",
      "0.1 scale Rbf: 0.5180555555555556\n",
      "0.1 2 Poly 0.8625\n",
      "0.1 Linear: 0.9152777777777777\n",
      "0.1 scale Rbf: 0.5180555555555556\n",
      "0.1 3 Poly 0.9104166666666667\n",
      "0.1 Linear: 0.9152777777777777\n",
      "0.1 scale Rbf: 0.5180555555555556\n",
      "0.1 4 Poly 0.9138888888888889\n",
      "1 Linear: 0.9159722222222222\n",
      "1 scale Rbf: 0.8555555555555555\n",
      "1 1 Poly 0.8236111111111111\n",
      "1 Linear: 0.9159722222222222\n",
      "1 scale Rbf: 0.8555555555555555\n",
      "1 2 Poly 0.9097222222222222\n",
      "1 Linear: 0.9159722222222222\n",
      "1 scale Rbf: 0.8555555555555555\n",
      "1 3 Poly 0.9138888888888889\n",
      "1 Linear: 0.9159722222222222\n",
      "1 scale Rbf: 0.8555555555555555\n",
      "1 4 Poly 0.9222222222222223\n"
     ]
    }
   ],
   "source": [
    "# we create an instance of SVM and fit out data. We do not scale our\n",
    "# data since we want to plot the support vectors\n",
    "#rbf is for gaussian\n",
    "# SVM regularization parameter\n",
    "\n",
    "svc_list = []\n",
    "\n",
    "gamma = 'scale'\n",
    "\n",
    "# C is the element, i.e. 0.1 and 1\n",
    "for C in [0.1,1]:\n",
    "    for degree in [1, 2, 3, 4]:\n",
    "# for i in range(0.1,1,0.1)\n",
    "\n",
    "# for i in range(len(C_loop)): # C is the index, i.e. 0 and 1\n",
    "#     print(i, C_loop[i])\n",
    "        lin_svc = svm.SVC(kernel='linear', C=C).fit(tr_X, tr_Y)\n",
    "        print(C, \"Linear:\", lin_svc.score(te_X, te_Y))\n",
    "\n",
    "        rbf_svc = svm.SVC(kernel='rbf', gamma=gamma, C=C).fit(tr_X, tr_Y)\n",
    "        print( C, gamma, \"Rbf:\", rbf_svc.score(te_X, te_Y))\n",
    "\n",
    "        poly_svc = svm.SVC(kernel='poly', degree=degree, C=C).fit(tr_X, tr_Y)\n",
    "        print( C, degree, \"Poly\", poly_svc.score(te_X, te_Y))\n",
    "\n",
    "        svc_list.append({\n",
    "            'lin_svc': lin_svc,\n",
    "            'rbf_svc': rbf_svc,\n",
    "            'poly_svc': poly_svc,\n",
    "            'C': C,\n",
    "            'gamma': gamma,\n",
    "            'degree': degree\n",
    "        })\n",
    "\n",
    "# lin_svc = svm.SVC(kernel='linear', C=C).fit(tr_X, tr_Y)\n",
    "# print(C, \"Linear:\", lin_svc.score(te_X, te_Y))"
   ]
  },
  {
   "cell_type": "code",
   "execution_count": 16,
   "metadata": {},
   "outputs": [
    {
     "name": "stdout",
     "output_type": "stream",
     "text": [
      "Fitting 5 folds for each of 10 candidates, totalling 50 fits\n"
     ]
    },
    {
     "name": "stderr",
     "output_type": "stream",
     "text": [
      "[Parallel(n_jobs=-1)]: Using backend LokyBackend with 8 concurrent workers.\n",
      "[Parallel(n_jobs=-1)]: Done  16 tasks      | elapsed:  8.1min\n",
      "[Parallel(n_jobs=-1)]: Done  50 out of  50 | elapsed: 20.9min finished\n"
     ]
    },
    {
     "name": "stdout",
     "output_type": "stream",
     "text": [
      "Fitting 5 folds for each of 10 candidates, totalling 50 fits\n"
     ]
    },
    {
     "name": "stderr",
     "output_type": "stream",
     "text": [
      "[Parallel(n_jobs=-1)]: Using backend LokyBackend with 8 concurrent workers.\n",
      "[Parallel(n_jobs=-1)]: Done  16 tasks      | elapsed:   13.1s\n",
      "[Parallel(n_jobs=-1)]: Done  50 out of  50 | elapsed:   33.9s finished\n"
     ]
    },
    {
     "name": "stdout",
     "output_type": "stream",
     "text": [
      "Fitting 5 folds for each of 10 candidates, totalling 50 fits\n"
     ]
    },
    {
     "name": "stderr",
     "output_type": "stream",
     "text": [
      "[Parallel(n_jobs=-1)]: Using backend LokyBackend with 8 concurrent workers.\n",
      "[Parallel(n_jobs=-1)]: Done  16 tasks      | elapsed:    7.1s\n",
      "[Parallel(n_jobs=-1)]: Done  50 out of  50 | elapsed:   24.3s finished\n"
     ]
    },
    {
     "name": "stdout",
     "output_type": "stream",
     "text": [
      "Optimum hyperparameters for linear kernel: \n",
      "{'C': 1.035095016594919, 'kernel': 'linear'}\n",
      "Optimum hyperparameters for rbf kernel: \n",
      "{'C': 8.030561799408948, 'gamma': 0.0014993815803083855, 'kernel': 'rbf'}\n",
      "Optimum hyperparameters for polynomial kernel: \n",
      "{'C': 6.257973310143372, 'degree': 3.1557106102496983, 'kernel': 'poly'}\n"
     ]
    }
   ],
   "source": [
    "from scipy import stats\n",
    "from sklearn.model_selection import RandomizedSearchCV\n",
    "from sklearn.metrics import make_scorer, roc_auc_score\n",
    "\n",
    "lin = {'C': stats.uniform(0.1, 10), 'kernel': ['linear']}\n",
    "\n",
    "rbf = {'C': stats.uniform(0.1, 10), 'gamma': stats.uniform(0.0001, 0.01), 'kernel': ['rbf']}\n",
    "\n",
    "poly = {'C': stats.uniform(0.1, 10), 'degree': stats.uniform(1, 4), 'kernel': ['poly']}\n",
    "\n",
    "def randomSearch(X, y, param_kernel):\n",
    "    param_distributions = param_kernel #a dictionary with parameters names (string) as keys of parameters to try\n",
    "    #number of jobs = -1 is using all processors \n",
    "    #n_iter trades off runtime with quality of solution\n",
    "    #cv is at default value for 5-fold cross validation\n",
    "    #verbose gives out messages; refit is to refit an estimator to find the best parameters\n",
    "    #random_state is a pseudo random number generator used for random uniform sampling from list of possible values instead of using scipy.stats distributions\n",
    "    searchrand = RandomizedSearchCV(SVC(), param_distributions, n_iter=10, n_jobs=-1, refit=True, verbose=3)\n",
    "    searchrand.fit(X, y)\n",
    "    searchrand.cv_results_\n",
    "\n",
    "    return searchrand.best_params_, searchrand.best_estimator_ \n",
    "    \n",
    "    \n",
    "# Obtaining optimum hyperparameters and classifier for different kernel\n",
    "linSVC_param, lin_SVC = randomSearch(tr_X, tr_Y, lin)\n",
    "rbfSVC_param, rbf_SVC = randomSearch(tr_X, tr_Y, rbf)\n",
    "polySVC_param, poly_SVC = randomSearch(tr_X, tr_Y, poly)\n",
    "#print(datetime.now() - start)\n",
    "\n",
    "# Display optimum hyperparameters for SVC kernel\n",
    "print('Optimum hyperparameters for linear kernel: ')\n",
    "print(linSVC_param)\n",
    "print('Optimum hyperparameters for rbf kernel: ')\n",
    "print(rbfSVC_param)\n",
    "print('Optimum hyperparameters for polynomial kernel: ')\n",
    "print(polySVC_param)\n",
    "\n"
   ]
  },
  {
   "cell_type": "code",
   "execution_count": 17,
   "metadata": {},
   "outputs": [
    {
     "name": "stdout",
     "output_type": "stream",
     "text": [
      "0.9159722222222222\n",
      "0.8916666666666667\n",
      "0.9208333333333333\n"
     ]
    }
   ],
   "source": [
    "print(lin_SVC.score(te_X, te_Y))\n",
    "print(rbf_SVC.score(te_X, te_Y))\n",
    "print(poly_SVC.score(te_X, te_Y))\n"
   ]
  },
  {
   "cell_type": "code",
   "execution_count": 18,
   "metadata": {},
   "outputs": [
    {
     "name": "stdout",
     "output_type": "stream",
     "text": [
      "C:\\Users\\User\\Desktop\\4th_year_AMLS\\AMLS_19-20_ChinYangTan_16053203\\Project_AMLS_19-20_16053203\\Notebook\\A1\n"
     ]
    }
   ],
   "source": [
    "cwd = os.getcwd()\n",
    "print(cwd)"
   ]
  },
  {
   "cell_type": "code",
   "execution_count": 19,
   "metadata": {},
   "outputs": [],
   "source": [
    "import landmarks_test as l1 "
   ]
  },
  {
   "cell_type": "code",
   "execution_count": 20,
   "metadata": {},
   "outputs": [],
   "source": [
    "def get_data():\n",
    "    return l1.extract_features_labels()"
   ]
  },
  {
   "cell_type": "code",
   "execution_count": 21,
   "metadata": {},
   "outputs": [
    {
     "name": "stdout",
     "output_type": "stream",
     "text": [
      "(970, 68, 2)\n",
      "(970,)\n"
     ]
    }
   ],
   "source": [
    "A,b = get_data()\n",
    "\n",
    "print(A.shape)\n",
    "print(b.shape)"
   ]
  },
  {
   "cell_type": "code",
   "execution_count": 22,
   "metadata": {},
   "outputs": [],
   "source": [
    "B = np.array([b, -(b - 1)]).T\n",
    "def reshapeX(A):\n",
    "    return A.reshape((A.shape[0], A.shape[1] * A.shape[2]))\n",
    "\n",
    "def reshapeY(b):\n",
    "    return list(zip(*b))[0]\n",
    "\n",
    "te_A = reshapeX(A)\n",
    "te_B = reshapeY(B)"
   ]
  },
  {
   "cell_type": "code",
   "execution_count": 23,
   "metadata": {},
   "outputs": [
    {
     "name": "stdout",
     "output_type": "stream",
     "text": [
      "[[460  29]\n",
      " [ 54 427]]\n",
      "\n",
      "Confusion matrix\n"
     ]
    },
    {
     "data": {
      "image/png": "[encoded data removed]",
      "text/plain": [
       "<Figure size 288x288 with 2 Axes>"
      ]
     },
     "metadata": {
      "needs_background": "light"
     },
     "output_type": "display_data"
    },
    {
     "name": "stdout",
     "output_type": "stream",
     "text": [
      "[[0.4742268  0.02989691]\n",
      " [0.0556701  0.44020619]]\n",
      "\n",
      "Confusion matrix(normalised)\n"
     ]
    },
    {
     "data": {
      "image/png": "[encoded data removed]",
      "text/plain": [
       "<Figure size 288x288 with 2 Axes>"
      ]
     },
     "metadata": {
      "needs_background": "light"
     },
     "output_type": "display_data"
    },
    {
     "name": "stdout",
     "output_type": "stream",
     "text": [
      "              precision    recall  f1-score   support\n",
      "\n",
      "         0.0       0.89      0.94      0.92       489\n",
      "         1.0       0.94      0.89      0.91       481\n",
      "\n",
      "    accuracy                           0.91       970\n",
      "   macro avg       0.92      0.91      0.91       970\n",
      "weighted avg       0.92      0.91      0.91       970\n",
      "\n",
      "Accuracy achieved: 0.9144329896907216 ♡♡♡\n"
     ]
    }
   ],
   "source": [
    "# optimised_lin = svm.SVC(kernel = 'linear', C = linSVC_param['C'])\n",
    "# optimised_lin.fit(tr_X, tr_Y)\n",
    "# op_lin_results = lin_SVC.predict(te_X)\n",
    "op_lin_results = lin_SVC.predict(te_A)\n",
    "\n",
    "# cm = confusion_matrix(te_Y, op_lin_results)\n",
    "cm = confusion_matrix(te_B, op_lin_results)\n",
    "print(cm)\n",
    "plt.matshow(cm)\n",
    "plt.colorbar()\n",
    "plt.ylabel('True label')\n",
    "plt.xlabel('Predicted label')\n",
    "print('\\nConfusion matrix')\n",
    "plt.show()\n",
    "\n",
    "# cm2 = confusion_matrix(te_Y, op_lin_results, normalize='all')\n",
    "cm2 = confusion_matrix(te_B, op_lin_results, normalize='all')\n",
    "print(cm2)\n",
    "plt.matshow(cm2)\n",
    "plt.colorbar()\n",
    "plt.ylabel('True label')\n",
    "plt.xlabel('Predicted label')\n",
    "print('\\nConfusion matrix(normalised)')\n",
    "plt.show()\n",
    "\n",
    "\n",
    "print(classification_report(te_B, op_lin_results))\n",
    "print('Accuracy achieved:', accuracy_score(te_B, op_lin_results), '\\u2661''\\u2661''\\u2661')"
   ]
  },
  {
   "cell_type": "code",
   "execution_count": 24,
   "metadata": {},
   "outputs": [
    {
     "name": "stdout",
     "output_type": "stream",
     "text": [
      "[[440  49]\n",
      " [ 59 422]]\n",
      "\n",
      "Confusion matrix\n"
     ]
    },
    {
     "data": {
      "image/png": "[encoded data removed]",
      "text/plain": [
       "<Figure size 288x288 with 2 Axes>"
      ]
     },
     "metadata": {
      "needs_background": "light"
     },
     "output_type": "display_data"
    },
    {
     "name": "stdout",
     "output_type": "stream",
     "text": [
      "[[0.45360825 0.05051546]\n",
      " [0.06082474 0.43505155]]\n",
      "\n",
      "Confusion matrix(normalised)\n"
     ]
    },
    {
     "data": {
      "image/png": "[encoded data removed]",
      "text/plain": [
       "<Figure size 288x288 with 2 Axes>"
      ]
     },
     "metadata": {
      "needs_background": "light"
     },
     "output_type": "display_data"
    },
    {
     "name": "stdout",
     "output_type": "stream",
     "text": [
      "              precision    recall  f1-score   support\n",
      "\n",
      "         0.0       0.88      0.90      0.89       489\n",
      "         1.0       0.90      0.88      0.89       481\n",
      "\n",
      "    accuracy                           0.89       970\n",
      "   macro avg       0.89      0.89      0.89       970\n",
      "weighted avg       0.89      0.89      0.89       970\n",
      "\n",
      "Accuracy achieved: 0.8886597938144329 ♡♡♡\n"
     ]
    }
   ],
   "source": [
    "# optimised_rbf = svm.SVC(kernel = 'rbf', gamma = rbfSVC_param['gamma'], C = rbfSVC_param['C'])\n",
    "# optimised_rbf.fit(tr_X, tr_Y)\n",
    "# op_rbf_results = rbf_SVC.predict(te_X)\n",
    "op_rbf_results = rbf_SVC.predict(te_A)\n",
    "\n",
    "# cm = confusion_matrix(te_Y, op_rbf_results)\n",
    "cm = confusion_matrix(te_B, op_rbf_results)\n",
    "print(cm)\n",
    "plt.matshow(cm)\n",
    "plt.colorbar()\n",
    "plt.ylabel('True label')\n",
    "plt.xlabel('Predicted label')\n",
    "print('\\nConfusion matrix')\n",
    "plt.show()\n",
    "\n",
    "# cm2 = confusion_matrix(te_Y, op_rbf_results, normalize='all')\n",
    "cm2 = confusion_matrix(te_B, op_rbf_results, normalize='all')\n",
    "print(cm2)\n",
    "plt.matshow(cm2)\n",
    "plt.colorbar()\n",
    "plt.ylabel('True label')\n",
    "plt.xlabel('Predicted label')\n",
    "print('\\nConfusion matrix(normalised)')\n",
    "plt.show()\n",
    "\n",
    "print(classification_report(te_B, op_rbf_results))\n",
    "print('Accuracy achieved:', accuracy_score(te_B, op_rbf_results), '\\u2661''\\u2661''\\u2661')"
   ]
  },
  {
   "cell_type": "code",
   "execution_count": 25,
   "metadata": {},
   "outputs": [],
   "source": [
    "# import pickle\n",
    "# with open('my_SVM.pkl','wb') as f:\n",
    "#     pickle.dump(optimised_poly, f)\n",
    "# with open('my_SVM.pkl','rb') as f:\n",
    "#     optimised_poly = pickle.load(f)\n",
    "# categories = [\"0\",\"1\"]\n",
    "# image = \"../../dataset_test_AMLS_19-20/celeba_test/img\"\n",
    "# newpred = optimised_poly([image])\n",
    "# newpred = list(newpred[0])\n",
    "# print(categories[newpred.index(max(newpred))])"
   ]
  },
  {
   "cell_type": "code",
   "execution_count": 26,
   "metadata": {},
   "outputs": [
    {
     "name": "stdout",
     "output_type": "stream",
     "text": [
      "[[460  29]\n",
      " [ 47 434]]\n",
      "\n",
      "Confusion matrix\n"
     ]
    },
    {
     "data": {
      "image/png": "[encoded data removed]",
      "text/plain": [
       "<Figure size 288x288 with 2 Axes>"
      ]
     },
     "metadata": {
      "needs_background": "light"
     },
     "output_type": "display_data"
    },
    {
     "name": "stdout",
     "output_type": "stream",
     "text": [
      "[[0.4742268  0.02989691]\n",
      " [0.04845361 0.44742268]]\n",
      "\n",
      "Confusion matrix(normalised)\n"
     ]
    },
    {
     "data": {
      "image/png": "[encoded data removed]",
      "text/plain": [
       "<Figure size 288x288 with 2 Axes>"
      ]
     },
     "metadata": {
      "needs_background": "light"
     },
     "output_type": "display_data"
    },
    {
     "name": "stdout",
     "output_type": "stream",
     "text": [
      "              precision    recall  f1-score   support\n",
      "\n",
      "         0.0       0.91      0.94      0.92       489\n",
      "         1.0       0.94      0.90      0.92       481\n",
      "\n",
      "    accuracy                           0.92       970\n",
      "   macro avg       0.92      0.92      0.92       970\n",
      "weighted avg       0.92      0.92      0.92       970\n",
      "\n",
      "Accuracy achieved: 0.9216494845360824 ♡♡♡\n"
     ]
    }
   ],
   "source": [
    "# optimised_poly = svm.SVC(kernel = 'poly', degree = polySVC_param['degree'], C = polySVC_param['C'])\n",
    "# optimised_poly.fit(tr_X, tr_Y)\n",
    "# op_p_results = poly_SVC.predict(te_X)\n",
    "op_p_results = poly_SVC.predict(te_A)\n",
    "\n",
    "# cm = confusion_matrix(te_Y, op_p_results)\n",
    "cm = confusion_matrix(te_B, op_p_results)\n",
    "print(cm)\n",
    "plt.matshow(cm)\n",
    "plt.colorbar()\n",
    "plt.ylabel('True label')\n",
    "plt.xlabel('Predicted label')\n",
    "print('\\nConfusion matrix')\n",
    "plt.show()\n",
    "\n",
    "# cm2 = confusion_matrix(te_Y, op_p_results, normalize='all')\n",
    "cm2 = confusion_matrix(te_B, op_p_results, normalize='all')\n",
    "print(cm2)\n",
    "plt.matshow(cm2)\n",
    "plt.colorbar()\n",
    "plt.ylabel('True label')\n",
    "plt.xlabel('Predicted label')\n",
    "print('\\nConfusion matrix(normalised)')\n",
    "plt.show()\n",
    "\n",
    "\n",
    "print(classification_report(te_B, op_p_results))\n",
    "print('Accuracy achieved:', accuracy_score(te_B, op_p_results), '\\u2661''\\u2661''\\u2661')"
   ]
  },
  {
   "cell_type": "code",
   "execution_count": 27,
   "metadata": {
    "scrolled": true
   },
   "outputs": [],
   "source": [
    "# parameters = {'kernel':('linear', 'rbf', 'poly'), 'C':[0.1, 1, 10], 'gamma':[0.0001, 0.001, 0.01], 'degree':[1, 2, 3, 4]}\n",
    "# svc = svm.SVC()\n",
    "# clf = GridSearchCV(svc, parameters)\n",
    "# clf.fit(te_X, te_Y)\n",
    "# GridSearchCV(estimator=SVC(),\n",
    "#              param_grid={'C':[0.1, 1, 10], 'gamma':[0.0001, 0.001, 0.01], 'degree':[1, 2, 3, 4], 'kernel': ('linear', 'rbf', 'poly')})\n",
    "# sorted(clf.cv_results_.keys())\n",
    "# ['mean_fit_time', 'mean_score_time', 'mean_test_score',\n",
    "#  'param_C', 'param_kernel', 'param_gamma', 'param_degree','params',\n",
    "#  'rank_test_score', 'split0_test_score',\n",
    "#  'split2_test_score', \n",
    "#  'std_fit_time', 'std_score_time', 'std_test_score']"
   ]
  },
  {
   "cell_type": "code",
   "execution_count": 28,
   "metadata": {},
   "outputs": [],
   "source": [
    "# from sklearn.metrics import plot_confusion_matrix"
   ]
  },
  {
   "cell_type": "code",
   "execution_count": 29,
   "metadata": {},
   "outputs": [],
   "source": [
    "# titles_title = [(\"Confusion matrix, without normalization\", None),\n",
    "#          (\"Normalized confusion matrix\", 'true')]\n",
    "# for title, normalize in titles_title:\n",
    "#     disp = plot_confusion_matrix (poly_svc, te_X, te_Y,\n",
    "# #                                  display_labels = Y,\n",
    "# #                                   display_labels\n",
    "#                                  cmap=plt.cm.Blues,\n",
    "#                                  normalize=normalize)\n",
    "#     disp.ax_.set_title(title)\n",
    "\n",
    "#     print (title)\n",
    "#     print(disp.confusion_matrix)\n",
    "    \n",
    "# plt.show()\n",
    "\n",
    "#truepositive: predicted positive correctly, truenegative: predicted negative correctly, falsepositive: predicted positive wrongly, falsenegative: predicted negative wrongly\n",
    "#recall (sensitivity): TP/(TP+FN), precision (specificity): TP/(TP+FP), F-measure:(2*Recall*Precision)/(Recall+Precision)"
   ]
  },
  {
   "cell_type": "code",
   "execution_count": 35,
   "metadata": {},
   "outputs": [
    {
     "name": "stdout",
     "output_type": "stream",
     "text": [
      "Automatically created module for IPython interactive environment\n"
     ]
    },
    {
     "data": {
      "image/png": "[encoded data removed]",
      "text/plain": [
       "<Figure size 648x1296 with 3 Axes>"
      ]
     },
     "metadata": {
      "needs_background": "light"
     },
     "output_type": "display_data"
    }
   ],
   "source": [
    "print(__doc__)\n",
    "\n",
    "from sklearn.model_selection import learning_curve\n",
    "from sklearn.model_selection import ShuffleSplit\n",
    "\n",
    "\n",
    "def plot_learning_curve(estimator, title, X, y, axes=None, ylim=None, cv=None,\n",
    "                        n_jobs=None, train_sizes=np.linspace(.1, 1.0, 5)):\n",
    "    \"\"\"\n",
    "    Generate 3 plots: the test and training learning curve, the training\n",
    "    samples vs fit times curve, the fit times vs score curve.\n",
    "\n",
    "    Parameters\n",
    "    ----------\n",
    "    estimator : object type that implements the \"fit\" and \"predict\" methods\n",
    "        An object of that type which is cloned for each validation.\n",
    "\n",
    "    title : string\n",
    "        Title for the chart.\n",
    "\n",
    "    X : array-like, shape (n_samples, n_features)\n",
    "        Training vector, where n_samples is the number of samples and\n",
    "        n_features is the number of features.\n",
    "\n",
    "    y : array-like, shape (n_samples) or (n_samples, n_features), optional\n",
    "        Target relative to X for classification or regression;\n",
    "        None for unsupervised learning.\n",
    "\n",
    "    axes : array of 3 axes, optional (default=None)\n",
    "        Axes to use for plotting the curves.\n",
    "\n",
    "    ylim : tuple, shape (ymin, ymax), optional\n",
    "        Defines minimum and maximum yvalues plotted.\n",
    "\n",
    "    cv : int, cross-validation generator or an iterable, optional\n",
    "        Determines the cross-validation splitting strategy.\n",
    "        Possible inputs for cv are:\n",
    "          - None, to use the default 5-fold cross-validation,\n",
    "          - integer, to specify the number of folds.\n",
    "          - :term:`CV splitter`,\n",
    "          - An iterable yielding (train, test) splits as arrays of indices.\n",
    "\n",
    "        For integer/None inputs, if ``y`` is binary or multiclass,\n",
    "        :class:`StratifiedKFold` used. If the estimator is not a classifier\n",
    "        or if ``y`` is neither binary nor multiclass, :class:`KFold` is used.\n",
    "\n",
    "        Refer :ref:`User Guide <cross_validation>` for the various\n",
    "        cross-validators that can be used here.\n",
    "\n",
    "    n_jobs : int or None, optional (default=None)\n",
    "        Number of jobs to run in parallel.\n",
    "        ``None`` means 1 unless in a :obj:`joblib.parallel_backend` context.\n",
    "        ``-1`` means using all processors. See :term:`Glossary <n_jobs>`\n",
    "        for more details.\n",
    "\n",
    "    train_sizes : array-like, shape (n_ticks,), dtype float or int\n",
    "        Relative or absolute numbers of training examples that will be used to\n",
    "        generate the learning curve. If the dtype is float, it is regarded as a\n",
    "        fraction of the maximum size of the training set (that is determined\n",
    "        by the selected validation method), i.e. it has to be within (0, 1].\n",
    "        Otherwise it is interpreted as absolute sizes of the training sets.\n",
    "        Note that for classification the number of samples usually have to\n",
    "        be big enough to contain at least one sample from each class.\n",
    "        (default: np.linspace(0.1, 1.0, 5))\n",
    "    \"\"\"\n",
    "\n",
    "    axes.set_title(title)\n",
    "    if ylim is not None:\n",
    "        axes.set_ylim(*ylim)\n",
    "        axes.set_xlabel(\"Training examples\")\n",
    "        axes.set_ylabel(\"Score\")\n",
    "\n",
    "        train_sizes, train_scores, test_scores, fit_times, _ = \\\n",
    "            learning_curve(estimator, X, y, cv=cv, n_jobs=n_jobs,\n",
    "                           train_sizes=train_sizes,\n",
    "                           return_times=True)\n",
    "        train_scores_mean = np.mean(train_scores, axis=1)\n",
    "        train_scores_std = np.std(train_scores, axis=1)\n",
    "        test_scores_mean = np.mean(test_scores, axis=1)\n",
    "        test_scores_std = np.std(test_scores, axis=1)\n",
    "        fit_times_mean = np.mean(fit_times, axis=1)\n",
    "        fit_times_std = np.std(fit_times, axis=1)\n",
    "\n",
    "    # Plot learning curve\n",
    "        axes.grid()\n",
    "        axes.fill_between(train_sizes, train_scores_mean - train_scores_std,\n",
    "                             train_scores_mean + train_scores_std, alpha=0.1,\n",
    "                             color=\"r\")\n",
    "        axes.fill_between(train_sizes, test_scores_mean - test_scores_std,\n",
    "                             test_scores_mean + test_scores_std, alpha=0.1,\n",
    "                             color=\"g\")\n",
    "        axes.plot(train_sizes, train_scores_mean, 'o-', color=\"r\",\n",
    "                     label=\"Training score\")\n",
    "        axes.plot(train_sizes, test_scores_mean, 'o-', color=\"g\",\n",
    "                     label=\"Cross-validation score\")\n",
    "        axes.legend(loc=\"best\")\n",
    "\n",
    "#     # Plot n_samples vs fit_times\n",
    "#     axes[1].grid()\n",
    "#     axes[1].plot(train_sizes, fit_times_mean, 'o-')\n",
    "#     axes[1].fill_between(train_sizes, fit_times_mean - fit_times_std,\n",
    "#                          fit_times_mean + fit_times_std, alpha=0.1)\n",
    "#     axes[1].set_xlabel(\"Training examples\")\n",
    "#     axes[1].set_ylabel(\"fit_times\")\n",
    "#     axes[1].set_title(\"Scalability of the model\")\n",
    "\n",
    "#     # Plot fit_time vs score\n",
    "#     axes[2].grid()\n",
    "#     axes[2].plot(fit_times_mean, test_scores_mean, 'o-')\n",
    "#     axes[2].fill_between(fit_times_mean, test_scores_mean - test_scores_std,\n",
    "#                          test_scores_mean + test_scores_std, alpha=0.1)\n",
    "#     axes[2].set_xlabel(\"fit_times\")\n",
    "#     axes[2].set_ylabel(\"Score\")\n",
    "#     axes[2].set_title(\"Performance of the model\")\n",
    "\n",
    "    return plt\n",
    "\n",
    "\n",
    "# fig, axes = plt.subplots(1,1, figsize=(10, 5))\n",
    "\n",
    "plt.figure(figsize=(9,18))\n",
    "\n",
    "# Cross validation with 20 iterations to get smoother mean test and train\n",
    "# score curves, each time with 20% data randomly selected as a validation set.\n",
    "\n",
    "# Cross validation with more iterations to get smoother mean test and train score curves, each time with 20% data randomly selected as a validation set.\n",
    "# SVC is more expensive so we do a lower number of CV iterations. This is becasue you have to keep the kernel matrix around, and the projection into this \"infinite\" higher dimensional space where the data becomes linearly separable is more expensive as well during prediction. Furthermore, you have more hyperparameters to tune, so model selection is more expensive.\n",
    "# cv = ShuffleSplit(n_splits=30, test_size=0.2, random_state=0)\n",
    "cv = ShuffleSplit(n_splits=20, test_size=0.2, random_state=0)\n",
    "\n",
    "# plot_learning_curve(estimator, title, te_X, te_Y, axes=axes, ylim=(0.8, 1.01), cv=cv, n_jobs=-1)\n",
    "axes = plt.subplot(311)\n",
    "title = r\"Learning Curves (linear)\"\n",
    "plot_learning_curve(lin_SVC, title, te_A, te_B, axes=axes, ylim=(0.75, 1.01), cv=cv, n_jobs=-1)\n",
    "\n",
    "axes = plt.subplot(312)\n",
    "title = r\"Learning Curves (rbf)\"\n",
    "plot_learning_curve(rbf_SVC, title, te_A, te_B, axes=axes, ylim=(0.6, 1.01), cv=cv, n_jobs=-1)\n",
    "\n",
    "axes = plt.subplot(313)\n",
    "title = r\"Learning Curves (poly)\"\n",
    "plot_learning_curve(poly_SVC, title, te_A, te_B, axes=axes, ylim=(0.8, 1.01), cv=cv, n_jobs=-1)\n",
    "\n",
    "\n",
    "plt.show()"
   ]
  },
  {
   "cell_type": "code",
   "execution_count": 36,
   "metadata": {},
   "outputs": [
    {
     "name": "stdout",
     "output_type": "stream",
     "text": [
      "--- 2315.7013487815857 seconds ---\n"
     ]
    }
   ],
   "source": [
    "print(\"--- %s seconds ---\" % (time.time() - start_time))"
   ]
  },
  {
   "cell_type": "code",
   "execution_count": null,
   "metadata": {},
   "outputs": [],
   "source": []
  },
  {
   "cell_type": "code",
   "execution_count": null,
   "metadata": {},
   "outputs": [],
   "source": []
  },
  {
   "cell_type": "code",
   "execution_count": null,
   "metadata": {},
   "outputs": [],
   "source": []
  }
 ],
 "metadata": {
  "kernelspec": {
   "display_name": "Python 3",
   "language": "python",
   "name": "python3"
  },
  "language_info": {
   "codemirror_mode": {
    "name": "ipython",
    "version": 3
   },
   "file_extension": ".py",
   "mimetype": "text/x-python",
   "name": "python",
   "nbconvert_exporter": "python",
   "pygments_lexer": "ipython3",
   "version": "3.7.5"
  }
 },
 "nbformat": 4,
 "nbformat_minor": 2
}
