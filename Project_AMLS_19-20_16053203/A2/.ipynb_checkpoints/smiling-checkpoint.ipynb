{
 "cells": [
  {
   "cell_type": "code",
   "execution_count": 1,
   "metadata": {},
   "outputs": [
    {
     "name": "stderr",
     "output_type": "stream",
     "text": [
      "Using TensorFlow backend.\n"
     ]
    }
   ],
   "source": [
    "import time\n",
    "start_time = time.time()\n",
    "import progressbar\n",
    "import os\n",
    "import numpy as np\n",
    "from keras.preprocessing import image\n",
    "import cv2\n",
    "import dlib\n",
    "import pandas as pd\n",
    "import matplotlib.pyplot as plt\n",
    "import sys"
   ]
  },
  {
   "cell_type": "code",
   "execution_count": 2,
   "metadata": {},
   "outputs": [],
   "source": [
    "from keras.preprocessing import image\n",
    "from sklearn import svm, datasets\n",
    "from sklearn.dummy import DummyClassifier\n",
    "from sklearn.svm import SVC\n",
    "from sklearn.utils import shuffle\n",
    "from sklearn.model_selection import train_test_split, GridSearchCV, learning_curve, ShuffleSplit\n",
    "from sklearn.metrics import classification_report, accuracy_score, confusion_matrix, recall_score, precision_score, f1_score\n",
    "import matplotlib.pyplot as plt"
   ]
  },
  {
   "cell_type": "code",
   "execution_count": 3,
   "metadata": {},
   "outputs": [
    {
     "name": "stdout",
     "output_type": "stream",
     "text": [
      "C:\\Users\\User\\Desktop\\4th_year_AMLS\\AMLS_19-20_ChinYangTan_16053203\\Project_AMLS_19-20_16053203\\A2\n"
     ]
    }
   ],
   "source": [
    "cwd = os.getcwd()\n",
    "\n",
    "print(cwd)"
   ]
  },
  {
   "cell_type": "code",
   "execution_count": 4,
   "metadata": {},
   "outputs": [],
   "source": [
    "import landmarks_v2 as l2"
   ]
  },
  {
   "cell_type": "code",
   "execution_count": 5,
   "metadata": {},
   "outputs": [],
   "source": [
    "def get_data():\n",
    "    return l2.extract_features_labels()\n",
    "    \n",
    "def split_data(X, Y):\n",
    "\n",
    "    X, Y = shuffle(X,Y)\n",
    "    tr_X, te_X, tr_Y, te_Y = train_test_split(X, Y, train_size=0.7)\n",
    "    \n",
    "    return tr_X, tr_Y, te_X, te_Y"
   ]
  },
  {
   "cell_type": "code",
   "execution_count": 6,
   "metadata": {},
   "outputs": [
    {
     "name": "stdout",
     "output_type": "stream",
     "text": [
      "(4798, 68, 2)\n",
      "(4798,)\n"
     ]
    }
   ],
   "source": [
    "X,y = get_data()\n",
    "\n",
    "print(X.shape)\n",
    "print(y.shape)"
   ]
  },
  {
   "cell_type": "code",
   "execution_count": 7,
   "metadata": {},
   "outputs": [
    {
     "name": "stdout",
     "output_type": "stream",
     "text": [
      "C:\\Users\\User\\Desktop\\4th_year_AMLS\\AMLS_19-20_ChinYangTan_16053203\\Project_AMLS_19-20_16053203\\A2\n"
     ]
    }
   ],
   "source": [
    "print (os.path.abspath(os.curdir))"
   ]
  },
  {
   "cell_type": "code",
   "execution_count": 8,
   "metadata": {},
   "outputs": [],
   "source": [
    "#self transpose\n",
    "Y = np.array([y, -(y - 1)]).T \n",
    "\n",
    "tr_X, tr_Y, te_X, te_Y = split_data(X, Y)"
   ]
  },
  {
   "cell_type": "code",
   "execution_count": 9,
   "metadata": {},
   "outputs": [
    {
     "name": "stdout",
     "output_type": "stream",
     "text": [
      "[[[ 33 108]\n",
      "  [ 34 122]\n",
      "  [ 35 136]\n",
      "  ...\n",
      "  [ 97 158]\n",
      "  [ 94 160]\n",
      "  [ 89 160]]\n",
      "\n",
      " [[ 58 118]\n",
      "  [ 58 127]\n",
      "  [ 59 136]\n",
      "  ...\n",
      "  [ 88 158]\n",
      "  [ 83 158]\n",
      "  [ 79 157]]\n",
      "\n",
      " [[ 33 116]\n",
      "  [ 34 129]\n",
      "  [ 36 142]\n",
      "  ...\n",
      "  [ 96 153]\n",
      "  [ 93 154]\n",
      "  [ 88 153]]\n",
      "\n",
      " ...\n",
      "\n",
      " [[ 41 112]\n",
      "  [ 41 124]\n",
      "  [ 43 136]\n",
      "  ...\n",
      "  [ 96 157]\n",
      "  [ 92 157]\n",
      "  [ 87 157]]\n",
      "\n",
      " [[ 48 118]\n",
      "  [ 48 129]\n",
      "  [ 50 140]\n",
      "  ...\n",
      "  [ 93 151]\n",
      "  [ 88 152]\n",
      "  [ 84 152]]\n",
      "\n",
      " [[ 56 114]\n",
      "  [ 55 124]\n",
      "  [ 55 133]\n",
      "  ...\n",
      "  [ 90 158]\n",
      "  [ 84 158]\n",
      "  [ 80 157]]]\n",
      "(3358, 68, 2)\n",
      "[[ 0.  1.]\n",
      " [ 1. -0.]\n",
      " [ 0.  1.]\n",
      " ...\n",
      " [ 0.  1.]\n",
      " [ 0.  1.]\n",
      " [ 1. -0.]]\n",
      "(3358, 2)\n"
     ]
    }
   ],
   "source": [
    "print(tr_X)\n",
    "print(tr_X.shape)\n",
    "print(tr_Y)\n",
    "print(tr_Y.shape)"
   ]
  },
  {
   "cell_type": "code",
   "execution_count": 10,
   "metadata": {},
   "outputs": [],
   "source": [
    "def reshapeX(X):\n",
    "    return X.reshape((X.shape[0], X.shape[1] * X.shape[2]))\n",
    "\n",
    "def reshapeY(y):\n",
    "    return list(zip(*y))[0]\n",
    "\n",
    "tr_X = reshapeX(tr_X)\n",
    "te_X = reshapeX(te_X)\n",
    "tr_Y = reshapeY(tr_Y)\n",
    "te_Y = reshapeY(te_Y)"
   ]
  },
  {
   "cell_type": "code",
   "execution_count": 11,
   "metadata": {},
   "outputs": [
    {
     "name": "stdout",
     "output_type": "stream",
     "text": [
      "(3358, 136)\n"
     ]
    }
   ],
   "source": [
    "print(tr_X.shape)"
   ]
  },
  {
   "cell_type": "code",
   "execution_count": null,
   "metadata": {},
   "outputs": [],
   "source": []
  },
  {
   "cell_type": "code",
   "execution_count": 12,
   "metadata": {},
   "outputs": [
    {
     "name": "stdout",
     "output_type": "stream",
     "text": [
      "0.1 Linear: 0.8972222222222223\n",
      "0.1 scale Rbf: 0.8590277777777777\n",
      "0.1 1 Poly 0.8555555555555555\n",
      "0.1 Linear: 0.8972222222222223\n",
      "0.1 scale Rbf: 0.8590277777777777\n",
      "0.1 2 Poly 0.8840277777777777\n",
      "0.1 Linear: 0.8972222222222223\n",
      "0.1 scale Rbf: 0.8590277777777777\n",
      "0.1 3 Poly 0.8986111111111111\n",
      "0.1 Linear: 0.8972222222222223\n",
      "0.1 scale Rbf: 0.8590277777777777\n",
      "0.1 4 Poly 0.8958333333333334\n",
      "1 Linear: 0.8972222222222223\n",
      "1 scale Rbf: 0.8868055555555555\n",
      "1 1 Poly 0.8805555555555555\n",
      "1 Linear: 0.8972222222222223\n",
      "1 scale Rbf: 0.8868055555555555\n",
      "1 2 Poly 0.8965277777777778\n",
      "1 Linear: 0.8972222222222223\n",
      "1 scale Rbf: 0.8868055555555555\n",
      "1 3 Poly 0.8993055555555556\n",
      "1 Linear: 0.8972222222222223\n",
      "1 scale Rbf: 0.8868055555555555\n",
      "1 4 Poly 0.8986111111111111\n"
     ]
    }
   ],
   "source": [
    "gamma='scale'\n",
    "\n",
    "for C in [0.1,1]:\n",
    "    for degree in [1, 2, 3, 4]:\n",
    "                \n",
    "        lin_svc = svm.SVC(kernel='linear', C=C).fit(tr_X, tr_Y)\n",
    "        print(C, \"Linear:\", lin_svc.score(te_X, te_Y))\n",
    "\n",
    "        rbf_svc = svm.SVC(kernel='rbf', gamma=gamma, C=C).fit(tr_X, tr_Y)\n",
    "        print( C, gamma, \"Rbf:\", rbf_svc.score(te_X, te_Y))\n",
    "\n",
    "        poly_svc = svm.SVC(kernel='poly', degree=degree, C=C).fit(tr_X, tr_Y)\n",
    "        print( C, degree, \"Poly\", poly_svc.score(te_X, te_Y))"
   ]
  },
  {
   "cell_type": "code",
   "execution_count": 13,
   "metadata": {},
   "outputs": [],
   "source": [
    "from sklearn.model_selection import GridSearchCV, RandomizedSearchCV\n",
    "from sklearn import preprocessing\n",
    "from sklearn.calibration import CalibratedClassifierCV\n",
    "from sklearn.ensemble import RandomForestClassifier\n",
    "from sklearn.svm import SVC as svc\n",
    "from sklearn.metrics import make_scorer, roc_auc_score\n",
    "from scipy import stats"
   ]
  },
  {
   "cell_type": "code",
   "execution_count": 14,
   "metadata": {},
   "outputs": [],
   "source": [
    "# svc_list = []\n",
    "\n",
    "# lin_svc = svm.SVC(kernel='linear', C=C).fit(tr_X, tr_Y)\n",
    "# # print(C, \"Linear:\", lin_svc.score(te_X, te_Y))\n",
    "\n",
    "# rbf_svc = svm.SVC(kernel='rbf', gamma=gamma, C=C).fit(tr_X, tr_Y)\n",
    "# # print( C, gamma, \"Rbf:\", rbf_svc.score(te_X, te_Y))\n",
    "\n",
    "# poly_svc = svm.SVC(kernel='poly', degree=degree, C=C).fit(tr_X, tr_Y)\n",
    "# # print( C, degree, \"Poly\", poly_svc.score(te_X, te_Y))\n",
    "\n",
    "# svc_list.append({\n",
    "#     'lin_svc': lin_svc,\n",
    "#     'rbf_svc': rbf_svc,\n",
    "#     'poly_svc': poly_svc,\n",
    "#     'C': C,\n",
    "#     'gamma': gamma,\n",
    "#     'degree': degree\n",
    "# })\n",
    "\n",
    "# #define model and performance measure\n",
    "# svc_list=svc(probability=True, random_state=1)\n",
    "# auc=make_scorer(roc_auc_score)\n",
    "\n",
    "# #random search for 20 combinations of parameters\n",
    "# rand_list = {\"C\":stats.uniform(2,10),\n",
    "#             \"gamma\":stats.uniform(0.1,1),\n",
    "#             \"degree\":stats.uniform(1,3)}\n",
    "\n",
    "# rand_search = RandomizedSearchCV(svc_list, param_distributions = rand_list, n_iter=20, n_jobs=4, cv=3, random_state=2017, scoring=auc)\n",
    "# rand_search.fit(tr_X, tr_Y)\n",
    "# rand_search.cv_results_\n",
    "\n",
    "# print(rand_search.best_params_)"
   ]
  },
  {
   "cell_type": "code",
   "execution_count": 15,
   "metadata": {},
   "outputs": [
    {
     "name": "stdout",
     "output_type": "stream",
     "text": [
      "Fitting 5 folds for each of 10 candidates, totalling 50 fits\n"
     ]
    },
    {
     "name": "stderr",
     "output_type": "stream",
     "text": [
      "[Parallel(n_jobs=-1)]: Using backend LokyBackend with 8 concurrent workers.\n",
      "[Parallel(n_jobs=-1)]: Done  16 tasks      | elapsed:  6.6min\n",
      "[Parallel(n_jobs=-1)]: Done  50 out of  50 | elapsed: 23.1min finished\n"
     ]
    },
    {
     "name": "stdout",
     "output_type": "stream",
     "text": [
      "{'mean_fit_time': array([347.91030326,  41.95335937,  29.44429426, 358.47233763,\n",
      "       121.37519264, 376.82296467, 150.13341694,  72.49119806,\n",
      "       207.40002742, 333.95540996]), 'std_fit_time': array([34.54606897,  7.2765936 ,  4.35978326, 64.6764821 , 10.24423635,\n",
      "       89.09659991, 19.41834598,  8.40946913, 39.18269616, 43.50330821]), 'mean_score_time': array([0.1484961 , 0.14454937, 0.16967015, 0.15180545, 0.15183644,\n",
      "       0.14802899, 0.14789128, 0.16240568, 0.13159289, 0.14243903]), 'std_score_time': array([0.00842629, 0.0135385 , 0.02327662, 0.00552325, 0.00831729,\n",
      "       0.00591438, 0.01528208, 0.01514732, 0.00892289, 0.00283716]), 'param_C': masked_array(data=[7.442707523445546, 1.1856118443168262,\n",
      "                   0.750697554356483, 7.074123184677768,\n",
      "                   2.7419803079221485, 7.777997278190772,\n",
      "                   3.306357208165679, 1.80452239865997, 4.789949306354046,\n",
      "                   8.950079728249063],\n",
      "             mask=[False, False, False, False, False, False, False, False,\n",
      "                   False, False],\n",
      "       fill_value='?',\n",
      "            dtype=object), 'param_kernel': masked_array(data=['linear', 'linear', 'linear', 'linear', 'linear',\n",
      "                   'linear', 'linear', 'linear', 'linear', 'linear'],\n",
      "             mask=[False, False, False, False, False, False, False, False,\n",
      "                   False, False],\n",
      "       fill_value='?',\n",
      "            dtype=object), 'params': [{'C': 7.442707523445546, 'kernel': 'linear'}, {'C': 1.1856118443168262, 'kernel': 'linear'}, {'C': 0.750697554356483, 'kernel': 'linear'}, {'C': 7.074123184677768, 'kernel': 'linear'}, {'C': 2.7419803079221485, 'kernel': 'linear'}, {'C': 7.777997278190772, 'kernel': 'linear'}, {'C': 3.306357208165679, 'kernel': 'linear'}, {'C': 1.80452239865997, 'kernel': 'linear'}, {'C': 4.789949306354046, 'kernel': 'linear'}, {'C': 8.950079728249063, 'kernel': 'linear'}], 'split0_test_score': array([0.87797619, 0.87946429, 0.87797619, 0.87797619, 0.87946429,\n",
      "       0.87797619, 0.87797619, 0.87946429, 0.87797619, 0.87797619]), 'split1_test_score': array([0.88988095, 0.88839286, 0.88839286, 0.88988095, 0.88988095,\n",
      "       0.88988095, 0.88988095, 0.88988095, 0.88988095, 0.88988095]), 'split2_test_score': array([0.89880952, 0.90178571, 0.90327381, 0.89732143, 0.89880952,\n",
      "       0.89880952, 0.89880952, 0.90178571, 0.89732143, 0.89880952]), 'split3_test_score': array([0.87481371, 0.87779434, 0.87630402, 0.87481371, 0.87630402,\n",
      "       0.87481371, 0.87630402, 0.87779434, 0.87481371, 0.87481371]), 'split4_test_score': array([0.87034277, 0.86438152, 0.86289121, 0.87034277, 0.86885246,\n",
      "       0.87034277, 0.86885246, 0.86587183, 0.86736215, 0.87034277]), 'mean_test_score': array([0.88236463, 0.88236374, 0.88176762, 0.88206701, 0.88266225,\n",
      "       0.88236463, 0.88236463, 0.88295942, 0.88147089, 0.88236463]), 'std_test_score': array([0.01046642, 0.01237909, 0.01346815, 0.01000558, 0.01052814,\n",
      "       0.01046642, 0.01063483, 0.01210964, 0.01074762, 0.01046642]), 'rank_test_score': array([ 3,  7,  9,  8,  2,  3,  3,  1, 10,  3])}\n",
      "Fitting 5 folds for each of 10 candidates, totalling 50 fits\n"
     ]
    },
    {
     "name": "stderr",
     "output_type": "stream",
     "text": [
      "[Parallel(n_jobs=-1)]: Using backend LokyBackend with 8 concurrent workers.\n",
      "[Parallel(n_jobs=-1)]: Done  16 tasks      | elapsed:   16.1s\n",
      "[Parallel(n_jobs=-1)]: Done  50 out of  50 | elapsed:   37.3s finished\n"
     ]
    },
    {
     "name": "stdout",
     "output_type": "stream",
     "text": [
      "{'mean_fit_time': array([5.08177419, 5.65577407, 3.32637129, 5.51250405, 4.82590108,\n",
      "       2.03957906, 5.71234541, 6.0856998 , 6.63112659, 2.29500599]), 'std_fit_time': array([0.13122011, 0.09332982, 0.52978903, 0.05286373, 0.12124731,\n",
      "       0.04791355, 0.10950928, 0.37286033, 0.16846853, 0.41639878]), 'mean_score_time': array([0.81682339, 0.98309917, 0.49469967, 0.93877287, 0.61948986,\n",
      "       0.28550057, 1.05077863, 1.28368206, 0.99648442, 0.28740587]), 'std_score_time': array([0.01761075, 0.02159933, 0.00782637, 0.03386266, 0.05932034,\n",
      "       0.02118764, 0.09757551, 0.1221147 , 0.08711566, 0.04623049]), 'param_C': masked_array(data=[8.99991942471339, 9.811175578763528,\n",
      "                   5.8869309449590705, 5.879555370199828,\n",
      "                   4.812927222658808, 4.8919512092820945,\n",
      "                   4.425270600678638, 7.697001774196003,\n",
      "                   5.2364657540556365, 8.936866341782109],\n",
      "             mask=[False, False, False, False, False, False, False, False,\n",
      "                   False, False],\n",
      "       fill_value='?',\n",
      "            dtype=object), 'param_gamma': masked_array(data=[0.0055029208159842235, 0.007841753385259772,\n",
      "                   0.002034982950371106, 0.006918324158920786,\n",
      "                   0.0029633215633561526, 0.0007378104025203757,\n",
      "                   0.0086110739788308, 0.009921236757959008,\n",
      "                   0.008472878436352586, 0.0008625015100350675],\n",
      "             mask=[False, False, False, False, False, False, False, False,\n",
      "                   False, False],\n",
      "       fill_value='?',\n",
      "            dtype=object), 'param_kernel': masked_array(data=['rbf', 'rbf', 'rbf', 'rbf', 'rbf', 'rbf', 'rbf', 'rbf',\n",
      "                   'rbf', 'rbf'],\n",
      "             mask=[False, False, False, False, False, False, False, False,\n",
      "                   False, False],\n",
      "       fill_value='?',\n",
      "            dtype=object), 'params': [{'C': 8.99991942471339, 'gamma': 0.0055029208159842235, 'kernel': 'rbf'}, {'C': 9.811175578763528, 'gamma': 0.007841753385259772, 'kernel': 'rbf'}, {'C': 5.8869309449590705, 'gamma': 0.002034982950371106, 'kernel': 'rbf'}, {'C': 5.879555370199828, 'gamma': 0.006918324158920786, 'kernel': 'rbf'}, {'C': 4.812927222658808, 'gamma': 0.0029633215633561526, 'kernel': 'rbf'}, {'C': 4.8919512092820945, 'gamma': 0.0007378104025203757, 'kernel': 'rbf'}, {'C': 4.425270600678638, 'gamma': 0.0086110739788308, 'kernel': 'rbf'}, {'C': 7.697001774196003, 'gamma': 0.009921236757959008, 'kernel': 'rbf'}, {'C': 5.2364657540556365, 'gamma': 0.008472878436352586, 'kernel': 'rbf'}, {'C': 8.936866341782109, 'gamma': 0.0008625015100350675, 'kernel': 'rbf'}], 'split0_test_score': array([0.84970238, 0.85416667, 0.86755952, 0.84821429, 0.86755952,\n",
      "       0.88839286, 0.84970238, 0.84821429, 0.85267857, 0.89136905]), 'split1_test_score': array([0.8422619 , 0.82738095, 0.88095238, 0.83184524, 0.86309524,\n",
      "       0.90625   , 0.83184524, 0.82738095, 0.83184524, 0.88839286]), 'split2_test_score': array([0.86160714, 0.85863095, 0.87946429, 0.86160714, 0.8764881 ,\n",
      "       0.89732143, 0.85863095, 0.87053571, 0.85863095, 0.89136905]), 'split3_test_score': array([0.84351714, 0.83457526, 0.86587183, 0.83755589, 0.85842027,\n",
      "       0.87779434, 0.83457526, 0.84351714, 0.83457526, 0.86885246]), 'split4_test_score': array([0.84500745, 0.83457526, 0.84649776, 0.84202683, 0.83755589,\n",
      "       0.86736215, 0.83159463, 0.84053651, 0.83159463, 0.85692996]), 'mean_test_score': array([0.8484192 , 0.84186582, 0.86806916, 0.84424988, 0.8606238 ,\n",
      "       0.88742415, 0.84126969, 0.84603692, 0.84186493, 0.87938267]), 'std_test_score': array([0.00705905, 0.01223517, 0.01237933, 0.01020409, 0.01298362,\n",
      "       0.01377334, 0.01095232, 0.01406827, 0.01146339, 0.01402526]), 'rank_test_score': array([ 5,  8,  3,  7,  4,  1, 10,  6,  9,  2])}\n",
      "Fitting 5 folds for each of 10 candidates, totalling 50 fits\n"
     ]
    },
    {
     "name": "stderr",
     "output_type": "stream",
     "text": [
      "[Parallel(n_jobs=-1)]: Using backend LokyBackend with 8 concurrent workers.\n",
      "[Parallel(n_jobs=-1)]: Done  16 tasks      | elapsed:   12.8s\n",
      "[Parallel(n_jobs=-1)]: Done  50 out of  50 | elapsed:   30.8s finished\n"
     ]
    },
    {
     "name": "stdout",
     "output_type": "stream",
     "text": [
      "{'mean_fit_time': array([12.2802155 ,  1.87174339,  2.94069085,  1.48521671,  3.16174846,\n",
      "        4.58321776,  1.8319427 , 10.3206882 ,  1.81650205,  1.6614748 ]), 'std_fit_time': array([0.88853569, 0.21139603, 0.42348101, 0.18592573, 0.18375885,\n",
      "       0.17049342, 0.04289373, 0.38908814, 0.39578923, 0.17055741]), 'mean_score_time': array([0.1960248 , 0.2086514 , 0.16740985, 0.29502358, 0.52849522,\n",
      "       0.79413967, 0.25900245, 0.148594  , 0.22370114, 0.16713405]), 'std_score_time': array([0.03215688, 0.01138356, 0.00663367, 0.05019297, 0.059423  ,\n",
      "       0.03109556, 0.04625126, 0.00393826, 0.01916541, 0.01769479]), 'param_C': masked_array(data=[7.901480682831564, 3.2674994721068584,\n",
      "                   1.3659868240019413, 10.09471305027303,\n",
      "                   1.638636988519856, 0.37723715583811257,\n",
      "                   4.6151899467158835, 7.215880206845042,\n",
      "                   7.667004505118344, 6.355160261939672],\n",
      "             mask=[False, False, False, False, False, False, False, False,\n",
      "                   False, False],\n",
      "       fill_value='?',\n",
      "            dtype=object), 'param_degree': masked_array(data=[4.807940487276191, 2.545617434123038,\n",
      "                   4.771748612644487, 1.2853921783630895,\n",
      "                   1.4217744079801782, 1.9528163635593634,\n",
      "                   2.9411988013595973, 4.122042295953363,\n",
      "                   2.3644797868340897, 3.5839819462540476],\n",
      "             mask=[False, False, False, False, False, False, False, False,\n",
      "                   False, False],\n",
      "       fill_value='?',\n",
      "            dtype=object), 'param_kernel': masked_array(data=['poly', 'poly', 'poly', 'poly', 'poly', 'poly', 'poly',\n",
      "                   'poly', 'poly', 'poly'],\n",
      "             mask=[False, False, False, False, False, False, False, False,\n",
      "                   False, False],\n",
      "       fill_value='?',\n",
      "            dtype=object), 'params': [{'C': 7.901480682831564, 'degree': 4.807940487276191, 'kernel': 'poly'}, {'C': 3.2674994721068584, 'degree': 2.545617434123038, 'kernel': 'poly'}, {'C': 1.3659868240019413, 'degree': 4.771748612644487, 'kernel': 'poly'}, {'C': 10.09471305027303, 'degree': 1.2853921783630895, 'kernel': 'poly'}, {'C': 1.638636988519856, 'degree': 1.4217744079801782, 'kernel': 'poly'}, {'C': 0.37723715583811257, 'degree': 1.9528163635593634, 'kernel': 'poly'}, {'C': 4.6151899467158835, 'degree': 2.9411988013595973, 'kernel': 'poly'}, {'C': 7.215880206845042, 'degree': 4.122042295953363, 'kernel': 'poly'}, {'C': 7.667004505118344, 'degree': 2.3644797868340897, 'kernel': 'poly'}, {'C': 6.355160261939672, 'degree': 3.5839819462540476, 'kernel': 'poly'}], 'split0_test_score': array([0.88392857, 0.89880952, 0.88095238, 0.88839286, 0.86904762,\n",
      "       0.85565476, 0.89880952, 0.88244048, 0.89880952, 0.89285714]), 'split1_test_score': array([0.89583333, 0.90625   , 0.89732143, 0.9077381 , 0.89732143,\n",
      "       0.87946429, 0.90922619, 0.89434524, 0.90625   , 0.91220238]), 'split2_test_score': array([0.89583333, 0.89732143, 0.90178571, 0.89285714, 0.875     ,\n",
      "       0.85863095, 0.89880952, 0.89732143, 0.90029762, 0.90625   ]), 'split3_test_score': array([0.88077496, 0.87928465, 0.88077496, 0.85991058, 0.85245902,\n",
      "       0.84202683, 0.88226528, 0.87928465, 0.88226528, 0.88673621]), 'split4_test_score': array([0.8733234 , 0.87481371, 0.87183308, 0.8733234 , 0.87928465,\n",
      "       0.87481371, 0.87481371, 0.86885246, 0.87779434, 0.87034277]), 'mean_test_score': array([0.88593872, 0.89129586, 0.88653351, 0.88444441, 0.87462254,\n",
      "       0.86211811, 0.89278484, 0.88444885, 0.89308335, 0.8936777 ]), 'std_test_score': array([0.00878246, 0.01210223, 0.01121982, 0.01645932, 0.01455623,\n",
      "       0.01356217, 0.01246222, 0.01036911, 0.01103612, 0.01479597]), 'rank_test_score': array([ 6,  4,  5,  8,  9, 10,  3,  7,  2,  1])}\n",
      "Optimum hyperparameters for linear kernel: \n",
      "{'C': 1.80452239865997, 'kernel': 'linear'}\n",
      "Optimum hyperparameters for rbf kernel: \n",
      "{'C': 4.8919512092820945, 'gamma': 0.0007378104025203757, 'kernel': 'rbf'}\n",
      "Optimum hyperparameters for polynomial kernel: \n",
      "{'C': 6.355160261939672, 'degree': 3.5839819462540476, 'kernel': 'poly'}\n"
     ]
    }
   ],
   "source": [
    "from scipy import stats\n",
    "from sklearn.model_selection import RandomizedSearchCV\n",
    "from sklearn.metrics import make_scorer, roc_auc_score\n",
    "\n",
    "lin = {'C': stats.uniform(0.1, 10), 'kernel': ['linear']}\n",
    "\n",
    "rbf = {'C': stats.uniform(0.1, 10), 'gamma': stats.uniform(0.0001, 0.01), 'kernel': ['rbf']}\n",
    "\n",
    "poly = {'C': stats.uniform(0.1, 10), 'degree': stats.uniform(1, 4), 'kernel': ['poly']}\n",
    "\n",
    "def randomSearch(X, y, param_kernel):\n",
    "    param_distributions = param_kernel #a dictionary with parameters names (string) as keys of parameters to try\n",
    "    #number of jobs = -1 is using all processors \n",
    "    #n_iter trades off runtime with quality of solution\n",
    "    #cv is at default value for 5-fold cross validation\n",
    "    #verbose gives out messages; refit is to refit an estimator to find the best parameters\n",
    "    #random_state is a pseudo random number generator used for random uniform sampling from list of possible values instead of using scipy.stats distributions\n",
    "    searchrand = RandomizedSearchCV(SVC(), param_distributions, n_iter=10, n_jobs=-1, refit=True, verbose=3)\n",
    "    searchrand.fit(X, y)\n",
    "    searchrand.cv_results_\n",
    "    \n",
    "    print(searchrand.cv_results_)\n",
    "    return searchrand.best_params_, searchrand.best_estimator_  \n",
    "\n",
    "# Obtaining optimum hyperparameters and classifier for different kernel\n",
    "linSVC_param, lin_SVC = randomSearch(tr_X, tr_Y, lin)\n",
    "rbfSVC_param, rbf_SVC = randomSearch(tr_X, tr_Y, rbf)\n",
    "polySVC_param, poly_SVC = randomSearch(tr_X, tr_Y, poly)\n",
    "#print(datetime.now() - start)\n",
    "\n",
    "# Display optimum hyperparameters for SVC kernel\n",
    "print('Optimum hyperparameters for linear kernel: ')\n",
    "print(linSVC_param)\n",
    "print('Optimum hyperparameters for rbf kernel: ')\n",
    "print(rbfSVC_param)\n",
    "print('Optimum hyperparameters for polynomial kernel: ')\n",
    "print(polySVC_param)"
   ]
  },
  {
   "cell_type": "code",
   "execution_count": 16,
   "metadata": {},
   "outputs": [
    {
     "name": "stdout",
     "output_type": "stream",
     "text": [
      "0.8972222222222223\n",
      "0.8923611111111112\n",
      "0.8986111111111111\n"
     ]
    }
   ],
   "source": [
    "print(lin_SVC.score(te_X, te_Y))\n",
    "print(rbf_SVC.score(te_X, te_Y))\n",
    "print(poly_SVC.score(te_X, te_Y))"
   ]
  },
  {
   "cell_type": "code",
   "execution_count": 17,
   "metadata": {},
   "outputs": [],
   "source": [
    "import landmarks_v2_test as l1 "
   ]
  },
  {
   "cell_type": "code",
   "execution_count": 18,
   "metadata": {},
   "outputs": [],
   "source": [
    "def get_data():\n",
    "    return l1.extract_features_labels()"
   ]
  },
  {
   "cell_type": "code",
   "execution_count": 19,
   "metadata": {},
   "outputs": [
    {
     "name": "stdout",
     "output_type": "stream",
     "text": [
      "(970, 68, 2)\n",
      "(970,)\n"
     ]
    }
   ],
   "source": [
    "A,b = get_data()\n",
    "\n",
    "print(A.shape)\n",
    "print(b.shape)"
   ]
  },
  {
   "cell_type": "code",
   "execution_count": 20,
   "metadata": {},
   "outputs": [],
   "source": [
    "B = np.array([b, -(b - 1)]).T\n",
    "def reshapeX(A):\n",
    "    return A.reshape((A.shape[0], A.shape[1] * A.shape[2]))\n",
    "\n",
    "def reshapeY(b):\n",
    "    return list(zip(*b))[0]\n",
    "\n",
    "te_A = reshapeX(A)\n",
    "te_B = reshapeY(B)"
   ]
  },
  {
   "cell_type": "code",
   "execution_count": 21,
   "metadata": {},
   "outputs": [
    {
     "name": "stdout",
     "output_type": "stream",
     "text": [
      "Automatically created module for IPython interactive environment\n"
     ]
    },
    {
     "data": {
      "image/png": "[encoded data removed]",
      "text/plain": [
       "<Figure size 648x1296 with 3 Axes>"
      ]
     },
     "metadata": {
      "needs_background": "light"
     },
     "output_type": "display_data"
    }
   ],
   "source": [
    "print(__doc__)\n",
    "\n",
    "from sklearn.model_selection import learning_curve\n",
    "from sklearn.model_selection import ShuffleSplit\n",
    "\n",
    "\n",
    "def plot_learning_curve(estimator, title, X, y, axes=None, ylim=None, cv=None,\n",
    "                        n_jobs=None, train_sizes=np.linspace(.1, 1.0, 5)):\n",
    "\n",
    "    axes.set_title(title)\n",
    "    if ylim is not None:\n",
    "        axes.set_ylim(*ylim)\n",
    "        axes.set_xlabel(\"Training examples\")\n",
    "        axes.set_ylabel(\"Score\")\n",
    "\n",
    "        train_sizes, train_scores, test_scores, fit_times, _ = \\\n",
    "            learning_curve(estimator, X, y, cv=cv, n_jobs=n_jobs,\n",
    "                           train_sizes=train_sizes,\n",
    "                           return_times=True)\n",
    "        train_scores_mean = np.mean(train_scores, axis=1)\n",
    "        train_scores_std = np.std(train_scores, axis=1)\n",
    "        test_scores_mean = np.mean(test_scores, axis=1)\n",
    "        test_scores_std = np.std(test_scores, axis=1)\n",
    "        fit_times_mean = np.mean(fit_times, axis=1)\n",
    "        fit_times_std = np.std(fit_times, axis=1)\n",
    "\n",
    "    # Plot learning curve\n",
    "        axes.grid()\n",
    "        axes.fill_between(train_sizes, train_scores_mean - train_scores_std,\n",
    "                             train_scores_mean + train_scores_std, alpha=0.1,\n",
    "                             color=\"r\")\n",
    "        axes.fill_between(train_sizes, test_scores_mean - test_scores_std,\n",
    "                             test_scores_mean + test_scores_std, alpha=0.1,\n",
    "                             color=\"g\")\n",
    "        axes.plot(train_sizes, train_scores_mean, 'o-', color=\"r\",\n",
    "                     label=\"Training score\")\n",
    "        axes.plot(train_sizes, test_scores_mean, 'o-', color=\"g\",\n",
    "                     label=\"Cross-validation score\")\n",
    "        axes.legend(loc=\"best\")\n",
    "\n",
    "    return plt\n",
    "\n",
    "plt.figure(figsize=(9,18))\n",
    "\n",
    "cv = ShuffleSplit(n_splits=30, test_size=0.2, random_state=0)\n",
    "\n",
    "\n",
    "# estimator = poly_SVC \n",
    "# plot_learning_curve(estimator, title, te_X, te_Y, axes=axes, ylim=(0.8, 1.01), cv=cv, n_jobs=-1)\n",
    "axes = plt.subplot(311)\n",
    "title = r\"Learning Curves (linear)\"\n",
    "plot_learning_curve(lin_SVC, title, te_X, te_Y, axes=axes, ylim=(0.8, 1.01), cv=cv, n_jobs=-1)\n",
    "\n",
    "axes = plt.subplot(312)\n",
    "title = r\"Learning Curves (rbf)\"\n",
    "plot_learning_curve(rbf_SVC, title, te_X, te_Y, axes=axes, ylim=(0.8, 1.01), cv=cv, n_jobs=-1)\n",
    "\n",
    "axes = plt.subplot(313)\n",
    "title = r\"Learning Curves (poly)\"\n",
    "plot_learning_curve(poly_SVC, title, te_X, te_Y, axes=axes, ylim=(0.8, 1.01), cv=cv, n_jobs=-1)\n",
    "\n",
    "\n",
    "plt.show()"
   ]
  },
  {
   "cell_type": "code",
   "execution_count": 27,
   "metadata": {},
   "outputs": [],
   "source": [
    "def val_sc(x):\n",
    "    score = x.score(te_X, te_Y)\n",
    "    return score\n",
    "\n",
    "def tr_sc(x):\n",
    "    score = x.score(tr_X, tr_Y)\n",
    "    return score"
   ]
  },
  {
   "cell_type": "code",
   "execution_count": 28,
   "metadata": {},
   "outputs": [
    {
     "data": {
      "text/plain": [
       "0.8923611111111112"
      ]
     },
     "execution_count": 28,
     "metadata": {},
     "output_type": "execute_result"
    }
   ],
   "source": [
    "val_sc = val_sc(rbf_SVC)\n",
    "val_sc"
   ]
  },
  {
   "cell_type": "code",
   "execution_count": 29,
   "metadata": {},
   "outputs": [
    {
     "data": {
      "text/plain": [
       "0.9568195354377605"
      ]
     },
     "execution_count": 29,
     "metadata": {},
     "output_type": "execute_result"
    }
   ],
   "source": [
    "tr_sc = tr_sc(rbf_SVC)\n",
    "tr_sc"
   ]
  },
  {
   "cell_type": "code",
   "execution_count": 30,
   "metadata": {},
   "outputs": [
    {
     "name": "stdout",
     "output_type": "stream",
     "text": [
      "[[421  52]\n",
      " [ 55 442]]\n",
      "\n",
      "Confusion Matrix\n"
     ]
    },
    {
     "data": {
      "image/png": "[encoded data removed]",
      "text/plain": [
       "<Figure size 288x288 with 2 Axes>"
      ]
     },
     "metadata": {
      "needs_background": "light"
     },
     "output_type": "display_data"
    },
    {
     "name": "stdout",
     "output_type": "stream",
     "text": [
      "[[0.43402062 0.05360825]\n",
      " [0.05670103 0.4556701 ]]\n",
      "\n",
      "Confusion Matrix(normalised)\n"
     ]
    },
    {
     "data": {
      "image/png": "[encoded data removed]",
      "text/plain": [
       "<Figure size 288x288 with 2 Axes>"
      ]
     },
     "metadata": {
      "needs_background": "light"
     },
     "output_type": "display_data"
    },
    {
     "name": "stdout",
     "output_type": "stream",
     "text": [
      "              precision    recall  f1-score   support\n",
      "\n",
      "         0.0       0.88      0.89      0.89       473\n",
      "         1.0       0.89      0.89      0.89       497\n",
      "\n",
      "    accuracy                           0.89       970\n",
      "   macro avg       0.89      0.89      0.89       970\n",
      "weighted avg       0.89      0.89      0.89       970\n",
      "\n",
      "Accuracy achieved: 0.8896907216494845 ♡♡♡\n"
     ]
    }
   ],
   "source": [
    "# op_lin_results = optimised_lin.predict(te_X)\n",
    "op_lin_results = lin_SVC.predict(te_A)\n",
    "\n",
    "# cm = confusion_matrix(te_Y, op_lin_results)\n",
    "cm = confusion_matrix(te_B, op_lin_results)\n",
    "print(cm)\n",
    "plt.matshow(cm)\n",
    "plt.colorbar()\n",
    "plt.ylabel('True label')\n",
    "plt.xlabel('Predicted label')\n",
    "print('\\nConfusion Matrix')\n",
    "plt.show()\n",
    "\n",
    "# cm2 = confusion_matrix(te_Y, op_lin_results, normalize='all')\n",
    "cm2 = confusion_matrix(te_B, op_lin_results, normalize='all')\n",
    "print(cm2)\n",
    "plt.matshow(cm2)\n",
    "plt.colorbar()\n",
    "plt.ylabel('True label')\n",
    "plt.xlabel('Predicted label')\n",
    "print('\\nConfusion Matrix(normalised)')\n",
    "plt.show()\n",
    "\n",
    "print(classification_report(te_B, op_lin_results))\n",
    "print('Accuracy achieved:', accuracy_score(te_B, op_lin_results), '\\u2661''\\u2661''\\u2661')"
   ]
  },
  {
   "cell_type": "code",
   "execution_count": 23,
   "metadata": {},
   "outputs": [
    {
     "name": "stdout",
     "output_type": "stream",
     "text": [
      "[[421  52]\n",
      " [ 57 440]]\n",
      "\n",
      "Confusion Matrix\n"
     ]
    },
    {
     "data": {
      "image/png": "[encoded data removed]",
      "text/plain": [
       "<Figure size 288x288 with 2 Axes>"
      ]
     },
     "metadata": {
      "needs_background": "light"
     },
     "output_type": "display_data"
    },
    {
     "name": "stdout",
     "output_type": "stream",
     "text": [
      "[[0.43402062 0.05360825]\n",
      " [0.05876289 0.45360825]]\n",
      "\n",
      "Confusion Matrix(normalised)\n"
     ]
    },
    {
     "data": {
      "image/png": "[encoded data removed]",
      "text/plain": [
       "<Figure size 288x288 with 2 Axes>"
      ]
     },
     "metadata": {
      "needs_background": "light"
     },
     "output_type": "display_data"
    },
    {
     "name": "stdout",
     "output_type": "stream",
     "text": [
      "              precision    recall  f1-score   support\n",
      "\n",
      "         0.0       0.88      0.89      0.89       473\n",
      "         1.0       0.89      0.89      0.89       497\n",
      "\n",
      "    accuracy                           0.89       970\n",
      "   macro avg       0.89      0.89      0.89       970\n",
      "weighted avg       0.89      0.89      0.89       970\n",
      "\n",
      "Accuracy achieved: 0.8876288659793814 ♡♡♡\n"
     ]
    }
   ],
   "source": [
    "# optimised_rbf = svm.SVC(kernel = 'rbf', gamma = rbfSVC_param['gamma'], C = rbfSVC_param['C'])\n",
    "# optimised_rbf.fit(tr_X, tr_Y)\n",
    "# op_rbf_results = optimised_rbf.predict(te_X)\n",
    "op_rbf_results = rbf_SVC.predict(te_A)\n",
    "\n",
    "# cm = confusion_matrix(te_Y, op_rbf_results)\n",
    "cm = confusion_matrix(te_B, op_rbf_results)\n",
    "print(cm)\n",
    "plt.matshow(cm)\n",
    "plt.colorbar()\n",
    "plt.ylabel('True label')\n",
    "plt.xlabel('Predicted label')\n",
    "print('\\nConfusion Matrix')\n",
    "plt.show()\n",
    "\n",
    "# cm2 = confusion_matrix(te_Y, op_rbf_results, normalize='all')\n",
    "cm2 = confusion_matrix(te_B, op_rbf_results, normalize='all')\n",
    "print(cm2)\n",
    "plt.matshow(cm2)\n",
    "plt.colorbar()\n",
    "plt.ylabel('True label')\n",
    "plt.xlabel('Predicted label')\n",
    "print('\\nConfusion Matrix(normalised)')\n",
    "plt.show()\n",
    "\n",
    "print(classification_report(te_B, op_rbf_results))\n",
    "print('Accuracy achieved:', accuracy_score(te_B, op_rbf_results), '\\u2661''\\u2661''\\u2661')"
   ]
  },
  {
   "cell_type": "code",
   "execution_count": 24,
   "metadata": {},
   "outputs": [
    {
     "name": "stdout",
     "output_type": "stream",
     "text": [
      "[[424  49]\n",
      " [ 51 446]]\n",
      "\n",
      "Confusion Matrix\n"
     ]
    },
    {
     "data": {
      "image/png": "[encoded data removed]",
      "text/plain": [
       "<Figure size 288x288 with 2 Axes>"
      ]
     },
     "metadata": {
      "needs_background": "light"
     },
     "output_type": "display_data"
    },
    {
     "name": "stdout",
     "output_type": "stream",
     "text": [
      "[[0.4371134  0.05051546]\n",
      " [0.05257732 0.45979381]]\n",
      "\n",
      "Confusion Matrix(normalised)\n"
     ]
    },
    {
     "data": {
      "image/png": "[encoded data removed]",
      "text/plain": [
       "<Figure size 288x288 with 2 Axes>"
      ]
     },
     "metadata": {
      "needs_background": "light"
     },
     "output_type": "display_data"
    },
    {
     "name": "stdout",
     "output_type": "stream",
     "text": [
      "              precision    recall  f1-score   support\n",
      "\n",
      "         0.0       0.89      0.90      0.89       473\n",
      "         1.0       0.90      0.90      0.90       497\n",
      "\n",
      "    accuracy                           0.90       970\n",
      "   macro avg       0.90      0.90      0.90       970\n",
      "weighted avg       0.90      0.90      0.90       970\n",
      "\n",
      "Accuracy achieved: 0.8969072164948454 ♡♡♡\n"
     ]
    }
   ],
   "source": [
    "# optimised_poly = svm.SVC(kernel = 'poly', degree = polySVC_param['degree'], C = polySVC_param['C'])\n",
    "# optimised_poly.fit(tr_X, tr_Y)\n",
    "# op_p_results = optimised_poly.predict(te_X)\n",
    "op_p_results = poly_SVC.predict(te_A)\n",
    "\n",
    "# cm = confusion_matrix(te_Y, op_p_results)\n",
    "cm = confusion_matrix(te_B, op_p_results)\n",
    "print(cm)\n",
    "plt.matshow(cm)\n",
    "plt.colorbar()\n",
    "plt.ylabel('True label')\n",
    "plt.xlabel('Predicted label')\n",
    "print('\\nConfusion Matrix')\n",
    "plt.show()\n",
    "\n",
    "# cm2 = confusion_matrix(te_Y, op_p_results, normalize='all')\n",
    "cm2 = confusion_matrix(te_B, op_p_results, normalize='all')\n",
    "print(cm2)\n",
    "plt.matshow(cm2)\n",
    "plt.colorbar()\n",
    "plt.ylabel('True label')\n",
    "plt.xlabel('Predicted label')\n",
    "print('\\nConfusion Matrix(normalised)')\n",
    "plt.show()\n",
    "\n",
    "print(classification_report(te_B, op_p_results))\n",
    "print('Accuracy achieved:', accuracy_score(te_B, op_p_results), '\\u2661''\\u2661''\\u2661')"
   ]
  },
  {
   "cell_type": "code",
   "execution_count": 25,
   "metadata": {},
   "outputs": [
    {
     "data": {
      "image/png": "[encoded data removed]",
      "text/plain": [
       "<Figure size 432x288 with 1 Axes>"
      ]
     },
     "metadata": {
      "needs_background": "light"
     },
     "output_type": "display_data"
    }
   ],
   "source": [
    "plt.scatter(te_B, op_p_results)\n",
    "plt.xlabel('True Values')\n",
    "plt.ylabel('Predictions')\n",
    "plt.grid()\n",
    "plt.show()"
   ]
  },
  {
   "cell_type": "code",
   "execution_count": 26,
   "metadata": {},
   "outputs": [
    {
     "name": "stdout",
     "output_type": "stream",
     "text": [
      "--- 2250.2622718811035 seconds ---\n"
     ]
    }
   ],
   "source": [
    "print(\"--- %s seconds ---\" % (time.time() - start_time))"
   ]
  },
  {
   "cell_type": "code",
   "execution_count": null,
   "metadata": {},
   "outputs": [],
   "source": []
  }
 ],
 "metadata": {
  "kernelspec": {
   "display_name": "Python 3",
   "language": "python",
   "name": "python3"
  },
  "language_info": {
   "codemirror_mode": {
    "name": "ipython",
    "version": 3
   },
   "file_extension": ".py",
   "mimetype": "text/x-python",
   "name": "python",
   "nbconvert_exporter": "python",
   "pygments_lexer": "ipython3",
   "version": "3.7.5"
  }
 },
 "nbformat": 4,
 "nbformat_minor": 2
}
