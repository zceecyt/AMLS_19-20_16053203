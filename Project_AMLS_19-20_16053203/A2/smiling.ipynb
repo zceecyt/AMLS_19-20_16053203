{
 "cells": [
  {
   "cell_type": "code",
   "execution_count": 1,
   "metadata": {},
   "outputs": [
    {
     "name": "stderr",
     "output_type": "stream",
     "text": [
      "Using TensorFlow backend.\n"
     ]
    }
   ],
   "source": [
    "import time\n",
    "start_time = time.time()\n",
    "import progressbar\n",
    "import os\n",
    "import numpy as np\n",
    "from keras.preprocessing import image\n",
    "import cv2\n",
    "import dlib\n",
    "import pandas as pd\n",
    "import matplotlib.pyplot as plt\n",
    "import sys"
   ]
  },
  {
   "cell_type": "code",
   "execution_count": 2,
   "metadata": {},
   "outputs": [],
   "source": [
    "from keras.preprocessing import image\n",
    "from sklearn import svm, datasets\n",
    "from sklearn.dummy import DummyClassifier\n",
    "from sklearn.svm import SVC\n",
    "from sklearn.utils import shuffle\n",
    "from sklearn.model_selection import train_test_split, GridSearchCV, learning_curve, ShuffleSplit\n",
    "from sklearn.metrics import classification_report, accuracy_score, confusion_matrix, recall_score, precision_score, f1_score\n",
    "import matplotlib.pyplot as plt"
   ]
  },
  {
   "cell_type": "code",
   "execution_count": 3,
   "metadata": {},
   "outputs": [
    {
     "name": "stdout",
     "output_type": "stream",
     "text": [
      "C:\\Users\\User\\Desktop\\4th_year_AMLS\\AMLS_19-20_ChinYangTan_16053203\\Project_AMLS_19-20_16053203\\Notebook\\A2\n"
     ]
    }
   ],
   "source": [
    "cwd = os.getcwd()\n",
    "\n",
    "print(cwd)"
   ]
  },
  {
   "cell_type": "code",
   "execution_count": 4,
   "metadata": {},
   "outputs": [],
   "source": [
    "import landmarks_v2 as l2"
   ]
  },
  {
   "cell_type": "code",
   "execution_count": 5,
   "metadata": {},
   "outputs": [],
   "source": [
    "def get_data():\n",
    "    return l2.extract_features_labels()\n",
    "    \n",
    "def split_data(X, Y):\n",
    "\n",
    "    X, Y = shuffle(X,Y)\n",
    "    tr_X, te_X, tr_Y, te_Y = train_test_split(X, Y, train_size=0.7)\n",
    "    \n",
    "    return tr_X, tr_Y, te_X, te_Y"
   ]
  },
  {
   "cell_type": "code",
   "execution_count": 6,
   "metadata": {},
   "outputs": [
    {
     "name": "stdout",
     "output_type": "stream",
     "text": [
      "(4798, 68, 2)\n",
      "(4798,)\n"
     ]
    }
   ],
   "source": [
    "X,y = get_data()\n",
    "\n",
    "print(X.shape)\n",
    "print(y.shape)"
   ]
  },
  {
   "cell_type": "code",
   "execution_count": 7,
   "metadata": {},
   "outputs": [
    {
     "name": "stdout",
     "output_type": "stream",
     "text": [
      "C:\\Users\\User\\Desktop\\4th_year_AMLS\\AMLS_19-20_ChinYangTan_16053203\\Project_AMLS_19-20_16053203\\Notebook\\A2\n"
     ]
    }
   ],
   "source": [
    "print (os.path.abspath(os.curdir))\n",
    "# sklearn functions implementation\n",
    "def img_SVM(training_images, training_labels, test_images, test_labels):\n",
    "    #classifier = ...\n",
    "    classifier = SVC(kernel = 'rbf')\n",
    "    classifier.fit(training_images, training_labels)\n",
    "    pred = classifier.predict(test_images)\n",
    "    print(\"Accuracy:\", accuracy_score(test_labels, pred))\n",
    "\n",
    "    print(pred)\n",
    "    return pred"
   ]
  },
  {
   "cell_type": "code",
   "execution_count": 8,
   "metadata": {},
   "outputs": [],
   "source": [
    "Y = np.array([y, -(y - 1)]).T\n",
    "\n",
    "tr_X, tr_Y, te_X, te_Y = split_data(X, Y)"
   ]
  },
  {
   "cell_type": "code",
   "execution_count": 9,
   "metadata": {},
   "outputs": [
    {
     "name": "stdout",
     "output_type": "stream",
     "text": [
      "[[[ 56 113]\n",
      "  [ 56 123]\n",
      "  [ 58 133]\n",
      "  ...\n",
      "  [ 90 155]\n",
      "  [ 86 156]\n",
      "  [ 82 155]]\n",
      "\n",
      " [[ 45 115]\n",
      "  [ 45 127]\n",
      "  [ 46 139]\n",
      "  ...\n",
      "  [ 94 156]\n",
      "  [ 88 156]\n",
      "  [ 83 156]]\n",
      "\n",
      " [[ 55 118]\n",
      "  [ 53 128]\n",
      "  [ 52 138]\n",
      "  ...\n",
      "  [ 88 162]\n",
      "  [ 83 162]\n",
      "  [ 79 161]]\n",
      "\n",
      " ...\n",
      "\n",
      " [[ 38 109]\n",
      "  [ 40 123]\n",
      "  [ 42 136]\n",
      "  ...\n",
      "  [ 95 160]\n",
      "  [ 90 162]\n",
      "  [ 84 162]]\n",
      "\n",
      " [[ 44 106]\n",
      "  [ 44 119]\n",
      "  [ 46 131]\n",
      "  ...\n",
      "  [ 93 158]\n",
      "  [ 87 159]\n",
      "  [ 82 158]]\n",
      "\n",
      " [[ 47 112]\n",
      "  [ 47 124]\n",
      "  [ 48 136]\n",
      "  ...\n",
      "  [ 93 160]\n",
      "  [ 87 160]\n",
      "  [ 82 159]]]\n",
      "(3358, 68, 2)\n",
      "[[ 0.  1.]\n",
      " [ 1. -0.]\n",
      " [ 1. -0.]\n",
      " ...\n",
      " [ 1. -0.]\n",
      " [ 1. -0.]\n",
      " [ 1. -0.]]\n",
      "(3358, 2)\n"
     ]
    }
   ],
   "source": [
    "print(tr_X)\n",
    "print(tr_X.shape)\n",
    "print(tr_Y)\n",
    "print(tr_Y.shape)"
   ]
  },
  {
   "cell_type": "code",
   "execution_count": 10,
   "metadata": {},
   "outputs": [],
   "source": [
    "def reshapeX(X):\n",
    "    return X.reshape((X.shape[0], X.shape[1] * X.shape[2]))\n",
    "\n",
    "def reshapeY(y):\n",
    "    return list(zip(*y))[0]\n",
    "\n",
    "tr_X = reshapeX(tr_X)\n",
    "te_X = reshapeX(te_X)\n",
    "tr_Y = reshapeY(tr_Y)\n",
    "te_Y = reshapeY(te_Y)"
   ]
  },
  {
   "cell_type": "code",
   "execution_count": 11,
   "metadata": {},
   "outputs": [
    {
     "name": "stdout",
     "output_type": "stream",
     "text": [
      "(3358, 136)\n"
     ]
    }
   ],
   "source": [
    "print(tr_X.shape)"
   ]
  },
  {
   "cell_type": "code",
   "execution_count": 12,
   "metadata": {},
   "outputs": [
    {
     "name": "stdout",
     "output_type": "stream",
     "text": [
      "0.1 Linear: 0.8930555555555556\n",
      "0.1 scale Rbf: 0.8666666666666667\n",
      "0.1 1 Poly 0.8597222222222223\n",
      "0.1 Linear: 0.8930555555555556\n",
      "0.1 scale Rbf: 0.8666666666666667\n",
      "0.1 2 Poly 0.8916666666666667\n",
      "0.1 Linear: 0.8930555555555556\n",
      "0.1 scale Rbf: 0.8666666666666667\n",
      "0.1 3 Poly 0.9034722222222222\n",
      "0.1 Linear: 0.8930555555555556\n",
      "0.1 scale Rbf: 0.8666666666666667\n",
      "0.1 4 Poly 0.9027777777777778\n",
      "1 Linear: 0.8895833333333333\n",
      "1 scale Rbf: 0.8895833333333333\n",
      "1 1 Poly 0.8881944444444444\n",
      "1 Linear: 0.8895833333333333\n",
      "1 scale Rbf: 0.8895833333333333\n",
      "1 2 Poly 0.9041666666666667\n",
      "1 Linear: 0.8895833333333333\n",
      "1 scale Rbf: 0.8895833333333333\n",
      "1 3 Poly 0.9034722222222222\n",
      "1 Linear: 0.8895833333333333\n",
      "1 scale Rbf: 0.8895833333333333\n",
      "1 4 Poly 0.8958333333333334\n"
     ]
    }
   ],
   "source": [
    "gamma='scale'\n",
    "\n",
    "for C in [0.1,1]:\n",
    "    for degree in [1, 2, 3, 4]:\n",
    "                \n",
    "        lin_svc = svm.SVC(kernel='linear', C=C).fit(tr_X, tr_Y)\n",
    "        print(C, \"Linear:\", lin_svc.score(te_X, te_Y))\n",
    "\n",
    "        rbf_svc = svm.SVC(kernel='rbf', gamma=gamma, C=C).fit(tr_X, tr_Y)\n",
    "        print( C, gamma, \"Rbf:\", rbf_svc.score(te_X, te_Y))\n",
    "\n",
    "        poly_svc = svm.SVC(kernel='poly', degree=degree, C=C).fit(tr_X, tr_Y)\n",
    "        print( C, degree, \"Poly\", poly_svc.score(te_X, te_Y))"
   ]
  },
  {
   "cell_type": "code",
   "execution_count": 13,
   "metadata": {},
   "outputs": [],
   "source": [
    "from sklearn.model_selection import GridSearchCV, RandomizedSearchCV\n",
    "from sklearn import preprocessing\n",
    "from sklearn.calibration import CalibratedClassifierCV\n",
    "from sklearn.ensemble import RandomForestClassifier\n",
    "from sklearn.svm import SVC as svc\n",
    "from sklearn.metrics import make_scorer, roc_auc_score\n",
    "from scipy import stats"
   ]
  },
  {
   "cell_type": "code",
   "execution_count": 14,
   "metadata": {},
   "outputs": [],
   "source": [
    "# svc_list = []\n",
    "\n",
    "# lin_svc = svm.SVC(kernel='linear', C=C).fit(tr_X, tr_Y)\n",
    "# # print(C, \"Linear:\", lin_svc.score(te_X, te_Y))\n",
    "\n",
    "# rbf_svc = svm.SVC(kernel='rbf', gamma=gamma, C=C).fit(tr_X, tr_Y)\n",
    "# # print( C, gamma, \"Rbf:\", rbf_svc.score(te_X, te_Y))\n",
    "\n",
    "# poly_svc = svm.SVC(kernel='poly', degree=degree, C=C).fit(tr_X, tr_Y)\n",
    "# # print( C, degree, \"Poly\", poly_svc.score(te_X, te_Y))\n",
    "\n",
    "# svc_list.append({\n",
    "#     'lin_svc': lin_svc,\n",
    "#     'rbf_svc': rbf_svc,\n",
    "#     'poly_svc': poly_svc,\n",
    "#     'C': C,\n",
    "#     'gamma': gamma,\n",
    "#     'degree': degree\n",
    "# })\n",
    "\n",
    "# #define model and performance measure\n",
    "# svc_list=svc(probability=True, random_state=1)\n",
    "# auc=make_scorer(roc_auc_score)\n",
    "\n",
    "# #random search for 20 combinations of parameters\n",
    "# rand_list = {\"C\":stats.uniform(2,10),\n",
    "#             \"gamma\":stats.uniform(0.1,1),\n",
    "#             \"degree\":stats.uniform(1,3)}\n",
    "\n",
    "# rand_search = RandomizedSearchCV(svc_list, param_distributions = rand_list, n_iter=20, n_jobs=4, cv=3, random_state=2017, scoring=auc)\n",
    "# rand_search.fit(tr_X, tr_Y)\n",
    "# rand_search.cv_results_\n",
    "\n",
    "# print(rand_search.best_params_)"
   ]
  },
  {
   "cell_type": "code",
   "execution_count": 15,
   "metadata": {},
   "outputs": [
    {
     "name": "stdout",
     "output_type": "stream",
     "text": [
      "Fitting 5 folds for each of 10 candidates, totalling 50 fits\n"
     ]
    },
    {
     "name": "stderr",
     "output_type": "stream",
     "text": [
      "[Parallel(n_jobs=-1)]: Using backend LokyBackend with 8 concurrent workers.\n",
      "[Parallel(n_jobs=-1)]: Done  16 tasks      | elapsed:  9.0min\n",
      "[Parallel(n_jobs=-1)]: Done  50 out of  50 | elapsed: 42.8min finished\n"
     ]
    },
    {
     "name": "stdout",
     "output_type": "stream",
     "text": [
      "{'mean_fit_time': array([503.6106194 ,  31.89705377, 213.8684608 , 156.56445527,\n",
      "       271.89941797, 310.9730649 , 770.67531948, 420.73134494,\n",
      "       627.88638587, 477.21278992]), 'std_fit_time': array([ 24.75830713,   5.72734096,  24.08845656,  31.8000069 ,\n",
      "        39.25703067,  46.19000928, 120.3238544 ,  96.65194713,\n",
      "       106.41434967,  98.49876742]), 'mean_score_time': array([0.18772378, 0.14301777, 0.20310087, 0.28224502, 0.39170074,\n",
      "       0.48558593, 0.30946374, 0.36786838, 0.20830622, 0.16883855]), 'std_score_time': array([0.02484699, 0.02075414, 0.04011765, 0.08180206, 0.0999511 ,\n",
      "       0.18095066, 0.09923869, 0.17037357, 0.0799794 , 0.0881889 ]), 'param_C': masked_array(data=[8.193838322849384, 0.8333853423326708,\n",
      "                   3.5844333822906282, 2.3287232844877406,\n",
      "                   3.8774447792218933, 3.853517142786743,\n",
      "                   8.745561322366033, 4.761718202630202, 9.87290538339174,\n",
      "                   8.916128071024096],\n",
      "             mask=[False, False, False, False, False, False, False, False,\n",
      "                   False, False],\n",
      "       fill_value='?',\n",
      "            dtype=object), 'param_kernel': masked_array(data=['linear', 'linear', 'linear', 'linear', 'linear',\n",
      "                   'linear', 'linear', 'linear', 'linear', 'linear'],\n",
      "             mask=[False, False, False, False, False, False, False, False,\n",
      "                   False, False],\n",
      "       fill_value='?',\n",
      "            dtype=object), 'params': [{'C': 8.193838322849384, 'kernel': 'linear'}, {'C': 0.8333853423326708, 'kernel': 'linear'}, {'C': 3.5844333822906282, 'kernel': 'linear'}, {'C': 2.3287232844877406, 'kernel': 'linear'}, {'C': 3.8774447792218933, 'kernel': 'linear'}, {'C': 3.853517142786743, 'kernel': 'linear'}, {'C': 8.745561322366033, 'kernel': 'linear'}, {'C': 4.761718202630202, 'kernel': 'linear'}, {'C': 9.87290538339174, 'kernel': 'linear'}, {'C': 8.916128071024096, 'kernel': 'linear'}], 'split0_test_score': array([0.87946429, 0.88095238, 0.87797619, 0.88244048, 0.88095238,\n",
      "       0.88095238, 0.87797619, 0.88244048, 0.87946429, 0.87797619]), 'split1_test_score': array([0.88541667, 0.89136905, 0.88541667, 0.88541667, 0.88541667,\n",
      "       0.88541667, 0.88541667, 0.88541667, 0.88541667, 0.88541667]), 'split2_test_score': array([0.87797619, 0.8764881 , 0.87797619, 0.87797619, 0.87797619,\n",
      "       0.87797619, 0.87797619, 0.87797619, 0.87797619, 0.87797619]), 'split3_test_score': array([0.85543964, 0.85842027, 0.85394933, 0.85394933, 0.85394933,\n",
      "       0.85543964, 0.85394933, 0.85394933, 0.85692996, 0.85394933]), 'split4_test_score': array([0.87928465, 0.88375559, 0.88077496, 0.88077496, 0.88077496,\n",
      "       0.88077496, 0.88077496, 0.88077496, 0.87928465, 0.88077496]), 'mean_test_score': array([0.87551629, 0.87819708, 0.87521867, 0.87611153, 0.87581391,\n",
      "       0.87611197, 0.87521867, 0.87611153, 0.87581435, 0.87521867]), 'std_test_score': array([0.0103627 , 0.01100938, 0.01097692, 0.01134045, 0.01118896,\n",
      "       0.01060727, 0.01097692, 0.01134045, 0.00978635, 0.01097692]), 'rank_test_score': array([7, 1, 8, 3, 6, 2, 8, 3, 5, 8])}\n",
      "Fitting 5 folds for each of 10 candidates, totalling 50 fits\n"
     ]
    },
    {
     "name": "stderr",
     "output_type": "stream",
     "text": [
      "[Parallel(n_jobs=-1)]: Using backend LokyBackend with 8 concurrent workers.\n",
      "[Parallel(n_jobs=-1)]: Done  16 tasks      | elapsed:   20.6s\n",
      "[Parallel(n_jobs=-1)]: Done  50 out of  50 | elapsed:   55.5s finished\n"
     ]
    },
    {
     "name": "stdout",
     "output_type": "stream",
     "text": [
      "{'mean_fit_time': array([ 6.8739665 ,  9.14824953,  8.12790022,  2.67695107,  4.23452401,\n",
      "        6.46712618,  8.1247366 , 10.79764695,  6.84262567,  7.44769607]), 'std_fit_time': array([1.00466242, 0.77880311, 0.52060616, 0.09242362, 0.24131169,\n",
      "       0.65047208, 0.66318372, 0.76395492, 0.85479065, 0.91451273]), 'mean_score_time': array([0.81024456, 1.46269088, 1.26920519, 0.22723203, 0.56661181,\n",
      "       0.68484926, 1.58317752, 2.02083497, 1.15327773, 0.59506006]), 'std_score_time': array([0.15954108, 0.1522487 , 0.08325966, 0.02127664, 0.09009461,\n",
      "       0.09454846, 0.41462565, 0.40893755, 0.43495405, 0.20009913]), 'param_C': masked_array(data=[4.634362818391471, 5.835447158873677,\n",
      "                   5.242686013318976, 6.402488354995975,\n",
      "                   4.659428530969585, 7.863367432408619,\n",
      "                   5.021045289641102, 6.023789742275669,\n",
      "                   2.2793471805909093, 1.5649650241243451],\n",
      "             mask=[False, False, False, False, False, False, False, False,\n",
      "                   False, False],\n",
      "       fill_value='?',\n",
      "            dtype=object), 'param_gamma': masked_array(data=[0.0023260027542674065, 0.0076297651255600564,\n",
      "                   0.008122437503760935, 0.00032123697711843307,\n",
      "                   0.001960432982015767, 0.0023732850964861773,\n",
      "                   0.005265368415609629, 0.004615741156327578,\n",
      "                   0.002186162677605765, 0.004023948604186794],\n",
      "             mask=[False, False, False, False, False, False, False, False,\n",
      "                   False, False],\n",
      "       fill_value='?',\n",
      "            dtype=object), 'param_kernel': masked_array(data=['rbf', 'rbf', 'rbf', 'rbf', 'rbf', 'rbf', 'rbf', 'rbf',\n",
      "                   'rbf', 'rbf'],\n",
      "             mask=[False, False, False, False, False, False, False, False,\n",
      "                   False, False],\n",
      "       fill_value='?',\n",
      "            dtype=object), 'params': [{'C': 4.634362818391471, 'gamma': 0.0023260027542674065, 'kernel': 'rbf'}, {'C': 5.835447158873677, 'gamma': 0.0076297651255600564, 'kernel': 'rbf'}, {'C': 5.242686013318976, 'gamma': 0.008122437503760935, 'kernel': 'rbf'}, {'C': 6.402488354995975, 'gamma': 0.00032123697711843307, 'kernel': 'rbf'}, {'C': 4.659428530969585, 'gamma': 0.001960432982015767, 'kernel': 'rbf'}, {'C': 7.863367432408619, 'gamma': 0.0023732850964861773, 'kernel': 'rbf'}, {'C': 5.021045289641102, 'gamma': 0.005265368415609629, 'kernel': 'rbf'}, {'C': 6.023789742275669, 'gamma': 0.004615741156327578, 'kernel': 'rbf'}, {'C': 2.2793471805909093, 'gamma': 0.002186162677605765, 'kernel': 'rbf'}, {'C': 1.5649650241243451, 'gamma': 0.004023948604186794, 'kernel': 'rbf'}], 'split0_test_score': array([0.86607143, 0.83928571, 0.83779762, 0.89434524, 0.86904762,\n",
      "       0.86458333, 0.84672619, 0.84970238, 0.875     , 0.86160714]), 'split1_test_score': array([0.89136905, 0.85565476, 0.85565476, 0.88839286, 0.88541667,\n",
      "       0.88244048, 0.85565476, 0.86309524, 0.88392857, 0.86458333]), 'split2_test_score': array([0.87202381, 0.8422619 , 0.83630952, 0.90178571, 0.87797619,\n",
      "       0.8735119 , 0.84970238, 0.85416667, 0.88839286, 0.86607143]), 'split3_test_score': array([0.85692996, 0.8390462 , 0.84053651, 0.88673621, 0.85991058,\n",
      "       0.85692996, 0.84947839, 0.8509687 , 0.87630402, 0.85692996]), 'split4_test_score': array([0.88226528, 0.85543964, 0.85692996, 0.90163934, 0.8852459 ,\n",
      "       0.87183308, 0.87630402, 0.87481371, 0.8852459 , 0.87928465]), 'mean_test_score': array([0.8737319 , 0.84633764, 0.84544567, 0.89457987, 0.87551939,\n",
      "       0.86985975, 0.85557315, 0.85854934, 0.88177427, 0.8656953 ]), 'std_test_score': array([0.01206477, 0.00760476, 0.00896857, 0.00635008, 0.00983988,\n",
      "       0.00860845, 0.01076714, 0.0093823 , 0.00522137, 0.00747787]), 'rank_test_score': array([ 4,  9, 10,  1,  3,  5,  8,  7,  2,  6])}\n",
      "Fitting 5 folds for each of 10 candidates, totalling 50 fits\n"
     ]
    },
    {
     "name": "stderr",
     "output_type": "stream",
     "text": [
      "[Parallel(n_jobs=-1)]: Using backend LokyBackend with 8 concurrent workers.\n",
      "[Parallel(n_jobs=-1)]: Done  16 tasks      | elapsed:   25.7s\n",
      "[Parallel(n_jobs=-1)]: Done  50 out of  50 | elapsed:  1.3min finished\n"
     ]
    },
    {
     "name": "stdout",
     "output_type": "stream",
     "text": [
      "{'mean_fit_time': array([ 7.47763104,  3.68451204, 31.51792502,  7.28280864,  3.44556832,\n",
      "        3.38446546,  5.46482234, 10.84618959,  3.86223917, 21.66822133]), 'std_fit_time': array([0.55318645, 0.57193907, 5.02736171, 1.03752046, 1.18435118,\n",
      "       0.46851038, 0.3591097 , 0.7184417 , 0.91883647, 2.24968825]), 'mean_score_time': array([0.58114114, 0.54740953, 0.3165369 , 0.53508768, 0.61761007,\n",
      "       0.37808714, 0.49619827, 0.38456316, 0.63762503, 0.25779219]), 'std_score_time': array([0.06248816, 0.24948036, 0.07736917, 0.18422331, 0.20307582,\n",
      "       0.11642233, 0.07023439, 0.12487836, 0.08384432, 0.01268966]), 'param_C': masked_array(data=[1.9341458205078887, 4.882043580668681,\n",
      "                   10.04031915982277, 8.087491346717634, 8.62379260846326,\n",
      "                   3.308514506667336, 0.7083431712332598,\n",
      "                   2.58582607426545, 2.653888732737569, 9.095590250329378],\n",
      "             mask=[False, False, False, False, False, False, False, False,\n",
      "                   False, False],\n",
      "       fill_value='?',\n",
      "            dtype=object), 'param_degree': masked_array(data=[4.859553652514602, 2.396944065084566,\n",
      "                   4.083016242094031, 3.2803243330676928,\n",
      "                   1.7376970365423299, 3.194452880829246,\n",
      "                   3.7143332857673967, 4.989349286873386,\n",
      "                   2.866312860099863, 4.628879985701653],\n",
      "             mask=[False, False, False, False, False, False, False, False,\n",
      "                   False, False],\n",
      "       fill_value='?',\n",
      "            dtype=object), 'param_kernel': masked_array(data=['poly', 'poly', 'poly', 'poly', 'poly', 'poly', 'poly',\n",
      "                   'poly', 'poly', 'poly'],\n",
      "             mask=[False, False, False, False, False, False, False, False,\n",
      "                   False, False],\n",
      "       fill_value='?',\n",
      "            dtype=object), 'params': [{'C': 1.9341458205078887, 'degree': 4.859553652514602, 'kernel': 'poly'}, {'C': 4.882043580668681, 'degree': 2.396944065084566, 'kernel': 'poly'}, {'C': 10.04031915982277, 'degree': 4.083016242094031, 'kernel': 'poly'}, {'C': 8.087491346717634, 'degree': 3.2803243330676928, 'kernel': 'poly'}, {'C': 8.62379260846326, 'degree': 1.7376970365423299, 'kernel': 'poly'}, {'C': 3.308514506667336, 'degree': 3.194452880829246, 'kernel': 'poly'}, {'C': 0.7083431712332598, 'degree': 3.7143332857673967, 'kernel': 'poly'}, {'C': 2.58582607426545, 'degree': 4.989349286873386, 'kernel': 'poly'}, {'C': 2.653888732737569, 'degree': 2.866312860099863, 'kernel': 'poly'}, {'C': 9.095590250329378, 'degree': 4.628879985701653, 'kernel': 'poly'}], 'split0_test_score': array([0.88095238, 0.89880952, 0.88392857, 0.88095238, 0.86904762,\n",
      "       0.88988095, 0.89880952, 0.88244048, 0.88839286, 0.88392857]), 'split1_test_score': array([0.89732143, 0.88541667, 0.88244048, 0.89434524, 0.88095238,\n",
      "       0.89285714, 0.88541667, 0.89136905, 0.87797619, 0.88095238]), 'split2_test_score': array([0.875     , 0.88839286, 0.8764881 , 0.88244048, 0.87946429,\n",
      "       0.87797619, 0.88392857, 0.8735119 , 0.88244048, 0.87797619]), 'split3_test_score': array([0.87630402, 0.88822653, 0.86736215, 0.88822653, 0.88375559,\n",
      "       0.89269747, 0.88375559, 0.87481371, 0.88226528, 0.86885246]), 'split4_test_score': array([0.8733234 , 0.89418778, 0.88077496, 0.88077496, 0.89269747,\n",
      "       0.88673621, 0.89418778, 0.8733234 , 0.89418778, 0.88375559]), 'mean_test_score': array([0.88058025, 0.89100667, 0.87819885, 0.88534792, 0.88118347,\n",
      "       0.88802959, 0.88921963, 0.87909171, 0.88505252, 0.87909304]), 'std_test_score': array([0.00874634, 0.00483349, 0.00596353, 0.00525212, 0.00760889,\n",
      "       0.00550028, 0.00614755, 0.00699509, 0.00564405, 0.0055623 ]), 'rank_test_score': array([ 7,  1, 10,  4,  6,  3,  2,  9,  5,  8])}\n",
      "Optimum hyperparameters for linear kernel: \n",
      "{'C': 0.8333853423326708, 'kernel': 'linear'}\n",
      "Optimum hyperparameters for rbf kernel: \n",
      "{'C': 6.402488354995975, 'gamma': 0.00032123697711843307, 'kernel': 'rbf'}\n",
      "Optimum hyperparameters for polynomial kernel: \n",
      "{'C': 4.882043580668681, 'degree': 2.396944065084566, 'kernel': 'poly'}\n"
     ]
    }
   ],
   "source": [
    "from scipy import stats\n",
    "from sklearn.model_selection import RandomizedSearchCV\n",
    "from sklearn.metrics import make_scorer, roc_auc_score\n",
    "\n",
    "lin = {'C': stats.uniform(0.1, 10), 'kernel': ['linear']}\n",
    "\n",
    "rbf = {'C': stats.uniform(0.1, 10), 'gamma': stats.uniform(0.0001, 0.01), 'kernel': ['rbf']}\n",
    "\n",
    "poly = {'C': stats.uniform(0.1, 10), 'degree': stats.uniform(1, 4), 'kernel': ['poly']}\n",
    "\n",
    "def randomSearch(X, y, param_kernel):\n",
    "    param_distributions = param_kernel #a dictionary with parameters names (string) as keys of parameters to try\n",
    "    #number of jobs = -1 is using all processors \n",
    "    #n_iter trades off runtime with quality of solution\n",
    "    #cv is at default value for 5-fold cross validation\n",
    "    #verbose gives out messages; refit is to refit an estimator to find the best parameters\n",
    "    #random_state is a pseudo random number generator used for random uniform sampling from list of possible values instead of using scipy.stats distributions\n",
    "    searchrand = RandomizedSearchCV(SVC(), param_distributions, n_iter=10, n_jobs=-1, refit=True, verbose=3)\n",
    "    searchrand.fit(X, y)\n",
    "    searchrand.cv_results_\n",
    "    \n",
    "    print(searchrand.cv_results_)\n",
    "    return searchrand.best_params_, searchrand.best_estimator_  \n",
    "\n",
    "# Obtaining optimum hyperparameters and classifier for different kernel\n",
    "linSVC_param, lin_SVC = randomSearch(tr_X, tr_Y, lin)\n",
    "rbfSVC_param, rbf_SVC = randomSearch(tr_X, tr_Y, rbf)\n",
    "polySVC_param, poly_SVC = randomSearch(tr_X, tr_Y, poly)\n",
    "#print(datetime.now() - start)\n",
    "\n",
    "# Display optimum hyperparameters for SVC kernel\n",
    "print('Optimum hyperparameters for linear kernel: ')\n",
    "print(linSVC_param)\n",
    "print('Optimum hyperparameters for rbf kernel: ')\n",
    "print(rbfSVC_param)\n",
    "print('Optimum hyperparameters for polynomial kernel: ')\n",
    "print(polySVC_param)"
   ]
  },
  {
   "cell_type": "code",
   "execution_count": 16,
   "metadata": {},
   "outputs": [
    {
     "name": "stdout",
     "output_type": "stream",
     "text": [
      "0.8895833333333333\n",
      "0.9027777777777778\n",
      "0.9034722222222222\n"
     ]
    }
   ],
   "source": [
    "print(lin_SVC.score(te_X, te_Y))\n",
    "print(rbf_SVC.score(te_X, te_Y))\n",
    "print(poly_SVC.score(te_X, te_Y))"
   ]
  },
  {
   "cell_type": "code",
   "execution_count": 17,
   "metadata": {},
   "outputs": [],
   "source": [
    "import landmarks_v2_test as l1 "
   ]
  },
  {
   "cell_type": "code",
   "execution_count": 18,
   "metadata": {},
   "outputs": [],
   "source": [
    "def get_data():\n",
    "    return l1.extract_features_labels()"
   ]
  },
  {
   "cell_type": "code",
   "execution_count": 19,
   "metadata": {},
   "outputs": [
    {
     "name": "stdout",
     "output_type": "stream",
     "text": [
      "(970, 68, 2)\n",
      "(970,)\n"
     ]
    }
   ],
   "source": [
    "A,b = get_data()\n",
    "\n",
    "print(A.shape)\n",
    "print(b.shape)"
   ]
  },
  {
   "cell_type": "code",
   "execution_count": 20,
   "metadata": {},
   "outputs": [],
   "source": [
    "B = np.array([b, -(b - 1)]).T\n",
    "def reshapeX(A):\n",
    "    return A.reshape((A.shape[0], A.shape[1] * A.shape[2]))\n",
    "\n",
    "def reshapeY(b):\n",
    "    return list(zip(*b))[0]\n",
    "\n",
    "te_A = reshapeX(A)\n",
    "te_B = reshapeY(B)"
   ]
  },
  {
   "cell_type": "code",
   "execution_count": 27,
   "metadata": {},
   "outputs": [
    {
     "name": "stdout",
     "output_type": "stream",
     "text": [
      "Automatically created module for IPython interactive environment\n"
     ]
    },
    {
     "data": {
      "image/png": "[encoded data removed]",
      "text/plain": [
       "<Figure size 648x1296 with 3 Axes>"
      ]
     },
     "metadata": {
      "needs_background": "light"
     },
     "output_type": "display_data"
    }
   ],
   "source": [
    "print(__doc__)\n",
    "\n",
    "from sklearn.model_selection import learning_curve\n",
    "from sklearn.model_selection import ShuffleSplit\n",
    "\n",
    "\n",
    "def plot_learning_curve(estimator, title, X, y, axes=None, ylim=None, cv=None,\n",
    "                        n_jobs=None, train_sizes=np.linspace(.1, 1.0, 5)):\n",
    "\n",
    "    axes.set_title(title)\n",
    "    if ylim is not None:\n",
    "        axes.set_ylim(*ylim)\n",
    "        axes.set_xlabel(\"Training examples\")\n",
    "        axes.set_ylabel(\"Score\")\n",
    "\n",
    "        train_sizes, train_scores, test_scores, fit_times, _ = \\\n",
    "            learning_curve(estimator, X, y, cv=cv, n_jobs=n_jobs,\n",
    "                           train_sizes=train_sizes,\n",
    "                           return_times=True)\n",
    "        train_scores_mean = np.mean(train_scores, axis=1)\n",
    "        train_scores_std = np.std(train_scores, axis=1)\n",
    "        test_scores_mean = np.mean(test_scores, axis=1)\n",
    "        test_scores_std = np.std(test_scores, axis=1)\n",
    "        fit_times_mean = np.mean(fit_times, axis=1)\n",
    "        fit_times_std = np.std(fit_times, axis=1)\n",
    "\n",
    "    # Plot learning curve\n",
    "        axes.grid()\n",
    "        axes.fill_between(train_sizes, train_scores_mean - train_scores_std,\n",
    "                             train_scores_mean + train_scores_std, alpha=0.1,\n",
    "                             color=\"r\")\n",
    "        axes.fill_between(train_sizes, test_scores_mean - test_scores_std,\n",
    "                             test_scores_mean + test_scores_std, alpha=0.1,\n",
    "                             color=\"g\")\n",
    "        axes.plot(train_sizes, train_scores_mean, 'o-', color=\"r\",\n",
    "                     label=\"Training score\")\n",
    "        axes.plot(train_sizes, test_scores_mean, 'o-', color=\"g\",\n",
    "                     label=\"Cross-validation score\")\n",
    "        axes.legend(loc=\"best\")\n",
    "\n",
    "    return plt\n",
    "\n",
    "plt.figure(figsize=(9,18))\n",
    "\n",
    "cv = ShuffleSplit(n_splits=30, test_size=0.2, random_state=0)\n",
    "\n",
    "\n",
    "# estimator = poly_SVC \n",
    "# plot_learning_curve(estimator, title, te_X, te_Y, axes=axes, ylim=(0.8, 1.01), cv=cv, n_jobs=-1)\n",
    "axes = plt.subplot(311)\n",
    "title = r\"Learning Curves (linear)\"\n",
    "plot_learning_curve(lin_SVC, title, te_X, te_Y, axes=axes, ylim=(0.8, 1.01), cv=cv, n_jobs=-1)\n",
    "\n",
    "axes = plt.subplot(312)\n",
    "title = r\"Learning Curves (rbf)\"\n",
    "plot_learning_curve(rbf_SVC, title, te_X, te_Y, axes=axes, ylim=(0.6, 1.01), cv=cv, n_jobs=-1)\n",
    "\n",
    "axes = plt.subplot(313)\n",
    "title = r\"Learning Curves (poly)\"\n",
    "plot_learning_curve(poly_SVC, title, te_X, te_Y, axes=axes, ylim=(0.8, 1.01), cv=cv, n_jobs=-1)\n",
    "\n",
    "\n",
    "plt.show()"
   ]
  },
  {
   "cell_type": "code",
   "execution_count": 21,
   "metadata": {},
   "outputs": [
    {
     "name": "stdout",
     "output_type": "stream",
     "text": [
      "[[426  47]\n",
      " [ 51 446]]\n",
      "\n",
      "Confusion Matrix\n"
     ]
    },
    {
     "data": {
      "image/png": "[encoded data removed]",
      "text/plain": [
       "<Figure size 288x288 with 2 Axes>"
      ]
     },
     "metadata": {
      "needs_background": "light"
     },
     "output_type": "display_data"
    },
    {
     "name": "stdout",
     "output_type": "stream",
     "text": [
      "[[0.43917526 0.04845361]\n",
      " [0.05257732 0.45979381]]\n",
      "\n",
      "Confusion Matrix(normalised)\n"
     ]
    },
    {
     "data": {
      "image/png": "[encoded data removed]",
      "text/plain": [
       "<Figure size 288x288 with 2 Axes>"
      ]
     },
     "metadata": {
      "needs_background": "light"
     },
     "output_type": "display_data"
    },
    {
     "name": "stdout",
     "output_type": "stream",
     "text": [
      "              precision    recall  f1-score   support\n",
      "\n",
      "         0.0       0.89      0.90      0.90       473\n",
      "         1.0       0.90      0.90      0.90       497\n",
      "\n",
      "    accuracy                           0.90       970\n",
      "   macro avg       0.90      0.90      0.90       970\n",
      "weighted avg       0.90      0.90      0.90       970\n",
      "\n",
      "Accuracy achieved: 0.8989690721649485 ♡♡♡\n"
     ]
    }
   ],
   "source": [
    "# op_lin_results = optimised_lin.predict(te_X)\n",
    "op_lin_results = lin_SVC.predict(te_A)\n",
    "\n",
    "# cm = confusion_matrix(te_Y, op_lin_results)\n",
    "cm = confusion_matrix(te_B, op_lin_results)\n",
    "print(cm)\n",
    "plt.matshow(cm)\n",
    "plt.colorbar()\n",
    "plt.ylabel('True label')\n",
    "plt.xlabel('Predicted label')\n",
    "print('\\nConfusion Matrix')\n",
    "plt.show()\n",
    "\n",
    "# cm2 = confusion_matrix(te_Y, op_lin_results, normalize='all')\n",
    "cm2 = confusion_matrix(te_B, op_lin_results, normalize='all')\n",
    "print(cm2)\n",
    "plt.matshow(cm2)\n",
    "plt.colorbar()\n",
    "plt.ylabel('True label')\n",
    "plt.xlabel('Predicted label')\n",
    "print('\\nConfusion Matrix(normalised)')\n",
    "plt.show()\n",
    "\n",
    "print(classification_report(te_B, op_lin_results))\n",
    "print('Accuracy achieved:', accuracy_score(te_B, op_lin_results), '\\u2661''\\u2661''\\u2661')"
   ]
  },
  {
   "cell_type": "code",
   "execution_count": 22,
   "metadata": {},
   "outputs": [
    {
     "name": "stdout",
     "output_type": "stream",
     "text": [
      "[[432  41]\n",
      " [ 51 446]]\n",
      "\n",
      "Confusion Matrix\n"
     ]
    },
    {
     "data": {
      "image/png": "[encoded data removed]",
      "text/plain": [
       "<Figure size 288x288 with 2 Axes>"
      ]
     },
     "metadata": {
      "needs_background": "light"
     },
     "output_type": "display_data"
    },
    {
     "name": "stdout",
     "output_type": "stream",
     "text": [
      "[[0.44536082 0.04226804]\n",
      " [0.05257732 0.45979381]]\n",
      "\n",
      "Confusion Matrix(normalised)\n"
     ]
    },
    {
     "data": {
      "image/png": "[encoded data removed]",
      "text/plain": [
       "<Figure size 288x288 with 2 Axes>"
      ]
     },
     "metadata": {
      "needs_background": "light"
     },
     "output_type": "display_data"
    },
    {
     "name": "stdout",
     "output_type": "stream",
     "text": [
      "              precision    recall  f1-score   support\n",
      "\n",
      "         0.0       0.89      0.91      0.90       473\n",
      "         1.0       0.92      0.90      0.91       497\n",
      "\n",
      "    accuracy                           0.91       970\n",
      "   macro avg       0.91      0.91      0.91       970\n",
      "weighted avg       0.91      0.91      0.91       970\n",
      "\n",
      "Accuracy achieved: 0.9051546391752577 ♡♡♡\n"
     ]
    }
   ],
   "source": [
    "# optimised_rbf = svm.SVC(kernel = 'rbf', gamma = rbfSVC_param['gamma'], C = rbfSVC_param['C'])\n",
    "# optimised_rbf.fit(tr_X, tr_Y)\n",
    "# op_rbf_results = optimised_rbf.predict(te_X)\n",
    "op_rbf_results = rbf_SVC.predict(te_A)\n",
    "\n",
    "# cm = confusion_matrix(te_Y, op_rbf_results)\n",
    "cm = confusion_matrix(te_B, op_rbf_results)\n",
    "print(cm)\n",
    "plt.matshow(cm)\n",
    "plt.colorbar()\n",
    "plt.ylabel('True label')\n",
    "plt.xlabel('Predicted label')\n",
    "print('\\nConfusion Matrix')\n",
    "plt.show()\n",
    "\n",
    "# cm2 = confusion_matrix(te_Y, op_rbf_results, normalize='all')\n",
    "cm2 = confusion_matrix(te_B, op_rbf_results, normalize='all')\n",
    "print(cm2)\n",
    "plt.matshow(cm2)\n",
    "plt.colorbar()\n",
    "plt.ylabel('True label')\n",
    "plt.xlabel('Predicted label')\n",
    "print('\\nConfusion Matrix(normalised)')\n",
    "plt.show()\n",
    "\n",
    "print(classification_report(te_B, op_rbf_results))\n",
    "print('Accuracy achieved:', accuracy_score(te_B, op_rbf_results), '\\u2661''\\u2661''\\u2661')"
   ]
  },
  {
   "cell_type": "code",
   "execution_count": 23,
   "metadata": {},
   "outputs": [
    {
     "name": "stdout",
     "output_type": "stream",
     "text": [
      "[[429  44]\n",
      " [ 47 450]]\n",
      "\n",
      "Confusion Matrix\n"
     ]
    },
    {
     "data": {
      "image/png": "[encoded data removed]",
      "text/plain": [
       "<Figure size 288x288 with 2 Axes>"
      ]
     },
     "metadata": {
      "needs_background": "light"
     },
     "output_type": "display_data"
    },
    {
     "name": "stdout",
     "output_type": "stream",
     "text": [
      "[[0.44226804 0.04536082]\n",
      " [0.04845361 0.46391753]]\n",
      "\n",
      "Confusion Matrix(normalised)\n"
     ]
    },
    {
     "data": {
      "image/png": "[encoded data removed]",
      "text/plain": [
       "<Figure size 288x288 with 2 Axes>"
      ]
     },
     "metadata": {
      "needs_background": "light"
     },
     "output_type": "display_data"
    },
    {
     "name": "stdout",
     "output_type": "stream",
     "text": [
      "              precision    recall  f1-score   support\n",
      "\n",
      "         0.0       0.90      0.91      0.90       473\n",
      "         1.0       0.91      0.91      0.91       497\n",
      "\n",
      "    accuracy                           0.91       970\n",
      "   macro avg       0.91      0.91      0.91       970\n",
      "weighted avg       0.91      0.91      0.91       970\n",
      "\n",
      "Accuracy achieved: 0.9061855670103093 ♡♡♡\n"
     ]
    }
   ],
   "source": [
    "# optimised_poly = svm.SVC(kernel = 'poly', degree = polySVC_param['degree'], C = polySVC_param['C'])\n",
    "# optimised_poly.fit(tr_X, tr_Y)\n",
    "# op_p_results = optimised_poly.predict(te_X)\n",
    "op_p_results = poly_SVC.predict(te_A)\n",
    "\n",
    "# cm = confusion_matrix(te_Y, op_p_results)\n",
    "cm = confusion_matrix(te_B, op_p_results)\n",
    "print(cm)\n",
    "plt.matshow(cm)\n",
    "plt.colorbar()\n",
    "plt.ylabel('True label')\n",
    "plt.xlabel('Predicted label')\n",
    "print('\\nConfusion Matrix')\n",
    "plt.show()\n",
    "\n",
    "# cm2 = confusion_matrix(te_Y, op_p_results, normalize='all')\n",
    "cm2 = confusion_matrix(te_B, op_p_results, normalize='all')\n",
    "print(cm2)\n",
    "plt.matshow(cm2)\n",
    "plt.colorbar()\n",
    "plt.ylabel('True label')\n",
    "plt.xlabel('Predicted label')\n",
    "print('\\nConfusion Matrix(normalised)')\n",
    "plt.show()\n",
    "\n",
    "print(classification_report(te_B, op_p_results))\n",
    "print('Accuracy achieved:', accuracy_score(te_B, op_p_results), '\\u2661''\\u2661''\\u2661')"
   ]
  },
  {
   "cell_type": "code",
   "execution_count": 24,
   "metadata": {},
   "outputs": [
    {
     "data": {
      "image/png": "[encoded data removed]",
      "text/plain": [
       "<Figure size 432x288 with 1 Axes>"
      ]
     },
     "metadata": {
      "needs_background": "light"
     },
     "output_type": "display_data"
    }
   ],
   "source": [
    "plt.scatter(te_B, op_p_results)\n",
    "plt.xlabel('True Values')\n",
    "plt.ylabel('Predictions')\n",
    "plt.grid()\n",
    "plt.show()"
   ]
  },
  {
   "cell_type": "code",
   "execution_count": 26,
   "metadata": {},
   "outputs": [
    {
     "name": "stdout",
     "output_type": "stream",
     "text": [
      "--- 3174.210713624954 seconds ---\n"
     ]
    }
   ],
   "source": [
    "print(\"--- %s seconds ---\" % (time.time() - start_time))"
   ]
  },
  {
   "cell_type": "code",
   "execution_count": null,
   "metadata": {},
   "outputs": [],
   "source": []
  }
 ],
 "metadata": {
  "kernelspec": {
   "display_name": "Python 3",
   "language": "python",
   "name": "python3"
  },
  "language_info": {
   "codemirror_mode": {
    "name": "ipython",
    "version": 3
   },
   "file_extension": ".py",
   "mimetype": "text/x-python",
   "name": "python",
   "nbconvert_exporter": "python",
   "pygments_lexer": "ipython3",
   "version": "3.7.5"
  }
 },
 "nbformat": 4,
 "nbformat_minor": 2
}
