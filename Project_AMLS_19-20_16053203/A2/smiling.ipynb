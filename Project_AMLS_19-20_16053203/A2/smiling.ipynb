{
 "cells": [
  {
   "cell_type": "markdown",
   "metadata": {},
   "source": [
    "# Importing Python libraries and functions"
   ]
  },
  {
   "cell_type": "code",
   "execution_count": 1,
   "metadata": {},
   "outputs": [
    {
     "name": "stderr",
     "output_type": "stream",
     "text": [
      "Using TensorFlow backend.\n"
     ]
    }
   ],
   "source": [
    "import time\n",
    "start_time = time.time()\n",
    "import progressbar\n",
    "import os\n",
    "import numpy as np\n",
    "from keras.preprocessing import image\n",
    "import cv2\n",
    "import dlib\n",
    "import pandas as pd\n",
    "import matplotlib.pyplot as plt\n",
    "import sys\n",
    "from scipy import stats\n",
    "from sklearn import svm, datasets\n",
    "from sklearn.dummy import DummyClassifier\n",
    "from sklearn.svm import SVC\n",
    "from sklearn.utils import shuffle\n",
    "from sklearn.model_selection import train_test_split, GridSearchCV, learning_curve, ShuffleSplit\n",
    "from sklearn.metrics import classification_report, accuracy_score, confusion_matrix, recall_score, precision_score, f1_score\n",
    "from sklearn.metrics import make_scorer, roc_auc_score\n",
    "from sklearn.model_selection import GridSearchCV, RandomizedSearchCV\n",
    "from sklearn import preprocessing\n",
    "from sklearn.calibration import CalibratedClassifierCV\n",
    "from sklearn.ensemble import RandomForestClassifier"
   ]
  },
  {
   "cell_type": "code",
   "execution_count": 2,
   "metadata": {},
   "outputs": [
    {
     "name": "stdout",
     "output_type": "stream",
     "text": [
      "C:\\Users\\User\\Desktop\\4th_year_AMLS\\AMLS_19-20_ChinYangTan_16053203\\Project_AMLS_19-20_16053203\\A2\n"
     ]
    }
   ],
   "source": [
    "cwd = os.getcwd()\n",
    "\n",
    "print(cwd)"
   ]
  },
  {
   "cell_type": "markdown",
   "metadata": {},
   "source": [
    "# Data Preprocessing"
   ]
  },
  {
   "cell_type": "code",
   "execution_count": 3,
   "metadata": {},
   "outputs": [],
   "source": [
    "import landmarks_v2 as l2"
   ]
  },
  {
   "cell_type": "code",
   "execution_count": 4,
   "metadata": {},
   "outputs": [],
   "source": [
    "def get_data():\n",
    "    return l2.extract_features_labels()\n",
    "    \n",
    "def split_data(X, Y):\n",
    "\n",
    "    X, Y = shuffle(X,Y)\n",
    "    tr_X, te_X, tr_Y, te_Y = train_test_split(X, Y, train_size=0.7)\n",
    "    \n",
    "    return tr_X, tr_Y, te_X, te_Y"
   ]
  },
  {
   "cell_type": "code",
   "execution_count": 5,
   "metadata": {},
   "outputs": [
    {
     "name": "stdout",
     "output_type": "stream",
     "text": [
      "(4798, 68, 2)\n",
      "(4798,)\n"
     ]
    }
   ],
   "source": [
    "X,y = get_data()\n",
    "\n",
    "print(X.shape)\n",
    "print(y.shape)"
   ]
  },
  {
   "cell_type": "code",
   "execution_count": 6,
   "metadata": {},
   "outputs": [
    {
     "name": "stdout",
     "output_type": "stream",
     "text": [
      "C:\\Users\\User\\Desktop\\4th_year_AMLS\\AMLS_19-20_ChinYangTan_16053203\\Project_AMLS_19-20_16053203\\A2\n"
     ]
    }
   ],
   "source": [
    "print (os.path.abspath(os.curdir))"
   ]
  },
  {
   "cell_type": "code",
   "execution_count": 7,
   "metadata": {},
   "outputs": [],
   "source": [
    "Y = np.array([y, -(y - 1)]).T \n",
    "\n",
    "tr_X, tr_Y, te_X, te_Y = split_data(X, Y)"
   ]
  },
  {
   "cell_type": "code",
   "execution_count": 8,
   "metadata": {
    "scrolled": true
   },
   "outputs": [
    {
     "name": "stdout",
     "output_type": "stream",
     "text": [
      "[[[ 47 105]\n",
      "  [ 48 118]\n",
      "  [ 51 130]\n",
      "  ...\n",
      "  [ 92 154]\n",
      "  [ 89 155]\n",
      "  [ 85 154]]\n",
      "\n",
      " [[ 47 109]\n",
      "  [ 48 121]\n",
      "  [ 49 132]\n",
      "  ...\n",
      "  [ 92 155]\n",
      "  [ 89 156]\n",
      "  [ 85 155]]\n",
      "\n",
      " [[ 48 109]\n",
      "  [ 48 121]\n",
      "  [ 49 132]\n",
      "  ...\n",
      "  [ 93 155]\n",
      "  [ 88 156]\n",
      "  [ 82 155]]\n",
      "\n",
      " ...\n",
      "\n",
      " [[ 51 112]\n",
      "  [ 51 123]\n",
      "  [ 52 133]\n",
      "  ...\n",
      "  [ 91 159]\n",
      "  [ 87 159]\n",
      "  [ 82 158]]\n",
      "\n",
      " [[ 41 107]\n",
      "  [ 42 119]\n",
      "  [ 42 132]\n",
      "  ...\n",
      "  [ 93 157]\n",
      "  [ 88 158]\n",
      "  [ 82 157]]\n",
      "\n",
      " [[ 56 116]\n",
      "  [ 55 125]\n",
      "  [ 54 135]\n",
      "  ...\n",
      "  [ 88 161]\n",
      "  [ 82 161]\n",
      "  [ 77 159]]]\n",
      "(3358, 68, 2)\n",
      "[[ 0.  1.]\n",
      " [ 0.  1.]\n",
      " [ 1. -0.]\n",
      " ...\n",
      " [ 1. -0.]\n",
      " [ 1. -0.]\n",
      " [ 1. -0.]]\n",
      "(3358, 2)\n"
     ]
    }
   ],
   "source": [
    "print(tr_X)\n",
    "print(tr_X.shape)\n",
    "print(tr_Y)\n",
    "print(tr_Y.shape)"
   ]
  },
  {
   "cell_type": "code",
   "execution_count": 9,
   "metadata": {},
   "outputs": [],
   "source": [
    "def reshapeX(X):\n",
    "    return X.reshape((X.shape[0], X.shape[1] * X.shape[2]))\n",
    "\n",
    "def reshapeY(y):\n",
    "    return list(zip(*y))[0]\n",
    "\n",
    "tr_X = reshapeX(tr_X)\n",
    "te_X = reshapeX(te_X)\n",
    "tr_Y = reshapeY(tr_Y)\n",
    "te_Y = reshapeY(te_Y)"
   ]
  },
  {
   "cell_type": "code",
   "execution_count": 10,
   "metadata": {},
   "outputs": [
    {
     "name": "stdout",
     "output_type": "stream",
     "text": [
      "(3358, 136)\n"
     ]
    }
   ],
   "source": [
    "print(tr_X.shape)"
   ]
  },
  {
   "cell_type": "markdown",
   "metadata": {},
   "source": [
    "# Implementing SVM"
   ]
  },
  {
   "cell_type": "code",
   "execution_count": 11,
   "metadata": {
    "scrolled": true
   },
   "outputs": [
    {
     "name": "stdout",
     "output_type": "stream",
     "text": [
      "0.1 Linear: 0.8909722222222223\n",
      "0.1 scale Rbf: 0.8652777777777778\n",
      "0.1 1 Poly 0.8104166666666667\n",
      "0.1 Linear: 0.8909722222222223\n",
      "0.1 scale Rbf: 0.8652777777777778\n",
      "0.1 2 Poly 0.8784722222222222\n",
      "0.1 Linear: 0.8909722222222223\n",
      "0.1 scale Rbf: 0.8652777777777778\n",
      "0.1 3 Poly 0.8895833333333333\n",
      "0.1 Linear: 0.8909722222222223\n",
      "0.1 scale Rbf: 0.8652777777777778\n",
      "0.1 4 Poly 0.8902777777777777\n",
      "1 Linear: 0.8868055555555555\n",
      "1 scale Rbf: 0.8805555555555555\n",
      "1 1 Poly 0.8763888888888889\n",
      "1 Linear: 0.8868055555555555\n",
      "1 scale Rbf: 0.8805555555555555\n",
      "1 2 Poly 0.8909722222222223\n",
      "1 Linear: 0.8868055555555555\n",
      "1 scale Rbf: 0.8805555555555555\n",
      "1 3 Poly 0.8881944444444444\n",
      "1 Linear: 0.8868055555555555\n",
      "1 scale Rbf: 0.8805555555555555\n",
      "1 4 Poly 0.8930555555555556\n"
     ]
    }
   ],
   "source": [
    "gamma='scale'\n",
    "\n",
    "for C in [0.1,1]:\n",
    "    for degree in [1, 2, 3, 4]:\n",
    "                \n",
    "        lin_svc = svm.SVC(kernel='linear', C=C).fit(tr_X, tr_Y)\n",
    "        print(C, \"Linear:\", lin_svc.score(te_X, te_Y))\n",
    "\n",
    "        rbf_svc = svm.SVC(kernel='rbf', gamma=gamma, C=C).fit(tr_X, tr_Y)\n",
    "        print( C, gamma, \"Rbf:\", rbf_svc.score(te_X, te_Y))\n",
    "\n",
    "        poly_svc = svm.SVC(kernel='poly', degree=degree, C=C).fit(tr_X, tr_Y)\n",
    "        print( C, degree, \"Poly\", poly_svc.score(te_X, te_Y))"
   ]
  },
  {
   "cell_type": "markdown",
   "metadata": {},
   "source": [
    "# Parameter Optimisation"
   ]
  },
  {
   "cell_type": "code",
   "execution_count": 12,
   "metadata": {},
   "outputs": [],
   "source": [
    "from sklearn.svm import SVC as svc"
   ]
  },
  {
   "cell_type": "code",
   "execution_count": 13,
   "metadata": {
    "scrolled": true
   },
   "outputs": [
    {
     "name": "stdout",
     "output_type": "stream",
     "text": [
      "Fitting 5 folds for each of 10 candidates, totalling 50 fits\n"
     ]
    },
    {
     "name": "stderr",
     "output_type": "stream",
     "text": [
      "[Parallel(n_jobs=-1)]: Using backend LokyBackend with 8 concurrent workers.\n",
      "[Parallel(n_jobs=-1)]: Done  16 tasks      | elapsed: 18.7min\n",
      "[Parallel(n_jobs=-1)]: Done  50 out of  50 | elapsed: 47.0min finished\n"
     ]
    },
    {
     "name": "stdout",
     "output_type": "stream",
     "text": [
      "{'mean_fit_time': array([ 351.44647388,  206.0003828 ,  690.75820804, 1036.83290367,\n",
      "         90.21666884,  808.32014298,  321.46693296,  458.33586206,\n",
      "        282.11007071,   98.29896011]), 'std_fit_time': array([ 36.64526776,  91.49926924, 217.91190916, 196.38110007,\n",
      "         9.77324004, 147.79982322, 160.0840733 ,  97.29637195,\n",
      "        46.33340785,  18.09459652]), 'mean_score_time': array([0.25666065, 0.22300406, 0.57865281, 0.30538387, 0.55170317,\n",
      "       0.32812295, 0.16695294, 0.10910869, 0.11768508, 0.13763199]), 'std_score_time': array([0.17286735, 0.13805023, 0.34113055, 0.18698692, 0.20000488,\n",
      "       0.1832878 , 0.09089375, 0.015368  , 0.01976637, 0.05316115]), 'param_C': masked_array(data=[4.285823049361129, 3.377155740127097,\n",
      "                   6.4994240869192295, 9.124871701447493,\n",
      "                   0.4767948728604686, 6.454250371240425,\n",
      "                   3.278506199744801, 6.876125409838798,\n",
      "                   5.687266989677399, 2.232553773348025],\n",
      "             mask=[False, False, False, False, False, False, False, False,\n",
      "                   False, False],\n",
      "       fill_value='?',\n",
      "            dtype=object), 'param_kernel': masked_array(data=['linear', 'linear', 'linear', 'linear', 'linear',\n",
      "                   'linear', 'linear', 'linear', 'linear', 'linear'],\n",
      "             mask=[False, False, False, False, False, False, False, False,\n",
      "                   False, False],\n",
      "       fill_value='?',\n",
      "            dtype=object), 'params': [{'C': 4.285823049361129, 'kernel': 'linear'}, {'C': 3.377155740127097, 'kernel': 'linear'}, {'C': 6.4994240869192295, 'kernel': 'linear'}, {'C': 9.124871701447493, 'kernel': 'linear'}, {'C': 0.4767948728604686, 'kernel': 'linear'}, {'C': 6.454250371240425, 'kernel': 'linear'}, {'C': 3.278506199744801, 'kernel': 'linear'}, {'C': 6.876125409838798, 'kernel': 'linear'}, {'C': 5.687266989677399, 'kernel': 'linear'}, {'C': 2.232553773348025, 'kernel': 'linear'}], 'split0_test_score': array([0.8735119 , 0.8735119 , 0.8735119 , 0.8735119 , 0.87202381,\n",
      "       0.8735119 , 0.8735119 , 0.8735119 , 0.8735119 , 0.87202381]), 'split1_test_score': array([0.89880952, 0.89732143, 0.90029762, 0.89880952, 0.90178571,\n",
      "       0.89732143, 0.89732143, 0.89732143, 0.89732143, 0.89880952]), 'split2_test_score': array([0.8735119 , 0.8735119 , 0.87053571, 0.87053571, 0.86755952,\n",
      "       0.8735119 , 0.8735119 , 0.87053571, 0.87202381, 0.8735119 ]), 'split3_test_score': array([0.88971684, 0.88822653, 0.88971684, 0.88971684, 0.88822653,\n",
      "       0.88971684, 0.88822653, 0.88971684, 0.88971684, 0.8852459 ]), 'split4_test_score': array([0.89865872, 0.89865872, 0.89865872, 0.89865872, 0.90014903,\n",
      "       0.89865872, 0.89865872, 0.89865872, 0.89865872, 0.89865872]), 'mean_test_score': array([0.88684178, 0.8862461 , 0.88654416, 0.88624654, 0.88594892,\n",
      "       0.88654416, 0.8862461 , 0.88594892, 0.88624654, 0.88564997]), 'std_test_score': array([0.01137105, 0.0109998 , 0.01242655, 0.01210731, 0.01406921,\n",
      "       0.01106939, 0.0109998 , 0.01180946, 0.01142992, 0.01162385]), 'rank_test_score': array([ 1,  6,  2,  5,  8,  2,  6,  8,  4, 10])}\n",
      "Fitting 5 folds for each of 10 candidates, totalling 50 fits\n"
     ]
    },
    {
     "name": "stderr",
     "output_type": "stream",
     "text": [
      "[Parallel(n_jobs=-1)]: Using backend LokyBackend with 8 concurrent workers.\n",
      "[Parallel(n_jobs=-1)]: Done  16 tasks      | elapsed:   16.8s\n",
      "[Parallel(n_jobs=-1)]: Done  50 out of  50 | elapsed:   50.5s finished\n"
     ]
    },
    {
     "name": "stdout",
     "output_type": "stream",
     "text": [
      "{'mean_fit_time': array([6.38472815, 7.73910599, 2.457231  , 6.00514336, 7.08206306,\n",
      "       7.68804331, 7.39941511, 7.37308526, 7.40619678, 6.49423504]), 'std_fit_time': array([0.23915574, 1.03950329, 0.35213109, 0.61791375, 0.95152648,\n",
      "       0.89624901, 1.04670107, 0.95551288, 0.94357913, 0.31930449]), 'mean_score_time': array([1.09507174, 1.18323717, 0.1773252 , 0.54434466, 0.91954126,\n",
      "       1.0021203 , 1.29493732, 1.18642812, 1.00551128, 0.78690166]), 'std_score_time': array([0.31021361, 0.20758077, 0.02738964, 0.14967466, 0.18438427,\n",
      "       0.09020118, 0.1887026 , 0.24017344, 0.09672467, 0.31754403]), 'param_C': masked_array(data=[7.3430456975845715, 4.934878595363888,\n",
      "                   5.194665732234254, 8.732667755637726,\n",
      "                   9.780994213018486, 6.167195489589498,\n",
      "                   0.2542689153703269, 5.534598704926228,\n",
      "                   4.853316874520383, 4.558632055687752],\n",
      "             mask=[False, False, False, False, False, False, False, False,\n",
      "                   False, False],\n",
      "       fill_value='?',\n",
      "            dtype=object), 'param_gamma': masked_array(data=[0.007139840262147915, 0.007239613521149735,\n",
      "                   0.0002827922329334919, 0.0023638677711014487,\n",
      "                   0.004072409995087946, 0.008532051110604724,\n",
      "                   0.00811112521306641, 0.010017220190706583,\n",
      "                   0.004910046626557465, 0.008311105804557663],\n",
      "             mask=[False, False, False, False, False, False, False, False,\n",
      "                   False, False],\n",
      "       fill_value='?',\n",
      "            dtype=object), 'param_kernel': masked_array(data=['rbf', 'rbf', 'rbf', 'rbf', 'rbf', 'rbf', 'rbf', 'rbf',\n",
      "                   'rbf', 'rbf'],\n",
      "             mask=[False, False, False, False, False, False, False, False,\n",
      "                   False, False],\n",
      "       fill_value='?',\n",
      "            dtype=object), 'params': [{'C': 7.3430456975845715, 'gamma': 0.007139840262147915, 'kernel': 'rbf'}, {'C': 4.934878595363888, 'gamma': 0.007239613521149735, 'kernel': 'rbf'}, {'C': 5.194665732234254, 'gamma': 0.0002827922329334919, 'kernel': 'rbf'}, {'C': 8.732667755637726, 'gamma': 0.0023638677711014487, 'kernel': 'rbf'}, {'C': 9.780994213018486, 'gamma': 0.004072409995087946, 'kernel': 'rbf'}, {'C': 6.167195489589498, 'gamma': 0.008532051110604724, 'kernel': 'rbf'}, {'C': 0.2542689153703269, 'gamma': 0.00811112521306641, 'kernel': 'rbf'}, {'C': 5.534598704926228, 'gamma': 0.010017220190706583, 'kernel': 'rbf'}, {'C': 4.853316874520383, 'gamma': 0.004910046626557465, 'kernel': 'rbf'}, {'C': 4.558632055687752, 'gamma': 0.008311105804557663, 'kernel': 'rbf'}], 'split0_test_score': array([0.84077381, 0.84077381, 0.88690476, 0.84672619, 0.83630952,\n",
      "       0.84672619, 0.59672619, 0.80357143, 0.83928571, 0.84821429]), 'split1_test_score': array([0.85565476, 0.85565476, 0.90922619, 0.8764881 , 0.85714286,\n",
      "       0.86309524, 0.61309524, 0.83184524, 0.85416667, 0.85863095]), 'split2_test_score': array([0.84077381, 0.84077381, 0.88839286, 0.875     , 0.86607143,\n",
      "       0.85863095, 0.59375   , 0.78422619, 0.85565476, 0.85119048]), 'split3_test_score': array([0.8271237 , 0.82563338, 0.88822653, 0.86289121, 0.8509687 ,\n",
      "       0.82414307, 0.59612519, 0.8271237 , 0.84053651, 0.82265276]), 'split4_test_score': array([0.85692996, 0.85692996, 0.89269747, 0.85394933, 0.85245902,\n",
      "       0.8390462 , 0.60357675, 0.78837556, 0.84947839, 0.85692996]), 'mean_test_score': array([0.84425121, 0.84395314, 0.89308956, 0.86301096, 0.85259031,\n",
      "       0.84632833, 0.60065467, 0.80702842, 0.84782441, 0.84752369]), 'std_test_score': array([0.01103021, 0.01149918, 0.00830066, 0.01159906, 0.00969719,\n",
      "       0.01398469, 0.00702752, 0.01949111, 0.00678671, 0.01299488]), 'rank_test_score': array([ 7,  8,  1,  2,  3,  6, 10,  9,  4,  5])}\n",
      "Fitting 5 folds for each of 10 candidates, totalling 50 fits\n"
     ]
    },
    {
     "name": "stderr",
     "output_type": "stream",
     "text": [
      "[Parallel(n_jobs=-1)]: Using backend LokyBackend with 8 concurrent workers.\n",
      "[Parallel(n_jobs=-1)]: Done  16 tasks      | elapsed:   10.2s\n",
      "[Parallel(n_jobs=-1)]: Done  50 out of  50 | elapsed:   24.6s finished\n"
     ]
    },
    {
     "name": "stdout",
     "output_type": "stream",
     "text": [
      "{'mean_fit_time': array([2.95789104, 7.11058745, 1.94021239, 2.50749598, 3.02291698,\n",
      "       2.61002164, 3.30735645, 3.69811287, 3.51320758, 2.07884226]), 'std_fit_time': array([0.46055437, 0.9962859 , 0.28216057, 0.32265603, 0.44532465,\n",
      "       0.33062118, 0.46896258, 0.2562009 , 0.45214627, 0.46755775]), 'mean_score_time': array([0.20864205, 0.14042506, 0.27965221, 0.37679257, 0.33191338,\n",
      "       0.19228539, 0.15159602, 0.5265914 , 0.26189957, 0.18829632]), 'std_score_time': array([0.08496112, 0.03048219, 0.08787087, 0.05835954, 0.14409009,\n",
      "       0.04125371, 0.04201607, 0.16408395, 0.03708234, 0.06311376]), 'param_C': masked_array(data=[0.829920735628774, 3.759803077257716, 6.34025563759329,\n",
      "                   5.185516151892778, 7.9705880930022195,\n",
      "                   4.5292875911477175, 9.282670109121037,\n",
      "                   1.5386871215164466, 5.704931089686103,\n",
      "                   8.731785185643352],\n",
      "             mask=[False, False, False, False, False, False, False, False,\n",
      "                   False, False],\n",
      "       fill_value='?',\n",
      "            dtype=object), 'param_degree': masked_array(data=[4.83242281520076, 4.895861836759211, 2.883435049536322,\n",
      "                   1.4490180147096265, 1.33528593661157,\n",
      "                   3.620172193860294, 3.1662895635471844,\n",
      "                   1.9503642291307268, 1.7350936822740004,\n",
      "                   2.0291973850449314],\n",
      "             mask=[False, False, False, False, False, False, False, False,\n",
      "                   False, False],\n",
      "       fill_value='?',\n",
      "            dtype=object), 'param_kernel': masked_array(data=['poly', 'poly', 'poly', 'poly', 'poly', 'poly', 'poly',\n",
      "                   'poly', 'poly', 'poly'],\n",
      "             mask=[False, False, False, False, False, False, False, False,\n",
      "                   False, False],\n",
      "       fill_value='?',\n",
      "            dtype=object), 'params': [{'C': 0.829920735628774, 'degree': 4.83242281520076, 'kernel': 'poly'}, {'C': 3.759803077257716, 'degree': 4.895861836759211, 'kernel': 'poly'}, {'C': 6.34025563759329, 'degree': 2.883435049536322, 'kernel': 'poly'}, {'C': 5.185516151892778, 'degree': 1.4490180147096265, 'kernel': 'poly'}, {'C': 7.9705880930022195, 'degree': 1.33528593661157, 'kernel': 'poly'}, {'C': 4.5292875911477175, 'degree': 3.620172193860294, 'kernel': 'poly'}, {'C': 9.282670109121037, 'degree': 3.1662895635471844, 'kernel': 'poly'}, {'C': 1.5386871215164466, 'degree': 1.9503642291307268, 'kernel': 'poly'}, {'C': 5.704931089686103, 'degree': 1.7350936822740004, 'kernel': 'poly'}, {'C': 8.731785185643352, 'degree': 2.0291973850449314, 'kernel': 'poly'}], 'split0_test_score': array([0.8735119 , 0.88095238, 0.87946429, 0.86309524, 0.86755952,\n",
      "       0.87797619, 0.875     , 0.85714286, 0.86458333, 0.8764881 ]), 'split1_test_score': array([0.9047619 , 0.89732143, 0.91964286, 0.90922619, 0.91071429,\n",
      "       0.91666667, 0.91071429, 0.89434524, 0.91071429, 0.91815476]), 'split2_test_score': array([0.88541667, 0.8764881 , 0.86904762, 0.87053571, 0.87202381,\n",
      "       0.88244048, 0.88392857, 0.85863095, 0.86904762, 0.87202381]), 'split3_test_score': array([0.89269747, 0.88822653, 0.90163934, 0.89716841, 0.89716841,\n",
      "       0.8852459 , 0.89269747, 0.88971684, 0.89716841, 0.90163934]), 'split4_test_score': array([0.90312966, 0.88971684, 0.89120715, 0.87779434, 0.88226528,\n",
      "       0.89567809, 0.89716841, 0.87481371, 0.87779434, 0.89567809]), 'mean_test_score': array([0.89190352, 0.88654105, 0.89220025, 0.88356398, 0.88594626,\n",
      "       0.89160147, 0.89190175, 0.87492992, 0.8838616 , 0.89279682]), 'std_test_score': array([0.01159591, 0.00723102, 0.01755807, 0.01712088, 0.01603027,\n",
      "       0.01381918, 0.01209564, 0.01534703, 0.01747029, 0.01689384]), 'rank_test_score': array([ 3,  6,  2,  9,  7,  5,  4, 10,  8,  1])}\n",
      "Optimum hyperparameters for linear kernel: \n",
      "{'C': 4.285823049361129, 'kernel': 'linear'}\n",
      "Optimum hyperparameters for rbf kernel: \n",
      "{'C': 5.194665732234254, 'gamma': 0.0002827922329334919, 'kernel': 'rbf'}\n",
      "Optimum hyperparameters for polynomial kernel: \n",
      "{'C': 8.731785185643352, 'degree': 2.0291973850449314, 'kernel': 'poly'}\n"
     ]
    }
   ],
   "source": [
    "lin = {'C': stats.uniform(0.1, 10), 'kernel': ['linear']}\n",
    "\n",
    "rbf = {'C': stats.uniform(0.1, 10), 'gamma': stats.uniform(0.0001, 0.01), 'kernel': ['rbf']}\n",
    "\n",
    "poly = {'C': stats.uniform(0.1, 10), 'degree': stats.uniform(1, 4), 'kernel': ['poly']}\n",
    "\n",
    "def randomSearch(X, y, param_kernel):\n",
    "    param_distributions = param_kernel \n",
    "    searchrand = RandomizedSearchCV(SVC(), param_distributions, n_iter=10, n_jobs=-1, refit=True, verbose=3)\n",
    "    searchrand.fit(X, y)\n",
    "#   printing statistical scores \n",
    "    searchrand.cv_results_\n",
    "    \n",
    "    print(searchrand.cv_results_)\n",
    "    return searchrand.best_params_, searchrand.best_estimator_  \n",
    "\n",
    "# Obtaining optimum hyperparameters and classifier for different kernel\n",
    "linSVC_param, lin_SVC = randomSearch(tr_X, tr_Y, lin)\n",
    "rbfSVC_param, rbf_SVC = randomSearch(tr_X, tr_Y, rbf)\n",
    "polySVC_param, poly_SVC = randomSearch(tr_X, tr_Y, poly)\n",
    "#print(datetime.now() - start)\n",
    "\n",
    "# Display optimum hyperparameters for SVC kernel\n",
    "print('Optimum hyperparameters for linear kernel: ')\n",
    "print(linSVC_param)\n",
    "print('Optimum hyperparameters for rbf kernel: ')\n",
    "print(rbfSVC_param)\n",
    "print('Optimum hyperparameters for polynomial kernel: ')\n",
    "print(polySVC_param)"
   ]
  },
  {
   "cell_type": "code",
   "execution_count": 14,
   "metadata": {},
   "outputs": [
    {
     "name": "stdout",
     "output_type": "stream",
     "text": [
      "0.8847222222222222\n",
      "0.9013888888888889\n",
      "0.8861111111111111\n"
     ]
    }
   ],
   "source": [
    "# printing validation accuracy scores for each kernel\n",
    "print(lin_SVC.score(te_X, te_Y))\n",
    "print(rbf_SVC.score(te_X, te_Y))\n",
    "print(poly_SVC.score(te_X, te_Y))"
   ]
  },
  {
   "cell_type": "markdown",
   "metadata": {},
   "source": [
    "# Cross-validation"
   ]
  },
  {
   "cell_type": "code",
   "execution_count": 15,
   "metadata": {},
   "outputs": [
    {
     "name": "stdout",
     "output_type": "stream",
     "text": [
      "Automatically created module for IPython interactive environment\n"
     ]
    },
    {
     "data": {
      "image/png": "[encoded data removed]",
      "text/plain": [
       "<Figure size 648x1296 with 3 Axes>"
      ]
     },
     "metadata": {
      "needs_background": "light"
     },
     "output_type": "display_data"
    }
   ],
   "source": [
    "print(__doc__)\n",
    "\n",
    "\n",
    "def plot_learning_curve(estimator, title, X, y, axes=None, ylim=None, cv=None,\n",
    "                        n_jobs=None, train_sizes=np.linspace(.1, 1.0, 5)):\n",
    "\n",
    "    axes.set_title(title)\n",
    "    if ylim is not None:\n",
    "        axes.set_ylim(*ylim)\n",
    "        axes.set_xlabel(\"Training examples\")\n",
    "        axes.set_ylabel(\"Score\")\n",
    "\n",
    "        train_sizes, train_scores, test_scores, fit_times, _ = \\\n",
    "            learning_curve(estimator, X, y, cv=cv, n_jobs=n_jobs,\n",
    "                           train_sizes=train_sizes,\n",
    "                           return_times=True)\n",
    "        train_scores_mean = np.mean(train_scores, axis=1)\n",
    "        train_scores_std = np.std(train_scores, axis=1)\n",
    "        test_scores_mean = np.mean(test_scores, axis=1)\n",
    "        test_scores_std = np.std(test_scores, axis=1)\n",
    "        fit_times_mean = np.mean(fit_times, axis=1)\n",
    "        fit_times_std = np.std(fit_times, axis=1)\n",
    "\n",
    "    # Plot learning curve\n",
    "        axes.grid()\n",
    "        axes.fill_between(train_sizes, train_scores_mean - train_scores_std,\n",
    "                             train_scores_mean + train_scores_std, alpha=0.1,\n",
    "                             color=\"r\")\n",
    "        axes.fill_between(train_sizes, test_scores_mean - test_scores_std,\n",
    "                             test_scores_mean + test_scores_std, alpha=0.1,\n",
    "                             color=\"g\")\n",
    "        axes.plot(train_sizes, train_scores_mean, 'o-', color=\"r\",\n",
    "                     label=\"Training score\")\n",
    "        axes.plot(train_sizes, test_scores_mean, 'o-', color=\"g\",\n",
    "                     label=\"Cross-validation score\")\n",
    "        axes.legend(loc=\"best\")\n",
    "\n",
    "    return plt\n",
    "\n",
    "plt.figure(figsize=(9,18))\n",
    "\n",
    "cv = ShuffleSplit(n_splits=30, test_size=0.2, random_state=0)\n",
    "\n",
    "\n",
    "# estimator = poly_SVC \n",
    "# plot_learning_curve(estimator, title, te_X, te_Y, axes=axes, ylim=(0.8, 1.01), cv=cv, n_jobs=-1)\n",
    "axes = plt.subplot(311)\n",
    "title = r\"Learning Curves (linear)\"\n",
    "plot_learning_curve(lin_SVC, title, te_X, te_Y, axes=axes, ylim=(0.8, 1.01), cv=cv, n_jobs=-1)\n",
    "\n",
    "axes = plt.subplot(312)\n",
    "title = r\"Learning Curves (rbf)\"\n",
    "plot_learning_curve(rbf_SVC, title, te_X, te_Y, axes=axes, ylim=(0.8, 1.01), cv=cv, n_jobs=-1)\n",
    "\n",
    "axes = plt.subplot(313)\n",
    "title = r\"Learning Curves (poly)\"\n",
    "plot_learning_curve(poly_SVC, title, te_X, te_Y, axes=axes, ylim=(0.8, 1.01), cv=cv, n_jobs=-1)\n",
    "\n",
    "\n",
    "plt.show()"
   ]
  },
  {
   "cell_type": "code",
   "execution_count": 16,
   "metadata": {},
   "outputs": [],
   "source": [
    "def val_sc(x):\n",
    "    score = x.score(te_X, te_Y)\n",
    "    return score\n",
    "\n",
    "def tr_sc(x):\n",
    "    score = x.score(tr_X, tr_Y)\n",
    "    return score"
   ]
  },
  {
   "cell_type": "code",
   "execution_count": 17,
   "metadata": {},
   "outputs": [
    {
     "data": {
      "text/plain": [
       "0.9013888888888889"
      ]
     },
     "execution_count": 17,
     "metadata": {},
     "output_type": "execute_result"
    }
   ],
   "source": [
    "val_sc = val_sc(rbf_SVC)\n",
    "val_sc"
   ]
  },
  {
   "cell_type": "code",
   "execution_count": 18,
   "metadata": {},
   "outputs": [
    {
     "data": {
      "text/plain": [
       "0.9312090530077427"
      ]
     },
     "execution_count": 18,
     "metadata": {},
     "output_type": "execute_result"
    }
   ],
   "source": [
    "tr_sc = tr_sc(rbf_SVC)\n",
    "tr_sc"
   ]
  },
  {
   "cell_type": "markdown",
   "metadata": {},
   "source": [
    "# Evaluation of model"
   ]
  },
  {
   "cell_type": "code",
   "execution_count": 19,
   "metadata": {},
   "outputs": [],
   "source": [
    "import landmarks_v2_test as l1 "
   ]
  },
  {
   "cell_type": "code",
   "execution_count": 20,
   "metadata": {},
   "outputs": [],
   "source": [
    "def get_data():\n",
    "    return l1.extract_features_labels()"
   ]
  },
  {
   "cell_type": "code",
   "execution_count": 21,
   "metadata": {},
   "outputs": [
    {
     "name": "stdout",
     "output_type": "stream",
     "text": [
      "(970, 68, 2)\n",
      "(970,)\n"
     ]
    }
   ],
   "source": [
    "A,b = get_data()\n",
    "\n",
    "print(A.shape)\n",
    "print(b.shape)"
   ]
  },
  {
   "cell_type": "code",
   "execution_count": 22,
   "metadata": {},
   "outputs": [],
   "source": [
    "B = np.array([b, -(b - 1)]).T\n",
    "def reshapeX(A):\n",
    "    return A.reshape((A.shape[0], A.shape[1] * A.shape[2]))\n",
    "\n",
    "def reshapeY(b):\n",
    "    return list(zip(*b))[0]\n",
    "\n",
    "te_A = reshapeX(A)\n",
    "te_B = reshapeY(B)"
   ]
  },
  {
   "cell_type": "code",
   "execution_count": 23,
   "metadata": {},
   "outputs": [
    {
     "name": "stdout",
     "output_type": "stream",
     "text": [
      "[[420  53]\n",
      " [ 48 449]]\n",
      "\n",
      "Confusion Matrix\n"
     ]
    },
    {
     "data": {
      "image/png": "[encoded data removed]",
      "text/plain": [
       "<Figure size 288x288 with 2 Axes>"
      ]
     },
     "metadata": {
      "needs_background": "light"
     },
     "output_type": "display_data"
    },
    {
     "name": "stdout",
     "output_type": "stream",
     "text": [
      "[[0.43298969 0.05463918]\n",
      " [0.04948454 0.4628866 ]]\n",
      "\n",
      "Confusion Matrix(normalised)\n"
     ]
    },
    {
     "data": {
      "image/png": "[encoded data removed]",
      "text/plain": [
       "<Figure size 288x288 with 2 Axes>"
      ]
     },
     "metadata": {
      "needs_background": "light"
     },
     "output_type": "display_data"
    },
    {
     "name": "stdout",
     "output_type": "stream",
     "text": [
      "              precision    recall  f1-score   support\n",
      "\n",
      "         0.0       0.90      0.89      0.89       473\n",
      "         1.0       0.89      0.90      0.90       497\n",
      "\n",
      "    accuracy                           0.90       970\n",
      "   macro avg       0.90      0.90      0.90       970\n",
      "weighted avg       0.90      0.90      0.90       970\n",
      "\n",
      "Accuracy achieved: 0.8958762886597939 ♡♡♡\n"
     ]
    }
   ],
   "source": [
    "op_lin_results = lin_SVC.predict(te_A)\n",
    "\n",
    "cm = confusion_matrix(te_B, op_lin_results)\n",
    "print(cm)\n",
    "plt.matshow(cm)\n",
    "plt.colorbar()\n",
    "plt.ylabel('True label')\n",
    "plt.xlabel('Predicted label')\n",
    "print('\\nConfusion Matrix')\n",
    "plt.show()\n",
    "\n",
    "cm2 = confusion_matrix(te_B, op_lin_results, normalize='all')\n",
    "print(cm2)\n",
    "plt.matshow(cm2)\n",
    "plt.colorbar()\n",
    "plt.ylabel('True label')\n",
    "plt.xlabel('Predicted label')\n",
    "print('\\nConfusion Matrix(normalised)')\n",
    "plt.show()\n",
    "\n",
    "print(classification_report(te_B, op_lin_results))\n",
    "print('Accuracy achieved:', accuracy_score(te_B, op_lin_results), '\\u2661''\\u2661''\\u2661')"
   ]
  },
  {
   "cell_type": "code",
   "execution_count": 24,
   "metadata": {},
   "outputs": [
    {
     "name": "stdout",
     "output_type": "stream",
     "text": [
      "[[426  47]\n",
      " [ 53 444]]\n",
      "\n",
      "Confusion Matrix\n"
     ]
    },
    {
     "data": {
      "image/png": "[encoded data removed]",
      "text/plain": [
       "<Figure size 288x288 with 2 Axes>"
      ]
     },
     "metadata": {
      "needs_background": "light"
     },
     "output_type": "display_data"
    },
    {
     "name": "stdout",
     "output_type": "stream",
     "text": [
      "[[0.43917526 0.04845361]\n",
      " [0.05463918 0.45773196]]\n",
      "\n",
      "Confusion Matrix(normalised)\n"
     ]
    },
    {
     "data": {
      "image/png": "[encoded data removed]",
      "text/plain": [
       "<Figure size 288x288 with 2 Axes>"
      ]
     },
     "metadata": {
      "needs_background": "light"
     },
     "output_type": "display_data"
    },
    {
     "name": "stdout",
     "output_type": "stream",
     "text": [
      "              precision    recall  f1-score   support\n",
      "\n",
      "         0.0       0.89      0.90      0.89       473\n",
      "         1.0       0.90      0.89      0.90       497\n",
      "\n",
      "    accuracy                           0.90       970\n",
      "   macro avg       0.90      0.90      0.90       970\n",
      "weighted avg       0.90      0.90      0.90       970\n",
      "\n",
      "Accuracy achieved: 0.8969072164948454 ♡♡♡\n"
     ]
    }
   ],
   "source": [
    "op_rbf_results = rbf_SVC.predict(te_A)\n",
    "\n",
    "cm = confusion_matrix(te_B, op_rbf_results)\n",
    "print(cm)\n",
    "plt.matshow(cm)\n",
    "plt.colorbar()\n",
    "plt.ylabel('True label')\n",
    "plt.xlabel('Predicted label')\n",
    "print('\\nConfusion Matrix')\n",
    "plt.show()\n",
    "\n",
    "cm2 = confusion_matrix(te_B, op_rbf_results, normalize='all')\n",
    "print(cm2)\n",
    "plt.matshow(cm2)\n",
    "plt.colorbar()\n",
    "plt.ylabel('True label')\n",
    "plt.xlabel('Predicted label')\n",
    "print('\\nConfusion Matrix(normalised)')\n",
    "plt.show()\n",
    "\n",
    "print(classification_report(te_B, op_rbf_results))\n",
    "print('Accuracy achieved:', accuracy_score(te_B, op_rbf_results), '\\u2661''\\u2661''\\u2661')"
   ]
  },
  {
   "cell_type": "code",
   "execution_count": 25,
   "metadata": {},
   "outputs": [
    {
     "name": "stdout",
     "output_type": "stream",
     "text": [
      "[[428  45]\n",
      " [ 47 450]]\n",
      "\n",
      "Confusion Matrix\n"
     ]
    },
    {
     "data": {
      "image/png": "[encoded data removed]",
      "text/plain": [
       "<Figure size 288x288 with 2 Axes>"
      ]
     },
     "metadata": {
      "needs_background": "light"
     },
     "output_type": "display_data"
    },
    {
     "name": "stdout",
     "output_type": "stream",
     "text": [
      "[[0.44123711 0.04639175]\n",
      " [0.04845361 0.46391753]]\n",
      "\n",
      "Confusion Matrix(normalised)\n"
     ]
    },
    {
     "data": {
      "image/png": "[encoded data removed]",
      "text/plain": [
       "<Figure size 288x288 with 2 Axes>"
      ]
     },
     "metadata": {
      "needs_background": "light"
     },
     "output_type": "display_data"
    },
    {
     "name": "stdout",
     "output_type": "stream",
     "text": [
      "              precision    recall  f1-score   support\n",
      "\n",
      "         0.0       0.90      0.90      0.90       473\n",
      "         1.0       0.91      0.91      0.91       497\n",
      "\n",
      "    accuracy                           0.91       970\n",
      "   macro avg       0.91      0.91      0.91       970\n",
      "weighted avg       0.91      0.91      0.91       970\n",
      "\n",
      "Accuracy achieved: 0.9051546391752577 ♡♡♡\n"
     ]
    }
   ],
   "source": [
    "op_p_results = poly_SVC.predict(te_A)\n",
    "\n",
    "cm = confusion_matrix(te_B, op_p_results)\n",
    "print(cm)\n",
    "plt.matshow(cm)\n",
    "plt.colorbar()\n",
    "plt.ylabel('True label')\n",
    "plt.xlabel('Predicted label')\n",
    "print('\\nConfusion Matrix')\n",
    "plt.show()\n",
    "\n",
    "cm2 = confusion_matrix(te_B, op_p_results, normalize='all')\n",
    "print(cm2)\n",
    "plt.matshow(cm2)\n",
    "plt.colorbar()\n",
    "plt.ylabel('True label')\n",
    "plt.xlabel('Predicted label')\n",
    "print('\\nConfusion Matrix(normalised)')\n",
    "plt.show()\n",
    "\n",
    "print(classification_report(te_B, op_p_results))\n",
    "print('Accuracy achieved:', accuracy_score(te_B, op_p_results), '\\u2661''\\u2661''\\u2661')"
   ]
  },
  {
   "cell_type": "code",
   "execution_count": 26,
   "metadata": {},
   "outputs": [
    {
     "data": {
      "image/png": "[encoded data removed]",
      "text/plain": [
       "<Figure size 432x288 with 1 Axes>"
      ]
     },
     "metadata": {
      "needs_background": "light"
     },
     "output_type": "display_data"
    }
   ],
   "source": [
    "# testing observation on scatter plot\n",
    "plt.scatter(te_B, op_p_results)\n",
    "plt.xlabel('True Values')\n",
    "plt.ylabel('Predictions')\n",
    "plt.grid()\n",
    "plt.show()"
   ]
  },
  {
   "cell_type": "code",
   "execution_count": 27,
   "metadata": {},
   "outputs": [
    {
     "name": "stdout",
     "output_type": "stream",
     "text": [
      "--- 4123.674785614014 seconds ---\n"
     ]
    }
   ],
   "source": [
    "print(\"--- %s seconds ---\" % (time.time() - start_time))"
   ]
  },
  {
   "cell_type": "code",
   "execution_count": null,
   "metadata": {},
   "outputs": [],
   "source": []
  }
 ],
 "metadata": {
  "kernelspec": {
   "display_name": "Python 3",
   "language": "python",
   "name": "python3"
  },
  "language_info": {
   "codemirror_mode": {
    "name": "ipython",
    "version": 3
   },
   "file_extension": ".py",
   "mimetype": "text/x-python",
   "name": "python",
   "nbconvert_exporter": "python",
   "pygments_lexer": "ipython3",
   "version": "3.7.5"
  }
 },
 "nbformat": 4,
 "nbformat_minor": 2
}
