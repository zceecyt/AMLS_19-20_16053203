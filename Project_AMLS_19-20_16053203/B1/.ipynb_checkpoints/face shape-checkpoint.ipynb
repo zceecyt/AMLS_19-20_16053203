{
 "cells": [
  {
   "cell_type": "code",
   "execution_count": 1,
   "metadata": {},
   "outputs": [
    {
     "name": "stderr",
     "output_type": "stream",
     "text": [
      "Using TensorFlow backend.\n"
     ]
    }
   ],
   "source": [
    "import time\n",
    "start_time = time.time()\n",
    "import os\n",
    "import numpy as np\n",
    "from keras import optimizers\n",
    "from keras.preprocessing import image\n",
    "from keras.layers import Dense, Conv2D, MaxPooling2D, BatchNormalization, GlobalAveragePooling2D\n",
    "from keras.layers import Activation, Dropout, Flatten, Dense\n",
    "from keras.models import Sequential\n",
    "from keras import backend as K\n",
    "from keras.optimizers import adam\n",
    "from keras import models\n",
    "import cv2\n",
    "import dlib\n",
    "import pandas as pd\n",
    "import matplotlib.pyplot as plt\n",
    "import sys\n",
    "import time \n",
    "import progressbar\n",
    "from tqdm.notebook import tqdm_notebook"
   ]
  },
  {
   "cell_type": "code",
   "execution_count": 2,
   "metadata": {},
   "outputs": [],
   "source": [
    "from sklearn import svm, datasets\n",
    "from sklearn.dummy import DummyClassifier\n",
    "from sklearn.svm import SVC\n",
    "from sklearn.utils import shuffle\n",
    "from sklearn.model_selection import train_test_split, GridSearchCV, learning_curve, ShuffleSplit\n",
    "from sklearn.metrics import classification_report, accuracy_score, confusion_matrix, recall_score, precision_score, f1_score"
   ]
  },
  {
   "cell_type": "code",
   "execution_count": 3,
   "metadata": {},
   "outputs": [],
   "source": [
    "from tensorflow.python.keras.applications.vgg16 import preprocess_input\n",
    "from tensorflow.python.keras.preprocessing.image import ImageDataGenerator\n",
    "from tensorflow.python.keras.callbacks import EarlyStopping, ModelCheckpoint"
   ]
  },
  {
   "cell_type": "code",
   "execution_count": 4,
   "metadata": {},
   "outputs": [
    {
     "data": {
      "text/html": [
       "<div>\n",
       "<style scoped>\n",
       "    .dataframe tbody tr th:only-of-type {\n",
       "        vertical-align: middle;\n",
       "    }\n",
       "\n",
       "    .dataframe tbody tr th {\n",
       "        vertical-align: top;\n",
       "    }\n",
       "\n",
       "    .dataframe thead th {\n",
       "        text-align: right;\n",
       "    }\n",
       "</style>\n",
       "<table border=\"1\" class=\"dataframe\">\n",
       "  <thead>\n",
       "    <tr style=\"text-align: right;\">\n",
       "      <th></th>\n",
       "      <th>face_shape</th>\n",
       "      <th>file_name</th>\n",
       "    </tr>\n",
       "  </thead>\n",
       "  <tbody>\n",
       "    <tr>\n",
       "      <th>0</th>\n",
       "      <td>4</td>\n",
       "      <td>0.png</td>\n",
       "    </tr>\n",
       "    <tr>\n",
       "      <th>1</th>\n",
       "      <td>4</td>\n",
       "      <td>1.png</td>\n",
       "    </tr>\n",
       "    <tr>\n",
       "      <th>2</th>\n",
       "      <td>3</td>\n",
       "      <td>2.png</td>\n",
       "    </tr>\n",
       "    <tr>\n",
       "      <th>3</th>\n",
       "      <td>0</td>\n",
       "      <td>3.png</td>\n",
       "    </tr>\n",
       "    <tr>\n",
       "      <th>4</th>\n",
       "      <td>2</td>\n",
       "      <td>4.png</td>\n",
       "    </tr>\n",
       "    <tr>\n",
       "      <th>...</th>\n",
       "      <td>...</td>\n",
       "      <td>...</td>\n",
       "    </tr>\n",
       "    <tr>\n",
       "      <th>9995</th>\n",
       "      <td>2</td>\n",
       "      <td>9995.png</td>\n",
       "    </tr>\n",
       "    <tr>\n",
       "      <th>9996</th>\n",
       "      <td>3</td>\n",
       "      <td>9996.png</td>\n",
       "    </tr>\n",
       "    <tr>\n",
       "      <th>9997</th>\n",
       "      <td>2</td>\n",
       "      <td>9997.png</td>\n",
       "    </tr>\n",
       "    <tr>\n",
       "      <th>9998</th>\n",
       "      <td>2</td>\n",
       "      <td>9998.png</td>\n",
       "    </tr>\n",
       "    <tr>\n",
       "      <th>9999</th>\n",
       "      <td>2</td>\n",
       "      <td>9999.png</td>\n",
       "    </tr>\n",
       "  </tbody>\n",
       "</table>\n",
       "<p>10000 rows × 2 columns</p>\n",
       "</div>"
      ],
      "text/plain": [
       "     face_shape file_name\n",
       "0             4     0.png\n",
       "1             4     1.png\n",
       "2             3     2.png\n",
       "3             0     3.png\n",
       "4             2     4.png\n",
       "...         ...       ...\n",
       "9995          2  9995.png\n",
       "9996          3  9996.png\n",
       "9997          2  9997.png\n",
       "9998          2  9998.png\n",
       "9999          2  9999.png\n",
       "\n",
       "[10000 rows x 2 columns]"
      ]
     },
     "execution_count": 4,
     "metadata": {},
     "output_type": "execute_result"
    }
   ],
   "source": [
    "df = pd.read_csv('../../Dataset_original_AMLS_19-20/cartoon_set/labels.csv', sep = '\\t')\n",
    "df = df.drop(columns = [df.columns[0]]).drop(columns = [df.columns[1]])\n",
    "df['face_shape'] = df['face_shape'].apply(str)\n",
    "df"
   ]
  },
  {
   "cell_type": "code",
   "execution_count": 5,
   "metadata": {},
   "outputs": [
    {
     "name": "stdout",
     "output_type": "stream",
     "text": [
      "     face_shape file_name\n",
      "6802          4  6802.png\n",
      "1384          2  1384.png\n",
      "2507          0  2507.png\n",
      "131           0   131.png\n",
      "6092          1  6092.png\n",
      "...         ...       ...\n",
      "2922          1  2922.png\n",
      "4654          1  4654.png\n",
      "6057          0  6057.png\n",
      "3697          0  3697.png\n",
      "6332          0  6332.png\n",
      "\n",
      "[6000 rows x 2 columns]      face_shape file_name\n",
      "5093          3  5093.png\n",
      "2667          0  2667.png\n",
      "9875          2  9875.png\n",
      "8918          1  8918.png\n",
      "2951          4  2951.png\n",
      "...         ...       ...\n",
      "2753          1  2753.png\n",
      "8200          2  8200.png\n",
      "3028          3  3028.png\n",
      "1629          4  1629.png\n",
      "970           1   970.png\n",
      "\n",
      "[3000 rows x 2 columns]      face_shape file_name\n",
      "3499          4  3499.png\n",
      "4386          1  4386.png\n",
      "8771          3  8771.png\n",
      "7215          2  7215.png\n",
      "3189          1  3189.png\n",
      "...         ...       ...\n",
      "1525          2  1525.png\n",
      "8391          4  8391.png\n",
      "5703          4  5703.png\n",
      "616           3   616.png\n",
      "5615          0  5615.png\n",
      "\n",
      "[1000 rows x 2 columns]\n"
     ]
    }
   ],
   "source": [
    "img = ('../../Dataset_original_AMLS_19-20/cartoon_set/img')\n",
    "# training, testing = train_test_split(df, random_state=0)\n",
    "training, validating = np.split(df.sample(frac=1), [int(0.9*len(df)),]) #splitting at n-array\n",
    "print(training, validating, testing)"
   ]
  },
  {
   "cell_type": "code",
   "execution_count": 6,
   "metadata": {},
   "outputs": [
    {
     "name": "stdout",
     "output_type": "stream",
     "text": [
      "Training Dataset Preparation: \n",
      "Found 6000 validated image filenames belonging to 5 classes.\n",
      "\n",
      "Validation Dataset Preparation: \n",
      "Found 3000 validated image filenames belonging to 5 classes.\n"
     ]
    }
   ],
   "source": [
    "# set up data generator\n",
    "data_generator = ImageDataGenerator(\n",
    "    rescale = 1./255.,\n",
    "    validation_split = 0.2,\n",
    "    horizontal_flip=True,\n",
    "    vertical_flip=True   \n",
    ")\n",
    "\n",
    "# # get batches of training images from the df\n",
    "# train_generator = data_generator.flow_from_dataframe(\n",
    "#         dataframe=train_set,\n",
    "#         x_col=\"file_name\",\n",
    "#         y_col=\"face_shape\",\n",
    "#         target_size=(178, 218),\n",
    "#         batch_size=12,\n",
    "#         class_mode='categorical')\n",
    "\n",
    "# validate_generator = data_generator.flow_from_dataframe(\n",
    "#         dataframe=train_set,\n",
    "#         x_col=\"file_name\",\n",
    "#         y_col=\"face_shape\",\n",
    "#         target_size=(178, 218),\n",
    "#         batch_size=12,\n",
    "#         class_mode='categorical')\n",
    "\n",
    "# Get batches of training dataset from the dataframe\n",
    "print(\"Training Dataset Preparation: \")\n",
    "train_generator = data_generator.flow_from_dataframe(\n",
    "        dataframe = training, directory = img ,\n",
    "        x_col = \"file_name\", y_col = \"face_shape\",\n",
    "        class_mode = 'categorical', target_size = (30,30),\n",
    "        batch_size = 32, subset = 'training') \n",
    "   \n",
    "# Get batches of validation dataset from the dataframe\n",
    "print(\"\\nValidation Dataset Preparation: \")\n",
    "validation_generator = data_generator.flow_from_dataframe(\n",
    "        dataframe = validating, directory = img ,\n",
    "        x_col = \"file_name\", y_col = \"face_shape\",\n",
    "        class_mode = 'categorical', target_size = (30,30),\n",
    "        batch_size = 32, subset = 'training')"
   ]
  },
  {
   "cell_type": "code",
   "execution_count": 7,
   "metadata": {},
   "outputs": [
    {
     "name": "stdout",
     "output_type": "stream",
     "text": [
      "Model: \"sequential_1\"\n",
      "_________________________________________________________________\n",
      "Layer (type)                 Output Shape              Param #   \n",
      "=================================================================\n",
      "conv2d_1 (Conv2D)            (None, 30, 30, 16)        448       \n",
      "_________________________________________________________________\n",
      "max_pooling2d_1 (MaxPooling2 (None, 15, 15, 16)        0         \n",
      "_________________________________________________________________\n",
      "conv2d_2 (Conv2D)            (None, 15, 15, 32)        4640      \n",
      "_________________________________________________________________\n",
      "max_pooling2d_2 (MaxPooling2 (None, 8, 8, 32)          0         \n",
      "_________________________________________________________________\n",
      "conv2d_3 (Conv2D)            (None, 8, 8, 64)          18496     \n",
      "_________________________________________________________________\n",
      "max_pooling2d_3 (MaxPooling2 (None, 4, 4, 64)          0         \n",
      "_________________________________________________________________\n",
      "conv2d_4 (Conv2D)            (None, 4, 4, 128)         73856     \n",
      "_________________________________________________________________\n",
      "max_pooling2d_4 (MaxPooling2 (None, 2, 2, 128)         0         \n",
      "_________________________________________________________________\n",
      "flatten_1 (Flatten)          (None, 512)               0         \n",
      "_________________________________________________________________\n",
      "dense_1 (Dense)              (None, 5)                 2565      \n",
      "=================================================================\n",
      "Total params: 100,005\n",
      "Trainable params: 100,005\n",
      "Non-trainable params: 0\n",
      "_________________________________________________________________\n"
     ]
    }
   ],
   "source": [
    "# starting point \n",
    "my_model= models.Sequential()\n",
    "\n",
    "# Add first convolutional block\n",
    "my_model.add(Conv2D(16, (3, 3), activation='relu', padding='same', \n",
    "                    input_shape=(30,30,3))) #height, width, depth\n",
    "my_model.add(MaxPooling2D((2, 2), padding='same'))\n",
    "# second block\n",
    "my_model.add(Conv2D(32, (3, 3), activation='relu', padding='same')) #Convolution: filters, kernel_size that specifies the height and width of the 2D convolution window, p padding layers so dimensions of input = output\n",
    "my_model.add(MaxPooling2D((2, 2), padding='same'))\n",
    "# third block\n",
    "my_model.add(Conv2D(64, (3, 3), activation='relu', padding='same'))\n",
    "my_model.add(MaxPooling2D((2, 2), padding='same'))\n",
    "# fourth block\n",
    "my_model.add(Conv2D(128, (3, 3), activation='relu', padding='same'))\n",
    "my_model.add(MaxPooling2D((2, 2), padding='same'))\n",
    "\n",
    "# make predictions\n",
    "my_model.add(Flatten())\n",
    "my_model.add(Dense(5, activation='softmax'))\n",
    "# Show a summary of the model. Check the number of trainable parameters\n",
    "my_model.summary()\n",
    "# compile model \n",
    "my_model.compile(optimizer='adam', loss='categorical_crossentropy', \n",
    "                 metrics=['accuracy'])"
   ]
  },
  {
   "cell_type": "code",
   "execution_count": 8,
   "metadata": {},
   "outputs": [],
   "source": [
    "# # use early stopping to optimally terminate training through callbacks\n",
    "\n",
    "# es=EarlyStopping(monitor='val_loss', mode='min', verbose=1, patience=5)\n",
    "\n",
    "# # save best model automatically\n",
    "# mc= ModelCheckpoint('/../../dataset/cartoon_set', monitor='val_loss', \n",
    "#                     mode='min', verbose=1, save_best_only=True)\n",
    "# cb_list=[es,mc]"
   ]
  },
  {
   "cell_type": "code",
   "execution_count": 9,
   "metadata": {},
   "outputs": [
    {
     "name": "stdout",
     "output_type": "stream",
     "text": [
      "Epoch 1/40\n",
      "187/187 [==============================] - 61s 324ms/step - loss: 1.6123 - accuracy: 0.2044 - val_loss: 1.6130 - val_accuracy: 0.2016\n",
      "Epoch 2/40\n",
      "187/187 [==============================] - 79s 424ms/step - loss: 1.3530 - accuracy: 0.3519 - val_loss: 1.3156 - val_accuracy: 0.4036\n",
      "Epoch 3/40\n",
      "187/187 [==============================] - 36s 192ms/step - loss: 1.0757 - accuracy: 0.5062 - val_loss: 0.9599 - val_accuracy: 0.5974\n",
      "Epoch 4/40\n",
      "187/187 [==============================] - 41s 221ms/step - loss: 0.8088 - accuracy: 0.6523 - val_loss: 0.7378 - val_accuracy: 0.7072\n",
      "Epoch 5/40\n",
      "187/187 [==============================] - 38s 204ms/step - loss: 0.6051 - accuracy: 0.7426 - val_loss: 0.4736 - val_accuracy: 0.7722\n",
      "Epoch 6/40\n",
      "187/187 [==============================] - 49s 260ms/step - loss: 0.5128 - accuracy: 0.7855 - val_loss: 0.4000 - val_accuracy: 0.7753\n",
      "Epoch 7/40\n",
      "187/187 [==============================] - 64s 340ms/step - loss: 0.4567 - accuracy: 0.8122 - val_loss: 0.5413 - val_accuracy: 0.8275\n",
      "Epoch 8/40\n",
      "187/187 [==============================] - 56s 302ms/step - loss: 0.3974 - accuracy: 0.8408 - val_loss: 0.4994 - val_accuracy: 0.8474\n",
      "Epoch 9/40\n",
      "187/187 [==============================] - 41s 219ms/step - loss: 0.3471 - accuracy: 0.8675 - val_loss: 0.2861 - val_accuracy: 0.8447\n",
      "Epoch 10/40\n",
      "187/187 [==============================] - 36s 193ms/step - loss: 0.3034 - accuracy: 0.8799 - val_loss: 0.2842 - val_accuracy: 0.8420\n",
      "Epoch 11/40\n",
      "187/187 [==============================] - 32s 172ms/step - loss: 0.2810 - accuracy: 0.8928 - val_loss: 0.2982 - val_accuracy: 0.8794\n",
      "Epoch 12/40\n",
      "187/187 [==============================] - 32s 170ms/step - loss: 0.2567 - accuracy: 0.9050 - val_loss: 0.3569 - val_accuracy: 0.9023\n",
      "Epoch 13/40\n",
      "187/187 [==============================] - 34s 181ms/step - loss: 0.2363 - accuracy: 0.9078 - val_loss: 0.2641 - val_accuracy: 0.8892\n",
      "Epoch 14/40\n",
      "187/187 [==============================] - 32s 172ms/step - loss: 0.2082 - accuracy: 0.9211 - val_loss: 0.5193 - val_accuracy: 0.9030\n",
      "Epoch 15/40\n",
      "187/187 [==============================] - 33s 177ms/step - loss: 0.2096 - accuracy: 0.9241 - val_loss: 0.1279 - val_accuracy: 0.9077\n",
      "Epoch 16/40\n",
      "187/187 [==============================] - 36s 193ms/step - loss: 0.1810 - accuracy: 0.9336 - val_loss: 0.4072 - val_accuracy: 0.9009\n",
      "Epoch 17/40\n",
      "187/187 [==============================] - 34s 183ms/step - loss: 0.1754 - accuracy: 0.9350 - val_loss: 0.0763 - val_accuracy: 0.9006\n",
      "Epoch 18/40\n",
      "187/187 [==============================] - 34s 179ms/step - loss: 0.1549 - accuracy: 0.9415 - val_loss: 0.1225 - val_accuracy: 0.9154\n",
      "Epoch 19/40\n",
      "187/187 [==============================] - 33s 179ms/step - loss: 0.1534 - accuracy: 0.9405 - val_loss: 0.2266 - val_accuracy: 0.9158\n",
      "Epoch 20/40\n",
      "187/187 [==============================] - 36s 194ms/step - loss: 0.1353 - accuracy: 0.9510 - val_loss: 0.3414 - val_accuracy: 0.9286\n",
      "Epoch 21/40\n",
      "187/187 [==============================] - 32s 172ms/step - loss: 0.1279 - accuracy: 0.9521 - val_loss: 0.3388 - val_accuracy: 0.9195\n",
      "Epoch 22/40\n",
      "187/187 [==============================] - 31s 165ms/step - loss: 0.1239 - accuracy: 0.9538 - val_loss: 0.3500 - val_accuracy: 0.9218\n",
      "Epoch 23/40\n",
      "187/187 [==============================] - 31s 166ms/step - loss: 0.1125 - accuracy: 0.9578 - val_loss: 0.0812 - val_accuracy: 0.9208\n",
      "Epoch 24/40\n",
      "187/187 [==============================] - 65s 349ms/step - loss: 0.1213 - accuracy: 0.9576 - val_loss: 0.1128 - val_accuracy: 0.9185\n",
      "Epoch 25/40\n",
      "187/187 [==============================] - 40s 212ms/step - loss: 0.1257 - accuracy: 0.9517 - val_loss: 0.4447 - val_accuracy: 0.9158\n",
      "Epoch 26/40\n",
      "187/187 [==============================] - 32s 169ms/step - loss: 0.1185 - accuracy: 0.9549 - val_loss: 0.1179 - val_accuracy: 0.9343\n",
      "Epoch 27/40\n",
      "187/187 [==============================] - 33s 175ms/step - loss: 0.1066 - accuracy: 0.9609 - val_loss: 0.0147 - val_accuracy: 0.9205\n",
      "Epoch 28/40\n",
      "187/187 [==============================] - 32s 172ms/step - loss: 0.0987 - accuracy: 0.9612 - val_loss: 0.0524 - val_accuracy: 0.9306\n",
      "Epoch 29/40\n",
      "187/187 [==============================] - 34s 182ms/step - loss: 0.0934 - accuracy: 0.9625 - val_loss: 0.1896 - val_accuracy: 0.9208\n",
      "Epoch 30/40\n",
      "187/187 [==============================] - 36s 195ms/step - loss: 0.1010 - accuracy: 0.9628 - val_loss: 0.3266 - val_accuracy: 0.9326\n",
      "Epoch 31/40\n",
      "187/187 [==============================] - 43s 230ms/step - loss: 0.0755 - accuracy: 0.9708 - val_loss: 0.0293 - val_accuracy: 0.9198\n",
      "Epoch 32/40\n",
      "187/187 [==============================] - 39s 206ms/step - loss: 0.0797 - accuracy: 0.9708 - val_loss: 0.0027 - val_accuracy: 0.9346\n",
      "Epoch 33/40\n",
      "187/187 [==============================] - 47s 254ms/step - loss: 0.0875 - accuracy: 0.9668 - val_loss: 0.2121 - val_accuracy: 0.9350\n",
      "Epoch 34/40\n",
      "187/187 [==============================] - 48s 255ms/step - loss: 0.0725 - accuracy: 0.9734 - val_loss: 0.1189 - val_accuracy: 0.9286\n",
      "Epoch 35/40\n",
      "187/187 [==============================] - 40s 215ms/step - loss: 0.0809 - accuracy: 0.9682 - val_loss: 0.2373 - val_accuracy: 0.9353\n",
      "Epoch 36/40\n",
      "187/187 [==============================] - 41s 217ms/step - loss: 0.0721 - accuracy: 0.9738 - val_loss: 0.2131 - val_accuracy: 0.9377\n",
      "Epoch 37/40\n",
      "187/187 [==============================] - 40s 216ms/step - loss: 0.0722 - accuracy: 0.9727 - val_loss: 0.3172 - val_accuracy: 0.9441\n",
      "Epoch 38/40\n",
      "187/187 [==============================] - 41s 218ms/step - loss: 0.0627 - accuracy: 0.9772 - val_loss: 0.2799 - val_accuracy: 0.9350\n",
      "Epoch 39/40\n",
      "187/187 [==============================] - 41s 219ms/step - loss: 0.0703 - accuracy: 0.9754 - val_loss: 0.0869 - val_accuracy: 0.9350\n",
      "Epoch 40/40\n",
      "187/187 [==============================] - 41s 221ms/step - loss: 0.0602 - accuracy: 0.9773 - val_loss: 0.0294 - val_accuracy: 0.9427\n"
     ]
    }
   ],
   "source": [
    "# batch_size = 32\n",
    "history = my_model.fit_generator(\n",
    "                                train_generator,\n",
    "                                epochs=40,\n",
    "                                steps_per_epoch=train_generator.samples // train_generator.batch_size, #187.5 batches, each 32 samples, 4687.5 batches in total for epoch of 40\n",
    "                                validation_data=validation_generator,\n",
    "                                validation_steps=validation_generator.samples // validation_generator.batch_size\n",
    "                                )"
   ]
  },
  {
   "cell_type": "code",
   "execution_count": 22,
   "metadata": {},
   "outputs": [
    {
     "data": {
      "image/png": "[encoded data removed]",
      "text/plain": [
       "<Figure size 1296x216 with 2 Axes>"
      ]
     },
     "metadata": {
      "needs_background": "light"
     },
     "output_type": "display_data"
    }
   ],
   "source": [
    "plt.figure(figsize=(18, 3))\n",
    "\n",
    "plt.subplot(131)\n",
    "plt.plot(history.history['accuracy'])\n",
    "plt.plot(history.history['val_accuracy'])\n",
    "plt.ylim([.5,1])\n",
    "plt.ylabel('Accuracy')\n",
    "plt.xlabel('Epoch')\n",
    "plt.legend(['Train', 'Validation'], loc='upper left')\n",
    "\n",
    "plt.subplot(132)\n",
    "plt.plot(history.history['loss'])\n",
    "plt.plot(history.history['val_loss'])\n",
    "plt.ylim([0,1.5])\n",
    "plt.ylabel('Loss')\n",
    "plt.xlabel('Epoch')\n",
    "plt.legend(['Train', 'Validation'], loc='best')\n",
    "\n",
    "plt.savefig(\"Custom_Keras_ODSC.png\", dpi=300)"
   ]
  },
  {
   "cell_type": "code",
   "execution_count": 11,
   "metadata": {},
   "outputs": [],
   "source": [
    "from keras.models import load_model\n",
    "\n",
    "modelFile = 'my_CNN.h5'\n",
    "\n",
    "# model_path = os.path.abspath(os.curdir)\n",
    "# file_path = os.path.join(model_path, modelFile)\n",
    "my_model.save(modelFile)"
   ]
  },
  {
   "cell_type": "code",
   "execution_count": 12,
   "metadata": {},
   "outputs": [
    {
     "data": {
      "text/plain": [
       "'C:\\\\Users\\\\User\\\\Desktop\\\\4th_year_AMLS\\\\AMLS_19-20_ChinYangTan_16053203\\\\Project_AMLS_19-20_16053203\\\\Notebook\\\\B1'"
      ]
     },
     "execution_count": 12,
     "metadata": {},
     "output_type": "execute_result"
    }
   ],
   "source": [
    "os.getcwd()"
   ]
  },
  {
   "cell_type": "code",
   "execution_count": 13,
   "metadata": {},
   "outputs": [
    {
     "data": {
      "text/html": [
       "<div>\n",
       "<style scoped>\n",
       "    .dataframe tbody tr th:only-of-type {\n",
       "        vertical-align: middle;\n",
       "    }\n",
       "\n",
       "    .dataframe tbody tr th {\n",
       "        vertical-align: top;\n",
       "    }\n",
       "\n",
       "    .dataframe thead th {\n",
       "        text-align: right;\n",
       "    }\n",
       "</style>\n",
       "<table border=\"1\" class=\"dataframe\">\n",
       "  <thead>\n",
       "    <tr style=\"text-align: right;\">\n",
       "      <th></th>\n",
       "      <th>face_shape</th>\n",
       "      <th>file_name</th>\n",
       "    </tr>\n",
       "  </thead>\n",
       "  <tbody>\n",
       "    <tr>\n",
       "      <th>0</th>\n",
       "      <td>1</td>\n",
       "      <td>0.png</td>\n",
       "    </tr>\n",
       "    <tr>\n",
       "      <th>1</th>\n",
       "      <td>4</td>\n",
       "      <td>1.png</td>\n",
       "    </tr>\n",
       "    <tr>\n",
       "      <th>2</th>\n",
       "      <td>2</td>\n",
       "      <td>2.png</td>\n",
       "    </tr>\n",
       "    <tr>\n",
       "      <th>3</th>\n",
       "      <td>2</td>\n",
       "      <td>3.png</td>\n",
       "    </tr>\n",
       "    <tr>\n",
       "      <th>4</th>\n",
       "      <td>3</td>\n",
       "      <td>4.png</td>\n",
       "    </tr>\n",
       "    <tr>\n",
       "      <th>...</th>\n",
       "      <td>...</td>\n",
       "      <td>...</td>\n",
       "    </tr>\n",
       "    <tr>\n",
       "      <th>2495</th>\n",
       "      <td>4</td>\n",
       "      <td>2495.png</td>\n",
       "    </tr>\n",
       "    <tr>\n",
       "      <th>2496</th>\n",
       "      <td>4</td>\n",
       "      <td>2496.png</td>\n",
       "    </tr>\n",
       "    <tr>\n",
       "      <th>2497</th>\n",
       "      <td>4</td>\n",
       "      <td>2497.png</td>\n",
       "    </tr>\n",
       "    <tr>\n",
       "      <th>2498</th>\n",
       "      <td>4</td>\n",
       "      <td>2498.png</td>\n",
       "    </tr>\n",
       "    <tr>\n",
       "      <th>2499</th>\n",
       "      <td>4</td>\n",
       "      <td>2499.png</td>\n",
       "    </tr>\n",
       "  </tbody>\n",
       "</table>\n",
       "<p>2500 rows × 2 columns</p>\n",
       "</div>"
      ],
      "text/plain": [
       "     face_shape file_name\n",
       "0             1     0.png\n",
       "1             4     1.png\n",
       "2             2     2.png\n",
       "3             2     3.png\n",
       "4             3     4.png\n",
       "...         ...       ...\n",
       "2495          4  2495.png\n",
       "2496          4  2496.png\n",
       "2497          4  2497.png\n",
       "2498          4  2498.png\n",
       "2499          4  2499.png\n",
       "\n",
       "[2500 rows x 2 columns]"
      ]
     },
     "execution_count": 13,
     "metadata": {},
     "output_type": "execute_result"
    }
   ],
   "source": [
    "df2 = pd.read_csv('../../Dataset_test_AMLS_19-20/cartoon_set_test/labels.csv', sep = '\\t')\n",
    "df2 = df2.drop(columns = [df2.columns[0]]).drop(columns = [df2.columns[1]])\n",
    "df2['face_shape'] = df2['face_shape'].apply(str)\n",
    "df2"
   ]
  },
  {
   "cell_type": "code",
   "execution_count": 14,
   "metadata": {},
   "outputs": [],
   "source": [
    "img = ('../../Dataset_test_AMLS_19-20/cartoon_set_test/img')"
   ]
  },
  {
   "cell_type": "code",
   "execution_count": 15,
   "metadata": {},
   "outputs": [
    {
     "name": "stdout",
     "output_type": "stream",
     "text": [
      "Found 2500 validated image filenames belonging to 5 classes.\n",
      "2500\n"
     ]
    }
   ],
   "source": [
    "# saved_model = load_model(modelFile)\n",
    "# test_generator = data_generator.flow_from_dataframe(\n",
    "#         dataframe = testing, directory = img,\n",
    "#         x_col = \"file_name\", y_col = \"face_shape\",\n",
    "#         batch_size=1,\n",
    "#         class_mode='categorical', target_size=(30, 30),\n",
    "#         shuffle=False)\n",
    "# test_steps = test_generator.samples\n",
    "# print(test_steps)\n",
    "\n",
    "saved_model = load_model(modelFile)\n",
    "test_generator = data_generator.flow_from_dataframe(\n",
    "        dataframe = df2, directory = img,\n",
    "        x_col = \"file_name\", y_col = \"face_shape\",\n",
    "        batch_size=1,\n",
    "        class_mode='categorical', target_size=(30, 30),\n",
    "        shuffle=False)\n",
    "test_steps = test_generator.samples\n",
    "print(test_steps)"
   ]
  },
  {
   "cell_type": "code",
   "execution_count": 16,
   "metadata": {},
   "outputs": [
    {
     "name": "stdout",
     "output_type": "stream",
     "text": [
      "2500/2500 [==============================] - 14s 6ms/step\n"
     ]
    }
   ],
   "source": [
    "test_generator.reset()\n",
    "pred=saved_model.predict_generator(test_generator, verbose=1, steps=test_steps)\n",
    "# determine the maximum activation value for each sample\n",
    "predicted_class_indices=np.argmax(pred,axis=1)\n",
    "# print(predicted_class_indices)\n",
    "# label each predicted value to correct gender\n",
    "labels = (test_generator.class_indices)\n",
    "labels = dict((v,k) for k,v in labels.items())\n",
    "predictions = [labels[k] for k in predicted_class_indices]\n",
    "\n",
    "# # format file names to simply male or female\n",
    "# filenames=test_generator.filenames\n",
    "# filenz=[0]\n",
    "# for i in range(0,len(filenames)):\n",
    "#     filenz.append(filenames[i].split('\\\\')[0])\n",
    "# filenz=filenz[1:]\n",
    "\n",
    "# # determine the test set accuracy\n",
    "# match=[]\n",
    "# for i in range(0,len(filenames)):\n",
    "#     match.append(filenz[i]==predictions[i])\n",
    "# match.count(True)/1000\n",
    "\n"
   ]
  },
  {
   "cell_type": "code",
   "execution_count": 17,
   "metadata": {},
   "outputs": [],
   "source": [
    "import sklearn.metrics as metrics"
   ]
  },
  {
   "cell_type": "code",
   "execution_count": 18,
   "metadata": {},
   "outputs": [
    {
     "name": "stdout",
     "output_type": "stream",
     "text": [
      "[[455  30   0   4  11]\n",
      " [ 43 443   0   4  10]\n",
      " [  4   4 487   3   2]\n",
      " [  3  23   0 459  15]\n",
      " [  2   3   0   2 493]]\n",
      "\n",
      "Confusion Matrix\n"
     ]
    },
    {
     "data": {
      "image/png": "[encoded data removed]",
      "text/plain": [
       "<Figure size 288x288 with 2 Axes>"
      ]
     },
     "metadata": {
      "needs_background": "light"
     },
     "output_type": "display_data"
    },
    {
     "name": "stdout",
     "output_type": "stream",
     "text": [
      "[[0.182  0.012  0.     0.0016 0.0044]\n",
      " [0.0172 0.1772 0.     0.0016 0.004 ]\n",
      " [0.0016 0.0016 0.1948 0.0012 0.0008]\n",
      " [0.0012 0.0092 0.     0.1836 0.006 ]\n",
      " [0.0008 0.0012 0.     0.0008 0.1972]]\n",
      "\n",
      "Confusion Matrix (normalised)\n"
     ]
    },
    {
     "data": {
      "image/png": "[encoded data removed]",
      "text/plain": [
       "<Figure size 288x288 with 2 Axes>"
      ]
     },
     "metadata": {
      "needs_background": "light"
     },
     "output_type": "display_data"
    },
    {
     "name": "stdout",
     "output_type": "stream",
     "text": [
      "Classification report\n",
      "\n",
      "              precision    recall  f1-score   support\n",
      "\n",
      "           0       0.90      0.91      0.90       500\n",
      "           1       0.88      0.89      0.88       500\n",
      "           2       1.00      0.97      0.99       500\n",
      "           3       0.97      0.92      0.94       500\n",
      "           4       0.93      0.99      0.96       500\n",
      "\n",
      "    accuracy                           0.93      2500\n",
      "   macro avg       0.94      0.93      0.93      2500\n",
      "weighted avg       0.94      0.93      0.93      2500\n",
      "\n",
      "Accuracy achieved: 0.9348 ♡♡♡\n"
     ]
    }
   ],
   "source": [
    "#confusion matrix and classification report\n",
    "\n",
    "#Y_pred = my_model.predict_generator(test_generator, test_generator.samples // batch_size+1)\n",
    "#y_pred = np.argmax(Y_pred, axis=1)\n",
    "\n",
    "\n",
    "#target_names = ['0','1','2','3','4']\n",
    "#print(classification_report(test_generator.classes, y_pred, target_names=target_names))\n",
    "\n",
    "cm = confusion_matrix(test_generator.classes, predicted_class_indices)\n",
    "\n",
    "print(cm)\n",
    "plt.matshow(cm)\n",
    "plt.colorbar()\n",
    "plt.ylabel('True label')\n",
    "plt.xlabel('Predicted label')\n",
    "print('\\nConfusion Matrix')\n",
    "plt.show()\n",
    "\n",
    "\n",
    "cm2 = confusion_matrix(test_generator.classes, predicted_class_indices, normalize='all')\n",
    "\n",
    "print(cm2)\n",
    "plt.matshow(cm2)\n",
    "plt.colorbar()\n",
    "plt.ylabel('True label')\n",
    "plt.xlabel('Predicted label')\n",
    "print('\\nConfusion Matrix (normalised)')\n",
    "plt.show()\n",
    "\n",
    "print('Classification report\\n')\n",
    "print(classification_report(test_generator.classes, predicted_class_indices))\n",
    "print('Accuracy achieved:', accuracy_score(test_generator.classes, predicted_class_indices), '\\u2661''\\u2661''\\u2661')"
   ]
  },
  {
   "cell_type": "code",
   "execution_count": 19,
   "metadata": {},
   "outputs": [
    {
     "name": "stdout",
     "output_type": "stream",
     "text": [
      "--- 1652.9261310100555 seconds ---\n"
     ]
    }
   ],
   "source": [
    "print(\"--- %s seconds ---\" % (time.time() - start_time))"
   ]
  },
  {
   "cell_type": "code",
   "execution_count": null,
   "metadata": {},
   "outputs": [],
   "source": []
  }
 ],
 "metadata": {
  "kernelspec": {
   "display_name": "Python 3",
   "language": "python",
   "name": "python3"
  },
  "language_info": {
   "codemirror_mode": {
    "name": "ipython",
    "version": 3
   },
   "file_extension": ".py",
   "mimetype": "text/x-python",
   "name": "python",
   "nbconvert_exporter": "python",
   "pygments_lexer": "ipython3",
   "version": "3.7.5"
  }
 },
 "nbformat": 4,
 "nbformat_minor": 2
}
