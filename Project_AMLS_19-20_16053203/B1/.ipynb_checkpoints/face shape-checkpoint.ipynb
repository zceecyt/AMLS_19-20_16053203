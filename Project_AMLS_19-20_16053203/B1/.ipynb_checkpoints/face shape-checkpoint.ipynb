{
 "cells": [
  {
   "cell_type": "code",
   "execution_count": 1,
   "metadata": {},
   "outputs": [
    {
     "name": "stderr",
     "output_type": "stream",
     "text": [
      "Using TensorFlow backend.\n"
     ]
    }
   ],
   "source": [
    "import time\n",
    "start_time = time.time()\n",
    "import os\n",
    "import numpy as np\n",
    "from keras import optimizers\n",
    "from keras.preprocessing import image\n",
    "from keras.layers import Dense, Conv2D, MaxPooling2D, BatchNormalization, GlobalAveragePooling2D\n",
    "from keras.layers import Activation, Dropout, Flatten, Dense\n",
    "from keras.models import Sequential\n",
    "from keras import backend as K\n",
    "from keras.optimizers import adam\n",
    "from keras import models\n",
    "import cv2\n",
    "import dlib\n",
    "import pandas as pd\n",
    "import matplotlib.pyplot as plt\n",
    "import sys\n",
    "import time \n",
    "import progressbar\n",
    "from tqdm.notebook import tqdm_notebook"
   ]
  },
  {
   "cell_type": "code",
   "execution_count": 2,
   "metadata": {},
   "outputs": [],
   "source": [
    "from sklearn import svm, datasets\n",
    "from sklearn.dummy import DummyClassifier\n",
    "from sklearn.svm import SVC\n",
    "from sklearn.utils import shuffle\n",
    "from sklearn.model_selection import train_test_split, GridSearchCV, learning_curve, ShuffleSplit\n",
    "from sklearn.metrics import classification_report, accuracy_score, confusion_matrix, recall_score, precision_score, f1_score"
   ]
  },
  {
   "cell_type": "code",
   "execution_count": 3,
   "metadata": {},
   "outputs": [],
   "source": [
    "from tensorflow.python.keras.applications.vgg16 import preprocess_input\n",
    "from tensorflow.python.keras.preprocessing.image import ImageDataGenerator\n",
    "from tensorflow.python.keras.callbacks import EarlyStopping, ModelCheckpoint"
   ]
  },
  {
   "cell_type": "code",
   "execution_count": 4,
   "metadata": {},
   "outputs": [
    {
     "data": {
      "text/html": [
       "<div>\n",
       "<style scoped>\n",
       "    .dataframe tbody tr th:only-of-type {\n",
       "        vertical-align: middle;\n",
       "    }\n",
       "\n",
       "    .dataframe tbody tr th {\n",
       "        vertical-align: top;\n",
       "    }\n",
       "\n",
       "    .dataframe thead th {\n",
       "        text-align: right;\n",
       "    }\n",
       "</style>\n",
       "<table border=\"1\" class=\"dataframe\">\n",
       "  <thead>\n",
       "    <tr style=\"text-align: right;\">\n",
       "      <th></th>\n",
       "      <th>face_shape</th>\n",
       "      <th>file_name</th>\n",
       "    </tr>\n",
       "  </thead>\n",
       "  <tbody>\n",
       "    <tr>\n",
       "      <th>0</th>\n",
       "      <td>4</td>\n",
       "      <td>0.png</td>\n",
       "    </tr>\n",
       "    <tr>\n",
       "      <th>1</th>\n",
       "      <td>4</td>\n",
       "      <td>1.png</td>\n",
       "    </tr>\n",
       "    <tr>\n",
       "      <th>2</th>\n",
       "      <td>3</td>\n",
       "      <td>2.png</td>\n",
       "    </tr>\n",
       "    <tr>\n",
       "      <th>3</th>\n",
       "      <td>0</td>\n",
       "      <td>3.png</td>\n",
       "    </tr>\n",
       "    <tr>\n",
       "      <th>4</th>\n",
       "      <td>2</td>\n",
       "      <td>4.png</td>\n",
       "    </tr>\n",
       "    <tr>\n",
       "      <th>...</th>\n",
       "      <td>...</td>\n",
       "      <td>...</td>\n",
       "    </tr>\n",
       "    <tr>\n",
       "      <th>9995</th>\n",
       "      <td>2</td>\n",
       "      <td>9995.png</td>\n",
       "    </tr>\n",
       "    <tr>\n",
       "      <th>9996</th>\n",
       "      <td>3</td>\n",
       "      <td>9996.png</td>\n",
       "    </tr>\n",
       "    <tr>\n",
       "      <th>9997</th>\n",
       "      <td>2</td>\n",
       "      <td>9997.png</td>\n",
       "    </tr>\n",
       "    <tr>\n",
       "      <th>9998</th>\n",
       "      <td>2</td>\n",
       "      <td>9998.png</td>\n",
       "    </tr>\n",
       "    <tr>\n",
       "      <th>9999</th>\n",
       "      <td>2</td>\n",
       "      <td>9999.png</td>\n",
       "    </tr>\n",
       "  </tbody>\n",
       "</table>\n",
       "<p>10000 rows × 2 columns</p>\n",
       "</div>"
      ],
      "text/plain": [
       "     face_shape file_name\n",
       "0             4     0.png\n",
       "1             4     1.png\n",
       "2             3     2.png\n",
       "3             0     3.png\n",
       "4             2     4.png\n",
       "...         ...       ...\n",
       "9995          2  9995.png\n",
       "9996          3  9996.png\n",
       "9997          2  9997.png\n",
       "9998          2  9998.png\n",
       "9999          2  9999.png\n",
       "\n",
       "[10000 rows x 2 columns]"
      ]
     },
     "execution_count": 4,
     "metadata": {},
     "output_type": "execute_result"
    }
   ],
   "source": [
    "df = pd.read_csv('../Dataset_original_AMLS_19-20/cartoon_set/labels.csv', sep = '\\t')\n",
    "df = df.drop(columns = [df.columns[0]]).drop(columns = [df.columns[1]])\n",
    "df['face_shape'] = df['face_shape'].apply(str)\n",
    "df"
   ]
  },
  {
   "cell_type": "code",
   "execution_count": 5,
   "metadata": {},
   "outputs": [
    {
     "name": "stdout",
     "output_type": "stream",
     "text": [
      "     face_shape file_name\n",
      "7035          2  7035.png\n",
      "6759          3  6759.png\n",
      "1262          4  1262.png\n",
      "188           3   188.png\n",
      "2647          0  2647.png\n",
      "...         ...       ...\n",
      "6601          3  6601.png\n",
      "733           4   733.png\n",
      "125           0   125.png\n",
      "3211          3  3211.png\n",
      "4532          4  4532.png\n",
      "\n",
      "[9000 rows x 2 columns]      face_shape file_name\n",
      "3858          4  3858.png\n",
      "1576          1  1576.png\n",
      "8391          4  8391.png\n",
      "764           1   764.png\n",
      "6713          4  6713.png\n",
      "...         ...       ...\n",
      "4500          0  4500.png\n",
      "3623          4  3623.png\n",
      "2109          0  2109.png\n",
      "4531          1  4531.png\n",
      "5317          3  5317.png\n",
      "\n",
      "[1000 rows x 2 columns]\n"
     ]
    }
   ],
   "source": [
    "img = ('../Dataset_original_AMLS_19-20/cartoon_set/img')\n",
    "# training, testing = train_test_split(df, random_state=0)\n",
    "training, validating = np.split(df.sample(frac=1), [int(0.9*len(df)),]) #splitting at n-array\n",
    "print(training, validating)"
   ]
  },
  {
   "cell_type": "code",
   "execution_count": 6,
   "metadata": {},
   "outputs": [
    {
     "name": "stdout",
     "output_type": "stream",
     "text": [
      "Training Dataset Preparation: \n",
      "Found 7200 validated image filenames belonging to 5 classes.\n",
      "\n",
      "Validation Dataset Preparation: \n",
      "Found 800 validated image filenames belonging to 5 classes.\n"
     ]
    }
   ],
   "source": [
    "# set up data generator\n",
    "data_generator = ImageDataGenerator(\n",
    "    rescale = 1./255.,\n",
    "    validation_split = 0.2,\n",
    "    horizontal_flip=True,\n",
    "    vertical_flip=True   \n",
    ")\n",
    "\n",
    "# # get batches of training images from the df\n",
    "# train_generator = data_generator.flow_from_dataframe(\n",
    "#         dataframe=train_set,\n",
    "#         x_col=\"file_name\",\n",
    "#         y_col=\"face_shape\",\n",
    "#         target_size=(178, 218),\n",
    "#         batch_size=12,\n",
    "#         class_mode='categorical')\n",
    "\n",
    "# validate_generator = data_generator.flow_from_dataframe(\n",
    "#         dataframe=train_set,\n",
    "#         x_col=\"file_name\",\n",
    "#         y_col=\"face_shape\",\n",
    "#         target_size=(178, 218),\n",
    "#         batch_size=12,\n",
    "#         class_mode='categorical')\n",
    "\n",
    "# Get batches of training dataset from the dataframe\n",
    "print(\"Training Dataset Preparation: \")\n",
    "train_generator = data_generator.flow_from_dataframe(\n",
    "        dataframe = training, directory = img ,\n",
    "        x_col = \"file_name\", y_col = \"face_shape\",\n",
    "        class_mode = 'categorical', target_size = (32,32),\n",
    "        batch_size = 128, subset = 'training') \n",
    "   \n",
    "# Get batches of validation dataset from the dataframe\n",
    "print(\"\\nValidation Dataset Preparation: \")\n",
    "validation_generator = data_generator.flow_from_dataframe(\n",
    "        dataframe = validating, directory = img ,\n",
    "        x_col = \"file_name\", y_col = \"face_shape\",\n",
    "        class_mode = 'categorical', target_size = (32,32),\n",
    "        batch_size = 128, subset = 'training')"
   ]
  },
  {
   "cell_type": "code",
   "execution_count": 64,
   "metadata": {},
   "outputs": [
    {
     "name": "stdout",
     "output_type": "stream",
     "text": [
      "Model: \"sequential_6\"\n",
      "_________________________________________________________________\n",
      "Layer (type)                 Output Shape              Param #   \n",
      "=================================================================\n",
      "conv2d_21 (Conv2D)           (None, 32, 32, 16)        448       \n",
      "_________________________________________________________________\n",
      "max_pooling2d_21 (MaxPooling (None, 16, 16, 16)        0         \n",
      "_________________________________________________________________\n",
      "conv2d_22 (Conv2D)           (None, 16, 16, 32)        4640      \n",
      "_________________________________________________________________\n",
      "max_pooling2d_22 (MaxPooling (None, 8, 8, 32)          0         \n",
      "_________________________________________________________________\n",
      "conv2d_23 (Conv2D)           (None, 8, 8, 64)          18496     \n",
      "_________________________________________________________________\n",
      "max_pooling2d_23 (MaxPooling (None, 4, 4, 64)          0         \n",
      "_________________________________________________________________\n",
      "conv2d_24 (Conv2D)           (None, 4, 4, 128)         73856     \n",
      "_________________________________________________________________\n",
      "max_pooling2d_24 (MaxPooling (None, 2, 2, 128)         0         \n",
      "_________________________________________________________________\n",
      "flatten_6 (Flatten)          (None, 512)               0         \n",
      "_________________________________________________________________\n",
      "dense_6 (Dense)              (None, 5)                 2565      \n",
      "=================================================================\n",
      "Total params: 100,005\n",
      "Trainable params: 100,005\n",
      "Non-trainable params: 0\n",
      "_________________________________________________________________\n"
     ]
    }
   ],
   "source": [
    "# starting point \n",
    "my_model= models.Sequential()\n",
    "\n",
    "# my_model.add(Dropout(0.2, input_shape=(64,64,3))) #height, width, depth\n",
    "# Add first convolutional block\n",
    "my_model.add(Conv2D(16, (3, 3), activation='relu', padding='same', input_shape=(32,32,3) )) \n",
    "my_model.add(MaxPooling2D((2, 2), padding='same'))\n",
    "# second block\n",
    "my_model.add(Conv2D(32, (3, 3), activation='relu', padding='same')) #Convolution: filters, kernel_size that specifies the height and width of the 2D convolution window, p padding layers so dimensions of input = output\n",
    "my_model.add(MaxPooling2D((2, 2), padding='same'))\n",
    "# third block\n",
    "my_model.add(Conv2D(64, (3, 3), activation='relu', padding='same'))\n",
    "my_model.add(MaxPooling2D((2, 2), padding='same'))\n",
    "# fourth block\n",
    "my_model.add(Conv2D(128, (3, 3), activation='relu', padding='same'))\n",
    "my_model.add(MaxPooling2D((2, 2), padding='same'))\n",
    "\n",
    "# make predictions\n",
    "my_model.add(Flatten())\n",
    "my_model.add(Dense(5, activation='softmax'))\n",
    "# Show a summary of the model. Check the number of trainable parameters\n",
    "my_model.summary()\n",
    "# compile model \n",
    "my_model.compile(optimizer='adam', loss='categorical_crossentropy', \n",
    "                 metrics=['accuracy'])"
   ]
  },
  {
   "cell_type": "code",
   "execution_count": 65,
   "metadata": {},
   "outputs": [],
   "source": [
    "# # use early stopping to optimally terminate training through callbacks\n",
    "\n",
    "# es=EarlyStopping(monitor='val_loss', mode='min', verbose=1, patience=5)\n",
    "\n",
    "# # save best model automatically\n",
    "# mc= ModelCheckpoint('../dataset/cartoon_set', monitor='val_loss', \n",
    "#                     mode='min', verbose=1, save_best_only=True)\n",
    "# cb_list=[es,mc]"
   ]
  },
  {
   "cell_type": "code",
   "execution_count": 66,
   "metadata": {},
   "outputs": [
    {
     "name": "stdout",
     "output_type": "stream",
     "text": [
      "Epoch 1/18\n",
      "56/56 [==============================] - 62s 1s/step - loss: 1.6049 - accuracy: 0.2344 - val_loss: 1.5896 - val_accuracy: 0.3333\n",
      "Epoch 2/18\n",
      "56/56 [==============================] - 69s 1s/step - loss: 1.4122 - accuracy: 0.3726 - val_loss: 1.2515 - val_accuracy: 0.4851\n",
      "Epoch 3/18\n",
      "56/56 [==============================] - 65s 1s/step - loss: 1.1425 - accuracy: 0.4918 - val_loss: 0.9631 - val_accuracy: 0.5432\n",
      "Epoch 4/18\n",
      "56/56 [==============================] - 62s 1s/step - loss: 0.9211 - accuracy: 0.6175 - val_loss: 0.8124 - val_accuracy: 0.6146\n",
      "Epoch 5/18\n",
      "56/56 [==============================] - 61s 1s/step - loss: 0.7262 - accuracy: 0.7070 - val_loss: 0.5592 - val_accuracy: 0.7664\n",
      "Epoch 6/18\n",
      "56/56 [==============================] - 61s 1s/step - loss: 0.5342 - accuracy: 0.8070 - val_loss: 0.5025 - val_accuracy: 0.8452\n",
      "Epoch 7/18\n",
      "56/56 [==============================] - 61s 1s/step - loss: 0.3879 - accuracy: 0.8590 - val_loss: 0.3330 - val_accuracy: 0.8497\n",
      "Epoch 8/18\n",
      "56/56 [==============================] - 63s 1s/step - loss: 0.3040 - accuracy: 0.8938 - val_loss: 0.3829 - val_accuracy: 0.8815\n",
      "Epoch 9/18\n",
      "56/56 [==============================] - 66s 1s/step - loss: 0.2566 - accuracy: 0.9138 - val_loss: 0.3034 - val_accuracy: 0.9033\n",
      "Epoch 10/18\n",
      "56/56 [==============================] - 64s 1s/step - loss: 0.2154 - accuracy: 0.9260 - val_loss: 0.1814 - val_accuracy: 0.9211\n",
      "Epoch 11/18\n",
      "56/56 [==============================] - 63s 1s/step - loss: 0.1900 - accuracy: 0.9364 - val_loss: 0.1800 - val_accuracy: 0.9107\n",
      "Epoch 12/18\n",
      "56/56 [==============================] - 61s 1s/step - loss: 0.1602 - accuracy: 0.9458 - val_loss: 0.0943 - val_accuracy: 0.9435\n",
      "Epoch 13/18\n",
      "56/56 [==============================] - 60s 1s/step - loss: 0.1408 - accuracy: 0.9540 - val_loss: 0.1621 - val_accuracy: 0.9315\n",
      "Epoch 14/18\n",
      "56/56 [==============================] - 61s 1s/step - loss: 0.1191 - accuracy: 0.9601 - val_loss: 0.1388 - val_accuracy: 0.9509\n",
      "Epoch 15/18\n",
      "56/56 [==============================] - 62s 1s/step - loss: 0.1088 - accuracy: 0.9648 - val_loss: 0.0806 - val_accuracy: 0.9570\n",
      "Epoch 16/18\n",
      "56/56 [==============================] - 68s 1s/step - loss: 0.1003 - accuracy: 0.9664 - val_loss: 0.1054 - val_accuracy: 0.9568\n",
      "Epoch 17/18\n",
      "56/56 [==============================] - 60s 1s/step - loss: 0.0843 - accuracy: 0.9729 - val_loss: 0.1083 - val_accuracy: 0.9673\n",
      "Epoch 18/18\n",
      "56/56 [==============================] - 62s 1s/step - loss: 0.0737 - accuracy: 0.9773 - val_loss: 0.1336 - val_accuracy: 0.9658\n"
     ]
    }
   ],
   "source": [
    "# batch_size = 32\n",
    "history = my_model.fit_generator(\n",
    "                                train_generator,\n",
    "                                epochs=18,\n",
    "                                steps_per_epoch=train_generator.samples // train_generator.batch_size, \n",
    "                                #7200 samples, 225 batches, each with 32 samples, 5625 batches in total for epoch of 25\n",
    "                                validation_data=validation_generator,\n",
    "                                validation_steps=validation_generator.samples // validation_generator.batch_size\n",
    "                                )"
   ]
  },
  {
   "cell_type": "code",
   "execution_count": 67,
   "metadata": {},
   "outputs": [
    {
     "data": {
      "image/png": "[encoded data removed]",
      "text/plain": [
       "<Figure size 1296x216 with 2 Axes>"
      ]
     },
     "metadata": {
      "needs_background": "light"
     },
     "output_type": "display_data"
    }
   ],
   "source": [
    "plt.figure(figsize=(18, 3))\n",
    "\n",
    "plt.subplot(131)\n",
    "plt.plot(history.history['accuracy'])\n",
    "plt.plot(history.history['val_accuracy'])\n",
    "plt.ylim([.5,1.1])\n",
    "plt.ylabel('Accuracy')\n",
    "plt.xlabel('Epoch')\n",
    "plt.legend(['Train', 'Validation'], loc='upper left')\n",
    "\n",
    "plt.subplot(132)\n",
    "plt.plot(history.history['loss'])\n",
    "plt.plot(history.history['val_loss'])\n",
    "plt.ylim([0,1.5])\n",
    "plt.ylabel('Loss')\n",
    "plt.xlabel('Epoch')\n",
    "plt.legend(['Train', 'Validation'], loc='best')\n",
    "\n",
    "plt.savefig(\"Custom_Keras_ODSC.png\", dpi=300)"
   ]
  },
  {
   "cell_type": "code",
   "execution_count": 68,
   "metadata": {},
   "outputs": [],
   "source": [
    "from keras.models import load_model\n",
    "\n",
    "modelFile = 'my_CNN.h5'\n",
    "\n",
    "# model_path = os.path.abspath(os.curdir)\n",
    "# file_path = os.path.join(model_path, modelFile)\n",
    "my_model.save(modelFile)"
   ]
  },
  {
   "cell_type": "code",
   "execution_count": 69,
   "metadata": {},
   "outputs": [
    {
     "data": {
      "text/plain": [
       "'C:\\\\Users\\\\User\\\\Desktop\\\\4th_year_AMLS\\\\AMLS_19-20_ChinYangTan_16053203\\\\Project_AMLS_19-20_16053203\\\\B1'"
      ]
     },
     "execution_count": 69,
     "metadata": {},
     "output_type": "execute_result"
    }
   ],
   "source": [
    "os.getcwd()"
   ]
  },
  {
   "cell_type": "code",
   "execution_count": 77,
   "metadata": {},
   "outputs": [
    {
     "name": "stdout",
     "output_type": "stream",
     "text": [
      "25/25 [==============================] - 27s 1s/step\n",
      "Train loss: 0.059739626944065094\n",
      "Train Accuracy: 0.981249988079071\n"
     ]
    }
   ],
   "source": [
    "tr_sc = saved_model.evaluate_generator(train_generator, steps = validation_generator.samples // 32, verbose=1)\n",
    "\n",
    "print('Train loss: '+ str(tr_sc[0]))\n",
    "print('Train Accuracy: '+ str(tr_sc[1]))"
   ]
  },
  {
   "cell_type": "code",
   "execution_count": 78,
   "metadata": {},
   "outputs": [
    {
     "name": "stdout",
     "output_type": "stream",
     "text": [
      "25/25 [==============================] - 25s 993ms/step\n",
      "Validation loss: 0.09753182530403137\n",
      "Validation Accuracy: 0.9546703100204468\n"
     ]
    }
   ],
   "source": [
    "val_sc = saved_model.evaluate_generator(validation_generator, steps = validation_generator.samples // 32, verbose=1)\n",
    "\n",
    "print('Validation loss: '+ str(val_sc[0]))\n",
    "print('Validation Accuracy: '+ str(val_sc[1]))"
   ]
  },
  {
   "cell_type": "code",
   "execution_count": 70,
   "metadata": {},
   "outputs": [
    {
     "data": {
      "text/html": [
       "<div>\n",
       "<style scoped>\n",
       "    .dataframe tbody tr th:only-of-type {\n",
       "        vertical-align: middle;\n",
       "    }\n",
       "\n",
       "    .dataframe tbody tr th {\n",
       "        vertical-align: top;\n",
       "    }\n",
       "\n",
       "    .dataframe thead th {\n",
       "        text-align: right;\n",
       "    }\n",
       "</style>\n",
       "<table border=\"1\" class=\"dataframe\">\n",
       "  <thead>\n",
       "    <tr style=\"text-align: right;\">\n",
       "      <th></th>\n",
       "      <th>face_shape</th>\n",
       "      <th>file_name</th>\n",
       "    </tr>\n",
       "  </thead>\n",
       "  <tbody>\n",
       "    <tr>\n",
       "      <th>0</th>\n",
       "      <td>1</td>\n",
       "      <td>0.png</td>\n",
       "    </tr>\n",
       "    <tr>\n",
       "      <th>1</th>\n",
       "      <td>4</td>\n",
       "      <td>1.png</td>\n",
       "    </tr>\n",
       "    <tr>\n",
       "      <th>2</th>\n",
       "      <td>2</td>\n",
       "      <td>2.png</td>\n",
       "    </tr>\n",
       "    <tr>\n",
       "      <th>3</th>\n",
       "      <td>2</td>\n",
       "      <td>3.png</td>\n",
       "    </tr>\n",
       "    <tr>\n",
       "      <th>4</th>\n",
       "      <td>3</td>\n",
       "      <td>4.png</td>\n",
       "    </tr>\n",
       "    <tr>\n",
       "      <th>...</th>\n",
       "      <td>...</td>\n",
       "      <td>...</td>\n",
       "    </tr>\n",
       "    <tr>\n",
       "      <th>2495</th>\n",
       "      <td>4</td>\n",
       "      <td>2495.png</td>\n",
       "    </tr>\n",
       "    <tr>\n",
       "      <th>2496</th>\n",
       "      <td>4</td>\n",
       "      <td>2496.png</td>\n",
       "    </tr>\n",
       "    <tr>\n",
       "      <th>2497</th>\n",
       "      <td>4</td>\n",
       "      <td>2497.png</td>\n",
       "    </tr>\n",
       "    <tr>\n",
       "      <th>2498</th>\n",
       "      <td>4</td>\n",
       "      <td>2498.png</td>\n",
       "    </tr>\n",
       "    <tr>\n",
       "      <th>2499</th>\n",
       "      <td>4</td>\n",
       "      <td>2499.png</td>\n",
       "    </tr>\n",
       "  </tbody>\n",
       "</table>\n",
       "<p>2500 rows × 2 columns</p>\n",
       "</div>"
      ],
      "text/plain": [
       "     face_shape file_name\n",
       "0             1     0.png\n",
       "1             4     1.png\n",
       "2             2     2.png\n",
       "3             2     3.png\n",
       "4             3     4.png\n",
       "...         ...       ...\n",
       "2495          4  2495.png\n",
       "2496          4  2496.png\n",
       "2497          4  2497.png\n",
       "2498          4  2498.png\n",
       "2499          4  2499.png\n",
       "\n",
       "[2500 rows x 2 columns]"
      ]
     },
     "execution_count": 70,
     "metadata": {},
     "output_type": "execute_result"
    }
   ],
   "source": [
    "df2 = pd.read_csv('../Dataset_test_AMLS_19-20/cartoon_set_test/labels.csv', sep = '\\t')\n",
    "df2 = df2.drop(columns = [df2.columns[0]]).drop(columns = [df2.columns[1]])\n",
    "df2['face_shape'] = df2['face_shape'].apply(str)\n",
    "df2"
   ]
  },
  {
   "cell_type": "code",
   "execution_count": 71,
   "metadata": {},
   "outputs": [],
   "source": [
    "img = ('../Dataset_test_AMLS_19-20/cartoon_set_test/img')"
   ]
  },
  {
   "cell_type": "code",
   "execution_count": 72,
   "metadata": {},
   "outputs": [
    {
     "name": "stdout",
     "output_type": "stream",
     "text": [
      "Found 2500 validated image filenames belonging to 5 classes.\n",
      "2500\n"
     ]
    }
   ],
   "source": [
    "# saved_model = load_model(modelFile)\n",
    "# test_generator = data_generator.flow_from_dataframe(\n",
    "#         dataframe = testing, directory = img,\n",
    "#         x_col = \"file_name\", y_col = \"face_shape\",\n",
    "#         batch_size=1,\n",
    "#         class_mode='categorical', target_size=(64, 64),\n",
    "#         shuffle=False)\n",
    "# test_steps = test_generator.samples\n",
    "# print(test_steps)\n",
    "\n",
    "saved_model = load_model(modelFile)\n",
    "test_generator = data_generator.flow_from_dataframe(\n",
    "        dataframe = df2, directory = img,\n",
    "        x_col = \"file_name\", y_col = \"face_shape\",\n",
    "        batch_size=1,\n",
    "        class_mode='categorical', target_size=(32, 32),\n",
    "        shuffle=False)\n",
    "test_steps = test_generator.samples\n",
    "print(test_steps)"
   ]
  },
  {
   "cell_type": "code",
   "execution_count": 73,
   "metadata": {},
   "outputs": [
    {
     "name": "stdout",
     "output_type": "stream",
     "text": [
      "2500/2500 [==============================] - 26s 10ms/step\n"
     ]
    }
   ],
   "source": [
    "test_generator.reset()\n",
    "pred=saved_model.predict_generator(test_generator, verbose=1, steps=test_steps)\n",
    "# determine the maximum activation value for each sample\n",
    "predicted_class_indices=np.argmax(pred,axis=1)\n",
    "# print(predicted_class_indices)\n",
    "# label each predicted value to correct gender\n",
    "labels = (test_generator.class_indices)\n",
    "labels = dict((v,k) for k,v in labels.items())\n",
    "predictions = [labels[k] for k in predicted_class_indices]\n",
    "\n",
    "# # format file names to simply male or female\n",
    "# filenames=test_generator.filenames\n",
    "# filenz=[0]\n",
    "# for i in range(0,len(filenames)):\n",
    "#     filenz.append(filenames[i].split('\\\\')[0])\n",
    "# filenz=filenz[1:]\n",
    "\n",
    "# # determine the test set accuracy\n",
    "# match=[]\n",
    "# for i in range(0,len(filenames)):\n",
    "#     match.append(filenz[i]==predictions[i])\n",
    "# match.count(True)/1000\n",
    "\n"
   ]
  },
  {
   "cell_type": "code",
   "execution_count": 74,
   "metadata": {},
   "outputs": [],
   "source": [
    "import sklearn.metrics as metrics"
   ]
  },
  {
   "cell_type": "code",
   "execution_count": 75,
   "metadata": {},
   "outputs": [
    {
     "name": "stdout",
     "output_type": "stream",
     "text": [
      "[[461   2   0  33   4]\n",
      " [ 21 466   0   8   5]\n",
      " [  0   0 496   4   0]\n",
      " [  8   2   0 481   9]\n",
      " [  3   2   1  12 482]]\n",
      "\n",
      "Confusion Matrix\n"
     ]
    },
    {
     "data": {
      "image/png": "[encoded data removed]",
      "text/plain": [
       "<Figure size 288x288 with 2 Axes>"
      ]
     },
     "metadata": {
      "needs_background": "light"
     },
     "output_type": "display_data"
    },
    {
     "name": "stdout",
     "output_type": "stream",
     "text": [
      "[[0.1844 0.0008 0.     0.0132 0.0016]\n",
      " [0.0084 0.1864 0.     0.0032 0.002 ]\n",
      " [0.     0.     0.1984 0.0016 0.    ]\n",
      " [0.0032 0.0008 0.     0.1924 0.0036]\n",
      " [0.0012 0.0008 0.0004 0.0048 0.1928]]\n",
      "\n",
      "Confusion Matrix (normalised)\n"
     ]
    },
    {
     "data": {
      "image/png": "[encoded data removed]",
      "text/plain": [
       "<Figure size 288x288 with 2 Axes>"
      ]
     },
     "metadata": {
      "needs_background": "light"
     },
     "output_type": "display_data"
    },
    {
     "name": "stdout",
     "output_type": "stream",
     "text": [
      "Classification report\n",
      "\n",
      "              precision    recall  f1-score   support\n",
      "\n",
      "           0       0.94      0.92      0.93       500\n",
      "           1       0.99      0.93      0.96       500\n",
      "           2       1.00      0.99      0.99       500\n",
      "           3       0.89      0.96      0.93       500\n",
      "           4       0.96      0.96      0.96       500\n",
      "\n",
      "    accuracy                           0.95      2500\n",
      "   macro avg       0.96      0.95      0.95      2500\n",
      "weighted avg       0.96      0.95      0.95      2500\n",
      "\n",
      "Accuracy achieved: 0.9544 ♡♡♡\n"
     ]
    }
   ],
   "source": [
    "#confusion matrix and classification report\n",
    "\n",
    "#Y_pred = my_model.predict_generator(test_generator, test_generator.samples // batch_size+1)\n",
    "#y_pred = np.argmax(Y_pred, axis=1)\n",
    "\n",
    "\n",
    "#target_names = ['0','1','2','3','4']\n",
    "#print(classification_report(test_generator.classes, y_pred, target_names=target_names))\n",
    "\n",
    "cm = confusion_matrix(test_generator.classes, predicted_class_indices)\n",
    "\n",
    "print(cm)\n",
    "plt.matshow(cm)\n",
    "plt.colorbar()\n",
    "plt.ylabel('True label')\n",
    "plt.xlabel('Predicted label')\n",
    "print('\\nConfusion Matrix')\n",
    "plt.show()\n",
    "\n",
    "\n",
    "cm2 = confusion_matrix(test_generator.classes, predicted_class_indices, normalize='all')\n",
    "\n",
    "print(cm2)\n",
    "plt.matshow(cm2)\n",
    "plt.colorbar()\n",
    "plt.ylabel('True label')\n",
    "plt.xlabel('Predicted label')\n",
    "print('\\nConfusion Matrix (normalised)')\n",
    "plt.show()\n",
    "\n",
    "print('Classification report\\n')\n",
    "print(classification_report(test_generator.classes, predicted_class_indices))\n",
    "print('Accuracy achieved:', accuracy_score(test_generator.classes, predicted_class_indices), '\\u2661''\\u2661''\\u2661')"
   ]
  },
  {
   "cell_type": "code",
   "execution_count": null,
   "metadata": {},
   "outputs": [],
   "source": []
  },
  {
   "cell_type": "code",
   "execution_count": 76,
   "metadata": {},
   "outputs": [
    {
     "name": "stdout",
     "output_type": "stream",
     "text": [
      "--- 11054.621029376984 seconds ---\n"
     ]
    }
   ],
   "source": [
    "print(\"--- %s seconds ---\" % (time.time() - start_time))"
   ]
  },
  {
   "cell_type": "code",
   "execution_count": null,
   "metadata": {},
   "outputs": [],
   "source": []
  },
  {
   "cell_type": "code",
   "execution_count": null,
   "metadata": {},
   "outputs": [],
   "source": []
  }
 ],
 "metadata": {
  "kernelspec": {
   "display_name": "Python 3",
   "language": "python",
   "name": "python3"
  },
  "language_info": {
   "codemirror_mode": {
    "name": "ipython",
    "version": 3
   },
   "file_extension": ".py",
   "mimetype": "text/x-python",
   "name": "python",
   "nbconvert_exporter": "python",
   "pygments_lexer": "ipython3",
   "version": "3.7.5"
  }
 },
 "nbformat": 4,
 "nbformat_minor": 2
}
