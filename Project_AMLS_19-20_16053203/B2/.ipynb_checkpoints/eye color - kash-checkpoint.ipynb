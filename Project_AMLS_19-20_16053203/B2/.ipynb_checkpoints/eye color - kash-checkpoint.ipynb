{
 "cells": [
  {
   "cell_type": "code",
   "execution_count": 17,
   "metadata": {},
   "outputs": [],
   "source": [
    "# Tensorflow imports\n",
    "from tensorflow.python.keras.preprocessing.image import ImageDataGenerator"
   ]
  },
  {
   "cell_type": "code",
   "execution_count": 42,
   "metadata": {},
   "outputs": [
    {
     "name": "stderr",
     "output_type": "stream",
     "text": [
      "Using TensorFlow backend.\n"
     ]
    }
   ],
   "source": [
    "# Keras imports\n",
    "from keras import optimizers\n",
    "from keras import models\n",
    "# from keras.preprocessing import image\n",
    "from keras.layers import Dense, Conv2D, MaxPooling2D, BatchNormalization, GlobalAveragePooling2D\n",
    "from keras.layers import Activation, Dropout, Flatten, Dense\n",
    "from keras.optimizers import adam"
   ]
  },
  {
   "cell_type": "code",
   "execution_count": 43,
   "metadata": {},
   "outputs": [
    {
     "data": {
      "text/plain": [
       "'C:\\\\Users\\\\User\\\\Desktop\\\\4th_year_AMLS\\\\AMLS_19-20_ChinYangTan_16053203\\\\Project_AMLS_19-20_16053203\\\\Notebook\\\\B2'"
      ]
     },
     "execution_count": 43,
     "metadata": {},
     "output_type": "execute_result"
    }
   ],
   "source": [
    "import os\n",
    "\n",
    "# Get current working directory\n",
    "os.getcwd()"
   ]
  },
  {
   "cell_type": "code",
   "execution_count": null,
   "metadata": {},
   "outputs": [],
   "source": []
  },
  {
   "cell_type": "code",
   "execution_count": 44,
   "metadata": {},
   "outputs": [],
   "source": [
    "import pandas as pd\n",
    "\n",
    "# Read dataset\n",
    "df = pd.read_csv('../../Dataset_original_AMLS_19-20/cartoon_set/labels.csv', sep = '\\t')\n",
    "\n",
    "# Keep eye_color and file_name columns\n",
    "df = df.drop(columns = [df.columns[0], df.columns[2]])\n",
    "\n",
    "# Set eye_color as string variables\n",
    "df['eye_color'] = df.loc[:, 'eye_color'].apply(str)"
   ]
  },
  {
   "cell_type": "code",
   "execution_count": 45,
   "metadata": {},
   "outputs": [
    {
     "data": {
      "text/html": [
       "<div>\n",
       "<style scoped>\n",
       "    .dataframe tbody tr th:only-of-type {\n",
       "        vertical-align: middle;\n",
       "    }\n",
       "\n",
       "    .dataframe tbody tr th {\n",
       "        vertical-align: top;\n",
       "    }\n",
       "\n",
       "    .dataframe thead th {\n",
       "        text-align: right;\n",
       "    }\n",
       "</style>\n",
       "<table border=\"1\" class=\"dataframe\">\n",
       "  <thead>\n",
       "    <tr style=\"text-align: right;\">\n",
       "      <th></th>\n",
       "      <th>eye_color</th>\n",
       "      <th>file_name</th>\n",
       "    </tr>\n",
       "  </thead>\n",
       "  <tbody>\n",
       "    <tr>\n",
       "      <th>0</th>\n",
       "      <td>1</td>\n",
       "      <td>0.png</td>\n",
       "    </tr>\n",
       "    <tr>\n",
       "      <th>1</th>\n",
       "      <td>2</td>\n",
       "      <td>1.png</td>\n",
       "    </tr>\n",
       "    <tr>\n",
       "      <th>2</th>\n",
       "      <td>2</td>\n",
       "      <td>2.png</td>\n",
       "    </tr>\n",
       "    <tr>\n",
       "      <th>3</th>\n",
       "      <td>2</td>\n",
       "      <td>3.png</td>\n",
       "    </tr>\n",
       "    <tr>\n",
       "      <th>4</th>\n",
       "      <td>0</td>\n",
       "      <td>4.png</td>\n",
       "    </tr>\n",
       "    <tr>\n",
       "      <th>...</th>\n",
       "      <td>...</td>\n",
       "      <td>...</td>\n",
       "    </tr>\n",
       "    <tr>\n",
       "      <th>9995</th>\n",
       "      <td>3</td>\n",
       "      <td>9995.png</td>\n",
       "    </tr>\n",
       "    <tr>\n",
       "      <th>9996</th>\n",
       "      <td>0</td>\n",
       "      <td>9996.png</td>\n",
       "    </tr>\n",
       "    <tr>\n",
       "      <th>9997</th>\n",
       "      <td>1</td>\n",
       "      <td>9997.png</td>\n",
       "    </tr>\n",
       "    <tr>\n",
       "      <th>9998</th>\n",
       "      <td>0</td>\n",
       "      <td>9998.png</td>\n",
       "    </tr>\n",
       "    <tr>\n",
       "      <th>9999</th>\n",
       "      <td>2</td>\n",
       "      <td>9999.png</td>\n",
       "    </tr>\n",
       "  </tbody>\n",
       "</table>\n",
       "<p>10000 rows × 2 columns</p>\n",
       "</div>"
      ],
      "text/plain": [
       "     eye_color file_name\n",
       "0            1     0.png\n",
       "1            2     1.png\n",
       "2            2     2.png\n",
       "3            2     3.png\n",
       "4            0     4.png\n",
       "...        ...       ...\n",
       "9995         3  9995.png\n",
       "9996         0  9996.png\n",
       "9997         1  9997.png\n",
       "9998         0  9998.png\n",
       "9999         2  9999.png\n",
       "\n",
       "[10000 rows x 2 columns]"
      ]
     },
     "execution_count": 45,
     "metadata": {},
     "output_type": "execute_result"
    }
   ],
   "source": [
    "df"
   ]
  },
  {
   "cell_type": "code",
   "execution_count": null,
   "metadata": {},
   "outputs": [],
   "source": []
  },
  {
   "cell_type": "code",
   "execution_count": 46,
   "metadata": {},
   "outputs": [],
   "source": [
    "import numpy as np\n",
    "\n",
    "# Split dataframe into training and validation sets\n",
    "training, validating = np.split(df.sample(frac = 1), [int(0.9 * len(df)), ])"
   ]
  },
  {
   "cell_type": "code",
   "execution_count": null,
   "metadata": {},
   "outputs": [],
   "source": []
  },
  {
   "cell_type": "code",
   "execution_count": 47,
   "metadata": {},
   "outputs": [],
   "source": [
    "# Image folder\n",
    "img = '../../Dataset_original_AMLS_19-20/cartoon_set/img'"
   ]
  },
  {
   "cell_type": "code",
   "execution_count": null,
   "metadata": {},
   "outputs": [],
   "source": []
  },
  {
   "cell_type": "code",
   "execution_count": 48,
   "metadata": {},
   "outputs": [],
   "source": [
    "# Set up data generator\n",
    "data_generator = ImageDataGenerator(\n",
    "    rescale = 1./255,\n",
    "    validation_split = 0.2,\n",
    "    horizontal_flip = True,\n",
    "    vertical_flip = True\n",
    ")"
   ]
  },
  {
   "cell_type": "code",
   "execution_count": 49,
   "metadata": {},
   "outputs": [],
   "source": [
    "# Data generator variables\n",
    "x_col = 'file_name'\n",
    "y_col = 'eye_color'\n",
    "class_mode = 'categorical'\n",
    "target_size = (30, 30)\n",
    "batch_size = 24\n",
    "subset = 'training'\n",
    "\n",
    "# Dictionary to keep training and validation generators\n",
    "generators = {}"
   ]
  },
  {
   "cell_type": "code",
   "execution_count": 50,
   "metadata": {},
   "outputs": [
    {
     "name": "stdout",
     "output_type": "stream",
     "text": [
      "Training Dataset Preparation: \n",
      "Found 7200 validated image filenames belonging to 5 classes.\n"
     ]
    }
   ],
   "source": [
    "# Get batches of training dataset from the dataframe\n",
    "print(\"Training Dataset Preparation: \")\n",
    "generators['training'] = data_generator.flow_from_dataframe(\n",
    "    dataframe = training,\n",
    "    directory = img,\n",
    "    x_col = x_col,\n",
    "    y_col = y_col,\n",
    "    class_mode = class_mode,\n",
    "    target_size = target_size,\n",
    "    batch_size = batch_size,\n",
    "    subset = subset\n",
    ")"
   ]
  },
  {
   "cell_type": "code",
   "execution_count": 51,
   "metadata": {},
   "outputs": [
    {
     "name": "stdout",
     "output_type": "stream",
     "text": [
      "Validation Dataset Preparation: \n",
      "Found 800 validated image filenames belonging to 5 classes.\n"
     ]
    }
   ],
   "source": [
    "# Get batches of validation dataset from the dataframe\n",
    "print(\"Validation Dataset Preparation: \")\n",
    "generators['validation'] = data_generator.flow_from_dataframe(\n",
    "    dataframe = validating,\n",
    "    directory = img,\n",
    "    x_col = x_col,\n",
    "    y_col = y_col,\n",
    "    class_mode = class_mode,\n",
    "    target_size = target_size,\n",
    "    batch_size = batch_size,\n",
    "    subset = subset\n",
    ")"
   ]
  },
  {
   "cell_type": "code",
   "execution_count": null,
   "metadata": {},
   "outputs": [],
   "source": []
  },
  {
   "cell_type": "code",
   "execution_count": 63,
   "metadata": {},
   "outputs": [],
   "source": [
    "# Building CNN\n",
    "def build_cnn_1():\n",
    "    # Starting point\n",
    "    model = models.Sequential()\n",
    "    \n",
    "    # Add the following filters\n",
    "    for ix, filter_size in enumerate(\n",
    "        [8, 16, 32, 64]\n",
    "    ):\n",
    "        if ix == 0:\n",
    "            model.add(\n",
    "                Conv2D(\n",
    "                    filter_size, \n",
    "                    (3, 3), \n",
    "                    activation='relu', \n",
    "                    padding='same', \n",
    "                    input_shape=(30,30,3)) # height, width, depth\n",
    "            ) \n",
    "        else:\n",
    "            model.add(\n",
    "                Conv2D(\n",
    "                    filter_size, \n",
    "                    (3, 3), \n",
    "                    activation='relu', \n",
    "                    padding='same'\n",
    "                )\n",
    "            ) \n",
    "\n",
    "        model.add(MaxPooling2D((2, 2), padding='same'))\n",
    "\n",
    "    # Predictions\n",
    "    model.add(Flatten())\n",
    "    model.add(Dense(5, activation = 'softmax'))\n",
    "    \n",
    "    # Model summary\n",
    "    model.summary()\n",
    "\n",
    "    model.compile(\n",
    "        optimizer = 'adam',\n",
    "        loss = 'categorical_crossentropy',\n",
    "        metrics = ['accuracy']\n",
    "    )\n",
    "    \n",
    "    return model\n",
    "\n",
    "def build_cnn_2():\n",
    "    # Starting point\n",
    "    model = models.Sequential()\n",
    "    \n",
    "    # Add the following filters\n",
    "    for ix, filter_size in enumerate(\n",
    "        [32, 32, 64, 128]\n",
    "    ):\n",
    "        if ix == 0:\n",
    "            model.add(\n",
    "                Conv2D(\n",
    "                    filter_size, \n",
    "                    (3, 3), \n",
    "                    activation='relu', \n",
    "                    input_shape=(30,30,3)) # height, width, depth\n",
    "            ) \n",
    "        else:\n",
    "            model.add(\n",
    "                Conv2D(\n",
    "                    filter_size, \n",
    "                    (3, 3), \n",
    "                    activation='relu'\n",
    "                )\n",
    "            ) \n",
    "\n",
    "        model.add(BatchNormalization())\n",
    "        \n",
    "        if ix in [1, 3]:\n",
    "            model.add(MaxPooling2D(pool_size = (2, 2)))\n",
    "            \n",
    "        if ix in [1, 2, 3]:\n",
    "            model.add(Dropout(0.25))\n",
    "                \n",
    "#         model.add(MaxPooling2D((2, 2), padding='same'))\n",
    "\n",
    "    # Predictions\n",
    "    model.add(Flatten())\n",
    "    \n",
    "    for ix, filter_size in enumerate(\n",
    "        [512, 128]\n",
    "    ):\n",
    "        model.add(Dense(filter_size, activation = 'softmax'))\n",
    "        model.add(BatchNormalization())\n",
    "        model.add(Dropout(0.5))\n",
    "        \n",
    "    model.add(Dense(10, activation = 'softmax'))\n",
    "    \n",
    "    # Model summary\n",
    "    model.summary()\n",
    "\n",
    "    model.compile(\n",
    "        optimizer = 'adam',\n",
    "        loss = 'categorical_crossentropy',\n",
    "        metrics = ['accuracy']\n",
    "    )\n",
    "    \n",
    "    return model"
   ]
  },
  {
   "cell_type": "code",
   "execution_count": null,
   "metadata": {},
   "outputs": [],
   "source": [
    "build_cnn = build_cnn_cnn_1()"
   ]
  },
  {
   "cell_type": "code",
   "execution_count": 58,
   "metadata": {},
   "outputs": [
    {
     "name": "stdout",
     "output_type": "stream",
     "text": [
      "Model: \"sequential_3\"\n",
      "_________________________________________________________________\n",
      "Layer (type)                 Output Shape              Param #   \n",
      "=================================================================\n",
      "conv2d_3 (Conv2D)            (None, 30, 30, 8)         224       \n",
      "_________________________________________________________________\n",
      "max_pooling2d_1 (MaxPooling2 (None, 15, 15, 8)         0         \n",
      "_________________________________________________________________\n",
      "conv2d_4 (Conv2D)            (None, 15, 15, 16)        1168      \n",
      "_________________________________________________________________\n",
      "max_pooling2d_2 (MaxPooling2 (None, 8, 8, 16)          0         \n",
      "_________________________________________________________________\n",
      "conv2d_5 (Conv2D)            (None, 8, 8, 32)          4640      \n",
      "_________________________________________________________________\n",
      "max_pooling2d_3 (MaxPooling2 (None, 4, 4, 32)          0         \n",
      "_________________________________________________________________\n",
      "conv2d_6 (Conv2D)            (None, 4, 4, 64)          18496     \n",
      "_________________________________________________________________\n",
      "max_pooling2d_4 (MaxPooling2 (None, 2, 2, 64)          0         \n",
      "_________________________________________________________________\n",
      "flatten_1 (Flatten)          (None, 256)               0         \n",
      "_________________________________________________________________\n",
      "dense_1 (Dense)              (None, 5)                 1285      \n",
      "=================================================================\n",
      "Total params: 25,813\n",
      "Trainable params: 25,813\n",
      "Non-trainable params: 0\n",
      "_________________________________________________________________\n"
     ]
    }
   ],
   "source": [
    "my_model = build_cnn()"
   ]
  },
  {
   "cell_type": "code",
   "execution_count": null,
   "metadata": {},
   "outputs": [],
   "source": []
  },
  {
   "cell_type": "code",
   "execution_count": 60,
   "metadata": {},
   "outputs": [
    {
     "name": "stdout",
     "output_type": "stream",
     "text": [
      "Epoch 1/30\n",
      "300/300 [==============================] - 33s 110ms/step - loss: 1.6097 - accuracy: 0.2086 - val_loss: 1.6000 - val_accuracy: 0.2336\n",
      "Epoch 2/30\n",
      "300/300 [==============================] - 29s 97ms/step - loss: 1.5039 - accuracy: 0.3051 - val_loss: 1.3763 - val_accuracy: 0.3737\n",
      "Epoch 3/30\n",
      "300/300 [==============================] - 30s 101ms/step - loss: 1.3939 - accuracy: 0.3617 - val_loss: 1.2704 - val_accuracy: 0.3698\n",
      "Epoch 4/30\n",
      "300/300 [==============================] - 28s 92ms/step - loss: 1.3180 - accuracy: 0.4021 - val_loss: 1.1958 - val_accuracy: 0.3969\n",
      "Epoch 5/30\n",
      "300/300 [==============================] - 27s 91ms/step - loss: 1.2480 - accuracy: 0.4285 - val_loss: 1.1137 - val_accuracy: 0.4265\n",
      "Epoch 6/30\n",
      "300/300 [==============================] - 27s 90ms/step - loss: 1.1626 - accuracy: 0.4725 - val_loss: 1.0668 - val_accuracy: 0.4768\n",
      "Epoch 7/30\n",
      "300/300 [==============================] - 28s 94ms/step - loss: 1.0850 - accuracy: 0.5196 - val_loss: 1.2872 - val_accuracy: 0.4807\n",
      "Epoch 8/30\n",
      "300/300 [==============================] - 27s 91ms/step - loss: 1.0193 - accuracy: 0.5560 - val_loss: 1.0555 - val_accuracy: 0.5387\n",
      "Epoch 9/30\n",
      "300/300 [==============================] - 27s 91ms/step - loss: 0.9511 - accuracy: 0.5989 - val_loss: 0.9515 - val_accuracy: 0.5773\n",
      "Epoch 10/30\n",
      "300/300 [==============================] - 27s 89ms/step - loss: 0.8939 - accuracy: 0.6206 - val_loss: 0.9674 - val_accuracy: 0.6044\n",
      "Epoch 11/30\n",
      "300/300 [==============================] - 27s 91ms/step - loss: 0.8430 - accuracy: 0.6368 - val_loss: 0.8412 - val_accuracy: 0.6405\n",
      "Epoch 12/30\n",
      "300/300 [==============================] - 26s 88ms/step - loss: 0.7992 - accuracy: 0.6567 - val_loss: 0.8288 - val_accuracy: 0.6237\n",
      "Epoch 13/30\n",
      "300/300 [==============================] - 27s 90ms/step - loss: 0.7483 - accuracy: 0.6781 - val_loss: 0.7232 - val_accuracy: 0.6585\n",
      "Epoch 14/30\n",
      "300/300 [==============================] - 27s 89ms/step - loss: 0.7219 - accuracy: 0.6886 - val_loss: 0.6370 - val_accuracy: 0.6727\n",
      "Epoch 15/30\n",
      "300/300 [==============================] - 26s 88ms/step - loss: 0.6874 - accuracy: 0.6933 - val_loss: 0.8466 - val_accuracy: 0.6804\n",
      "Epoch 16/30\n",
      "300/300 [==============================] - 29s 98ms/step - loss: 0.6558 - accuracy: 0.7158 - val_loss: 0.8003 - val_accuracy: 0.7152\n",
      "Epoch 17/30\n",
      "300/300 [==============================] - 31s 103ms/step - loss: 0.6340 - accuracy: 0.7222 - val_loss: 0.6711 - val_accuracy: 0.7191\n",
      "Epoch 18/30\n",
      "300/300 [==============================] - 28s 95ms/step - loss: 0.5949 - accuracy: 0.7439 - val_loss: 0.3918 - val_accuracy: 0.7191\n",
      "Epoch 19/30\n",
      "300/300 [==============================] - 27s 90ms/step - loss: 0.5769 - accuracy: 0.7506 - val_loss: 0.7788 - val_accuracy: 0.7448\n",
      "Epoch 20/30\n",
      "300/300 [==============================] - 27s 89ms/step - loss: 0.5502 - accuracy: 0.7601 - val_loss: 0.2989 - val_accuracy: 0.7590\n",
      "Epoch 21/30\n",
      "300/300 [==============================] - 27s 89ms/step - loss: 0.5298 - accuracy: 0.7739 - val_loss: 0.7540 - val_accuracy: 0.7784\n",
      "Epoch 22/30\n",
      "300/300 [==============================] - 28s 94ms/step - loss: 0.5129 - accuracy: 0.7808 - val_loss: 0.5753 - val_accuracy: 0.7603\n",
      "Epoch 23/30\n",
      "300/300 [==============================] - 28s 93ms/step - loss: 0.5006 - accuracy: 0.7833 - val_loss: 0.4984 - val_accuracy: 0.7745\n",
      "Epoch 24/30\n",
      "300/300 [==============================] - 27s 91ms/step - loss: 0.4963 - accuracy: 0.7847 - val_loss: 0.5091 - val_accuracy: 0.7732\n",
      "Epoch 25/30\n",
      "300/300 [==============================] - 28s 92ms/step - loss: 0.4691 - accuracy: 0.8001 - val_loss: 0.3312 - val_accuracy: 0.7835\n",
      "Epoch 26/30\n",
      "300/300 [==============================] - 30s 101ms/step - loss: 0.4550 - accuracy: 0.8050 - val_loss: 0.1770 - val_accuracy: 0.7951\n",
      "Epoch 27/30\n",
      "300/300 [==============================] - 28s 94ms/step - loss: 0.4548 - accuracy: 0.8094 - val_loss: 0.3140 - val_accuracy: 0.7616\n",
      "Epoch 28/30\n",
      "300/300 [==============================] - 27s 92ms/step - loss: 0.4545 - accuracy: 0.8028 - val_loss: 0.4478 - val_accuracy: 0.7887\n",
      "Epoch 29/30\n",
      "300/300 [==============================] - 29s 96ms/step - loss: 0.4439 - accuracy: 0.8076 - val_loss: 0.6274 - val_accuracy: 0.7564\n",
      "Epoch 30/30\n",
      "300/300 [==============================] - 27s 91ms/step - loss: 0.4259 - accuracy: 0.8129 - val_loss: 0.2342 - val_accuracy: 0.8144\n"
     ]
    }
   ],
   "source": [
    "# Fit training generator\n",
    "history = my_model.fit_generator(\n",
    "    generators['training'],\n",
    "    epochs = 30,\n",
    "    steps_per_epoch = generators['training'].samples // generators['training'].batch_size,\n",
    "    validation_data = generators['validation'],\n",
    "    validation_steps = generators['validation'].samples // generators['validation'].batch_size\n",
    ")"
   ]
  },
  {
   "cell_type": "code",
   "execution_count": null,
   "metadata": {},
   "outputs": [],
   "source": []
  },
  {
   "cell_type": "code",
   "execution_count": 79,
   "metadata": {},
   "outputs": [],
   "source": [
    "import matplotlib.pyplot as plt\n",
    "\n",
    "# Plot loss\n",
    "def plot_loss(values):\n",
    "    fig, axes = plt.subplots(nrows = 1, ncols = 2, figsize = (18, 3))\n",
    "    \n",
    "    axes[0].plot(values.history['accuracy'])\n",
    "    axes[0].plot(values.history['val_accuracy'])\n",
    "    axes[0].set_ylabel('Accuracy')\n",
    "    axes[0].set_xlabel('Epoch')\n",
    "    axes[0].legend(['Train', 'Validation'], loc = 'upper left')\n",
    "\n",
    "    \n",
    "    axes[1].plot(history.history['loss'])\n",
    "    axes[1].plot(history.history['val_loss'])\n",
    "    axes[1].set_ylabel('Loss')\n",
    "    axes[1].set_xlabel('Epoch')\n",
    "    axes[1].legend(['Train', 'Validation'], loc='best')"
   ]
  },
  {
   "cell_type": "code",
   "execution_count": 80,
   "metadata": {},
   "outputs": [
    {
     "data": {
      "image/png": "[encoded data removed]",
      "text/plain": [
       "<Figure size 1296x216 with 2 Axes>"
      ]
     },
     "metadata": {
      "needs_background": "light"
     },
     "output_type": "display_data"
    }
   ],
   "source": [
    "plot_loss(history)"
   ]
  },
  {
   "cell_type": "code",
   "execution_count": null,
   "metadata": {},
   "outputs": [],
   "source": []
  },
  {
   "cell_type": "code",
   "execution_count": null,
   "metadata": {},
   "outputs": [],
   "source": []
  },
  {
   "cell_type": "code",
   "execution_count": null,
   "metadata": {},
   "outputs": [],
   "source": []
  },
  {
   "cell_type": "code",
   "execution_count": 1,
   "metadata": {},
   "outputs": [
    {
     "name": "stderr",
     "output_type": "stream",
     "text": [
      "Using TensorFlow backend.\n"
     ]
    }
   ],
   "source": [
    "import time\n",
    "start_time = time.time()\n",
    "import os\n",
    "import numpy as np\n",
    "from keras import optimizers\n",
    "from keras.preprocessing import image\n",
    "from keras.layers import Dense, Conv2D, MaxPooling2D, BatchNormalization, GlobalAveragePooling2D\n",
    "from keras.layers import Activation, Dropout, Flatten, Dense\n",
    "from keras.optimizers import adam\n",
    "from keras import models\n",
    "import cv2\n",
    "import dlib\n",
    "import pandas as pd\n",
    "import matplotlib.pyplot as plt\n",
    "import sys\n",
    "import time \n",
    "import progressbar\n",
    "from tqdm.notebook import tqdm_notebook"
   ]
  },
  {
   "cell_type": "code",
   "execution_count": 2,
   "metadata": {},
   "outputs": [],
   "source": [
    "from sklearn import svm, datasets\n",
    "from sklearn.dummy import DummyClassifier\n",
    "from sklearn.svm import SVC\n",
    "from sklearn.utils import shuffle\n",
    "from sklearn.model_selection import train_test_split, GridSearchCV, learning_curve, ShuffleSplit\n",
    "from sklearn.metrics import classification_report, accuracy_score, confusion_matrix, recall_score, precision_score, f1_score"
   ]
  },
  {
   "cell_type": "code",
   "execution_count": 3,
   "metadata": {},
   "outputs": [],
   "source": [
    "from tensorflow.python.keras.applications.vgg16 import preprocess_input\n",
    "from tensorflow.python.keras.preprocessing.image import ImageDataGenerator\n",
    "from tensorflow.python.keras.callbacks import EarlyStopping, ModelCheckpoint"
   ]
  },
  {
   "cell_type": "code",
   "execution_count": 4,
   "metadata": {},
   "outputs": [
    {
     "data": {
      "text/plain": [
       "'C:\\\\Users\\\\User\\\\Desktop\\\\4th_year_AMLS\\\\AMLS_19-20_ChinYangTan_16053203\\\\Project_AMLS_19-20_16053203\\\\Notebook\\\\B2'"
      ]
     },
     "execution_count": 4,
     "metadata": {},
     "output_type": "execute_result"
    }
   ],
   "source": [
    "os.getcwd()"
   ]
  },
  {
   "cell_type": "code",
   "execution_count": 5,
   "metadata": {},
   "outputs": [
    {
     "data": {
      "text/html": [
       "<div>\n",
       "<style scoped>\n",
       "    .dataframe tbody tr th:only-of-type {\n",
       "        vertical-align: middle;\n",
       "    }\n",
       "\n",
       "    .dataframe tbody tr th {\n",
       "        vertical-align: top;\n",
       "    }\n",
       "\n",
       "    .dataframe thead th {\n",
       "        text-align: right;\n",
       "    }\n",
       "</style>\n",
       "<table border=\"1\" class=\"dataframe\">\n",
       "  <thead>\n",
       "    <tr style=\"text-align: right;\">\n",
       "      <th></th>\n",
       "      <th>eye_color</th>\n",
       "      <th>file_name</th>\n",
       "    </tr>\n",
       "  </thead>\n",
       "  <tbody>\n",
       "    <tr>\n",
       "      <th>0</th>\n",
       "      <td>1</td>\n",
       "      <td>0.png</td>\n",
       "    </tr>\n",
       "    <tr>\n",
       "      <th>1</th>\n",
       "      <td>2</td>\n",
       "      <td>1.png</td>\n",
       "    </tr>\n",
       "    <tr>\n",
       "      <th>2</th>\n",
       "      <td>2</td>\n",
       "      <td>2.png</td>\n",
       "    </tr>\n",
       "    <tr>\n",
       "      <th>3</th>\n",
       "      <td>2</td>\n",
       "      <td>3.png</td>\n",
       "    </tr>\n",
       "    <tr>\n",
       "      <th>4</th>\n",
       "      <td>0</td>\n",
       "      <td>4.png</td>\n",
       "    </tr>\n",
       "    <tr>\n",
       "      <th>...</th>\n",
       "      <td>...</td>\n",
       "      <td>...</td>\n",
       "    </tr>\n",
       "    <tr>\n",
       "      <th>9995</th>\n",
       "      <td>3</td>\n",
       "      <td>9995.png</td>\n",
       "    </tr>\n",
       "    <tr>\n",
       "      <th>9996</th>\n",
       "      <td>0</td>\n",
       "      <td>9996.png</td>\n",
       "    </tr>\n",
       "    <tr>\n",
       "      <th>9997</th>\n",
       "      <td>1</td>\n",
       "      <td>9997.png</td>\n",
       "    </tr>\n",
       "    <tr>\n",
       "      <th>9998</th>\n",
       "      <td>0</td>\n",
       "      <td>9998.png</td>\n",
       "    </tr>\n",
       "    <tr>\n",
       "      <th>9999</th>\n",
       "      <td>2</td>\n",
       "      <td>9999.png</td>\n",
       "    </tr>\n",
       "  </tbody>\n",
       "</table>\n",
       "<p>10000 rows × 2 columns</p>\n",
       "</div>"
      ],
      "text/plain": [
       "     eye_color file_name\n",
       "0            1     0.png\n",
       "1            2     1.png\n",
       "2            2     2.png\n",
       "3            2     3.png\n",
       "4            0     4.png\n",
       "...        ...       ...\n",
       "9995         3  9995.png\n",
       "9996         0  9996.png\n",
       "9997         1  9997.png\n",
       "9998         0  9998.png\n",
       "9999         2  9999.png\n",
       "\n",
       "[10000 rows x 2 columns]"
      ]
     },
     "execution_count": 5,
     "metadata": {},
     "output_type": "execute_result"
    }
   ],
   "source": [
    "df = pd.read_csv('../../Dataset_original_AMLS_19-20/cartoon_set/labels.csv', sep = '\\t')\n",
    "df = df.drop(columns = [df.columns[0]]).drop(columns = [df.columns[2]])\n",
    "df['eye_color'] = df['eye_color'].apply(str)\n",
    "df"
   ]
  },
  {
   "cell_type": "code",
   "execution_count": 25,
   "metadata": {},
   "outputs": [],
   "source": [
    "img = ('../../Dataset_original_AMLS_19-20/cartoon_set/img')\n",
    "# training, testing = train_test_split(df, random_state=0)\n",
    "training, validating = np.split(df.sample(frac=1), [int(0.9*len(df)),]) #splitting at n-array\n",
    "# print(training, validating, testing)\n",
    "# print(training)"
   ]
  },
  {
   "cell_type": "code",
   "execution_count": 32,
   "metadata": {},
   "outputs": [
    {
     "name": "stdout",
     "output_type": "stream",
     "text": [
      "Training Dataset Preparation: \n",
      "Found 7200 validated image filenames belonging to 5 classes.\n",
      "\n",
      "Validation Dataset Preparation: \n",
      "Found 800 validated image filenames belonging to 5 classes.\n"
     ]
    }
   ],
   "source": [
    "# set up data generator\n",
    "data_generator = ImageDataGenerator(\n",
    "    rescale = 1./255.,\n",
    "    validation_split = 0.2,\n",
    "    horizontal_flip=True,\n",
    "    vertical_flip=True   \n",
    ")\n",
    "\n",
    "# # get batches of training images from the df\n",
    "# train_generator = data_generator.flow_from_dataframe(\n",
    "#         dataframe=train_set,\n",
    "#         x_col=\"file_name\",\n",
    "#         y_col=\"face_shape\",\n",
    "#         target_size=(178, 218),\n",
    "#         batch_size=12,\n",
    "#         class_mode='categorical')\n",
    "\n",
    "# validate_generator = data_generator.flow_from_dataframe(\n",
    "#         dataframe=train_set,\n",
    "#         x_col=\"file_name\",\n",
    "#         y_col=\"face_shape\",\n",
    "#         target_size=(178, 218),\n",
    "#         batch_size=12,\n",
    "#         class_mode='categorical')\n",
    "\n",
    "# Get batches of training dataset from the dataframe\n",
    "print(\"Training Dataset Preparation: \")\n",
    "train_generator = data_generator.flow_from_dataframe(\n",
    "        dataframe = training, directory = img ,\n",
    "        x_col = \"file_name\", y_col = \"eye_color\",\n",
    "        class_mode = 'categorical', target_size = (30,30),\n",
    "        batch_size = 24, subset = 'training') \n",
    "   \n",
    "# Get batches of validation dataset from the dataframe\n",
    "print(\"\\nValidation Dataset Preparation: \")\n",
    "validation_generator = data_generator.flow_from_dataframe(\n",
    "        dataframe = validating, directory = img ,\n",
    "        x_col = \"file_name\", y_col = \"eye_color\",\n",
    "        class_mode = 'categorical', target_size = (30,30),\n",
    "        batch_size = 24, subset = 'training')"
   ]
  },
  {
   "cell_type": "code",
   "execution_count": 33,
   "metadata": {},
   "outputs": [],
   "source": [
    "#put under a def"
   ]
  },
  {
   "cell_type": "code",
   "execution_count": 88,
   "metadata": {},
   "outputs": [
    {
     "name": "stdout",
     "output_type": "stream",
     "text": [
      "Model: \"sequential_7\"\n",
      "_________________________________________________________________\n",
      "Layer (type)                 Output Shape              Param #   \n",
      "=================================================================\n",
      "conv2d_26 (Conv2D)           (None, 30, 30, 8)         224       \n",
      "_________________________________________________________________\n",
      "max_pooling2d_26 (MaxPooling (None, 15, 15, 8)         0         \n",
      "_________________________________________________________________\n",
      "conv2d_27 (Conv2D)           (None, 15, 15, 16)        1168      \n",
      "_________________________________________________________________\n",
      "max_pooling2d_27 (MaxPooling (None, 8, 8, 16)          0         \n",
      "_________________________________________________________________\n",
      "conv2d_28 (Conv2D)           (None, 8, 8, 32)          4640      \n",
      "_________________________________________________________________\n",
      "max_pooling2d_28 (MaxPooling (None, 4, 4, 32)          0         \n",
      "_________________________________________________________________\n",
      "conv2d_29 (Conv2D)           (None, 4, 4, 64)          18496     \n",
      "_________________________________________________________________\n",
      "max_pooling2d_29 (MaxPooling (None, 2, 2, 64)          0         \n",
      "_________________________________________________________________\n",
      "flatten_7 (Flatten)          (None, 256)               0         \n",
      "_________________________________________________________________\n",
      "dense_7 (Dense)              (None, 5)                 1285      \n",
      "=================================================================\n",
      "Total params: 25,813\n",
      "Trainable params: 25,813\n",
      "Non-trainable params: 0\n",
      "_________________________________________________________________\n"
     ]
    }
   ],
   "source": [
    "# starting point \n",
    "my_model= models.Sequential()\n",
    "\n",
    "# Add first convolutional block\n",
    "my_model.add(Conv2D(8, (3, 3), activation='relu', padding='same', \n",
    "                    input_shape=(30,30,3))) #height, width, depth\n",
    "my_model.add(MaxPooling2D((2, 2), padding='same'))\n",
    "# second block\n",
    "my_model.add(Conv2D(16, (3, 3), activation='relu', padding='same')) #Convolution: filters, kernel_size that specifies the height and width of the 2D convolution window, p padding layers so dimensions of input = output\n",
    "my_model.add(MaxPooling2D((2, 2), padding='same'))\n",
    "# third block\n",
    "my_model.add(Conv2D(32, (3, 3), activation='relu', padding='same'))\n",
    "my_model.add(MaxPooling2D((2, 2), padding='same'))\n",
    "# fourth block\n",
    "my_model.add(Conv2D(64, (3, 3), activation='relu', padding='same'))\n",
    "my_model.add(MaxPooling2D((2, 2), padding='same'))\n",
    "# global average pooling\n",
    "# my_model.add(GlobalAveragePooling2D())\n",
    "# fully connected layer\n",
    "# my_model.add(Dense(64, activation='relu'))\n",
    "# my_model.add(BatchNormalization())\n",
    "# make predictions\n",
    "my_model.add(Flatten())\n",
    "my_model.add(Dense(5, activation='softmax'))\n",
    "# Show a summary of the model. Check the number of trainable parameters\n",
    "my_model.summary()\n",
    "my_model.compile(optimizer='adam', loss='categorical_crossentropy', \n",
    "                 metrics=['accuracy'])"
   ]
  },
  {
   "cell_type": "code",
   "execution_count": 89,
   "metadata": {},
   "outputs": [],
   "source": [
    "#copy in main function"
   ]
  },
  {
   "cell_type": "code",
   "execution_count": 90,
   "metadata": {
    "scrolled": false
   },
   "outputs": [
    {
     "name": "stdout",
     "output_type": "stream",
     "text": [
      "Epoch 1/100\n",
      "300/300 [==============================] - 67s 224ms/step - loss: 1.6109 - accuracy: 0.2056 - val_loss: 1.6130 - val_accuracy: 0.2184\n",
      "Epoch 2/100\n",
      "300/300 [==============================] - 66s 219ms/step - loss: 1.5967 - accuracy: 0.2286 - val_loss: 1.5800 - val_accuracy: 0.2771\n",
      "Epoch 3/100\n",
      "300/300 [==============================] - 65s 216ms/step - loss: 1.4319 - accuracy: 0.3506 - val_loss: 1.4292 - val_accuracy: 0.3750\n",
      "Epoch 4/100\n",
      "300/300 [==============================] - 65s 216ms/step - loss: 1.2252 - accuracy: 0.4803 - val_loss: 1.0776 - val_accuracy: 0.5064\n",
      "Epoch 5/100\n",
      "300/300 [==============================] - 65s 217ms/step - loss: 0.9787 - accuracy: 0.6036 - val_loss: 0.8965 - val_accuracy: 0.6134\n",
      "Epoch 6/100\n",
      "300/300 [==============================] - 67s 222ms/step - loss: 0.8600 - accuracy: 0.6467 - val_loss: 0.9081 - val_accuracy: 0.6327\n",
      "Epoch 7/100\n",
      "300/300 [==============================] - 65s 218ms/step - loss: 0.7951 - accuracy: 0.6737 - val_loss: 0.6734 - val_accuracy: 0.6791\n",
      "Epoch 8/100\n",
      "300/300 [==============================] - 66s 221ms/step - loss: 0.7333 - accuracy: 0.7024 - val_loss: 0.5346 - val_accuracy: 0.7101\n",
      "Epoch 9/100\n",
      "300/300 [==============================] - 66s 219ms/step - loss: 0.6829 - accuracy: 0.7247 - val_loss: 0.8630 - val_accuracy: 0.7268\n",
      "Epoch 10/100\n",
      "300/300 [==============================] - 66s 222ms/step - loss: 0.6300 - accuracy: 0.7371 - val_loss: 0.5510 - val_accuracy: 0.7590\n",
      "Epoch 11/100\n",
      "300/300 [==============================] - 65s 218ms/step - loss: 0.5936 - accuracy: 0.7538 - val_loss: 0.7984 - val_accuracy: 0.7397\n",
      "Epoch 12/100\n",
      "300/300 [==============================] - 66s 219ms/step - loss: 0.5511 - accuracy: 0.7661 - val_loss: 0.5651 - val_accuracy: 0.7397\n",
      "Epoch 13/100\n",
      "300/300 [==============================] - 65s 217ms/step - loss: 0.5370 - accuracy: 0.7756 - val_loss: 0.6236 - val_accuracy: 0.7603\n",
      "Epoch 14/100\n",
      "300/300 [==============================] - 65s 218ms/step - loss: 0.5185 - accuracy: 0.7776 - val_loss: 0.4628 - val_accuracy: 0.7500\n",
      "Epoch 15/100\n",
      "300/300 [==============================] - 69s 230ms/step - loss: 0.4901 - accuracy: 0.7897 - val_loss: 0.4018 - val_accuracy: 0.7629\n",
      "Epoch 16/100\n",
      "300/300 [==============================] - 80s 266ms/step - loss: 0.4853 - accuracy: 0.7893 - val_loss: 0.4601 - val_accuracy: 0.7771\n",
      "Epoch 17/100\n",
      "300/300 [==============================] - 72s 238ms/step - loss: 0.4735 - accuracy: 0.8015 - val_loss: 0.4393 - val_accuracy: 0.7732\n",
      "Epoch 18/100\n",
      "300/300 [==============================] - 73s 245ms/step - loss: 0.4673 - accuracy: 0.7972 - val_loss: 0.6446 - val_accuracy: 0.7809\n",
      "Epoch 19/100\n",
      "300/300 [==============================] - 73s 244ms/step - loss: 0.4509 - accuracy: 0.8054 - val_loss: 0.4310 - val_accuracy: 0.7822\n",
      "Epoch 20/100\n",
      "300/300 [==============================] - 76s 255ms/step - loss: 0.4476 - accuracy: 0.8028 - val_loss: 0.3387 - val_accuracy: 0.7784\n",
      "Epoch 21/100\n",
      "300/300 [==============================] - 75s 252ms/step - loss: 0.4385 - accuracy: 0.8114 - val_loss: 0.5312 - val_accuracy: 0.7848\n",
      "Epoch 22/100\n",
      "300/300 [==============================] - 77s 256ms/step - loss: 0.4303 - accuracy: 0.8135 - val_loss: 0.4224 - val_accuracy: 0.7990\n",
      "Epoch 23/100\n",
      "300/300 [==============================] - 75s 250ms/step - loss: 0.4288 - accuracy: 0.8128 - val_loss: 0.2836 - val_accuracy: 0.7977\n",
      "Epoch 24/100\n",
      "300/300 [==============================] - 71s 237ms/step - loss: 0.4188 - accuracy: 0.8193 - val_loss: 0.2924 - val_accuracy: 0.7822\n",
      "Epoch 25/100\n",
      "300/300 [==============================] - 70s 234ms/step - loss: 0.4250 - accuracy: 0.8146 - val_loss: 0.3410 - val_accuracy: 0.8015\n",
      "Epoch 26/100\n",
      "300/300 [==============================] - 71s 238ms/step - loss: 0.4062 - accuracy: 0.8263 - val_loss: 0.5568 - val_accuracy: 0.7809\n",
      "Epoch 27/100\n",
      "300/300 [==============================] - 72s 238ms/step - loss: 0.4012 - accuracy: 0.8265 - val_loss: 0.6837 - val_accuracy: 0.7874\n",
      "Epoch 28/100\n",
      "300/300 [==============================] - 64s 215ms/step - loss: 0.4024 - accuracy: 0.8290 - val_loss: 0.7990 - val_accuracy: 0.8093\n",
      "Epoch 29/100\n",
      "300/300 [==============================] - 64s 215ms/step - loss: 0.4044 - accuracy: 0.8254 - val_loss: 0.7931 - val_accuracy: 0.7706\n",
      "Epoch 30/100\n",
      "300/300 [==============================] - 63s 212ms/step - loss: 0.3942 - accuracy: 0.8300 - val_loss: 0.7339 - val_accuracy: 0.8131\n",
      "Epoch 31/100\n",
      "300/300 [==============================] - 65s 217ms/step - loss: 0.3865 - accuracy: 0.8343 - val_loss: 0.3103 - val_accuracy: 0.8080\n",
      "Epoch 32/100\n",
      "300/300 [==============================] - 72s 239ms/step - loss: 0.3859 - accuracy: 0.8328 - val_loss: 0.7361 - val_accuracy: 0.7848\n",
      "Epoch 33/100\n",
      "300/300 [==============================] - 77s 258ms/step - loss: 0.3942 - accuracy: 0.8294 - val_loss: 0.7395 - val_accuracy: 0.7397\n",
      "Epoch 34/100\n",
      "300/300 [==============================] - 73s 242ms/step - loss: 0.3886 - accuracy: 0.8328 - val_loss: 0.6318 - val_accuracy: 0.8054\n",
      "Epoch 35/100\n",
      "300/300 [==============================] - 75s 250ms/step - loss: 0.3788 - accuracy: 0.8401 - val_loss: 0.6873 - val_accuracy: 0.7879\n",
      "Epoch 36/100\n",
      "300/300 [==============================] - 77s 255ms/step - loss: 0.3779 - accuracy: 0.8360 - val_loss: 0.5413 - val_accuracy: 0.7758\n",
      "Epoch 37/100\n",
      "300/300 [==============================] - 80s 265ms/step - loss: 0.3720 - accuracy: 0.8347 - val_loss: 0.5483 - val_accuracy: 0.7951\n",
      "Epoch 38/100\n",
      "300/300 [==============================] - 80s 268ms/step - loss: 0.3731 - accuracy: 0.8425 - val_loss: 0.2898 - val_accuracy: 0.8067\n",
      "Epoch 39/100\n",
      "300/300 [==============================] - 77s 257ms/step - loss: 0.3900 - accuracy: 0.8350 - val_loss: 0.3489 - val_accuracy: 0.8106\n",
      "Epoch 40/100\n",
      "300/300 [==============================] - 83s 275ms/step - loss: 0.3744 - accuracy: 0.8363 - val_loss: 0.5550 - val_accuracy: 0.7809\n",
      "Epoch 41/100\n",
      "300/300 [==============================] - 82s 274ms/step - loss: 0.3671 - accuracy: 0.8451 - val_loss: 0.2760 - val_accuracy: 0.8015\n",
      "Epoch 42/100\n",
      "300/300 [==============================] - 77s 257ms/step - loss: 0.3612 - accuracy: 0.8464 - val_loss: 0.6951 - val_accuracy: 0.7848\n",
      "Epoch 43/100\n",
      "300/300 [==============================] - 66s 219ms/step - loss: 0.3639 - accuracy: 0.8468 - val_loss: 0.3927 - val_accuracy: 0.7938\n",
      "Epoch 44/100\n",
      "300/300 [==============================] - 64s 214ms/step - loss: 0.3632 - accuracy: 0.8462 - val_loss: 0.7422 - val_accuracy: 0.7526\n",
      "Epoch 45/100\n",
      "300/300 [==============================] - 64s 215ms/step - loss: 0.3579 - accuracy: 0.8490 - val_loss: 0.4699 - val_accuracy: 0.8041\n",
      "Epoch 46/100\n",
      "300/300 [==============================] - 64s 213ms/step - loss: 0.3465 - accuracy: 0.8551 - val_loss: 0.4285 - val_accuracy: 0.8157\n",
      "Epoch 47/100\n",
      "300/300 [==============================] - 64s 214ms/step - loss: 0.3605 - accuracy: 0.8481 - val_loss: 0.4157 - val_accuracy: 0.7784\n",
      "Epoch 48/100\n",
      "300/300 [==============================] - 64s 215ms/step - loss: 0.3478 - accuracy: 0.8547 - val_loss: 0.6638 - val_accuracy: 0.7912\n",
      "Epoch 49/100\n",
      "300/300 [==============================] - 64s 213ms/step - loss: 0.3504 - accuracy: 0.8547 - val_loss: 0.3634 - val_accuracy: 0.7899\n",
      "Epoch 50/100\n",
      "300/300 [==============================] - 64s 213ms/step - loss: 0.3438 - accuracy: 0.8553 - val_loss: 0.3603 - val_accuracy: 0.8028\n",
      "Epoch 51/100\n",
      "300/300 [==============================] - 64s 215ms/step - loss: 0.3387 - accuracy: 0.8579 - val_loss: 0.6926 - val_accuracy: 0.8015\n",
      "Epoch 52/100\n",
      "300/300 [==============================] - 64s 212ms/step - loss: 0.3377 - accuracy: 0.8581 - val_loss: 0.5100 - val_accuracy: 0.7784\n",
      "Epoch 53/100\n",
      "300/300 [==============================] - 65s 216ms/step - loss: 0.3435 - accuracy: 0.8572 - val_loss: 0.5344 - val_accuracy: 0.7938\n",
      "Epoch 54/100\n",
      "300/300 [==============================] - 63s 211ms/step - loss: 0.3367 - accuracy: 0.8604 - val_loss: 0.5320 - val_accuracy: 0.7835\n",
      "Epoch 55/100\n",
      "300/300 [==============================] - 65s 217ms/step - loss: 0.3401 - accuracy: 0.8551 - val_loss: 0.8027 - val_accuracy: 0.7822\n",
      "Epoch 56/100\n",
      "300/300 [==============================] - 66s 219ms/step - loss: 0.3339 - accuracy: 0.8618 - val_loss: 0.5155 - val_accuracy: 0.7925\n"
     ]
    },
    {
     "name": "stdout",
     "output_type": "stream",
     "text": [
      "Epoch 57/100\n",
      "300/300 [==============================] - 65s 218ms/step - loss: 0.3372 - accuracy: 0.8612 - val_loss: 0.2896 - val_accuracy: 0.8093\n",
      "Epoch 58/100\n",
      "300/300 [==============================] - 66s 219ms/step - loss: 0.3353 - accuracy: 0.8642 - val_loss: 0.8466 - val_accuracy: 0.7822\n",
      "Epoch 59/100\n",
      "300/300 [==============================] - 65s 218ms/step - loss: 0.3237 - accuracy: 0.8656 - val_loss: 0.3218 - val_accuracy: 0.7925\n",
      "Epoch 60/100\n",
      "300/300 [==============================] - 64s 214ms/step - loss: 0.3297 - accuracy: 0.8646 - val_loss: 0.3936 - val_accuracy: 0.8041\n",
      "Epoch 61/100\n",
      "300/300 [==============================] - 64s 214ms/step - loss: 0.3210 - accuracy: 0.8665 - val_loss: 0.8664 - val_accuracy: 0.7912\n",
      "Epoch 62/100\n",
      "300/300 [==============================] - 64s 215ms/step - loss: 0.3213 - accuracy: 0.8671 - val_loss: 0.5631 - val_accuracy: 0.7835\n",
      "Epoch 63/100\n",
      "300/300 [==============================] - 65s 215ms/step - loss: 0.3277 - accuracy: 0.8669 - val_loss: 0.4450 - val_accuracy: 0.8003\n",
      "Epoch 64/100\n",
      "300/300 [==============================] - 64s 215ms/step - loss: 0.3341 - accuracy: 0.8644 - val_loss: 0.2585 - val_accuracy: 0.7938\n",
      "Epoch 65/100\n",
      "300/300 [==============================] - 64s 213ms/step - loss: 0.3155 - accuracy: 0.8689 - val_loss: 0.4803 - val_accuracy: 0.7835\n",
      "Epoch 66/100\n",
      "300/300 [==============================] - 64s 214ms/step - loss: 0.3174 - accuracy: 0.8674 - val_loss: 0.4654 - val_accuracy: 0.8041\n",
      "Epoch 67/100\n",
      "300/300 [==============================] - 65s 217ms/step - loss: 0.3120 - accuracy: 0.8714 - val_loss: 0.7455 - val_accuracy: 0.7874\n",
      "Epoch 68/100\n",
      "300/300 [==============================] - 65s 217ms/step - loss: 0.3038 - accuracy: 0.8782 - val_loss: 1.3014 - val_accuracy: 0.7925\n",
      "Epoch 69/100\n",
      "300/300 [==============================] - 65s 216ms/step - loss: 0.3072 - accuracy: 0.8746 - val_loss: 0.4389 - val_accuracy: 0.8018\n",
      "Epoch 70/100\n",
      "300/300 [==============================] - 67s 224ms/step - loss: 0.3087 - accuracy: 0.8729 - val_loss: 0.7366 - val_accuracy: 0.7990\n",
      "Epoch 71/100\n",
      "300/300 [==============================] - 66s 221ms/step - loss: 0.3048 - accuracy: 0.8760 - val_loss: 0.6011 - val_accuracy: 0.7874\n",
      "Epoch 72/100\n",
      "300/300 [==============================] - 67s 222ms/step - loss: 0.3055 - accuracy: 0.8764 - val_loss: 0.3928 - val_accuracy: 0.7990\n",
      "Epoch 73/100\n",
      "300/300 [==============================] - 68s 227ms/step - loss: 0.2951 - accuracy: 0.8815 - val_loss: 0.4190 - val_accuracy: 0.7848\n",
      "Epoch 74/100\n",
      "300/300 [==============================] - 71s 237ms/step - loss: 0.2884 - accuracy: 0.8842 - val_loss: 0.5088 - val_accuracy: 0.7706\n",
      "Epoch 75/100\n",
      "300/300 [==============================] - 69s 231ms/step - loss: 0.3119 - accuracy: 0.8757 - val_loss: 0.3811 - val_accuracy: 0.7977\n",
      "Epoch 76/100\n",
      "300/300 [==============================] - 71s 238ms/step - loss: 0.3051 - accuracy: 0.8722 - val_loss: 0.6494 - val_accuracy: 0.7796\n",
      "Epoch 77/100\n",
      "300/300 [==============================] - 66s 219ms/step - loss: 0.2911 - accuracy: 0.8800 - val_loss: 0.9214 - val_accuracy: 0.7796\n",
      "Epoch 78/100\n",
      "300/300 [==============================] - 64s 214ms/step - loss: 0.2916 - accuracy: 0.8819 - val_loss: 0.7761 - val_accuracy: 0.8003\n",
      "Epoch 79/100\n",
      "300/300 [==============================] - 64s 213ms/step - loss: 0.3034 - accuracy: 0.8768 - val_loss: 0.6222 - val_accuracy: 0.7861\n",
      "Epoch 80/100\n",
      "300/300 [==============================] - 64s 215ms/step - loss: 0.2949 - accuracy: 0.8800 - val_loss: 0.3425 - val_accuracy: 0.8015\n",
      "Epoch 81/100\n",
      "300/300 [==============================] - 50s 167ms/step - loss: 0.2838 - accuracy: 0.8885 - val_loss: 0.4987 - val_accuracy: 0.7925\n",
      "Epoch 82/100\n",
      "300/300 [==============================] - 28s 93ms/step - loss: 0.2917 - accuracy: 0.8835 - val_loss: 0.3345 - val_accuracy: 0.7629\n",
      "Epoch 83/100\n",
      "300/300 [==============================] - 30s 101ms/step - loss: 0.2862 - accuracy: 0.8842 - val_loss: 0.5783 - val_accuracy: 0.8080\n",
      "Epoch 84/100\n",
      "300/300 [==============================] - 27s 89ms/step - loss: 0.2742 - accuracy: 0.8906 - val_loss: 0.1611 - val_accuracy: 0.7887\n",
      "Epoch 85/100\n",
      "300/300 [==============================] - 27s 89ms/step - loss: 0.2680 - accuracy: 0.8965 - val_loss: 0.4729 - val_accuracy: 0.8106\n",
      "Epoch 86/100\n",
      "300/300 [==============================] - 28s 92ms/step - loss: 0.2853 - accuracy: 0.8911 - val_loss: 0.2755 - val_accuracy: 0.8003\n",
      "Epoch 87/100\n",
      "300/300 [==============================] - 27s 89ms/step - loss: 0.2752 - accuracy: 0.8897 - val_loss: 0.6128 - val_accuracy: 0.7835\n",
      "Epoch 88/100\n",
      "300/300 [==============================] - 31s 104ms/step - loss: 0.2792 - accuracy: 0.8863 - val_loss: 0.2330 - val_accuracy: 0.7938\n",
      "Epoch 89/100\n",
      "300/300 [==============================] - 28s 95ms/step - loss: 0.2802 - accuracy: 0.8890 - val_loss: 0.5549 - val_accuracy: 0.7784\n",
      "Epoch 90/100\n",
      "300/300 [==============================] - 26s 87ms/step - loss: 0.2932 - accuracy: 0.8850 - val_loss: 0.5658 - val_accuracy: 0.8286\n",
      "Epoch 91/100\n",
      "300/300 [==============================] - 27s 90ms/step - loss: 0.2697 - accuracy: 0.8897 - val_loss: 0.1629 - val_accuracy: 0.7835\n",
      "Epoch 92/100\n",
      "300/300 [==============================] - 27s 92ms/step - loss: 0.2684 - accuracy: 0.8894 - val_loss: 0.5772 - val_accuracy: 0.7874\n",
      "Epoch 93/100\n",
      "300/300 [==============================] - 27s 91ms/step - loss: 0.2747 - accuracy: 0.8910 - val_loss: 0.6066 - val_accuracy: 0.7951\n",
      "Epoch 94/100\n",
      "300/300 [==============================] - 29s 98ms/step - loss: 0.2757 - accuracy: 0.8940 - val_loss: 0.6331 - val_accuracy: 0.7912\n",
      "Epoch 95/100\n",
      "300/300 [==============================] - 28s 94ms/step - loss: 0.2606 - accuracy: 0.8989 - val_loss: 0.5707 - val_accuracy: 0.8054\n",
      "Epoch 96/100\n",
      "300/300 [==============================] - 28s 94ms/step - loss: 0.2610 - accuracy: 0.8978 - val_loss: 0.8587 - val_accuracy: 0.7990\n",
      "Epoch 97/100\n",
      "300/300 [==============================] - 28s 92ms/step - loss: 0.2495 - accuracy: 0.9013 - val_loss: 0.8442 - val_accuracy: 0.7745\n",
      "Epoch 98/100\n",
      "300/300 [==============================] - 28s 93ms/step - loss: 0.2671 - accuracy: 0.8950 - val_loss: 0.0968 - val_accuracy: 0.8054\n",
      "Epoch 99/100\n",
      "300/300 [==============================] - 27s 89ms/step - loss: 0.2606 - accuracy: 0.9029 - val_loss: 0.8454 - val_accuracy: 0.7732\n",
      "Epoch 100/100\n",
      "300/300 [==============================] - 27s 89ms/step - loss: 0.2852 - accuracy: 0.8875 - val_loss: 0.8020 - val_accuracy: 0.8015\n"
     ]
    }
   ],
   "source": [
    "history = my_model.fit_generator(\n",
    "                                train_generator,\n",
    "                                epochs=100,\n",
    "                                steps_per_epoch=train_generator.samples // train_generator.batch_size,\n",
    "                                validation_data=validation_generator,\n",
    "                                validation_steps=validation_generator.samples // validation_generator.batch_size\n",
    "                                )"
   ]
  },
  {
   "cell_type": "code",
   "execution_count": 91,
   "metadata": {},
   "outputs": [
    {
     "data": {
      "image/png": "[encoded data removed]",
      "text/plain": [
       "<Figure size 1296x216 with 2 Axes>"
      ]
     },
     "metadata": {
      "needs_background": "light"
     },
     "output_type": "display_data"
    }
   ],
   "source": [
    "plt.figure(figsize=(18, 3))\n",
    "\n",
    "plt.subplot(131)\n",
    "plt.plot(history.history['accuracy'])\n",
    "plt.plot(history.history['val_accuracy'])\n",
    "plt.ylim([.3,1.1])\n",
    "plt.ylabel('Accuracy')\n",
    "plt.xlabel('Epoch')\n",
    "plt.legend(['Train', 'Validation'], loc='upper left')\n",
    "\n",
    "plt.subplot(132)\n",
    "plt.plot(history.history['loss'])\n",
    "plt.plot(history.history['val_loss'])\n",
    "plt.ylim([0,1.7])\n",
    "plt.ylabel('Loss')\n",
    "plt.xlabel('Epoch')\n",
    "plt.legend(['Train', 'Validation'], loc='best')\n",
    "\n",
    "plt.savefig(\"Custom_Keras_ODSC.png\", dpi=300)"
   ]
  },
  {
   "cell_type": "code",
   "execution_count": 92,
   "metadata": {},
   "outputs": [],
   "source": [
    "from keras.models import load_model\n",
    "\n",
    "modelFile = 'my_CNN.h5'\n",
    "\n",
    "my_model.save(modelFile)"
   ]
  },
  {
   "cell_type": "code",
   "execution_count": 93,
   "metadata": {},
   "outputs": [
    {
     "data": {
      "text/html": [
       "<div>\n",
       "<style scoped>\n",
       "    .dataframe tbody tr th:only-of-type {\n",
       "        vertical-align: middle;\n",
       "    }\n",
       "\n",
       "    .dataframe tbody tr th {\n",
       "        vertical-align: top;\n",
       "    }\n",
       "\n",
       "    .dataframe thead th {\n",
       "        text-align: right;\n",
       "    }\n",
       "</style>\n",
       "<table border=\"1\" class=\"dataframe\">\n",
       "  <thead>\n",
       "    <tr style=\"text-align: right;\">\n",
       "      <th></th>\n",
       "      <th>eye_color</th>\n",
       "      <th>file_name</th>\n",
       "    </tr>\n",
       "  </thead>\n",
       "  <tbody>\n",
       "    <tr>\n",
       "      <th>0</th>\n",
       "      <td>2</td>\n",
       "      <td>0.png</td>\n",
       "    </tr>\n",
       "    <tr>\n",
       "      <th>1</th>\n",
       "      <td>1</td>\n",
       "      <td>1.png</td>\n",
       "    </tr>\n",
       "    <tr>\n",
       "      <th>2</th>\n",
       "      <td>0</td>\n",
       "      <td>2.png</td>\n",
       "    </tr>\n",
       "    <tr>\n",
       "      <th>3</th>\n",
       "      <td>0</td>\n",
       "      <td>3.png</td>\n",
       "    </tr>\n",
       "    <tr>\n",
       "      <th>4</th>\n",
       "      <td>3</td>\n",
       "      <td>4.png</td>\n",
       "    </tr>\n",
       "    <tr>\n",
       "      <th>...</th>\n",
       "      <td>...</td>\n",
       "      <td>...</td>\n",
       "    </tr>\n",
       "    <tr>\n",
       "      <th>2495</th>\n",
       "      <td>4</td>\n",
       "      <td>2495.png</td>\n",
       "    </tr>\n",
       "    <tr>\n",
       "      <th>2496</th>\n",
       "      <td>2</td>\n",
       "      <td>2496.png</td>\n",
       "    </tr>\n",
       "    <tr>\n",
       "      <th>2497</th>\n",
       "      <td>2</td>\n",
       "      <td>2497.png</td>\n",
       "    </tr>\n",
       "    <tr>\n",
       "      <th>2498</th>\n",
       "      <td>4</td>\n",
       "      <td>2498.png</td>\n",
       "    </tr>\n",
       "    <tr>\n",
       "      <th>2499</th>\n",
       "      <td>3</td>\n",
       "      <td>2499.png</td>\n",
       "    </tr>\n",
       "  </tbody>\n",
       "</table>\n",
       "<p>2500 rows × 2 columns</p>\n",
       "</div>"
      ],
      "text/plain": [
       "     eye_color file_name\n",
       "0            2     0.png\n",
       "1            1     1.png\n",
       "2            0     2.png\n",
       "3            0     3.png\n",
       "4            3     4.png\n",
       "...        ...       ...\n",
       "2495         4  2495.png\n",
       "2496         2  2496.png\n",
       "2497         2  2497.png\n",
       "2498         4  2498.png\n",
       "2499         3  2499.png\n",
       "\n",
       "[2500 rows x 2 columns]"
      ]
     },
     "execution_count": 93,
     "metadata": {},
     "output_type": "execute_result"
    }
   ],
   "source": [
    "df2 = pd.read_csv('../../Dataset_test_AMLS_19-20/cartoon_set_test/labels.csv', sep = '\\t')\n",
    "df2 = df2.drop(columns = [df2.columns[0]]).drop(columns = [df2.columns[2]])\n",
    "df2['eye_color'] = df2['eye_color'].apply(str)\n",
    "df2"
   ]
  },
  {
   "cell_type": "code",
   "execution_count": 94,
   "metadata": {},
   "outputs": [],
   "source": [
    "img = ('../../Dataset_test_AMLS_19-20/cartoon_set_test/img')"
   ]
  },
  {
   "cell_type": "code",
   "execution_count": 95,
   "metadata": {},
   "outputs": [
    {
     "name": "stdout",
     "output_type": "stream",
     "text": [
      "Found 2500 validated image filenames belonging to 5 classes.\n",
      "2500\n"
     ]
    }
   ],
   "source": [
    "# saved_model = load_model(modelFile)\n",
    "# test_generator = data_generator.flow_from_dataframe(\n",
    "#         dataframe = testing, directory = img,\n",
    "#         x_col = \"file_name\", y_col = \"eye_color\",\n",
    "#         batch_size=1,\n",
    "#         class_mode='categorical', target_size=(30, 30),\n",
    "#         shuffle=False)\n",
    "# test_steps = test_generator.samples\n",
    "# print(test_steps)\n",
    "\n",
    "saved_model = load_model(modelFile)\n",
    "test_generator = data_generator.flow_from_dataframe(\n",
    "        dataframe = df2, directory = img,\n",
    "        x_col = \"file_name\", y_col = \"eye_color\",\n",
    "        batch_size=1,\n",
    "        class_mode='categorical', target_size=(30, 30),\n",
    "        shuffle=False)\n",
    "test_steps = test_generator.samples\n",
    "print(test_steps)"
   ]
  },
  {
   "cell_type": "code",
   "execution_count": 96,
   "metadata": {},
   "outputs": [],
   "source": [
    "#convert to .py file\n",
    "#calling .py file\n",
    "#doesn't have to show results\n",
    "#import x\n",
    "#from x import *"
   ]
  },
  {
   "cell_type": "code",
   "execution_count": 97,
   "metadata": {},
   "outputs": [
    {
     "name": "stdout",
     "output_type": "stream",
     "text": [
      "2500/2500 [==============================] - 11s 5ms/step\n"
     ]
    }
   ],
   "source": [
    "test_generator.reset()\n",
    "pred=saved_model.predict_generator(test_generator, verbose=1, steps=test_steps)\n",
    "# determine the maximum activation value for each sample\n",
    "predicted_class_indices=np.argmax(pred,axis=1)\n",
    "# print(predicted_class_indices)\n",
    "# label each predicted value to correct gender\n",
    "labels = (test_generator.class_indices)\n",
    "labels = dict((v,k) for k,v in labels.items())\n",
    "predictions = [labels[k] for k in predicted_class_indices]"
   ]
  },
  {
   "cell_type": "code",
   "execution_count": 98,
   "metadata": {},
   "outputs": [],
   "source": [
    "import sklearn.metrics as metrics"
   ]
  },
  {
   "cell_type": "code",
   "execution_count": 99,
   "metadata": {},
   "outputs": [],
   "source": [
    "#paste plt.show()"
   ]
  },
  {
   "cell_type": "code",
   "execution_count": 100,
   "metadata": {},
   "outputs": [
    {
     "name": "stdout",
     "output_type": "stream",
     "text": [
      "[[407  19  15  23  42]\n",
      " [ 22 392  18  30  21]\n",
      " [ 48  23 406  20  28]\n",
      " [ 21  38  23 391  41]\n",
      " [ 32  17   7  25 391]]\n",
      "\n",
      "Confusion Matrix\n"
     ]
    },
    {
     "data": {
      "image/png": "[encoded data removed]",
      "text/plain": [
       "<Figure size 288x288 with 2 Axes>"
      ]
     },
     "metadata": {
      "needs_background": "light"
     },
     "output_type": "display_data"
    },
    {
     "name": "stdout",
     "output_type": "stream",
     "text": [
      "[[0.1628 0.0076 0.006  0.0092 0.0168]\n",
      " [0.0088 0.1568 0.0072 0.012  0.0084]\n",
      " [0.0192 0.0092 0.1624 0.008  0.0112]\n",
      " [0.0084 0.0152 0.0092 0.1564 0.0164]\n",
      " [0.0128 0.0068 0.0028 0.01   0.1564]]\n",
      "\n",
      "Confusion Matrix (normalised)\n"
     ]
    },
    {
     "data": {
      "image/png": "[encoded data removed]",
      "text/plain": [
       "<Figure size 288x288 with 2 Axes>"
      ]
     },
     "metadata": {
      "needs_background": "light"
     },
     "output_type": "display_data"
    },
    {
     "name": "stdout",
     "output_type": "stream",
     "text": [
      "Classification Report\n",
      "\n",
      "              precision    recall  f1-score   support\n",
      "\n",
      "           0       0.77      0.80      0.79       506\n",
      "           1       0.80      0.81      0.81       483\n",
      "           2       0.87      0.77      0.82       525\n",
      "           3       0.80      0.76      0.78       514\n",
      "           4       0.75      0.83      0.79       472\n",
      "\n",
      "    accuracy                           0.79      2500\n",
      "   macro avg       0.80      0.80      0.79      2500\n",
      "weighted avg       0.80      0.79      0.80      2500\n",
      "\n",
      "Accuracy achieved: 0.7948 ♡♡♡\n"
     ]
    }
   ],
   "source": [
    "cm = confusion_matrix(test_generator.classes, predicted_class_indices)\n",
    "\n",
    "print(cm)\n",
    "plt.matshow(cm)\n",
    "plt.colorbar()\n",
    "plt.ylabel('True label')\n",
    "plt.xlabel('Predicted label')\n",
    "print('\\nConfusion Matrix')\n",
    "plt.show()\n",
    "\n",
    "\n",
    "cm2 = confusion_matrix(test_generator.classes, predicted_class_indices, normalize='all')\n",
    "\n",
    "print(cm2)\n",
    "plt.matshow(cm2)\n",
    "plt.colorbar()\n",
    "plt.ylabel('True label')\n",
    "plt.xlabel('Predicted label')\n",
    "print('\\nConfusion Matrix (normalised)')\n",
    "plt.show()\n",
    "\n",
    "print('Classification Report\\n')\n",
    "print(classification_report(test_generator.classes, predicted_class_indices))\n",
    "print('Accuracy achieved:', accuracy_score(test_generator.classes, predicted_class_indices), '\\u2661''\\u2661''\\u2661')"
   ]
  },
  {
   "cell_type": "code",
   "execution_count": 101,
   "metadata": {},
   "outputs": [
    {
     "name": "stdout",
     "output_type": "stream",
     "text": [
      "--- 60021.318823337555 seconds ---\n"
     ]
    }
   ],
   "source": [
    "print(\"--- %s seconds ---\" % (time.time() - start_time))"
   ]
  },
  {
   "cell_type": "code",
   "execution_count": null,
   "metadata": {},
   "outputs": [],
   "source": []
  }
 ],
 "metadata": {
  "kernelspec": {
   "display_name": "Python 3",
   "language": "python",
   "name": "python3"
  },
  "language_info": {
   "codemirror_mode": {
    "name": "ipython",
    "version": 3
   },
   "file_extension": ".py",
   "mimetype": "text/x-python",
   "name": "python",
   "nbconvert_exporter": "python",
   "pygments_lexer": "ipython3",
   "version": "3.7.5"
  }
 },
 "nbformat": 4,
 "nbformat_minor": 2
}
